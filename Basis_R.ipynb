{
 "cells": [
  {
   "cell_type": "markdown",
   "id": "91cc4590",
   "metadata": {},
   "source": [
    "# Start programming with R"
   ]
  },
  {
   "cell_type": "raw",
   "id": "3980d11d",
   "metadata": {},
   "source": [
    "lm() - просмотр всех переменных в текущей директории\n",
    "\n",
    "rm() - удаление файла/переменной из директории\n",
    "\n",
    "rm(list = ls()) - удалить все файлы/переменные из директории\n",
    "\n",
    "rnorm(n, mean = 0, sd = 1) - генерация выборки нормального распределения"
   ]
  },
  {
   "cell_type": "markdown",
   "id": "2adc5b96",
   "metadata": {},
   "source": [
    "# Working Directory"
   ]
  },
  {
   "cell_type": "code",
   "execution_count": 20,
   "id": "ce85938d",
   "metadata": {
    "scrolled": true
   },
   "outputs": [
    {
     "data": {
      "text/html": [
       "'/Users/annagromyko'"
      ],
      "text/latex": [
       "'/Users/annagromyko'"
      ],
      "text/markdown": [
       "'/Users/annagromyko'"
      ],
      "text/plain": [
       "[1] \"/Users/annagromyko\""
      ]
     },
     "metadata": {},
     "output_type": "display_data"
    }
   ],
   "source": [
    "getwd() #to get the path of working directory"
   ]
  },
  {
   "cell_type": "code",
   "execution_count": 21,
   "id": "8d24c07e",
   "metadata": {},
   "outputs": [
    {
     "data": {
      "text/html": [
       "<ol class=list-inline>\n",
       "\t<li>'_vector_operations.zip'</li>\n",
       "\t<li>'Analitics-'</li>\n",
       "\t<li>'Applications'</li>\n",
       "\t<li>'Basis_R.ipynb'</li>\n",
       "\t<li>'Covid_19_Project'</li>\n",
       "\t<li>'DA with R.ipynb'</li>\n",
       "\t<li>'Data Analysis Workflow'</li>\n",
       "\t<li>'Data science Coursera.ipynb'</li>\n",
       "\t<li>'Desktop'</li>\n",
       "\t<li>'Documents'</li>\n",
       "\t<li>'Downloads'</li>\n",
       "\t<li>'generate_password'</li>\n",
       "\t<li>'Library'</li>\n",
       "\t<li>'magic ball'</li>\n",
       "\t<li>'matrix_operations-.ipynb'</li>\n",
       "\t<li>'Movies'</li>\n",
       "\t<li>'Music'</li>\n",
       "\t<li>'Open ML course'</li>\n",
       "\t<li>'Pictures'</li>\n",
       "\t<li>'Public'</li>\n",
       "\t<li>'PycharmProjects'</li>\n",
       "\t<li>'Python_projects'</li>\n",
       "\t<li>'sentences.txt'</li>\n",
       "\t<li>'Untitled Folder'</li>\n",
       "\t<li>'Untitled Folder 1'</li>\n",
       "\t<li>'untitled-1.py'</li>\n",
       "\t<li>'untitled-2.py'</li>\n",
       "\t<li>'untitled-3.py'</li>\n",
       "\t<li>'untitled-5.py'</li>\n",
       "\t<li>'untitled-6.py'</li>\n",
       "\t<li>'untitled-7.py'</li>\n",
       "\t<li>'untitled-8.py'</li>\n",
       "\t<li>'Untitled.ipynb'</li>\n",
       "\t<li>'Untitled1.ipynb'</li>\n",
       "\t<li>'Untitled2.ipynb'</li>\n",
       "\t<li>'Untitled3.ipynb'</li>\n",
       "\t<li>'vector_operations.ipynb'</li>\n",
       "\t<li>'Yandex.Disk-annkka3.localized'</li>\n",
       "\t<li>'Yandex.Disk-KanichevVadim.localized'</li>\n",
       "\t<li>'Yandex.Disk.localized'</li>\n",
       "\t<li>'Без названия.ipynb'</li>\n",
       "\t<li>'Без названия1.ipynb'</li>\n",
       "\t<li>'Без названия2.ipynb'</li>\n",
       "\t<li>'Без названия3.ipynb'</li>\n",
       "\t<li>'Без названия4.ipynb'</li>\n",
       "\t<li>'Без названия5.ipynb'</li>\n",
       "\t<li>'задание 2 неделя.ipynb'</li>\n",
       "\t<li>'предел.py'</li>\n",
       "\t<li>'Угадай число.py'</li>\n",
       "\t<li>'функция 2 неделя.ipynb'</li>\n",
       "</ol>\n"
      ],
      "text/latex": [
       "\\begin{enumerate*}\n",
       "\\item '\\_vector\\_operations.zip'\n",
       "\\item 'Analitics-'\n",
       "\\item 'Applications'\n",
       "\\item 'Basis\\_R.ipynb'\n",
       "\\item 'Covid\\_19\\_Project'\n",
       "\\item 'DA with R.ipynb'\n",
       "\\item 'Data Analysis Workflow'\n",
       "\\item 'Data science Coursera.ipynb'\n",
       "\\item 'Desktop'\n",
       "\\item 'Documents'\n",
       "\\item 'Downloads'\n",
       "\\item 'generate\\_password'\n",
       "\\item 'Library'\n",
       "\\item 'magic ball'\n",
       "\\item 'matrix\\_operations-.ipynb'\n",
       "\\item 'Movies'\n",
       "\\item 'Music'\n",
       "\\item 'Open ML course'\n",
       "\\item 'Pictures'\n",
       "\\item 'Public'\n",
       "\\item 'PycharmProjects'\n",
       "\\item 'Python\\_projects'\n",
       "\\item 'sentences.txt'\n",
       "\\item 'Untitled Folder'\n",
       "\\item 'Untitled Folder 1'\n",
       "\\item 'untitled-1.py'\n",
       "\\item 'untitled-2.py'\n",
       "\\item 'untitled-3.py'\n",
       "\\item 'untitled-5.py'\n",
       "\\item 'untitled-6.py'\n",
       "\\item 'untitled-7.py'\n",
       "\\item 'untitled-8.py'\n",
       "\\item 'Untitled.ipynb'\n",
       "\\item 'Untitled1.ipynb'\n",
       "\\item 'Untitled2.ipynb'\n",
       "\\item 'Untitled3.ipynb'\n",
       "\\item 'vector\\_operations.ipynb'\n",
       "\\item 'Yandex.Disk-annkka3.localized'\n",
       "\\item 'Yandex.Disk-KanichevVadim.localized'\n",
       "\\item 'Yandex.Disk.localized'\n",
       "\\item 'Без названия.ipynb'\n",
       "\\item 'Без названия1.ipynb'\n",
       "\\item 'Без названия2.ipynb'\n",
       "\\item 'Без названия3.ipynb'\n",
       "\\item 'Без названия4.ipynb'\n",
       "\\item 'Без названия5.ipynb'\n",
       "\\item 'задание 2 неделя.ipynb'\n",
       "\\item 'предел.py'\n",
       "\\item 'Угадай число.py'\n",
       "\\item 'функция 2 неделя.ipynb'\n",
       "\\end{enumerate*}\n"
      ],
      "text/markdown": [
       "1. '_vector_operations.zip'\n",
       "2. 'Analitics-'\n",
       "3. 'Applications'\n",
       "4. 'Basis_R.ipynb'\n",
       "5. 'Covid_19_Project'\n",
       "6. 'DA with R.ipynb'\n",
       "7. 'Data Analysis Workflow'\n",
       "8. 'Data science Coursera.ipynb'\n",
       "9. 'Desktop'\n",
       "10. 'Documents'\n",
       "11. 'Downloads'\n",
       "12. 'generate_password'\n",
       "13. 'Library'\n",
       "14. 'magic ball'\n",
       "15. 'matrix_operations-.ipynb'\n",
       "16. 'Movies'\n",
       "17. 'Music'\n",
       "18. 'Open ML course'\n",
       "19. 'Pictures'\n",
       "20. 'Public'\n",
       "21. 'PycharmProjects'\n",
       "22. 'Python_projects'\n",
       "23. 'sentences.txt'\n",
       "24. 'Untitled Folder'\n",
       "25. 'Untitled Folder 1'\n",
       "26. 'untitled-1.py'\n",
       "27. 'untitled-2.py'\n",
       "28. 'untitled-3.py'\n",
       "29. 'untitled-5.py'\n",
       "30. 'untitled-6.py'\n",
       "31. 'untitled-7.py'\n",
       "32. 'untitled-8.py'\n",
       "33. 'Untitled.ipynb'\n",
       "34. 'Untitled1.ipynb'\n",
       "35. 'Untitled2.ipynb'\n",
       "36. 'Untitled3.ipynb'\n",
       "37. 'vector_operations.ipynb'\n",
       "38. 'Yandex.Disk-annkka3.localized'\n",
       "39. 'Yandex.Disk-KanichevVadim.localized'\n",
       "40. 'Yandex.Disk.localized'\n",
       "41. 'Без названия.ipynb'\n",
       "42. 'Без названия1.ipynb'\n",
       "43. 'Без названия2.ipynb'\n",
       "44. 'Без названия3.ipynb'\n",
       "45. 'Без названия4.ipynb'\n",
       "46. 'Без названия5.ipynb'\n",
       "47. 'задание 2 неделя.ipynb'\n",
       "48. 'предел.py'\n",
       "49. 'Угадай число.py'\n",
       "50. 'функция 2 неделя.ipynb'\n",
       "\n",
       "\n"
      ],
      "text/plain": [
       " [1] \"_vector_operations.zip\"              \"Analitics-\"                         \n",
       " [3] \"Applications\"                        \"Basis_R.ipynb\"                      \n",
       " [5] \"Covid_19_Project\"                    \"DA with R.ipynb\"                    \n",
       " [7] \"Data Analysis Workflow\"              \"Data science Coursera.ipynb\"        \n",
       " [9] \"Desktop\"                             \"Documents\"                          \n",
       "[11] \"Downloads\"                           \"generate_password\"                  \n",
       "[13] \"Library\"                             \"magic ball\"                         \n",
       "[15] \"matrix_operations-.ipynb\"            \"Movies\"                             \n",
       "[17] \"Music\"                               \"Open ML course\"                     \n",
       "[19] \"Pictures\"                            \"Public\"                             \n",
       "[21] \"PycharmProjects\"                     \"Python_projects\"                    \n",
       "[23] \"sentences.txt\"                       \"Untitled Folder\"                    \n",
       "[25] \"Untitled Folder 1\"                   \"untitled-1.py\"                      \n",
       "[27] \"untitled-2.py\"                       \"untitled-3.py\"                      \n",
       "[29] \"untitled-5.py\"                       \"untitled-6.py\"                      \n",
       "[31] \"untitled-7.py\"                       \"untitled-8.py\"                      \n",
       "[33] \"Untitled.ipynb\"                      \"Untitled1.ipynb\"                    \n",
       "[35] \"Untitled2.ipynb\"                     \"Untitled3.ipynb\"                    \n",
       "[37] \"vector_operations.ipynb\"             \"Yandex.Disk-annkka3.localized\"      \n",
       "[39] \"Yandex.Disk-KanichevVadim.localized\" \"Yandex.Disk.localized\"              \n",
       "[41] \"Без названия.ipynb\"                  \"Без названия1.ipynb\"                \n",
       "[43] \"Без названия2.ipynb\"                 \"Без названия3.ipynb\"                \n",
       "[45] \"Без названия4.ipynb\"                 \"Без названия5.ipynb\"                \n",
       "[47] \"задание 2 неделя.ipynb\"              \"предел.py\"                          \n",
       "[49] \"Угадай число.py\"                     \"функция 2 неделя.ipynb\"             "
      ]
     },
     "metadata": {},
     "output_type": "display_data"
    }
   ],
   "source": [
    "list.files() #all files in working directory"
   ]
  },
  {
   "cell_type": "code",
   "execution_count": 22,
   "id": "9d401a4e",
   "metadata": {},
   "outputs": [
    {
     "data": {
      "text/html": [
       "<ol class=list-inline>\n",
       "\t<li>'../annagromyko'</li>\n",
       "\t<li>'../Shared'</li>\n",
       "</ol>\n"
      ],
      "text/latex": [
       "\\begin{enumerate*}\n",
       "\\item '../annagromyko'\n",
       "\\item '../Shared'\n",
       "\\end{enumerate*}\n"
      ],
      "text/markdown": [
       "1. '../annagromyko'\n",
       "2. '../Shared'\n",
       "\n",
       "\n"
      ],
      "text/plain": [
       "[1] \"../annagromyko\" \"../Shared\"     "
      ]
     },
     "metadata": {},
     "output_type": "display_data"
    }
   ],
   "source": [
    "list.dirs(\"..\", recursive=F)"
   ]
  },
  {
   "cell_type": "raw",
   "id": "a6cab051",
   "metadata": {},
   "source": [
    "setwd #to change working directory"
   ]
  },
  {
   "cell_type": "markdown",
   "id": "f0f46cd7",
   "metadata": {},
   "source": [
    "## Vector"
   ]
  },
  {
   "cell_type": "code",
   "execution_count": 1,
   "id": "3adb441b",
   "metadata": {},
   "outputs": [
    {
     "data": {
      "text/html": [
       "<ol class=list-inline>\n",
       "\t<li>5</li>\n",
       "\t<li>6</li>\n",
       "\t<li>7</li>\n",
       "\t<li>8</li>\n",
       "\t<li>9</li>\n",
       "\t<li>10</li>\n",
       "</ol>\n"
      ],
      "text/latex": [
       "\\begin{enumerate*}\n",
       "\\item 5\n",
       "\\item 6\n",
       "\\item 7\n",
       "\\item 8\n",
       "\\item 9\n",
       "\\item 10\n",
       "\\end{enumerate*}\n"
      ],
      "text/markdown": [
       "1. 5\n",
       "2. 6\n",
       "3. 7\n",
       "4. 8\n",
       "5. 9\n",
       "6. 10\n",
       "\n",
       "\n"
      ],
      "text/plain": [
       "[1]  5  6  7  8  9 10"
      ]
     },
     "metadata": {},
     "output_type": "display_data"
    }
   ],
   "source": [
    "v1 <- c(5:10)\n",
    "v1"
   ]
  },
  {
   "cell_type": "code",
   "execution_count": 11,
   "id": "a767ca00",
   "metadata": {},
   "outputs": [
    {
     "data": {
      "text/html": [
       "<ol class=list-inline>\n",
       "\t<li>2</li>\n",
       "\t<li>2.25</li>\n",
       "\t<li>2.5</li>\n",
       "\t<li>2.75</li>\n",
       "\t<li>3</li>\n",
       "\t<li>3.25</li>\n",
       "\t<li>3.5</li>\n",
       "\t<li>3.75</li>\n",
       "\t<li>4</li>\n",
       "\t<li>4.25</li>\n",
       "\t<li>4.5</li>\n",
       "\t<li>4.75</li>\n",
       "\t<li>5</li>\n",
       "\t<li>5.25</li>\n",
       "\t<li>5.5</li>\n",
       "\t<li>5.75</li>\n",
       "\t<li>6</li>\n",
       "\t<li>6.25</li>\n",
       "\t<li>6.5</li>\n",
       "\t<li>6.75</li>\n",
       "\t<li>7</li>\n",
       "\t<li>7.25</li>\n",
       "\t<li>7.5</li>\n",
       "\t<li>7.75</li>\n",
       "\t<li>8</li>\n",
       "</ol>\n"
      ],
      "text/latex": [
       "\\begin{enumerate*}\n",
       "\\item 2\n",
       "\\item 2.25\n",
       "\\item 2.5\n",
       "\\item 2.75\n",
       "\\item 3\n",
       "\\item 3.25\n",
       "\\item 3.5\n",
       "\\item 3.75\n",
       "\\item 4\n",
       "\\item 4.25\n",
       "\\item 4.5\n",
       "\\item 4.75\n",
       "\\item 5\n",
       "\\item 5.25\n",
       "\\item 5.5\n",
       "\\item 5.75\n",
       "\\item 6\n",
       "\\item 6.25\n",
       "\\item 6.5\n",
       "\\item 6.75\n",
       "\\item 7\n",
       "\\item 7.25\n",
       "\\item 7.5\n",
       "\\item 7.75\n",
       "\\item 8\n",
       "\\end{enumerate*}\n"
      ],
      "text/markdown": [
       "1. 2\n",
       "2. 2.25\n",
       "3. 2.5\n",
       "4. 2.75\n",
       "5. 3\n",
       "6. 3.25\n",
       "7. 3.5\n",
       "8. 3.75\n",
       "9. 4\n",
       "10. 4.25\n",
       "11. 4.5\n",
       "12. 4.75\n",
       "13. 5\n",
       "14. 5.25\n",
       "15. 5.5\n",
       "16. 5.75\n",
       "17. 6\n",
       "18. 6.25\n",
       "19. 6.5\n",
       "20. 6.75\n",
       "21. 7\n",
       "22. 7.25\n",
       "23. 7.5\n",
       "24. 7.75\n",
       "25. 8\n",
       "\n",
       "\n"
      ],
      "text/plain": [
       " [1] 2.00 2.25 2.50 2.75 3.00 3.25 3.50 3.75 4.00 4.25 4.50 4.75 5.00 5.25 5.50\n",
       "[16] 5.75 6.00 6.25 6.50 6.75 7.00 7.25 7.50 7.75 8.00"
      ]
     },
     "metadata": {},
     "output_type": "display_data"
    }
   ],
   "source": [
    "v2 <- seq(2,8, by=0.25)\n",
    "v2"
   ]
  },
  {
   "cell_type": "code",
   "execution_count": 12,
   "id": "7b7550ad",
   "metadata": {},
   "outputs": [
    {
     "data": {
      "text/html": [
       "<ol class=list-inline>\n",
       "\t<li>2</li>\n",
       "\t<li>4</li>\n",
       "\t<li>6</li>\n",
       "\t<li>8</li>\n",
       "\t<li>10</li>\n",
       "</ol>\n"
      ],
      "text/latex": [
       "\\begin{enumerate*}\n",
       "\\item 2\n",
       "\\item 4\n",
       "\\item 6\n",
       "\\item 8\n",
       "\\item 10\n",
       "\\end{enumerate*}\n"
      ],
      "text/markdown": [
       "1. 2\n",
       "2. 4\n",
       "3. 6\n",
       "4. 8\n",
       "5. 10\n",
       "\n",
       "\n"
      ],
      "text/plain": [
       "[1]  2  4  6  8 10"
      ]
     },
     "metadata": {},
     "output_type": "display_data"
    }
   ],
   "source": [
    "v3 <- seq(2,10, length=5)\n",
    "v3"
   ]
  },
  {
   "cell_type": "code",
   "execution_count": 14,
   "id": "d6fac7d9",
   "metadata": {},
   "outputs": [
    {
     "data": {
      "text/html": [
       "<ol class=list-inline>\n",
       "\t<li>1</li>\n",
       "\t<li>2</li>\n",
       "\t<li>3</li>\n",
       "\t<li>1</li>\n",
       "\t<li>2</li>\n",
       "\t<li>3</li>\n",
       "\t<li>1</li>\n",
       "\t<li>2</li>\n",
       "\t<li>3</li>\n",
       "</ol>\n"
      ],
      "text/latex": [
       "\\begin{enumerate*}\n",
       "\\item 1\n",
       "\\item 2\n",
       "\\item 3\n",
       "\\item 1\n",
       "\\item 2\n",
       "\\item 3\n",
       "\\item 1\n",
       "\\item 2\n",
       "\\item 3\n",
       "\\end{enumerate*}\n"
      ],
      "text/markdown": [
       "1. 1\n",
       "2. 2\n",
       "3. 3\n",
       "4. 1\n",
       "5. 2\n",
       "6. 3\n",
       "7. 1\n",
       "8. 2\n",
       "9. 3\n",
       "\n",
       "\n"
      ],
      "text/plain": [
       "[1] 1 2 3 1 2 3 1 2 3"
      ]
     },
     "metadata": {},
     "output_type": "display_data"
    }
   ],
   "source": [
    "v4 <- rep(1:3, times = 3)\n",
    "v4"
   ]
  },
  {
   "cell_type": "code",
   "execution_count": 15,
   "id": "18b9edd1",
   "metadata": {},
   "outputs": [
    {
     "data": {
      "text/html": [
       "<ol class=list-inline>\n",
       "\t<li>1</li>\n",
       "\t<li>1</li>\n",
       "\t<li>1</li>\n",
       "\t<li>1</li>\n",
       "\t<li>2</li>\n",
       "\t<li>2</li>\n",
       "\t<li>2</li>\n",
       "\t<li>2</li>\n",
       "\t<li>3</li>\n",
       "\t<li>3</li>\n",
       "\t<li>3</li>\n",
       "\t<li>3</li>\n",
       "</ol>\n"
      ],
      "text/latex": [
       "\\begin{enumerate*}\n",
       "\\item 1\n",
       "\\item 1\n",
       "\\item 1\n",
       "\\item 1\n",
       "\\item 2\n",
       "\\item 2\n",
       "\\item 2\n",
       "\\item 2\n",
       "\\item 3\n",
       "\\item 3\n",
       "\\item 3\n",
       "\\item 3\n",
       "\\end{enumerate*}\n"
      ],
      "text/markdown": [
       "1. 1\n",
       "2. 1\n",
       "3. 1\n",
       "4. 1\n",
       "5. 2\n",
       "6. 2\n",
       "7. 2\n",
       "8. 2\n",
       "9. 3\n",
       "10. 3\n",
       "11. 3\n",
       "12. 3\n",
       "\n",
       "\n"
      ],
      "text/plain": [
       " [1] 1 1 1 1 2 2 2 2 3 3 3 3"
      ]
     },
     "metadata": {},
     "output_type": "display_data"
    }
   ],
   "source": [
    "v5 <- rep(1:3, each = 4)\n",
    "v5"
   ]
  },
  {
   "cell_type": "code",
   "execution_count": 17,
   "id": "2b0eb44c",
   "metadata": {},
   "outputs": [
    {
     "data": {
      "text/html": [
       "<ol class=list-inline>\n",
       "\t<li>1</li>\n",
       "\t<li>2</li>\n",
       "\t<li>3</li>\n",
       "\t<li>1</li>\n",
       "\t<li>2</li>\n",
       "</ol>\n"
      ],
      "text/latex": [
       "\\begin{enumerate*}\n",
       "\\item 1\n",
       "\\item 2\n",
       "\\item 3\n",
       "\\item 1\n",
       "\\item 2\n",
       "\\end{enumerate*}\n"
      ],
      "text/markdown": [
       "1. 1\n",
       "2. 2\n",
       "3. 3\n",
       "4. 1\n",
       "5. 2\n",
       "\n",
       "\n"
      ],
      "text/plain": [
       "[1] 1 2 3 1 2"
      ]
     },
     "metadata": {},
     "output_type": "display_data"
    }
   ],
   "source": [
    "v6 <- rep(1:3, length = 5)\n",
    "v6"
   ]
  },
  {
   "cell_type": "code",
   "execution_count": 18,
   "id": "41189eb7",
   "metadata": {},
   "outputs": [
    {
     "data": {
      "text/html": [
       "TRUE"
      ],
      "text/latex": [
       "TRUE"
      ],
      "text/markdown": [
       "TRUE"
      ],
      "text/plain": [
       "[1] TRUE"
      ]
     },
     "metadata": {},
     "output_type": "display_data"
    }
   ],
   "source": [
    "all.equal(1, 1, 1, 1,1) \n",
    "#combines all values"
   ]
  },
  {
   "cell_type": "code",
   "execution_count": 20,
   "id": "04aa1669",
   "metadata": {},
   "outputs": [
    {
     "data": {
      "text/html": [
       "<ol class=list-inline>\n",
       "\t<li>1</li>\n",
       "\t<li>2</li>\n",
       "\t<li>3</li>\n",
       "\t<li>4</li>\n",
       "\t<li>5</li>\n",
       "</ol>\n"
      ],
      "text/latex": [
       "\\begin{enumerate*}\n",
       "\\item 1\n",
       "\\item 2\n",
       "\\item 3\n",
       "\\item 4\n",
       "\\item 5\n",
       "\\end{enumerate*}\n"
      ],
      "text/markdown": [
       "1. 1\n",
       "2. 2\n",
       "3. 3\n",
       "4. 4\n",
       "5. 5\n",
       "\n",
       "\n"
      ],
      "text/plain": [
       "[1] 1 2 3 4 5"
      ]
     },
     "metadata": {},
     "output_type": "display_data"
    }
   ],
   "source": [
    "v7 <- c(1, 2, 3, 2, 3, 2, 4, 3, 5)\n",
    "\n",
    "unique(v7) #returns vector with unique values"
   ]
  },
  {
   "cell_type": "code",
   "execution_count": 22,
   "id": "a70d8d94",
   "metadata": {},
   "outputs": [
    {
     "data": {
      "text/html": [
       "<ol class=list-inline>\n",
       "\t<li>8</li>\n",
       "\t<li>7.75</li>\n",
       "\t<li>7.5</li>\n",
       "\t<li>7.25</li>\n",
       "\t<li>7</li>\n",
       "\t<li>6.75</li>\n",
       "\t<li>6.5</li>\n",
       "\t<li>6.25</li>\n",
       "\t<li>6</li>\n",
       "\t<li>5.75</li>\n",
       "\t<li>5.5</li>\n",
       "\t<li>5.25</li>\n",
       "\t<li>5</li>\n",
       "\t<li>4.75</li>\n",
       "\t<li>4.5</li>\n",
       "\t<li>4.25</li>\n",
       "\t<li>4</li>\n",
       "\t<li>3.75</li>\n",
       "\t<li>3.5</li>\n",
       "\t<li>3.25</li>\n",
       "\t<li>3</li>\n",
       "\t<li>2.75</li>\n",
       "\t<li>2.5</li>\n",
       "\t<li>2.25</li>\n",
       "\t<li>2</li>\n",
       "</ol>\n"
      ],
      "text/latex": [
       "\\begin{enumerate*}\n",
       "\\item 8\n",
       "\\item 7.75\n",
       "\\item 7.5\n",
       "\\item 7.25\n",
       "\\item 7\n",
       "\\item 6.75\n",
       "\\item 6.5\n",
       "\\item 6.25\n",
       "\\item 6\n",
       "\\item 5.75\n",
       "\\item 5.5\n",
       "\\item 5.25\n",
       "\\item 5\n",
       "\\item 4.75\n",
       "\\item 4.5\n",
       "\\item 4.25\n",
       "\\item 4\n",
       "\\item 3.75\n",
       "\\item 3.5\n",
       "\\item 3.25\n",
       "\\item 3\n",
       "\\item 2.75\n",
       "\\item 2.5\n",
       "\\item 2.25\n",
       "\\item 2\n",
       "\\end{enumerate*}\n"
      ],
      "text/markdown": [
       "1. 8\n",
       "2. 7.75\n",
       "3. 7.5\n",
       "4. 7.25\n",
       "5. 7\n",
       "6. 6.75\n",
       "7. 6.5\n",
       "8. 6.25\n",
       "9. 6\n",
       "10. 5.75\n",
       "11. 5.5\n",
       "12. 5.25\n",
       "13. 5\n",
       "14. 4.75\n",
       "15. 4.5\n",
       "16. 4.25\n",
       "17. 4\n",
       "18. 3.75\n",
       "19. 3.5\n",
       "20. 3.25\n",
       "21. 3\n",
       "22. 2.75\n",
       "23. 2.5\n",
       "24. 2.25\n",
       "25. 2\n",
       "\n",
       "\n"
      ],
      "text/plain": [
       " [1] 8.00 7.75 7.50 7.25 7.00 6.75 6.50 6.25 6.00 5.75 5.50 5.25 5.00 4.75 4.50\n",
       "[16] 4.25 4.00 3.75 3.50 3.25 3.00 2.75 2.50 2.25 2.00"
      ]
     },
     "metadata": {},
     "output_type": "display_data"
    }
   ],
   "source": [
    "sort(v2,  decreasing = T) #sorts values in vector"
   ]
  },
  {
   "cell_type": "code",
   "execution_count": 23,
   "id": "7cec5b02",
   "metadata": {},
   "outputs": [
    {
     "data": {
      "text/html": [
       "'double'"
      ],
      "text/latex": [
       "'double'"
      ],
      "text/markdown": [
       "'double'"
      ],
      "text/plain": [
       "[1] \"double\""
      ]
     },
     "metadata": {},
     "output_type": "display_data"
    }
   ],
   "source": [
    "typeof(v7) #to recognize the type"
   ]
  },
  {
   "cell_type": "code",
   "execution_count": 24,
   "id": "38739663",
   "metadata": {},
   "outputs": [
    {
     "data": {
      "text/html": [
       "TRUE"
      ],
      "text/latex": [
       "TRUE"
      ],
      "text/markdown": [
       "TRUE"
      ],
      "text/plain": [
       "[1] TRUE"
      ]
     },
     "metadata": {},
     "output_type": "display_data"
    }
   ],
   "source": [
    "#is.* instead of * we should type the type of needed\n",
    "#is.character\n",
    "#is.logical\n",
    "#is.numeric\n",
    "\n",
    "is.numeric(v7)"
   ]
  },
  {
   "cell_type": "code",
   "execution_count": 25,
   "id": "8e068967",
   "metadata": {},
   "outputs": [
    {
     "data": {
      "text/html": [
       "<ol class=list-inline>\n",
       "\t<li>'1'</li>\n",
       "\t<li>'2'</li>\n",
       "\t<li>'3'</li>\n",
       "\t<li>'2'</li>\n",
       "\t<li>'3'</li>\n",
       "\t<li>'2'</li>\n",
       "\t<li>'4'</li>\n",
       "\t<li>'3'</li>\n",
       "\t<li>'5'</li>\n",
       "</ol>\n"
      ],
      "text/latex": [
       "\\begin{enumerate*}\n",
       "\\item '1'\n",
       "\\item '2'\n",
       "\\item '3'\n",
       "\\item '2'\n",
       "\\item '3'\n",
       "\\item '2'\n",
       "\\item '4'\n",
       "\\item '3'\n",
       "\\item '5'\n",
       "\\end{enumerate*}\n"
      ],
      "text/markdown": [
       "1. '1'\n",
       "2. '2'\n",
       "3. '3'\n",
       "4. '2'\n",
       "5. '3'\n",
       "6. '2'\n",
       "7. '4'\n",
       "8. '3'\n",
       "9. '5'\n",
       "\n",
       "\n"
      ],
      "text/plain": [
       "[1] \"1\" \"2\" \"3\" \"2\" \"3\" \"2\" \"4\" \"3\" \"5\""
      ]
     },
     "metadata": {},
     "output_type": "display_data"
    }
   ],
   "source": [
    "#as.* if we want to convert to type\n",
    "\n",
    "as.character(v7)"
   ]
  },
  {
   "cell_type": "code",
   "execution_count": 27,
   "id": "b9b9eb79",
   "metadata": {},
   "outputs": [
    {
     "data": {
      "text/html": [
       "9"
      ],
      "text/latex": [
       "9"
      ],
      "text/markdown": [
       "9"
      ],
      "text/plain": [
       "[1] 9"
      ]
     },
     "metadata": {},
     "output_type": "display_data"
    }
   ],
   "source": [
    "length(v7) #to find the length of vector"
   ]
  },
  {
   "cell_type": "code",
   "execution_count": 28,
   "id": "81e2dd95",
   "metadata": {},
   "outputs": [],
   "source": [
    "names(v7) <- c('one', 'two', 'three') #to name variables"
   ]
  },
  {
   "cell_type": "code",
   "execution_count": 29,
   "id": "3687f327",
   "metadata": {},
   "outputs": [
    {
     "data": {
      "text/html": [
       "<dl class=dl-horizontal>\n",
       "\t<dt>one</dt>\n",
       "\t\t<dd>1</dd>\n",
       "\t<dt>two</dt>\n",
       "\t\t<dd>2</dd>\n",
       "\t<dt>three</dt>\n",
       "\t\t<dd>3</dd>\n",
       "\t<dt>4</dt>\n",
       "\t\t<dd>2</dd>\n",
       "\t<dt>5</dt>\n",
       "\t\t<dd>3</dd>\n",
       "\t<dt>6</dt>\n",
       "\t\t<dd>2</dd>\n",
       "\t<dt>7</dt>\n",
       "\t\t<dd>4</dd>\n",
       "\t<dt>8</dt>\n",
       "\t\t<dd>3</dd>\n",
       "\t<dt>9</dt>\n",
       "\t\t<dd>5</dd>\n",
       "</dl>\n"
      ],
      "text/latex": [
       "\\begin{description*}\n",
       "\\item[one] 1\n",
       "\\item[two] 2\n",
       "\\item[three] 3\n",
       "\\item[4] 2\n",
       "\\item[5] 3\n",
       "\\item[6] 2\n",
       "\\item[7] 4\n",
       "\\item[8] 3\n",
       "\\item[9] 5\n",
       "\\end{description*}\n"
      ],
      "text/markdown": [
       "one\n",
       ":   1two\n",
       ":   2three\n",
       ":   34\n",
       ":   25\n",
       ":   36\n",
       ":   27\n",
       ":   48\n",
       ":   39\n",
       ":   5\n",
       "\n"
      ],
      "text/plain": [
       "  one   two three  <NA>  <NA>  <NA>  <NA>  <NA>  <NA> \n",
       "    1     2     3     2     3     2     4     3     5 "
      ]
     },
     "metadata": {},
     "output_type": "display_data"
    }
   ],
   "source": [
    "v7"
   ]
  },
  {
   "cell_type": "code",
   "execution_count": 31,
   "id": "d1880d2d",
   "metadata": {},
   "outputs": [
    {
     "data": {
      "text/html": [
       "<ol class=list-inline>\n",
       "\t<li>2</li>\n",
       "\t<li>2</li>\n",
       "\t<li>2</li>\n",
       "\t<li>2</li>\n",
       "\t<li>3</li>\n",
       "\t<li>3</li>\n",
       "\t<li>3</li>\n",
       "\t<li>3</li>\n",
       "\t<li>4</li>\n",
       "\t<li>4</li>\n",
       "\t<li>4</li>\n",
       "\t<li>4</li>\n",
       "\t<li>5</li>\n",
       "\t<li>5</li>\n",
       "\t<li>5</li>\n",
       "\t<li>5</li>\n",
       "\t<li>6</li>\n",
       "\t<li>6</li>\n",
       "\t<li>6</li>\n",
       "\t<li>6</li>\n",
       "\t<li>7</li>\n",
       "\t<li>7</li>\n",
       "\t<li>7</li>\n",
       "\t<li>7</li>\n",
       "\t<li>8</li>\n",
       "</ol>\n"
      ],
      "text/latex": [
       "\\begin{enumerate*}\n",
       "\\item 2\n",
       "\\item 2\n",
       "\\item 2\n",
       "\\item 2\n",
       "\\item 3\n",
       "\\item 3\n",
       "\\item 3\n",
       "\\item 3\n",
       "\\item 4\n",
       "\\item 4\n",
       "\\item 4\n",
       "\\item 4\n",
       "\\item 5\n",
       "\\item 5\n",
       "\\item 5\n",
       "\\item 5\n",
       "\\item 6\n",
       "\\item 6\n",
       "\\item 6\n",
       "\\item 6\n",
       "\\item 7\n",
       "\\item 7\n",
       "\\item 7\n",
       "\\item 7\n",
       "\\item 8\n",
       "\\end{enumerate*}\n"
      ],
      "text/markdown": [
       "1. 2\n",
       "2. 2\n",
       "3. 2\n",
       "4. 2\n",
       "5. 3\n",
       "6. 3\n",
       "7. 3\n",
       "8. 3\n",
       "9. 4\n",
       "10. 4\n",
       "11. 4\n",
       "12. 4\n",
       "13. 5\n",
       "14. 5\n",
       "15. 5\n",
       "16. 5\n",
       "17. 6\n",
       "18. 6\n",
       "19. 6\n",
       "20. 6\n",
       "21. 7\n",
       "22. 7\n",
       "23. 7\n",
       "24. 7\n",
       "25. 8\n",
       "\n",
       "\n"
      ],
      "text/plain": [
       " [1] 2 2 2 2 3 3 3 3 4 4 4 4 5 5 5 5 6 6 6 6 7 7 7 7 8"
      ]
     },
     "metadata": {},
     "output_type": "display_data"
    }
   ],
   "source": [
    "floor(v2) #to round the number\n",
    "# v2 <- 2 2.25 2.5 2.75 3 3.25 3.5 3.75 4 4.25 4.5 4.75 5 5.25 5.5 5.75 6 6.25 6.5 6.75 7 7.25 7.5 7.75 8"
   ]
  },
  {
   "cell_type": "markdown",
   "id": "95b4ab87",
   "metadata": {},
   "source": [
    "## IF , ELSE"
   ]
  },
  {
   "cell_type": "code",
   "execution_count": 39,
   "id": "9be7ba60",
   "metadata": {},
   "outputs": [
    {
     "data": {
      "text/html": [
       "<ol class=list-inline>\n",
       "\t<li>'Heads'</li>\n",
       "\t<li>'Heads'</li>\n",
       "\t<li>'Tails'</li>\n",
       "\t<li>'Tails'</li>\n",
       "\t<li>'Heads'</li>\n",
       "\t<li>'Tails'</li>\n",
       "\t<li>'Heads'</li>\n",
       "\t<li>'Heads'</li>\n",
       "</ol>\n"
      ],
      "text/latex": [
       "\\begin{enumerate*}\n",
       "\\item 'Heads'\n",
       "\\item 'Heads'\n",
       "\\item 'Tails'\n",
       "\\item 'Tails'\n",
       "\\item 'Heads'\n",
       "\\item 'Tails'\n",
       "\\item 'Heads'\n",
       "\\item 'Heads'\n",
       "\\end{enumerate*}\n"
      ],
      "text/markdown": [
       "1. 'Heads'\n",
       "2. 'Heads'\n",
       "3. 'Tails'\n",
       "4. 'Tails'\n",
       "5. 'Heads'\n",
       "6. 'Tails'\n",
       "7. 'Heads'\n",
       "8. 'Heads'\n",
       "\n",
       "\n"
      ],
      "text/plain": [
       "[1] \"Heads\" \"Heads\" \"Tails\" \"Tails\" \"Heads\" \"Tails\" \"Heads\" \"Heads\""
      ]
     },
     "metadata": {},
     "output_type": "display_data"
    }
   ],
   "source": [
    "# runif(n) - n independent experiments of random value from 0 to 1\n",
    "\n",
    "ifelse(runif(8) > 0.5, 'Heads', \"Tails\")\n"
   ]
  },
  {
   "cell_type": "code",
   "execution_count": 44,
   "id": "614107fe",
   "metadata": {},
   "outputs": [
    {
     "data": {
      "text/html": [
       "<ol class=list-inline>\n",
       "\t<li>'Stone'</li>\n",
       "\t<li>'Paper'</li>\n",
       "\t<li>'Scissors'</li>\n",
       "\t<li>'Paper'</li>\n",
       "\t<li>'Scissors'</li>\n",
       "\t<li>'Scissors'</li>\n",
       "\t<li>'Paper'</li>\n",
       "\t<li>'Stone'</li>\n",
       "</ol>\n"
      ],
      "text/latex": [
       "\\begin{enumerate*}\n",
       "\\item 'Stone'\n",
       "\\item 'Paper'\n",
       "\\item 'Scissors'\n",
       "\\item 'Paper'\n",
       "\\item 'Scissors'\n",
       "\\item 'Scissors'\n",
       "\\item 'Paper'\n",
       "\\item 'Stone'\n",
       "\\end{enumerate*}\n"
      ],
      "text/markdown": [
       "1. 'Stone'\n",
       "2. 'Paper'\n",
       "3. 'Scissors'\n",
       "4. 'Paper'\n",
       "5. 'Scissors'\n",
       "6. 'Scissors'\n",
       "7. 'Paper'\n",
       "8. 'Stone'\n",
       "\n",
       "\n"
      ],
      "text/plain": [
       "[1] \"Stone\"    \"Paper\"    \"Scissors\" \"Paper\"    \"Scissors\" \"Scissors\" \"Paper\"   \n",
       "[8] \"Stone\"   "
      ]
     },
     "metadata": {},
     "output_type": "display_data"
    }
   ],
   "source": [
    "x <- runif(8)\n",
    "\n",
    "ifelse( x < 1/3, 'Stone',\n",
    "      ifelse (x < 2/3, 'Scissors', 'Paper'))"
   ]
  },
  {
   "cell_type": "markdown",
   "id": "552f1204",
   "metadata": {},
   "source": [
    "## Multilpy choise"
   ]
  },
  {
   "cell_type": "code",
   "execution_count": 45,
   "id": "92861f54",
   "metadata": {},
   "outputs": [
    {
     "data": {
      "text/html": [
       "120"
      ],
      "text/latex": [
       "120"
      ],
      "text/markdown": [
       "120"
      ],
      "text/plain": [
       "[1] 120"
      ]
     },
     "metadata": {},
     "output_type": "display_data"
    }
   ],
   "source": [
    "switch ('factorial', \n",
    "       sum = 5+5,\n",
    "       product = 5*5,\n",
    "       factorial = factorial(5), \n",
    "       0)"
   ]
  },
  {
   "cell_type": "markdown",
   "id": "026d0abf",
   "metadata": {},
   "source": [
    "# Cycles"
   ]
  },
  {
   "cell_type": "markdown",
   "id": "6e7346aa",
   "metadata": {},
   "source": [
    "## REPEAT"
   ]
  },
  {
   "cell_type": "code",
   "execution_count": 47,
   "id": "86f27116",
   "metadata": {
    "scrolled": true
   },
   "outputs": [
    {
     "name": "stdout",
     "output_type": "stream",
     "text": [
      "[1] 0.03962049\n",
      "[1] 0.1117227\n",
      "[1] 0.386933\n",
      "[1] 1.316263\n",
      "[1] 2.262219\n",
      "[1] 2.792907\n",
      "[1] 3.247193\n",
      "[1] 4.172839\n",
      "[1] 4.834981\n",
      "[1] 4.842735\n",
      "[1] 5.550335\n"
     ]
    }
   ],
   "source": [
    "i <- 0\n",
    "repeat{\n",
    "    i <- i + runif(1)\n",
    "    print(i)\n",
    "    if (i>5) break  \n",
    "}"
   ]
  },
  {
   "cell_type": "markdown",
   "id": "ce2bd9f3",
   "metadata": {},
   "source": [
    "## WHILE"
   ]
  },
  {
   "cell_type": "code",
   "execution_count": 49,
   "id": "1a53b68a",
   "metadata": {},
   "outputs": [
    {
     "name": "stdout",
     "output_type": "stream",
     "text": [
      "[1] 8192\n",
      "[1] 4096\n",
      "[1] 2048\n",
      "[1] 1024\n",
      "[1] 512\n"
     ]
    }
   ],
   "source": [
    "i <- 2^14\n",
    "while (i>1000){\n",
    "    i <- i/2\n",
    "    print(i)     \n",
    "}"
   ]
  },
  {
   "cell_type": "markdown",
   "id": "19575233",
   "metadata": {},
   "source": [
    "## FOR"
   ]
  },
  {
   "cell_type": "code",
   "execution_count": 50,
   "id": "45702d59",
   "metadata": {},
   "outputs": [
    {
     "name": "stdout",
     "output_type": "stream",
     "text": [
      "[1] 2\n",
      "[1] 4\n",
      "[1] 6\n",
      "[1] 8\n"
     ]
    }
   ],
   "source": [
    "for (i in 1:8) {\n",
    "    if (i %% 2 == 0) print(i)\n",
    "}"
   ]
  },
  {
   "cell_type": "code",
   "execution_count": 52,
   "id": "7a7fff7a",
   "metadata": {
    "scrolled": true
   },
   "outputs": [
    {
     "name": "stdout",
     "output_type": "stream",
     "text": [
      "[1] \"a\"\n",
      "[1] \"c\"\n"
     ]
    }
   ],
   "source": [
    "for (i in letters) {\n",
    "    if (i  == 'b') next\n",
    "    if (i == 'd') break\n",
    "    print(i)\n",
    "}"
   ]
  },
  {
   "cell_type": "markdown",
   "id": "973dfcd1",
   "metadata": {},
   "source": [
    "## Random integers "
   ]
  },
  {
   "cell_type": "code",
   "execution_count": 62,
   "id": "143de6af",
   "metadata": {
    "scrolled": true
   },
   "outputs": [
    {
     "data": {
      "text/html": [
       "<ol class=list-inline>\n",
       "\t<li>4</li>\n",
       "\t<li>6</li>\n",
       "\t<li>5</li>\n",
       "\t<li>6</li>\n",
       "\t<li>4</li>\n",
       "\t<li>4</li>\n",
       "\t<li>4</li>\n",
       "\t<li>5</li>\n",
       "\t<li>4</li>\n",
       "\t<li>3</li>\n",
       "</ol>\n"
      ],
      "text/latex": [
       "\\begin{enumerate*}\n",
       "\\item 4\n",
       "\\item 6\n",
       "\\item 5\n",
       "\\item 6\n",
       "\\item 4\n",
       "\\item 4\n",
       "\\item 4\n",
       "\\item 5\n",
       "\\item 4\n",
       "\\item 3\n",
       "\\end{enumerate*}\n"
      ],
      "text/markdown": [
       "1. 4\n",
       "2. 6\n",
       "3. 5\n",
       "4. 6\n",
       "5. 4\n",
       "6. 4\n",
       "7. 4\n",
       "8. 5\n",
       "9. 4\n",
       "10. 3\n",
       "\n",
       "\n"
      ],
      "text/plain": [
       " [1] 4 6 5 6 4 4 4 5 4 3"
      ]
     },
     "metadata": {},
     "output_type": "display_data"
    }
   ],
   "source": [
    "round(runif(n= 10 , min= 1 , max= 6 ), 0)"
   ]
  },
  {
   "cell_type": "code",
   "execution_count": 63,
   "id": "01172ff6",
   "metadata": {},
   "outputs": [],
   "source": [
    "dice_roll <- function(n) {\n",
    "  return (sample(x = 1:6, size = n, replace = TRUE))\n",
    "}\n"
   ]
  },
  {
   "cell_type": "code",
   "execution_count": 64,
   "id": "7c4bda46",
   "metadata": {},
   "outputs": [
    {
     "data": {
      "text/html": [
       "<ol class=list-inline>\n",
       "\t<li>1</li>\n",
       "\t<li>4</li>\n",
       "\t<li>1</li>\n",
       "\t<li>6</li>\n",
       "\t<li>1</li>\n",
       "\t<li>5</li>\n",
       "\t<li>2</li>\n",
       "\t<li>1</li>\n",
       "\t<li>2</li>\n",
       "\t<li>4</li>\n",
       "</ol>\n"
      ],
      "text/latex": [
       "\\begin{enumerate*}\n",
       "\\item 1\n",
       "\\item 4\n",
       "\\item 1\n",
       "\\item 6\n",
       "\\item 1\n",
       "\\item 5\n",
       "\\item 2\n",
       "\\item 1\n",
       "\\item 2\n",
       "\\item 4\n",
       "\\end{enumerate*}\n"
      ],
      "text/markdown": [
       "1. 1\n",
       "2. 4\n",
       "3. 1\n",
       "4. 6\n",
       "5. 1\n",
       "6. 5\n",
       "7. 2\n",
       "8. 1\n",
       "9. 2\n",
       "10. 4\n",
       "\n",
       "\n"
      ],
      "text/plain": [
       " [1] 1 4 1 6 1 5 2 1 2 4"
      ]
     },
     "metadata": {},
     "output_type": "display_data"
    }
   ],
   "source": [
    "dice_roll(10)"
   ]
  },
  {
   "cell_type": "markdown",
   "id": "a3507bfe",
   "metadata": {},
   "source": [
    "# Recycling Vectors"
   ]
  },
  {
   "cell_type": "code",
   "execution_count": 2,
   "id": "3981bfc1",
   "metadata": {},
   "outputs": [
    {
     "name": "stderr",
     "output_type": "stream",
     "text": [
      "Warning message in 1:5 + 0:1:\n",
      "“longer object length is not a multiple of shorter object length”"
     ]
    },
    {
     "data": {
      "text/html": [
       "<ol class=list-inline>\n",
       "\t<li>1</li>\n",
       "\t<li>3</li>\n",
       "\t<li>3</li>\n",
       "\t<li>5</li>\n",
       "\t<li>5</li>\n",
       "</ol>\n"
      ],
      "text/latex": [
       "\\begin{enumerate*}\n",
       "\\item 1\n",
       "\\item 3\n",
       "\\item 3\n",
       "\\item 5\n",
       "\\item 5\n",
       "\\end{enumerate*}\n"
      ],
      "text/markdown": [
       "1. 1\n",
       "2. 3\n",
       "3. 3\n",
       "4. 5\n",
       "5. 5\n",
       "\n",
       "\n"
      ],
      "text/plain": [
       "[1] 1 3 3 5 5"
      ]
     },
     "metadata": {},
     "output_type": "display_data"
    }
   ],
   "source": [
    "1:5 + 0:1\n"
   ]
  },
  {
   "cell_type": "code",
   "execution_count": 74,
   "id": "1558ab4c",
   "metadata": {},
   "outputs": [],
   "source": [
    "v <- c(10, 20, 30, 40, 50, 60, 70, 80, 90, 100)"
   ]
  },
  {
   "cell_type": "markdown",
   "id": "b71a1618",
   "metadata": {},
   "source": [
    "## Indexing"
   ]
  },
  {
   "cell_type": "code",
   "execution_count": 76,
   "id": "737948fc",
   "metadata": {},
   "outputs": [
    {
     "data": {
      "text/html": [
       "<ol class=list-inline>\n",
       "\t<li>10</li>\n",
       "\t<li>40</li>\n",
       "\t<li>50</li>\n",
       "\t<li>60</li>\n",
       "\t<li>80</li>\n",
       "</ol>\n"
      ],
      "text/latex": [
       "\\begin{enumerate*}\n",
       "\\item 10\n",
       "\\item 40\n",
       "\\item 50\n",
       "\\item 60\n",
       "\\item 80\n",
       "\\end{enumerate*}\n"
      ],
      "text/markdown": [
       "1. 10\n",
       "2. 40\n",
       "3. 50\n",
       "4. 60\n",
       "5. 80\n",
       "\n",
       "\n"
      ],
      "text/plain": [
       "[1] 10 40 50 60 80"
      ]
     },
     "metadata": {},
     "output_type": "display_data"
    }
   ],
   "source": [
    "v[c(1, 4:6, 8)]"
   ]
  },
  {
   "cell_type": "code",
   "execution_count": 77,
   "id": "e9ca2239",
   "metadata": {},
   "outputs": [
    {
     "data": {
      "text/html": [
       "<ol class=list-inline>\n",
       "\t<li>10</li>\n",
       "\t<li>20</li>\n",
       "\t<li>30</li>\n",
       "\t<li>40</li>\n",
       "\t<li>60</li>\n",
       "\t<li>70</li>\n",
       "\t<li>80</li>\n",
       "\t<li>90</li>\n",
       "\t<li>100</li>\n",
       "</ol>\n"
      ],
      "text/latex": [
       "\\begin{enumerate*}\n",
       "\\item 10\n",
       "\\item 20\n",
       "\\item 30\n",
       "\\item 40\n",
       "\\item 60\n",
       "\\item 70\n",
       "\\item 80\n",
       "\\item 90\n",
       "\\item 100\n",
       "\\end{enumerate*}\n"
      ],
      "text/markdown": [
       "1. 10\n",
       "2. 20\n",
       "3. 30\n",
       "4. 40\n",
       "5. 60\n",
       "6. 70\n",
       "7. 80\n",
       "8. 90\n",
       "9. 100\n",
       "\n",
       "\n"
      ],
      "text/plain": [
       "[1]  10  20  30  40  60  70  80  90 100"
      ]
     },
     "metadata": {},
     "output_type": "display_data"
    }
   ],
   "source": [
    "v[-5] #all except 5"
   ]
  },
  {
   "cell_type": "code",
   "execution_count": 79,
   "id": "8812e27c",
   "metadata": {},
   "outputs": [
    {
     "data": {
      "text/html": [
       "<ol class=list-inline>\n",
       "\t<li>20</li>\n",
       "\t<li>30</li>\n",
       "\t<li>80</li>\n",
       "\t<li>90</li>\n",
       "</ol>\n"
      ],
      "text/latex": [
       "\\begin{enumerate*}\n",
       "\\item 20\n",
       "\\item 30\n",
       "\\item 80\n",
       "\\item 90\n",
       "\\end{enumerate*}\n"
      ],
      "text/markdown": [
       "1. 20\n",
       "2. 30\n",
       "3. 80\n",
       "4. 90\n",
       "\n",
       "\n"
      ],
      "text/plain": [
       "[1] 20 30 80 90"
      ]
     },
     "metadata": {},
     "output_type": "display_data"
    }
   ],
   "source": [
    "v[c(-1, -(4:7), -length(v))]"
   ]
  },
  {
   "cell_type": "code",
   "execution_count": 80,
   "id": "ba27fe1b",
   "metadata": {},
   "outputs": [
    {
     "data": {
      "text/html": [
       "<ol class=list-inline>\n",
       "\t<li>10</li>\n",
       "\t<li>30</li>\n",
       "\t<li>50</li>\n",
       "\t<li>70</li>\n",
       "\t<li>90</li>\n",
       "</ol>\n"
      ],
      "text/latex": [
       "\\begin{enumerate*}\n",
       "\\item 10\n",
       "\\item 30\n",
       "\\item 50\n",
       "\\item 70\n",
       "\\item 90\n",
       "\\end{enumerate*}\n"
      ],
      "text/markdown": [
       "1. 10\n",
       "2. 30\n",
       "3. 50\n",
       "4. 70\n",
       "5. 90\n",
       "\n",
       "\n"
      ],
      "text/plain": [
       "[1] 10 30 50 70 90"
      ]
     },
     "metadata": {},
     "output_type": "display_data"
    }
   ],
   "source": [
    "v[rep(c(T, F), 5)]"
   ]
  },
  {
   "cell_type": "code",
   "execution_count": 81,
   "id": "d159ce80",
   "metadata": {},
   "outputs": [
    {
     "data": {
      "text/html": [
       "<ol class=list-inline>\n",
       "\t<li>20</li>\n",
       "\t<li>40</li>\n",
       "\t<li>60</li>\n",
       "\t<li>80</li>\n",
       "\t<li>100</li>\n",
       "</ol>\n"
      ],
      "text/latex": [
       "\\begin{enumerate*}\n",
       "\\item 20\n",
       "\\item 40\n",
       "\\item 60\n",
       "\\item 80\n",
       "\\item 100\n",
       "\\end{enumerate*}\n"
      ],
      "text/markdown": [
       "1. 20\n",
       "2. 40\n",
       "3. 60\n",
       "4. 80\n",
       "5. 100\n",
       "\n",
       "\n"
      ],
      "text/plain": [
       "[1]  20  40  60  80 100"
      ]
     },
     "metadata": {},
     "output_type": "display_data"
    }
   ],
   "source": [
    "v[c(F, T)]"
   ]
  },
  {
   "cell_type": "code",
   "execution_count": 83,
   "id": "8c5f6cfd",
   "metadata": {},
   "outputs": [
    {
     "data": {
      "text/html": [
       "<ol class=list-inline>\n",
       "\t<li>80</li>\n",
       "\t<li>90</li>\n",
       "</ol>\n"
      ],
      "text/latex": [
       "\\begin{enumerate*}\n",
       "\\item 80\n",
       "\\item 90\n",
       "\\end{enumerate*}\n"
      ],
      "text/markdown": [
       "1. 80\n",
       "2. 90\n",
       "\n",
       "\n"
      ],
      "text/plain": [
       "[1] 80 90"
      ]
     },
     "metadata": {},
     "output_type": "display_data"
    }
   ],
   "source": [
    "v[v>77 & v<99]"
   ]
  },
  {
   "cell_type": "code",
   "execution_count": 84,
   "id": "aa55cec9",
   "metadata": {},
   "outputs": [],
   "source": [
    "#If we have named vector we can use name as indexing\n",
    "\n",
    "v1 <- c('one'=1, 'two'=2, 'three'=3, 'four'=4, 'five'=5)"
   ]
  },
  {
   "cell_type": "code",
   "execution_count": 87,
   "id": "8045419c",
   "metadata": {},
   "outputs": [
    {
     "data": {
      "text/html": [
       "<dl class=dl-horizontal>\n",
       "\t<dt>two</dt>\n",
       "\t\t<dd>2</dd>\n",
       "\t<dt>five</dt>\n",
       "\t\t<dd>5</dd>\n",
       "</dl>\n"
      ],
      "text/latex": [
       "\\begin{description*}\n",
       "\\item[two] 2\n",
       "\\item[five] 5\n",
       "\\end{description*}\n"
      ],
      "text/markdown": [
       "two\n",
       ":   2five\n",
       ":   5\n",
       "\n"
      ],
      "text/plain": [
       " two five \n",
       "   2    5 "
      ]
     },
     "metadata": {},
     "output_type": "display_data"
    }
   ],
   "source": [
    "v1[c('two', 'five')]"
   ]
  },
  {
   "cell_type": "markdown",
   "id": "b60efd25",
   "metadata": {},
   "source": [
    "# Functions ALL and ANY"
   ]
  },
  {
   "cell_type": "code",
   "execution_count": 89,
   "id": "1f49be16",
   "metadata": {},
   "outputs": [
    {
     "data": {
      "text/html": [
       "TRUE"
      ],
      "text/latex": [
       "TRUE"
      ],
      "text/markdown": [
       "TRUE"
      ],
      "text/plain": [
       "[1] TRUE"
      ]
     },
     "metadata": {},
     "output_type": "display_data"
    },
    {
     "data": {
      "text/html": [
       "FALSE"
      ],
      "text/latex": [
       "FALSE"
      ],
      "text/markdown": [
       "FALSE"
      ],
      "text/plain": [
       "[1] FALSE"
      ]
     },
     "metadata": {},
     "output_type": "display_data"
    }
   ],
   "source": [
    "all(v1 < 100); all(v1>2)"
   ]
  },
  {
   "cell_type": "code",
   "execution_count": 91,
   "id": "456edba3",
   "metadata": {},
   "outputs": [
    {
     "data": {
      "text/html": [
       "FALSE"
      ],
      "text/latex": [
       "FALSE"
      ],
      "text/markdown": [
       "FALSE"
      ],
      "text/plain": [
       "[1] FALSE"
      ]
     },
     "metadata": {},
     "output_type": "display_data"
    },
    {
     "data": {
      "text/html": [
       "TRUE"
      ],
      "text/latex": [
       "TRUE"
      ],
      "text/markdown": [
       "TRUE"
      ],
      "text/plain": [
       "[1] TRUE"
      ]
     },
     "metadata": {},
     "output_type": "display_data"
    }
   ],
   "source": [
    "any(v1 > 100); any(v1>2)"
   ]
  },
  {
   "cell_type": "markdown",
   "id": "8db8a9fe",
   "metadata": {},
   "source": [
    "# WHICH"
   ]
  },
  {
   "cell_type": "code",
   "execution_count": 93,
   "id": "b81c135f",
   "metadata": {},
   "outputs": [
    {
     "data": {
      "text/html": [
       "<ol class=list-inline>\n",
       "\t<li>6</li>\n",
       "\t<li>7</li>\n",
       "\t<li>8</li>\n",
       "\t<li>9</li>\n",
       "\t<li>10</li>\n",
       "</ol>\n"
      ],
      "text/latex": [
       "\\begin{enumerate*}\n",
       "\\item 6\n",
       "\\item 7\n",
       "\\item 8\n",
       "\\item 9\n",
       "\\item 10\n",
       "\\end{enumerate*}\n"
      ],
      "text/markdown": [
       "1. 6\n",
       "2. 7\n",
       "3. 8\n",
       "4. 9\n",
       "5. 10\n",
       "\n",
       "\n"
      ],
      "text/plain": [
       "[1]  6  7  8  9 10"
      ]
     },
     "metadata": {},
     "output_type": "display_data"
    }
   ],
   "source": [
    "#we recieve indexes\n",
    "\n",
    "which(v>50)"
   ]
  },
  {
   "cell_type": "code",
   "execution_count": 94,
   "id": "172021f4",
   "metadata": {},
   "outputs": [
    {
     "data": {
      "text/html": [
       "10"
      ],
      "text/latex": [
       "10"
      ],
      "text/markdown": [
       "10"
      ],
      "text/plain": [
       "[1] 10"
      ]
     },
     "metadata": {},
     "output_type": "display_data"
    },
    {
     "data": {
      "text/html": [
       "1"
      ],
      "text/latex": [
       "1"
      ],
      "text/markdown": [
       "1"
      ],
      "text/plain": [
       "[1] 1"
      ]
     },
     "metadata": {},
     "output_type": "display_data"
    }
   ],
   "source": [
    "#indexes of max and min value\n",
    "\n",
    "which.max(v); which.min(v)"
   ]
  },
  {
   "cell_type": "markdown",
   "id": "dda2e3cf",
   "metadata": {},
   "source": [
    "# Attributes"
   ]
  },
  {
   "cell_type": "code",
   "execution_count": 95,
   "id": "c483c23d",
   "metadata": {},
   "outputs": [],
   "source": [
    "x = c(5, 3, 9)\n",
    "names(x) <- c('V', 'III', 'IX')"
   ]
  },
  {
   "cell_type": "code",
   "execution_count": 97,
   "id": "8c21f08c",
   "metadata": {},
   "outputs": [
    {
     "data": {
      "text/html": [
       "<dl>\n",
       "\t<dt>$names</dt>\n",
       "\t\t<dd><ol class=list-inline>\n",
       "\t<li>'V'</li>\n",
       "\t<li>'III'</li>\n",
       "\t<li>'IX'</li>\n",
       "</ol>\n",
       "</dd>\n",
       "\t<dt>$author</dt>\n",
       "\t\t<dd>'Caesar'</dd>\n",
       "</dl>\n"
      ],
      "text/latex": [
       "\\begin{description}\n",
       "\\item[\\$names] \\begin{enumerate*}\n",
       "\\item 'V'\n",
       "\\item 'III'\n",
       "\\item 'IX'\n",
       "\\end{enumerate*}\n",
       "\n",
       "\\item[\\$author] 'Caesar'\n",
       "\\end{description}\n"
      ],
      "text/markdown": [
       "$names\n",
       ":   1. 'V'\n",
       "2. 'III'\n",
       "3. 'IX'\n",
       "\n",
       "\n",
       "\n",
       "$author\n",
       ":   'Caesar'\n",
       "\n",
       "\n"
      ],
      "text/plain": [
       "$names\n",
       "[1] \"V\"   \"III\" \"IX\" \n",
       "\n",
       "$author\n",
       "[1] \"Caesar\"\n"
      ]
     },
     "metadata": {},
     "output_type": "display_data"
    }
   ],
   "source": [
    "attr(x, 'author') <- 'Caesar'\n",
    "attributes(x)"
   ]
  },
  {
   "cell_type": "code",
   "execution_count": 99,
   "id": "5a40d1e6",
   "metadata": {},
   "outputs": [
    {
     "data": {
      "text/plain": [
       "NULL"
      ]
     },
     "metadata": {},
     "output_type": "display_data"
    }
   ],
   "source": [
    "attributes(x) <- NULL #to delete all atributes\n",
    "\n",
    "attributes(x)"
   ]
  },
  {
   "cell_type": "code",
   "execution_count": 103,
   "id": "943bff1e",
   "metadata": {},
   "outputs": [
    {
     "data": {
      "text/html": [
       "<ol class=list-inline>\n",
       "\t<li>'1'</li>\n",
       "\t<li>'2'</li>\n",
       "\t<li>'fizz'</li>\n",
       "\t<li>'4'</li>\n",
       "\t<li>'buzz'</li>\n",
       "\t<li>'fizz'</li>\n",
       "\t<li>'7'</li>\n",
       "\t<li>'8'</li>\n",
       "\t<li>'fizz'</li>\n",
       "\t<li>'buzz'</li>\n",
       "\t<li>'11'</li>\n",
       "\t<li>'fizz'</li>\n",
       "\t<li>'13'</li>\n",
       "\t<li>'14'</li>\n",
       "\t<li>'fizz buzz'</li>\n",
       "\t<li>'16'</li>\n",
       "\t<li>'17'</li>\n",
       "\t<li>'fizz'</li>\n",
       "\t<li>'19'</li>\n",
       "\t<li>'buzz'</li>\n",
       "\t<li>'fizz'</li>\n",
       "\t<li>'22'</li>\n",
       "\t<li>'23'</li>\n",
       "\t<li>'fizz'</li>\n",
       "\t<li>'buzz'</li>\n",
       "\t<li>'26'</li>\n",
       "\t<li>'fizz'</li>\n",
       "\t<li>'28'</li>\n",
       "\t<li>'29'</li>\n",
       "\t<li>'fizz buzz'</li>\n",
       "\t<li>'31'</li>\n",
       "\t<li>'32'</li>\n",
       "\t<li>'fizz'</li>\n",
       "\t<li>'34'</li>\n",
       "\t<li>'buzz'</li>\n",
       "\t<li>'fizz'</li>\n",
       "\t<li>'37'</li>\n",
       "\t<li>'38'</li>\n",
       "\t<li>'fizz'</li>\n",
       "\t<li>'buzz'</li>\n",
       "\t<li>'41'</li>\n",
       "\t<li>'fizz'</li>\n",
       "\t<li>'43'</li>\n",
       "\t<li>'44'</li>\n",
       "\t<li>'fizz buzz'</li>\n",
       "\t<li>'46'</li>\n",
       "\t<li>'47'</li>\n",
       "\t<li>'fizz'</li>\n",
       "\t<li>'49'</li>\n",
       "\t<li>'buzz'</li>\n",
       "\t<li>'fizz'</li>\n",
       "\t<li>'52'</li>\n",
       "\t<li>'53'</li>\n",
       "\t<li>'fizz'</li>\n",
       "\t<li>'buzz'</li>\n",
       "\t<li>'56'</li>\n",
       "\t<li>'fizz'</li>\n",
       "\t<li>'58'</li>\n",
       "\t<li>'59'</li>\n",
       "\t<li>'fizz buzz'</li>\n",
       "\t<li>'61'</li>\n",
       "\t<li>'62'</li>\n",
       "\t<li>'fizz'</li>\n",
       "\t<li>'64'</li>\n",
       "\t<li>'buzz'</li>\n",
       "\t<li>'fizz'</li>\n",
       "\t<li>'67'</li>\n",
       "\t<li>'68'</li>\n",
       "\t<li>'fizz'</li>\n",
       "\t<li>'buzz'</li>\n",
       "\t<li>'71'</li>\n",
       "\t<li>'fizz'</li>\n",
       "\t<li>'73'</li>\n",
       "\t<li>'74'</li>\n",
       "\t<li>'fizz buzz'</li>\n",
       "\t<li>'76'</li>\n",
       "\t<li>'77'</li>\n",
       "\t<li>'fizz'</li>\n",
       "\t<li>'79'</li>\n",
       "\t<li>'buzz'</li>\n",
       "\t<li>'fizz'</li>\n",
       "\t<li>'82'</li>\n",
       "\t<li>'83'</li>\n",
       "\t<li>'fizz'</li>\n",
       "\t<li>'buzz'</li>\n",
       "\t<li>'86'</li>\n",
       "\t<li>'fizz'</li>\n",
       "\t<li>'88'</li>\n",
       "\t<li>'89'</li>\n",
       "\t<li>'fizz buzz'</li>\n",
       "\t<li>'91'</li>\n",
       "\t<li>'92'</li>\n",
       "\t<li>'fizz'</li>\n",
       "\t<li>'94'</li>\n",
       "\t<li>'buzz'</li>\n",
       "\t<li>'fizz'</li>\n",
       "\t<li>'97'</li>\n",
       "\t<li>'98'</li>\n",
       "\t<li>'fizz'</li>\n",
       "\t<li>'buzz'</li>\n",
       "</ol>\n"
      ],
      "text/latex": [
       "\\begin{enumerate*}\n",
       "\\item '1'\n",
       "\\item '2'\n",
       "\\item 'fizz'\n",
       "\\item '4'\n",
       "\\item 'buzz'\n",
       "\\item 'fizz'\n",
       "\\item '7'\n",
       "\\item '8'\n",
       "\\item 'fizz'\n",
       "\\item 'buzz'\n",
       "\\item '11'\n",
       "\\item 'fizz'\n",
       "\\item '13'\n",
       "\\item '14'\n",
       "\\item 'fizz buzz'\n",
       "\\item '16'\n",
       "\\item '17'\n",
       "\\item 'fizz'\n",
       "\\item '19'\n",
       "\\item 'buzz'\n",
       "\\item 'fizz'\n",
       "\\item '22'\n",
       "\\item '23'\n",
       "\\item 'fizz'\n",
       "\\item 'buzz'\n",
       "\\item '26'\n",
       "\\item 'fizz'\n",
       "\\item '28'\n",
       "\\item '29'\n",
       "\\item 'fizz buzz'\n",
       "\\item '31'\n",
       "\\item '32'\n",
       "\\item 'fizz'\n",
       "\\item '34'\n",
       "\\item 'buzz'\n",
       "\\item 'fizz'\n",
       "\\item '37'\n",
       "\\item '38'\n",
       "\\item 'fizz'\n",
       "\\item 'buzz'\n",
       "\\item '41'\n",
       "\\item 'fizz'\n",
       "\\item '43'\n",
       "\\item '44'\n",
       "\\item 'fizz buzz'\n",
       "\\item '46'\n",
       "\\item '47'\n",
       "\\item 'fizz'\n",
       "\\item '49'\n",
       "\\item 'buzz'\n",
       "\\item 'fizz'\n",
       "\\item '52'\n",
       "\\item '53'\n",
       "\\item 'fizz'\n",
       "\\item 'buzz'\n",
       "\\item '56'\n",
       "\\item 'fizz'\n",
       "\\item '58'\n",
       "\\item '59'\n",
       "\\item 'fizz buzz'\n",
       "\\item '61'\n",
       "\\item '62'\n",
       "\\item 'fizz'\n",
       "\\item '64'\n",
       "\\item 'buzz'\n",
       "\\item 'fizz'\n",
       "\\item '67'\n",
       "\\item '68'\n",
       "\\item 'fizz'\n",
       "\\item 'buzz'\n",
       "\\item '71'\n",
       "\\item 'fizz'\n",
       "\\item '73'\n",
       "\\item '74'\n",
       "\\item 'fizz buzz'\n",
       "\\item '76'\n",
       "\\item '77'\n",
       "\\item 'fizz'\n",
       "\\item '79'\n",
       "\\item 'buzz'\n",
       "\\item 'fizz'\n",
       "\\item '82'\n",
       "\\item '83'\n",
       "\\item 'fizz'\n",
       "\\item 'buzz'\n",
       "\\item '86'\n",
       "\\item 'fizz'\n",
       "\\item '88'\n",
       "\\item '89'\n",
       "\\item 'fizz buzz'\n",
       "\\item '91'\n",
       "\\item '92'\n",
       "\\item 'fizz'\n",
       "\\item '94'\n",
       "\\item 'buzz'\n",
       "\\item 'fizz'\n",
       "\\item '97'\n",
       "\\item '98'\n",
       "\\item 'fizz'\n",
       "\\item 'buzz'\n",
       "\\end{enumerate*}\n"
      ],
      "text/markdown": [
       "1. '1'\n",
       "2. '2'\n",
       "3. 'fizz'\n",
       "4. '4'\n",
       "5. 'buzz'\n",
       "6. 'fizz'\n",
       "7. '7'\n",
       "8. '8'\n",
       "9. 'fizz'\n",
       "10. 'buzz'\n",
       "11. '11'\n",
       "12. 'fizz'\n",
       "13. '13'\n",
       "14. '14'\n",
       "15. 'fizz buzz'\n",
       "16. '16'\n",
       "17. '17'\n",
       "18. 'fizz'\n",
       "19. '19'\n",
       "20. 'buzz'\n",
       "21. 'fizz'\n",
       "22. '22'\n",
       "23. '23'\n",
       "24. 'fizz'\n",
       "25. 'buzz'\n",
       "26. '26'\n",
       "27. 'fizz'\n",
       "28. '28'\n",
       "29. '29'\n",
       "30. 'fizz buzz'\n",
       "31. '31'\n",
       "32. '32'\n",
       "33. 'fizz'\n",
       "34. '34'\n",
       "35. 'buzz'\n",
       "36. 'fizz'\n",
       "37. '37'\n",
       "38. '38'\n",
       "39. 'fizz'\n",
       "40. 'buzz'\n",
       "41. '41'\n",
       "42. 'fizz'\n",
       "43. '43'\n",
       "44. '44'\n",
       "45. 'fizz buzz'\n",
       "46. '46'\n",
       "47. '47'\n",
       "48. 'fizz'\n",
       "49. '49'\n",
       "50. 'buzz'\n",
       "51. 'fizz'\n",
       "52. '52'\n",
       "53. '53'\n",
       "54. 'fizz'\n",
       "55. 'buzz'\n",
       "56. '56'\n",
       "57. 'fizz'\n",
       "58. '58'\n",
       "59. '59'\n",
       "60. 'fizz buzz'\n",
       "61. '61'\n",
       "62. '62'\n",
       "63. 'fizz'\n",
       "64. '64'\n",
       "65. 'buzz'\n",
       "66. 'fizz'\n",
       "67. '67'\n",
       "68. '68'\n",
       "69. 'fizz'\n",
       "70. 'buzz'\n",
       "71. '71'\n",
       "72. 'fizz'\n",
       "73. '73'\n",
       "74. '74'\n",
       "75. 'fizz buzz'\n",
       "76. '76'\n",
       "77. '77'\n",
       "78. 'fizz'\n",
       "79. '79'\n",
       "80. 'buzz'\n",
       "81. 'fizz'\n",
       "82. '82'\n",
       "83. '83'\n",
       "84. 'fizz'\n",
       "85. 'buzz'\n",
       "86. '86'\n",
       "87. 'fizz'\n",
       "88. '88'\n",
       "89. '89'\n",
       "90. 'fizz buzz'\n",
       "91. '91'\n",
       "92. '92'\n",
       "93. 'fizz'\n",
       "94. '94'\n",
       "95. 'buzz'\n",
       "96. 'fizz'\n",
       "97. '97'\n",
       "98. '98'\n",
       "99. 'fizz'\n",
       "100. 'buzz'\n",
       "\n",
       "\n"
      ],
      "text/plain": [
       "  [1] \"1\"         \"2\"         \"fizz\"      \"4\"         \"buzz\"      \"fizz\"     \n",
       "  [7] \"7\"         \"8\"         \"fizz\"      \"buzz\"      \"11\"        \"fizz\"     \n",
       " [13] \"13\"        \"14\"        \"fizz buzz\" \"16\"        \"17\"        \"fizz\"     \n",
       " [19] \"19\"        \"buzz\"      \"fizz\"      \"22\"        \"23\"        \"fizz\"     \n",
       " [25] \"buzz\"      \"26\"        \"fizz\"      \"28\"        \"29\"        \"fizz buzz\"\n",
       " [31] \"31\"        \"32\"        \"fizz\"      \"34\"        \"buzz\"      \"fizz\"     \n",
       " [37] \"37\"        \"38\"        \"fizz\"      \"buzz\"      \"41\"        \"fizz\"     \n",
       " [43] \"43\"        \"44\"        \"fizz buzz\" \"46\"        \"47\"        \"fizz\"     \n",
       " [49] \"49\"        \"buzz\"      \"fizz\"      \"52\"        \"53\"        \"fizz\"     \n",
       " [55] \"buzz\"      \"56\"        \"fizz\"      \"58\"        \"59\"        \"fizz buzz\"\n",
       " [61] \"61\"        \"62\"        \"fizz\"      \"64\"        \"buzz\"      \"fizz\"     \n",
       " [67] \"67\"        \"68\"        \"fizz\"      \"buzz\"      \"71\"        \"fizz\"     \n",
       " [73] \"73\"        \"74\"        \"fizz buzz\" \"76\"        \"77\"        \"fizz\"     \n",
       " [79] \"79\"        \"buzz\"      \"fizz\"      \"82\"        \"83\"        \"fizz\"     \n",
       " [85] \"buzz\"      \"86\"        \"fizz\"      \"88\"        \"89\"        \"fizz buzz\"\n",
       " [91] \"91\"        \"92\"        \"fizz\"      \"94\"        \"buzz\"      \"fizz\"     \n",
       " [97] \"97\"        \"98\"        \"fizz\"      \"buzz\"     "
      ]
     },
     "metadata": {},
     "output_type": "display_data"
    }
   ],
   "source": [
    "#FIZZ BUZZ \n",
    "\n",
    "x <- 1:100\n",
    "z <- 1:100\n",
    "z[x %% 5 == 0] <- 'buzz'\n",
    "z[x %% 3 == 0] <- 'fizz'\n",
    "z[x %% 15 == 0] <- 'fizz buzz'\n",
    "z"
   ]
  },
  {
   "cell_type": "code",
   "execution_count": 109,
   "id": "399bd72b",
   "metadata": {},
   "outputs": [
    {
     "data": {
      "text/html": [
       "<ol class=list-inline>\n",
       "\t<li>49</li>\n",
       "\t<li>65</li>\n",
       "\t<li>25</li>\n",
       "\t<li>74</li>\n",
       "\t<li>18</li>\n",
       "\t<li>100</li>\n",
       "\t<li>47</li>\n",
       "\t<li>24</li>\n",
       "\t<li>71</li>\n",
       "\t<li>89</li>\n",
       "\t<li>37</li>\n",
       "\t<li>20</li>\n",
       "\t<li>26</li>\n",
       "\t<li>3</li>\n",
       "\t<li>41</li>\n",
       "\t<li>27</li>\n",
       "\t<li>36</li>\n",
       "\t<li>5</li>\n",
       "\t<li>34</li>\n",
       "\t<li>87</li>\n",
       "\t<li>58</li>\n",
       "\t<li>42</li>\n",
       "\t<li>93</li>\n",
       "\t<li>30</li>\n",
       "\t<li>43</li>\n",
       "\t<li>15</li>\n",
       "\t<li>22</li>\n",
       "\t<li>80</li>\n",
       "\t<li>8</li>\n",
       "\t<li>84</li>\n",
       "\t<li>68</li>\n",
       "\t<li>96</li>\n",
       "\t<li>4</li>\n",
       "\t<li>50</li>\n",
       "\t<li>95</li>\n",
       "\t<li>88</li>\n",
       "\t<li>67</li>\n",
       "\t<li>6</li>\n",
       "\t<li>63</li>\n",
       "\t<li>2</li>\n",
       "\t<li>52</li>\n",
       "\t<li>81</li>\n",
       "\t<li>54</li>\n",
       "\t<li>21</li>\n",
       "\t<li>61</li>\n",
       "\t<li>55</li>\n",
       "\t<li>38</li>\n",
       "\t<li>10</li>\n",
       "\t<li>40</li>\n",
       "\t<li>83</li>\n",
       "</ol>\n"
      ],
      "text/latex": [
       "\\begin{enumerate*}\n",
       "\\item 49\n",
       "\\item 65\n",
       "\\item 25\n",
       "\\item 74\n",
       "\\item 18\n",
       "\\item 100\n",
       "\\item 47\n",
       "\\item 24\n",
       "\\item 71\n",
       "\\item 89\n",
       "\\item 37\n",
       "\\item 20\n",
       "\\item 26\n",
       "\\item 3\n",
       "\\item 41\n",
       "\\item 27\n",
       "\\item 36\n",
       "\\item 5\n",
       "\\item 34\n",
       "\\item 87\n",
       "\\item 58\n",
       "\\item 42\n",
       "\\item 93\n",
       "\\item 30\n",
       "\\item 43\n",
       "\\item 15\n",
       "\\item 22\n",
       "\\item 80\n",
       "\\item 8\n",
       "\\item 84\n",
       "\\item 68\n",
       "\\item 96\n",
       "\\item 4\n",
       "\\item 50\n",
       "\\item 95\n",
       "\\item 88\n",
       "\\item 67\n",
       "\\item 6\n",
       "\\item 63\n",
       "\\item 2\n",
       "\\item 52\n",
       "\\item 81\n",
       "\\item 54\n",
       "\\item 21\n",
       "\\item 61\n",
       "\\item 55\n",
       "\\item 38\n",
       "\\item 10\n",
       "\\item 40\n",
       "\\item 83\n",
       "\\end{enumerate*}\n"
      ],
      "text/markdown": [
       "1. 49\n",
       "2. 65\n",
       "3. 25\n",
       "4. 74\n",
       "5. 18\n",
       "6. 100\n",
       "7. 47\n",
       "8. 24\n",
       "9. 71\n",
       "10. 89\n",
       "11. 37\n",
       "12. 20\n",
       "13. 26\n",
       "14. 3\n",
       "15. 41\n",
       "16. 27\n",
       "17. 36\n",
       "18. 5\n",
       "19. 34\n",
       "20. 87\n",
       "21. 58\n",
       "22. 42\n",
       "23. 93\n",
       "24. 30\n",
       "25. 43\n",
       "26. 15\n",
       "27. 22\n",
       "28. 80\n",
       "29. 8\n",
       "30. 84\n",
       "31. 68\n",
       "32. 96\n",
       "33. 4\n",
       "34. 50\n",
       "35. 95\n",
       "36. 88\n",
       "37. 67\n",
       "38. 6\n",
       "39. 63\n",
       "40. 2\n",
       "41. 52\n",
       "42. 81\n",
       "43. 54\n",
       "44. 21\n",
       "45. 61\n",
       "46. 55\n",
       "47. 38\n",
       "48. 10\n",
       "49. 40\n",
       "50. 83\n",
       "\n",
       "\n"
      ],
      "text/plain": [
       " [1]  49  65  25  74  18 100  47  24  71  89  37  20  26   3  41  27  36   5  34\n",
       "[20]  87  58  42  93  30  43  15  22  80   8  84  68  96   4  50  95  88  67   6\n",
       "[39]  63   2  52  81  54  21  61  55  38  10  40  83"
      ]
     },
     "metadata": {},
     "output_type": "display_data"
    }
   ],
   "source": [
    "set.seed(42)\n",
    "# Neighbours with greatest diff\n",
    "\n",
    "x <- sample(1:100, 50)\n",
    "x"
   ]
  },
  {
   "cell_type": "code",
   "execution_count": 112,
   "id": "9bf8a0eb",
   "metadata": {},
   "outputs": [
    {
     "data": {
      "text/html": [
       "<ol class=list-inline>\n",
       "\t<li>65</li>\n",
       "\t<li>25</li>\n",
       "\t<li>74</li>\n",
       "\t<li>18</li>\n",
       "\t<li>100</li>\n",
       "\t<li>47</li>\n",
       "\t<li>24</li>\n",
       "\t<li>71</li>\n",
       "\t<li>89</li>\n",
       "\t<li>37</li>\n",
       "\t<li>20</li>\n",
       "\t<li>26</li>\n",
       "\t<li>3</li>\n",
       "\t<li>41</li>\n",
       "\t<li>27</li>\n",
       "\t<li>36</li>\n",
       "\t<li>5</li>\n",
       "\t<li>34</li>\n",
       "\t<li>87</li>\n",
       "\t<li>58</li>\n",
       "\t<li>42</li>\n",
       "\t<li>93</li>\n",
       "\t<li>30</li>\n",
       "\t<li>43</li>\n",
       "\t<li>15</li>\n",
       "\t<li>22</li>\n",
       "\t<li>80</li>\n",
       "\t<li>8</li>\n",
       "\t<li>84</li>\n",
       "\t<li>68</li>\n",
       "\t<li>96</li>\n",
       "\t<li>4</li>\n",
       "\t<li>50</li>\n",
       "\t<li>95</li>\n",
       "\t<li>88</li>\n",
       "\t<li>67</li>\n",
       "\t<li>6</li>\n",
       "\t<li>63</li>\n",
       "\t<li>2</li>\n",
       "\t<li>52</li>\n",
       "\t<li>81</li>\n",
       "\t<li>54</li>\n",
       "\t<li>21</li>\n",
       "\t<li>61</li>\n",
       "\t<li>55</li>\n",
       "\t<li>38</li>\n",
       "\t<li>10</li>\n",
       "\t<li>40</li>\n",
       "\t<li>83</li>\n",
       "</ol>\n"
      ],
      "text/latex": [
       "\\begin{enumerate*}\n",
       "\\item 65\n",
       "\\item 25\n",
       "\\item 74\n",
       "\\item 18\n",
       "\\item 100\n",
       "\\item 47\n",
       "\\item 24\n",
       "\\item 71\n",
       "\\item 89\n",
       "\\item 37\n",
       "\\item 20\n",
       "\\item 26\n",
       "\\item 3\n",
       "\\item 41\n",
       "\\item 27\n",
       "\\item 36\n",
       "\\item 5\n",
       "\\item 34\n",
       "\\item 87\n",
       "\\item 58\n",
       "\\item 42\n",
       "\\item 93\n",
       "\\item 30\n",
       "\\item 43\n",
       "\\item 15\n",
       "\\item 22\n",
       "\\item 80\n",
       "\\item 8\n",
       "\\item 84\n",
       "\\item 68\n",
       "\\item 96\n",
       "\\item 4\n",
       "\\item 50\n",
       "\\item 95\n",
       "\\item 88\n",
       "\\item 67\n",
       "\\item 6\n",
       "\\item 63\n",
       "\\item 2\n",
       "\\item 52\n",
       "\\item 81\n",
       "\\item 54\n",
       "\\item 21\n",
       "\\item 61\n",
       "\\item 55\n",
       "\\item 38\n",
       "\\item 10\n",
       "\\item 40\n",
       "\\item 83\n",
       "\\end{enumerate*}\n"
      ],
      "text/markdown": [
       "1. 65\n",
       "2. 25\n",
       "3. 74\n",
       "4. 18\n",
       "5. 100\n",
       "6. 47\n",
       "7. 24\n",
       "8. 71\n",
       "9. 89\n",
       "10. 37\n",
       "11. 20\n",
       "12. 26\n",
       "13. 3\n",
       "14. 41\n",
       "15. 27\n",
       "16. 36\n",
       "17. 5\n",
       "18. 34\n",
       "19. 87\n",
       "20. 58\n",
       "21. 42\n",
       "22. 93\n",
       "23. 30\n",
       "24. 43\n",
       "25. 15\n",
       "26. 22\n",
       "27. 80\n",
       "28. 8\n",
       "29. 84\n",
       "30. 68\n",
       "31. 96\n",
       "32. 4\n",
       "33. 50\n",
       "34. 95\n",
       "35. 88\n",
       "36. 67\n",
       "37. 6\n",
       "38. 63\n",
       "39. 2\n",
       "40. 52\n",
       "41. 81\n",
       "42. 54\n",
       "43. 21\n",
       "44. 61\n",
       "45. 55\n",
       "46. 38\n",
       "47. 10\n",
       "48. 40\n",
       "49. 83\n",
       "\n",
       "\n"
      ],
      "text/plain": [
       " [1]  65  25  74  18 100  47  24  71  89  37  20  26   3  41  27  36   5  34  87\n",
       "[20]  58  42  93  30  43  15  22  80   8  84  68  96   4  50  95  88  67   6  63\n",
       "[39]   2  52  81  54  21  61  55  38  10  40  83"
      ]
     },
     "metadata": {},
     "output_type": "display_data"
    },
    {
     "data": {
      "text/html": [
       "<ol class=list-inline>\n",
       "\t<li>49</li>\n",
       "\t<li>65</li>\n",
       "\t<li>25</li>\n",
       "\t<li>74</li>\n",
       "\t<li>18</li>\n",
       "\t<li>100</li>\n",
       "\t<li>47</li>\n",
       "\t<li>24</li>\n",
       "\t<li>71</li>\n",
       "\t<li>89</li>\n",
       "\t<li>37</li>\n",
       "\t<li>20</li>\n",
       "\t<li>26</li>\n",
       "\t<li>3</li>\n",
       "\t<li>41</li>\n",
       "\t<li>27</li>\n",
       "\t<li>36</li>\n",
       "\t<li>5</li>\n",
       "\t<li>34</li>\n",
       "\t<li>87</li>\n",
       "\t<li>58</li>\n",
       "\t<li>42</li>\n",
       "\t<li>93</li>\n",
       "\t<li>30</li>\n",
       "\t<li>43</li>\n",
       "\t<li>15</li>\n",
       "\t<li>22</li>\n",
       "\t<li>80</li>\n",
       "\t<li>8</li>\n",
       "\t<li>84</li>\n",
       "\t<li>68</li>\n",
       "\t<li>96</li>\n",
       "\t<li>4</li>\n",
       "\t<li>50</li>\n",
       "\t<li>95</li>\n",
       "\t<li>88</li>\n",
       "\t<li>67</li>\n",
       "\t<li>6</li>\n",
       "\t<li>63</li>\n",
       "\t<li>2</li>\n",
       "\t<li>52</li>\n",
       "\t<li>81</li>\n",
       "\t<li>54</li>\n",
       "\t<li>21</li>\n",
       "\t<li>61</li>\n",
       "\t<li>55</li>\n",
       "\t<li>38</li>\n",
       "\t<li>10</li>\n",
       "\t<li>40</li>\n",
       "</ol>\n"
      ],
      "text/latex": [
       "\\begin{enumerate*}\n",
       "\\item 49\n",
       "\\item 65\n",
       "\\item 25\n",
       "\\item 74\n",
       "\\item 18\n",
       "\\item 100\n",
       "\\item 47\n",
       "\\item 24\n",
       "\\item 71\n",
       "\\item 89\n",
       "\\item 37\n",
       "\\item 20\n",
       "\\item 26\n",
       "\\item 3\n",
       "\\item 41\n",
       "\\item 27\n",
       "\\item 36\n",
       "\\item 5\n",
       "\\item 34\n",
       "\\item 87\n",
       "\\item 58\n",
       "\\item 42\n",
       "\\item 93\n",
       "\\item 30\n",
       "\\item 43\n",
       "\\item 15\n",
       "\\item 22\n",
       "\\item 80\n",
       "\\item 8\n",
       "\\item 84\n",
       "\\item 68\n",
       "\\item 96\n",
       "\\item 4\n",
       "\\item 50\n",
       "\\item 95\n",
       "\\item 88\n",
       "\\item 67\n",
       "\\item 6\n",
       "\\item 63\n",
       "\\item 2\n",
       "\\item 52\n",
       "\\item 81\n",
       "\\item 54\n",
       "\\item 21\n",
       "\\item 61\n",
       "\\item 55\n",
       "\\item 38\n",
       "\\item 10\n",
       "\\item 40\n",
       "\\end{enumerate*}\n"
      ],
      "text/markdown": [
       "1. 49\n",
       "2. 65\n",
       "3. 25\n",
       "4. 74\n",
       "5. 18\n",
       "6. 100\n",
       "7. 47\n",
       "8. 24\n",
       "9. 71\n",
       "10. 89\n",
       "11. 37\n",
       "12. 20\n",
       "13. 26\n",
       "14. 3\n",
       "15. 41\n",
       "16. 27\n",
       "17. 36\n",
       "18. 5\n",
       "19. 34\n",
       "20. 87\n",
       "21. 58\n",
       "22. 42\n",
       "23. 93\n",
       "24. 30\n",
       "25. 43\n",
       "26. 15\n",
       "27. 22\n",
       "28. 80\n",
       "29. 8\n",
       "30. 84\n",
       "31. 68\n",
       "32. 96\n",
       "33. 4\n",
       "34. 50\n",
       "35. 95\n",
       "36. 88\n",
       "37. 67\n",
       "38. 6\n",
       "39. 63\n",
       "40. 2\n",
       "41. 52\n",
       "42. 81\n",
       "43. 54\n",
       "44. 21\n",
       "45. 61\n",
       "46. 55\n",
       "47. 38\n",
       "48. 10\n",
       "49. 40\n",
       "\n",
       "\n"
      ],
      "text/plain": [
       " [1]  49  65  25  74  18 100  47  24  71  89  37  20  26   3  41  27  36   5  34\n",
       "[20]  87  58  42  93  30  43  15  22  80   8  84  68  96   4  50  95  88  67   6\n",
       "[39]  63   2  52  81  54  21  61  55  38  10  40"
      ]
     },
     "metadata": {},
     "output_type": "display_data"
    },
    {
     "data": {
      "text/html": [
       "<ol class=list-inline>\n",
       "\t<li>16</li>\n",
       "\t<li>-40</li>\n",
       "\t<li>49</li>\n",
       "\t<li>-56</li>\n",
       "\t<li>82</li>\n",
       "\t<li>-53</li>\n",
       "\t<li>-23</li>\n",
       "\t<li>47</li>\n",
       "\t<li>18</li>\n",
       "\t<li>-52</li>\n",
       "\t<li>-17</li>\n",
       "\t<li>6</li>\n",
       "\t<li>-23</li>\n",
       "\t<li>38</li>\n",
       "\t<li>-14</li>\n",
       "\t<li>9</li>\n",
       "\t<li>-31</li>\n",
       "\t<li>29</li>\n",
       "\t<li>53</li>\n",
       "\t<li>-29</li>\n",
       "\t<li>-16</li>\n",
       "\t<li>51</li>\n",
       "\t<li>-63</li>\n",
       "\t<li>13</li>\n",
       "\t<li>-28</li>\n",
       "\t<li>7</li>\n",
       "\t<li>58</li>\n",
       "\t<li>-72</li>\n",
       "\t<li>76</li>\n",
       "\t<li>-16</li>\n",
       "\t<li>28</li>\n",
       "\t<li>-92</li>\n",
       "\t<li>46</li>\n",
       "\t<li>45</li>\n",
       "\t<li>-7</li>\n",
       "\t<li>-21</li>\n",
       "\t<li>-61</li>\n",
       "\t<li>57</li>\n",
       "\t<li>-61</li>\n",
       "\t<li>50</li>\n",
       "\t<li>29</li>\n",
       "\t<li>-27</li>\n",
       "\t<li>-33</li>\n",
       "\t<li>40</li>\n",
       "\t<li>-6</li>\n",
       "\t<li>-17</li>\n",
       "\t<li>-28</li>\n",
       "\t<li>30</li>\n",
       "\t<li>43</li>\n",
       "</ol>\n"
      ],
      "text/latex": [
       "\\begin{enumerate*}\n",
       "\\item 16\n",
       "\\item -40\n",
       "\\item 49\n",
       "\\item -56\n",
       "\\item 82\n",
       "\\item -53\n",
       "\\item -23\n",
       "\\item 47\n",
       "\\item 18\n",
       "\\item -52\n",
       "\\item -17\n",
       "\\item 6\n",
       "\\item -23\n",
       "\\item 38\n",
       "\\item -14\n",
       "\\item 9\n",
       "\\item -31\n",
       "\\item 29\n",
       "\\item 53\n",
       "\\item -29\n",
       "\\item -16\n",
       "\\item 51\n",
       "\\item -63\n",
       "\\item 13\n",
       "\\item -28\n",
       "\\item 7\n",
       "\\item 58\n",
       "\\item -72\n",
       "\\item 76\n",
       "\\item -16\n",
       "\\item 28\n",
       "\\item -92\n",
       "\\item 46\n",
       "\\item 45\n",
       "\\item -7\n",
       "\\item -21\n",
       "\\item -61\n",
       "\\item 57\n",
       "\\item -61\n",
       "\\item 50\n",
       "\\item 29\n",
       "\\item -27\n",
       "\\item -33\n",
       "\\item 40\n",
       "\\item -6\n",
       "\\item -17\n",
       "\\item -28\n",
       "\\item 30\n",
       "\\item 43\n",
       "\\end{enumerate*}\n"
      ],
      "text/markdown": [
       "1. 16\n",
       "2. -40\n",
       "3. 49\n",
       "4. -56\n",
       "5. 82\n",
       "6. -53\n",
       "7. -23\n",
       "8. 47\n",
       "9. 18\n",
       "10. -52\n",
       "11. -17\n",
       "12. 6\n",
       "13. -23\n",
       "14. 38\n",
       "15. -14\n",
       "16. 9\n",
       "17. -31\n",
       "18. 29\n",
       "19. 53\n",
       "20. -29\n",
       "21. -16\n",
       "22. 51\n",
       "23. -63\n",
       "24. 13\n",
       "25. -28\n",
       "26. 7\n",
       "27. 58\n",
       "28. -72\n",
       "29. 76\n",
       "30. -16\n",
       "31. 28\n",
       "32. -92\n",
       "33. 46\n",
       "34. 45\n",
       "35. -7\n",
       "36. -21\n",
       "37. -61\n",
       "38. 57\n",
       "39. -61\n",
       "40. 50\n",
       "41. 29\n",
       "42. -27\n",
       "43. -33\n",
       "44. 40\n",
       "45. -6\n",
       "46. -17\n",
       "47. -28\n",
       "48. 30\n",
       "49. 43\n",
       "\n",
       "\n"
      ],
      "text/plain": [
       " [1]  16 -40  49 -56  82 -53 -23  47  18 -52 -17   6 -23  38 -14   9 -31  29  53\n",
       "[20] -29 -16  51 -63  13 -28   7  58 -72  76 -16  28 -92  46  45  -7 -21 -61  57\n",
       "[39] -61  50  29 -27 -33  40  -6 -17 -28  30  43"
      ]
     },
     "metadata": {},
     "output_type": "display_data"
    }
   ],
   "source": [
    "x[-1]\n",
    "x[-length(x)]\n",
    "x[-1] - x[-length(x)]"
   ]
  },
  {
   "cell_type": "code",
   "execution_count": 118,
   "id": "6f38b6d2",
   "metadata": {},
   "outputs": [
    {
     "data": {
      "text/html": [
       "32"
      ],
      "text/latex": [
       "32"
      ],
      "text/markdown": [
       "32"
      ],
      "text/plain": [
       "[1] 32"
      ]
     },
     "metadata": {},
     "output_type": "display_data"
    },
    {
     "data": {
      "text/html": [
       "<ol class=list-inline>\n",
       "\t<li>96</li>\n",
       "\t<li>4</li>\n",
       "</ol>\n"
      ],
      "text/latex": [
       "\\begin{enumerate*}\n",
       "\\item 96\n",
       "\\item 4\n",
       "\\end{enumerate*}\n"
      ],
      "text/markdown": [
       "1. 96\n",
       "2. 4\n",
       "\n",
       "\n"
      ],
      "text/plain": [
       "[1] 96  4"
      ]
     },
     "metadata": {},
     "output_type": "display_data"
    }
   ],
   "source": [
    "k <- which.max(abs(x[-1] - x[-length(x)]))\n",
    "k\n",
    "max_neighs <- x[c(k, k+1)]\n",
    "max_neighs"
   ]
  },
  {
   "cell_type": "code",
   "execution_count": 120,
   "id": "5ad087ff",
   "metadata": {},
   "outputs": [
    {
     "data": {
      "text/html": [
       "<ol class=list-inline>\n",
       "\t<li>55</li>\n",
       "\t<li>16</li>\n",
       "\t<li>90</li>\n",
       "\t<li>43</li>\n",
       "\t<li>42</li>\n",
       "\t<li>42</li>\n",
       "\t<li>97</li>\n",
       "\t<li>57</li>\n",
       "\t<li>29</li>\n",
       "\t<li>25</li>\n",
       "\t<li>63</li>\n",
       "\t<li>32</li>\n",
       "\t<li>81</li>\n",
       "\t<li>14</li>\n",
       "\t<li>6</li>\n",
       "\t<li>47</li>\n",
       "\t<li>43</li>\n",
       "\t<li>62</li>\n",
       "\t<li>37</li>\n",
       "\t<li>80</li>\n",
       "\t<li>31</li>\n",
       "\t<li>34</li>\n",
       "\t<li>94</li>\n",
       "\t<li>96</li>\n",
       "\t<li>6</li>\n",
       "\t<li>86</li>\n",
       "\t<li>38</li>\n",
       "\t<li>95</li>\n",
       "\t<li>6</li>\n",
       "\t<li>84</li>\n",
       "\t<li>15</li>\n",
       "\t<li>34</li>\n",
       "\t<li>42</li>\n",
       "\t<li>87</li>\n",
       "\t<li>60</li>\n",
       "\t<li>12</li>\n",
       "\t<li>26</li>\n",
       "\t<li>41</li>\n",
       "\t<li>65</li>\n",
       "\t<li>66</li>\n",
       "\t<li>56</li>\n",
       "\t<li>24</li>\n",
       "\t<li>98</li>\n",
       "\t<li>25</li>\n",
       "\t<li>92</li>\n",
       "\t<li>61</li>\n",
       "\t<li>62</li>\n",
       "\t<li>14</li>\n",
       "\t<li>34</li>\n",
       "\t<li>66</li>\n",
       "</ol>\n"
      ],
      "text/latex": [
       "\\begin{enumerate*}\n",
       "\\item 55\n",
       "\\item 16\n",
       "\\item 90\n",
       "\\item 43\n",
       "\\item 42\n",
       "\\item 42\n",
       "\\item 97\n",
       "\\item 57\n",
       "\\item 29\n",
       "\\item 25\n",
       "\\item 63\n",
       "\\item 32\n",
       "\\item 81\n",
       "\\item 14\n",
       "\\item 6\n",
       "\\item 47\n",
       "\\item 43\n",
       "\\item 62\n",
       "\\item 37\n",
       "\\item 80\n",
       "\\item 31\n",
       "\\item 34\n",
       "\\item 94\n",
       "\\item 96\n",
       "\\item 6\n",
       "\\item 86\n",
       "\\item 38\n",
       "\\item 95\n",
       "\\item 6\n",
       "\\item 84\n",
       "\\item 15\n",
       "\\item 34\n",
       "\\item 42\n",
       "\\item 87\n",
       "\\item 60\n",
       "\\item 12\n",
       "\\item 26\n",
       "\\item 41\n",
       "\\item 65\n",
       "\\item 66\n",
       "\\item 56\n",
       "\\item 24\n",
       "\\item 98\n",
       "\\item 25\n",
       "\\item 92\n",
       "\\item 61\n",
       "\\item 62\n",
       "\\item 14\n",
       "\\item 34\n",
       "\\item 66\n",
       "\\end{enumerate*}\n"
      ],
      "text/markdown": [
       "1. 55\n",
       "2. 16\n",
       "3. 90\n",
       "4. 43\n",
       "5. 42\n",
       "6. 42\n",
       "7. 97\n",
       "8. 57\n",
       "9. 29\n",
       "10. 25\n",
       "11. 63\n",
       "12. 32\n",
       "13. 81\n",
       "14. 14\n",
       "15. 6\n",
       "16. 47\n",
       "17. 43\n",
       "18. 62\n",
       "19. 37\n",
       "20. 80\n",
       "21. 31\n",
       "22. 34\n",
       "23. 94\n",
       "24. 96\n",
       "25. 6\n",
       "26. 86\n",
       "27. 38\n",
       "28. 95\n",
       "29. 6\n",
       "30. 84\n",
       "31. 15\n",
       "32. 34\n",
       "33. 42\n",
       "34. 87\n",
       "35. 60\n",
       "36. 12\n",
       "37. 26\n",
       "38. 41\n",
       "39. 65\n",
       "40. 66\n",
       "41. 56\n",
       "42. 24\n",
       "43. 98\n",
       "44. 25\n",
       "45. 92\n",
       "46. 61\n",
       "47. 62\n",
       "48. 14\n",
       "49. 34\n",
       "50. 66\n",
       "\n",
       "\n"
      ],
      "text/plain": [
       " [1] 55 16 90 43 42 42 97 57 29 25 63 32 81 14  6 47 43 62 37 80 31 34 94 96  6\n",
       "[26] 86 38 95  6 84 15 34 42 87 60 12 26 41 65 66 56 24 98 25 92 61 62 14 34 66"
      ]
     },
     "metadata": {},
     "output_type": "display_data"
    }
   ],
   "source": [
    "#Multiply min/max\n",
    "\n",
    "x <- sample(1:100, 50, replace= T)\n",
    "x"
   ]
  },
  {
   "cell_type": "code",
   "execution_count": 125,
   "id": "8570b2c5",
   "metadata": {},
   "outputs": [
    {
     "data": {
      "text/html": [
       "6"
      ],
      "text/latex": [
       "6"
      ],
      "text/markdown": [
       "6"
      ],
      "text/plain": [
       "[1] 6"
      ]
     },
     "metadata": {},
     "output_type": "display_data"
    },
    {
     "data": {
      "text/html": [
       "15"
      ],
      "text/latex": [
       "15"
      ],
      "text/markdown": [
       "15"
      ],
      "text/plain": [
       "[1] 15"
      ]
     },
     "metadata": {},
     "output_type": "display_data"
    },
    {
     "data": {
      "text/html": [
       "<ol class=list-inline>\n",
       "\t<li>15</li>\n",
       "\t<li>25</li>\n",
       "\t<li>29</li>\n",
       "</ol>\n"
      ],
      "text/latex": [
       "\\begin{enumerate*}\n",
       "\\item 15\n",
       "\\item 25\n",
       "\\item 29\n",
       "\\end{enumerate*}\n"
      ],
      "text/markdown": [
       "1. 15\n",
       "2. 25\n",
       "3. 29\n",
       "\n",
       "\n"
      ],
      "text/plain": [
       "[1] 15 25 29"
      ]
     },
     "metadata": {},
     "output_type": "display_data"
    }
   ],
   "source": [
    "min(x)\n",
    "which.min(x)\n",
    "which(x == min(x)) #all indexes with min value"
   ]
  },
  {
   "cell_type": "code",
   "execution_count": 126,
   "id": "6ac151e0",
   "metadata": {},
   "outputs": [
    {
     "data": {
      "text/html": [
       "<ol class=list-inline>\n",
       "\t<li>0</li>\n",
       "\t<li>3</li>\n",
       "\t<li>1</li>\n",
       "\t<li>0</li>\n",
       "\t<li>4</li>\n",
       "</ol>\n"
      ],
      "text/latex": [
       "\\begin{enumerate*}\n",
       "\\item 0\n",
       "\\item 3\n",
       "\\item 1\n",
       "\\item 0\n",
       "\\item 4\n",
       "\\end{enumerate*}\n"
      ],
      "text/markdown": [
       "1. 0\n",
       "2. 3\n",
       "3. 1\n",
       "4. 0\n",
       "5. 4\n",
       "\n",
       "\n"
      ],
      "text/plain": [
       "[1] 0 3 1 0 4"
      ]
     },
     "metadata": {},
     "output_type": "display_data"
    }
   ],
   "source": [
    "x=c(0, 0, 3, 4, 4, 8)\n",
    "\n",
    "x[-1] - x[-length(x)]"
   ]
  },
  {
   "cell_type": "code",
   "execution_count": 127,
   "id": "cd9c0f10",
   "metadata": {},
   "outputs": [],
   "source": [
    "is_monotone <- function(x) {\n",
    " diff <- x[-1] - x[-length(x)]\n",
    " if (all(diff >= 0) | all(diff<= 0)) {\n",
    "     return (T) } else return (F)    \n",
    "}\n"
   ]
  },
  {
   "cell_type": "code",
   "execution_count": 130,
   "id": "85040042",
   "metadata": {},
   "outputs": [
    {
     "data": {
      "text/html": [
       "TRUE"
      ],
      "text/latex": [
       "TRUE"
      ],
      "text/markdown": [
       "TRUE"
      ],
      "text/plain": [
       "[1] TRUE"
      ]
     },
     "metadata": {},
     "output_type": "display_data"
    }
   ],
   "source": [
    "is_monotone(v)"
   ]
  },
  {
   "cell_type": "code",
   "execution_count": 129,
   "id": "48653be9",
   "metadata": {},
   "outputs": [
    {
     "data": {
      "text/html": [
       "<ol class=list-inline>\n",
       "\t<li>0</li>\n",
       "\t<li>0</li>\n",
       "\t<li>0</li>\n",
       "\t<li>0</li>\n",
       "\t<li>0</li>\n",
       "\t<li>0</li>\n",
       "\t<li>0</li>\n",
       "\t<li>0</li>\n",
       "\t<li>0</li>\n",
       "\t<li>0</li>\n",
       "</ol>\n"
      ],
      "text/latex": [
       "\\begin{enumerate*}\n",
       "\\item 0\n",
       "\\item 0\n",
       "\\item 0\n",
       "\\item 0\n",
       "\\item 0\n",
       "\\item 0\n",
       "\\item 0\n",
       "\\item 0\n",
       "\\item 0\n",
       "\\item 0\n",
       "\\end{enumerate*}\n"
      ],
      "text/markdown": [
       "1. 0\n",
       "2. 0\n",
       "3. 0\n",
       "4. 0\n",
       "5. 0\n",
       "6. 0\n",
       "7. 0\n",
       "8. 0\n",
       "9. 0\n",
       "10. 0\n",
       "\n",
       "\n"
      ],
      "text/plain": [
       " [1] 0 0 0 0 0 0 0 0 0 0"
      ]
     },
     "metadata": {},
     "output_type": "display_data"
    }
   ],
   "source": [
    "v <-  rep(0, 10)\n",
    "v"
   ]
  },
  {
   "cell_type": "code",
   "execution_count": 131,
   "id": "6bc0312a",
   "metadata": {},
   "outputs": [
    {
     "data": {
      "text/html": [
       "120"
      ],
      "text/latex": [
       "120"
      ],
      "text/markdown": [
       "120"
      ],
      "text/plain": [
       "[1] 120"
      ]
     },
     "metadata": {},
     "output_type": "display_data"
    }
   ],
   "source": [
    "factorial(5)"
   ]
  },
  {
   "cell_type": "markdown",
   "id": "f385ecd5",
   "metadata": {},
   "source": [
    "# Matrix"
   ]
  },
  {
   "cell_type": "code",
   "execution_count": 132,
   "id": "94b90c83",
   "metadata": {},
   "outputs": [
    {
     "data": {
      "text/html": [
       "<table>\n",
       "<tbody>\n",
       "\t<tr><td>1</td><td>3</td><td>5</td></tr>\n",
       "\t<tr><td>2</td><td>4</td><td>6</td></tr>\n",
       "</tbody>\n",
       "</table>\n"
      ],
      "text/latex": [
       "\\begin{tabular}{lll}\n",
       "\t 1 & 3 & 5\\\\\n",
       "\t 2 & 4 & 6\\\\\n",
       "\\end{tabular}\n"
      ],
      "text/markdown": [
       "\n",
       "| 1 | 3 | 5 |\n",
       "| 2 | 4 | 6 |\n",
       "\n"
      ],
      "text/plain": [
       "     [,1] [,2] [,3]\n",
       "[1,] 1    3    5   \n",
       "[2,] 2    4    6   "
      ]
     },
     "metadata": {},
     "output_type": "display_data"
    }
   ],
   "source": [
    "matrix(1:6, nrow=2, ncol=3)"
   ]
  },
  {
   "cell_type": "code",
   "execution_count": 133,
   "id": "c994401a",
   "metadata": {},
   "outputs": [
    {
     "data": {
      "text/html": [
       "<table>\n",
       "<tbody>\n",
       "\t<tr><td>1</td><td>2</td><td>3</td></tr>\n",
       "\t<tr><td>4</td><td>5</td><td>6</td></tr>\n",
       "</tbody>\n",
       "</table>\n"
      ],
      "text/latex": [
       "\\begin{tabular}{lll}\n",
       "\t 1 & 2 & 3\\\\\n",
       "\t 4 & 5 & 6\\\\\n",
       "\\end{tabular}\n"
      ],
      "text/markdown": [
       "\n",
       "| 1 | 2 | 3 |\n",
       "| 4 | 5 | 6 |\n",
       "\n"
      ],
      "text/plain": [
       "     [,1] [,2] [,3]\n",
       "[1,] 1    2    3   \n",
       "[2,] 4    5    6   "
      ]
     },
     "metadata": {},
     "output_type": "display_data"
    }
   ],
   "source": [
    "matrix(1:6, nrow=2, ncol=3, byrow=T)"
   ]
  },
  {
   "cell_type": "code",
   "execution_count": 136,
   "id": "3e4c66e0",
   "metadata": {},
   "outputs": [
    {
     "data": {
      "text/html": [
       "<ol class=list-inline>\n",
       "\t<li>2</li>\n",
       "\t<li>3</li>\n",
       "</ol>\n"
      ],
      "text/latex": [
       "\\begin{enumerate*}\n",
       "\\item 2\n",
       "\\item 3\n",
       "\\end{enumerate*}\n"
      ],
      "text/markdown": [
       "1. 2\n",
       "2. 3\n",
       "\n",
       "\n"
      ],
      "text/plain": [
       "[1] 2 3"
      ]
     },
     "metadata": {},
     "output_type": "display_data"
    },
    {
     "data": {
      "text/html": [
       "<ol class=list-inline>\n",
       "\t<li>2</li>\n",
       "\t<li>3</li>\n",
       "</ol>\n"
      ],
      "text/latex": [
       "\\begin{enumerate*}\n",
       "\\item 2\n",
       "\\item 3\n",
       "\\end{enumerate*}\n"
      ],
      "text/markdown": [
       "1. 2\n",
       "2. 3\n",
       "\n",
       "\n"
      ],
      "text/plain": [
       "[1] 2 3"
      ]
     },
     "metadata": {},
     "output_type": "display_data"
    }
   ],
   "source": [
    "m <- matrix(1:6, nrow=2, ncol=3, byrow=T)\n",
    "dim(m) #sizes of our matrix\n",
    "c(nrow(m), ncol(m))"
   ]
  },
  {
   "cell_type": "code",
   "execution_count": 138,
   "id": "c9665125",
   "metadata": {},
   "outputs": [
    {
     "data": {
      "text/html": [
       "<table>\n",
       "<tbody>\n",
       "\t<tr><td>1 </td><td> 9</td><td>25</td></tr>\n",
       "\t<tr><td>4 </td><td>16</td><td>36</td></tr>\n",
       "</tbody>\n",
       "</table>\n"
      ],
      "text/latex": [
       "\\begin{tabular}{lll}\n",
       "\t 1  &  9 & 25\\\\\n",
       "\t 4  & 16 & 36\\\\\n",
       "\\end{tabular}\n"
      ],
      "text/markdown": [
       "\n",
       "| 1  |  9 | 25 |\n",
       "| 4  | 16 | 36 |\n",
       "\n"
      ],
      "text/plain": [
       "     [,1] [,2] [,3]\n",
       "[1,] 1     9   25  \n",
       "[2,] 4    16   36  "
      ]
     },
     "metadata": {},
     "output_type": "display_data"
    },
    {
     "data": {
      "text/html": [
       "<table>\n",
       "<tbody>\n",
       "\t<tr><td>22</td><td>49</td></tr>\n",
       "\t<tr><td>28</td><td>64</td></tr>\n",
       "</tbody>\n",
       "</table>\n"
      ],
      "text/latex": [
       "\\begin{tabular}{ll}\n",
       "\t 22 & 49\\\\\n",
       "\t 28 & 64\\\\\n",
       "\\end{tabular}\n"
      ],
      "text/markdown": [
       "\n",
       "| 22 | 49 |\n",
       "| 28 | 64 |\n",
       "\n"
      ],
      "text/plain": [
       "     [,1] [,2]\n",
       "[1,] 22   49  \n",
       "[2,] 28   64  "
      ]
     },
     "metadata": {},
     "output_type": "display_data"
    }
   ],
   "source": [
    "m1 <- matrix(1:6, nrow=2)\n",
    "m2 <- matrix(1:6, nrow=2)\n",
    "m3 <- matrix(1:6, ncol=2)\n",
    "#Matrix mulpiplication\n",
    "\n",
    "#simple multiplication \n",
    "m1*m2\n",
    "\n",
    "#matrix multiplication\n",
    "m1 %*% m3\n"
   ]
  },
  {
   "cell_type": "markdown",
   "id": "b229222d",
   "metadata": {},
   "source": [
    "## Indexing of Matrix"
   ]
  },
  {
   "cell_type": "code",
   "execution_count": 140,
   "id": "2da60577",
   "metadata": {},
   "outputs": [
    {
     "data": {
      "text/html": [
       "<table>\n",
       "<tbody>\n",
       "\t<tr><td>1 </td><td>3 </td><td>5 </td><td>7 </td><td> 9</td></tr>\n",
       "\t<tr><td>2 </td><td>4 </td><td>6 </td><td>8 </td><td>10</td></tr>\n",
       "</tbody>\n",
       "</table>\n"
      ],
      "text/latex": [
       "\\begin{tabular}{lllll}\n",
       "\t 1  & 3  & 5  & 7  &  9\\\\\n",
       "\t 2  & 4  & 6  & 8  & 10\\\\\n",
       "\\end{tabular}\n"
      ],
      "text/markdown": [
       "\n",
       "| 1  | 3  | 5  | 7  |  9 |\n",
       "| 2  | 4  | 6  | 8  | 10 |\n",
       "\n"
      ],
      "text/plain": [
       "     [,1] [,2] [,3] [,4] [,5]\n",
       "[1,] 1    3    5    7     9  \n",
       "[2,] 2    4    6    8    10  "
      ]
     },
     "metadata": {},
     "output_type": "display_data"
    },
    {
     "data": {
      "text/html": [
       "5"
      ],
      "text/latex": [
       "5"
      ],
      "text/markdown": [
       "5"
      ],
      "text/plain": [
       "[1] 5"
      ]
     },
     "metadata": {},
     "output_type": "display_data"
    },
    {
     "data": {
      "text/html": [
       "<ol class=list-inline>\n",
       "\t<li>2</li>\n",
       "\t<li>4</li>\n",
       "\t<li>6</li>\n",
       "\t<li>8</li>\n",
       "\t<li>10</li>\n",
       "</ol>\n"
      ],
      "text/latex": [
       "\\begin{enumerate*}\n",
       "\\item 2\n",
       "\\item 4\n",
       "\\item 6\n",
       "\\item 8\n",
       "\\item 10\n",
       "\\end{enumerate*}\n"
      ],
      "text/markdown": [
       "1. 2\n",
       "2. 4\n",
       "3. 6\n",
       "4. 8\n",
       "5. 10\n",
       "\n",
       "\n"
      ],
      "text/plain": [
       "[1]  2  4  6  8 10"
      ]
     },
     "metadata": {},
     "output_type": "display_data"
    },
    {
     "data": {
      "text/html": [
       "<ol class=list-inline>\n",
       "\t<li>7</li>\n",
       "\t<li>8</li>\n",
       "</ol>\n"
      ],
      "text/latex": [
       "\\begin{enumerate*}\n",
       "\\item 7\n",
       "\\item 8\n",
       "\\end{enumerate*}\n"
      ],
      "text/markdown": [
       "1. 7\n",
       "2. 8\n",
       "\n",
       "\n"
      ],
      "text/plain": [
       "[1] 7 8"
      ]
     },
     "metadata": {},
     "output_type": "display_data"
    }
   ],
   "source": [
    "m <- matrix(1:10, ncol=5)\n",
    "m\n",
    "m[1,3]\n",
    "m[2,]\n",
    "m[,4]"
   ]
  },
  {
   "cell_type": "code",
   "execution_count": 141,
   "id": "3e7314eb",
   "metadata": {},
   "outputs": [
    {
     "data": {
      "text/html": [
       "<ol class=list-inline>\n",
       "\t<li>5</li>\n",
       "\t<li>6</li>\n",
       "</ol>\n"
      ],
      "text/latex": [
       "\\begin{enumerate*}\n",
       "\\item 5\n",
       "\\item 6\n",
       "\\end{enumerate*}\n"
      ],
      "text/markdown": [
       "1. 5\n",
       "2. 6\n",
       "\n",
       "\n"
      ],
      "text/plain": [
       "[1] 5 6"
      ]
     },
     "metadata": {},
     "output_type": "display_data"
    },
    {
     "data": {
      "text/html": [
       "<table>\n",
       "<tbody>\n",
       "\t<tr><td>5</td></tr>\n",
       "\t<tr><td>6</td></tr>\n",
       "</tbody>\n",
       "</table>\n"
      ],
      "text/latex": [
       "\\begin{tabular}{l}\n",
       "\t 5\\\\\n",
       "\t 6\\\\\n",
       "\\end{tabular}\n"
      ],
      "text/markdown": [
       "\n",
       "| 5 |\n",
       "| 6 |\n",
       "\n"
      ],
      "text/plain": [
       "     [,1]\n",
       "[1,] 5   \n",
       "[2,] 6   "
      ]
     },
     "metadata": {},
     "output_type": "display_data"
    }
   ],
   "source": [
    "ind <- 3\n",
    "m[, ind] #returns vector\n",
    "m[, ind, drop=F] #returns matrix"
   ]
  },
  {
   "cell_type": "code",
   "execution_count": 143,
   "id": "2e432739",
   "metadata": {},
   "outputs": [
    {
     "data": {
      "text/html": [
       "<table>\n",
       "<thead><tr><th></th><th scope=col>column1</th><th scope=col>column2</th><th scope=col>column3</th><th scope=col>column4</th><th scope=col>column5</th></tr></thead>\n",
       "<tbody>\n",
       "\t<tr><th scope=row>row1</th><td>1 </td><td>3 </td><td>5 </td><td>7 </td><td> 9</td></tr>\n",
       "\t<tr><th scope=row>row2</th><td>2 </td><td>4 </td><td>6 </td><td>8 </td><td>10</td></tr>\n",
       "</tbody>\n",
       "</table>\n"
      ],
      "text/latex": [
       "\\begin{tabular}{r|lllll}\n",
       "  & column1 & column2 & column3 & column4 & column5\\\\\n",
       "\\hline\n",
       "\trow1 & 1  & 3  & 5  & 7  &  9\\\\\n",
       "\trow2 & 2  & 4  & 6  & 8  & 10\\\\\n",
       "\\end{tabular}\n"
      ],
      "text/markdown": [
       "\n",
       "| <!--/--> | column1 | column2 | column3 | column4 | column5 |\n",
       "|---|---|---|---|---|---|\n",
       "| row1 | 1  | 3  | 5  | 7  |  9 |\n",
       "| row2 | 2  | 4  | 6  | 8  | 10 |\n",
       "\n"
      ],
      "text/plain": [
       "     column1 column2 column3 column4 column5\n",
       "row1 1       3       5       7        9     \n",
       "row2 2       4       6       8       10     "
      ]
     },
     "metadata": {},
     "output_type": "display_data"
    }
   ],
   "source": [
    "rownames(m) <- c('row1', 'row2')\n",
    "colnames(m) <- paste0('column', 1:5)\n",
    "m"
   ]
  },
  {
   "cell_type": "raw",
   "id": "bb900078",
   "metadata": {},
   "source": [
    "cbind () #to join matrix by columns\n",
    "rbind() # by rows"
   ]
  },
  {
   "cell_type": "markdown",
   "id": "7e448cdb",
   "metadata": {},
   "source": [
    "# Function APPLY"
   ]
  },
  {
   "cell_type": "code",
   "execution_count": 151,
   "id": "a047e2d5",
   "metadata": {},
   "outputs": [
    {
     "data": {
      "text/html": [
       "<table>\n",
       "<tbody>\n",
       "\t<tr><td>1 </td><td> 6</td><td>11</td><td>16</td><td>21</td><td>26</td></tr>\n",
       "\t<tr><td>2 </td><td> 7</td><td>12</td><td>17</td><td>22</td><td>27</td></tr>\n",
       "\t<tr><td>3 </td><td> 8</td><td>13</td><td>18</td><td>23</td><td>28</td></tr>\n",
       "\t<tr><td>4 </td><td> 9</td><td>14</td><td>19</td><td>24</td><td>29</td></tr>\n",
       "\t<tr><td>5 </td><td>10</td><td>15</td><td>20</td><td>25</td><td>30</td></tr>\n",
       "</tbody>\n",
       "</table>\n"
      ],
      "text/latex": [
       "\\begin{tabular}{llllll}\n",
       "\t 1  &  6 & 11 & 16 & 21 & 26\\\\\n",
       "\t 2  &  7 & 12 & 17 & 22 & 27\\\\\n",
       "\t 3  &  8 & 13 & 18 & 23 & 28\\\\\n",
       "\t 4  &  9 & 14 & 19 & 24 & 29\\\\\n",
       "\t 5  & 10 & 15 & 20 & 25 & 30\\\\\n",
       "\\end{tabular}\n"
      ],
      "text/markdown": [
       "\n",
       "| 1  |  6 | 11 | 16 | 21 | 26 |\n",
       "| 2  |  7 | 12 | 17 | 22 | 27 |\n",
       "| 3  |  8 | 13 | 18 | 23 | 28 |\n",
       "| 4  |  9 | 14 | 19 | 24 | 29 |\n",
       "| 5  | 10 | 15 | 20 | 25 | 30 |\n",
       "\n"
      ],
      "text/plain": [
       "     [,1] [,2] [,3] [,4] [,5] [,6]\n",
       "[1,] 1     6   11   16   21   26  \n",
       "[2,] 2     7   12   17   22   27  \n",
       "[3,] 3     8   13   18   23   28  \n",
       "[4,] 4     9   14   19   24   29  \n",
       "[5,] 5    10   15   20   25   30  "
      ]
     },
     "metadata": {},
     "output_type": "display_data"
    }
   ],
   "source": [
    "m <- matrix(1:30, 5)\n",
    "m"
   ]
  },
  {
   "cell_type": "code",
   "execution_count": 146,
   "id": "4785a93c",
   "metadata": {},
   "outputs": [],
   "source": [
    "f <- function(x) sum(x^2)"
   ]
  },
  {
   "cell_type": "code",
   "execution_count": 153,
   "id": "5714c001",
   "metadata": {},
   "outputs": [
    {
     "data": {
      "text/html": [
       "<ol class=list-inline>\n",
       "\t<li>1531</li>\n",
       "\t<li>1699</li>\n",
       "\t<li>1879</li>\n",
       "\t<li>2071</li>\n",
       "\t<li>2275</li>\n",
       "</ol>\n"
      ],
      "text/latex": [
       "\\begin{enumerate*}\n",
       "\\item 1531\n",
       "\\item 1699\n",
       "\\item 1879\n",
       "\\item 2071\n",
       "\\item 2275\n",
       "\\end{enumerate*}\n"
      ],
      "text/markdown": [
       "1. 1531\n",
       "2. 1699\n",
       "3. 1879\n",
       "4. 2071\n",
       "5. 2275\n",
       "\n",
       "\n"
      ],
      "text/plain": [
       "[1] 1531 1699 1879 2071 2275"
      ]
     },
     "metadata": {},
     "output_type": "display_data"
    },
    {
     "data": {
      "text/html": [
       "<ol class=list-inline>\n",
       "\t<li>55</li>\n",
       "\t<li>330</li>\n",
       "\t<li>855</li>\n",
       "\t<li>1630</li>\n",
       "\t<li>2655</li>\n",
       "\t<li>3930</li>\n",
       "</ol>\n"
      ],
      "text/latex": [
       "\\begin{enumerate*}\n",
       "\\item 55\n",
       "\\item 330\n",
       "\\item 855\n",
       "\\item 1630\n",
       "\\item 2655\n",
       "\\item 3930\n",
       "\\end{enumerate*}\n"
      ],
      "text/markdown": [
       "1. 55\n",
       "2. 330\n",
       "3. 855\n",
       "4. 1630\n",
       "5. 2655\n",
       "6. 3930\n",
       "\n",
       "\n"
      ],
      "text/plain": [
       "[1]   55  330  855 1630 2655 3930"
      ]
     },
     "metadata": {},
     "output_type": "display_data"
    }
   ],
   "source": [
    "apply(m, 1, f) #apply function to rows (returns vector)\n",
    "apply(m, 2, f) #apply function to columns\n"
   ]
  },
  {
   "cell_type": "code",
   "execution_count": 155,
   "id": "7cc33198",
   "metadata": {},
   "outputs": [
    {
     "data": {
      "text/html": [
       "<table>\n",
       "<tbody>\n",
       "\t<tr><td>13</td><td>13</td><td>13</td><td>16</td><td>21</td><td>26</td></tr>\n",
       "\t<tr><td>13</td><td>13</td><td>13</td><td>17</td><td>22</td><td>27</td></tr>\n",
       "\t<tr><td>13</td><td>13</td><td>13</td><td>18</td><td>23</td><td>28</td></tr>\n",
       "\t<tr><td>13</td><td>13</td><td>14</td><td>19</td><td>24</td><td>29</td></tr>\n",
       "\t<tr><td>13</td><td>13</td><td>15</td><td>20</td><td>25</td><td>30</td></tr>\n",
       "</tbody>\n",
       "</table>\n"
      ],
      "text/latex": [
       "\\begin{tabular}{llllll}\n",
       "\t 13 & 13 & 13 & 16 & 21 & 26\\\\\n",
       "\t 13 & 13 & 13 & 17 & 22 & 27\\\\\n",
       "\t 13 & 13 & 13 & 18 & 23 & 28\\\\\n",
       "\t 13 & 13 & 14 & 19 & 24 & 29\\\\\n",
       "\t 13 & 13 & 15 & 20 & 25 & 30\\\\\n",
       "\\end{tabular}\n"
      ],
      "text/markdown": [
       "\n",
       "| 13 | 13 | 13 | 16 | 21 | 26 |\n",
       "| 13 | 13 | 13 | 17 | 22 | 27 |\n",
       "| 13 | 13 | 13 | 18 | 23 | 28 |\n",
       "| 13 | 13 | 14 | 19 | 24 | 29 |\n",
       "| 13 | 13 | 15 | 20 | 25 | 30 |\n",
       "\n"
      ],
      "text/plain": [
       "     [,1] [,2] [,3] [,4] [,5] [,6]\n",
       "[1,] 13   13   13   16   21   26  \n",
       "[2,] 13   13   13   17   22   27  \n",
       "[3,] 13   13   13   18   23   28  \n",
       "[4,] 13   13   14   19   24   29  \n",
       "[5,] 13   13   15   20   25   30  "
      ]
     },
     "metadata": {},
     "output_type": "display_data"
    }
   ],
   "source": [
    "apply(m, 1:2, function(x) if (x>13) x else 13) #apply function to every value of matrix"
   ]
  },
  {
   "cell_type": "markdown",
   "id": "f3e2af78",
   "metadata": {},
   "source": [
    "# rowSums, colSums, rowMeans, colMeans"
   ]
  },
  {
   "cell_type": "code",
   "execution_count": 157,
   "id": "011c979d",
   "metadata": {},
   "outputs": [
    {
     "data": {
      "text/html": [
       "<ol class=list-inline>\n",
       "\t<li>81</li>\n",
       "\t<li>87</li>\n",
       "\t<li>93</li>\n",
       "\t<li>99</li>\n",
       "\t<li>105</li>\n",
       "</ol>\n"
      ],
      "text/latex": [
       "\\begin{enumerate*}\n",
       "\\item 81\n",
       "\\item 87\n",
       "\\item 93\n",
       "\\item 99\n",
       "\\item 105\n",
       "\\end{enumerate*}\n"
      ],
      "text/markdown": [
       "1. 81\n",
       "2. 87\n",
       "3. 93\n",
       "4. 99\n",
       "5. 105\n",
       "\n",
       "\n"
      ],
      "text/plain": [
       "[1]  81  87  93  99 105"
      ]
     },
     "metadata": {},
     "output_type": "display_data"
    },
    {
     "data": {
      "text/html": [
       "<ol class=list-inline>\n",
       "\t<li>15</li>\n",
       "\t<li>40</li>\n",
       "\t<li>65</li>\n",
       "\t<li>90</li>\n",
       "\t<li>115</li>\n",
       "\t<li>140</li>\n",
       "</ol>\n"
      ],
      "text/latex": [
       "\\begin{enumerate*}\n",
       "\\item 15\n",
       "\\item 40\n",
       "\\item 65\n",
       "\\item 90\n",
       "\\item 115\n",
       "\\item 140\n",
       "\\end{enumerate*}\n"
      ],
      "text/markdown": [
       "1. 15\n",
       "2. 40\n",
       "3. 65\n",
       "4. 90\n",
       "5. 115\n",
       "6. 140\n",
       "\n",
       "\n"
      ],
      "text/plain": [
       "[1]  15  40  65  90 115 140"
      ]
     },
     "metadata": {},
     "output_type": "display_data"
    },
    {
     "data": {
      "text/html": [
       "<ol class=list-inline>\n",
       "\t<li>13.5</li>\n",
       "\t<li>14.5</li>\n",
       "\t<li>15.5</li>\n",
       "\t<li>16.5</li>\n",
       "\t<li>17.5</li>\n",
       "</ol>\n"
      ],
      "text/latex": [
       "\\begin{enumerate*}\n",
       "\\item 13.5\n",
       "\\item 14.5\n",
       "\\item 15.5\n",
       "\\item 16.5\n",
       "\\item 17.5\n",
       "\\end{enumerate*}\n"
      ],
      "text/markdown": [
       "1. 13.5\n",
       "2. 14.5\n",
       "3. 15.5\n",
       "4. 16.5\n",
       "5. 17.5\n",
       "\n",
       "\n"
      ],
      "text/plain": [
       "[1] 13.5 14.5 15.5 16.5 17.5"
      ]
     },
     "metadata": {},
     "output_type": "display_data"
    },
    {
     "data": {
      "text/html": [
       "<ol class=list-inline>\n",
       "\t<li>3</li>\n",
       "\t<li>8</li>\n",
       "\t<li>13</li>\n",
       "\t<li>18</li>\n",
       "\t<li>23</li>\n",
       "\t<li>28</li>\n",
       "</ol>\n"
      ],
      "text/latex": [
       "\\begin{enumerate*}\n",
       "\\item 3\n",
       "\\item 8\n",
       "\\item 13\n",
       "\\item 18\n",
       "\\item 23\n",
       "\\item 28\n",
       "\\end{enumerate*}\n"
      ],
      "text/markdown": [
       "1. 3\n",
       "2. 8\n",
       "3. 13\n",
       "4. 18\n",
       "5. 23\n",
       "6. 28\n",
       "\n",
       "\n"
      ],
      "text/plain": [
       "[1]  3  8 13 18 23 28"
      ]
     },
     "metadata": {},
     "output_type": "display_data"
    }
   ],
   "source": [
    "rowSums(m) #sums rows\n",
    "colSums(m) #sums columns\n",
    "rowMeans(m) #calculate row mean\n",
    "colMeans(m) #calculate column mean"
   ]
  },
  {
   "cell_type": "code",
   "execution_count": 177,
   "id": "c03e4532",
   "metadata": {},
   "outputs": [],
   "source": [
    "# finction to join 2 matrix by their diagonal\n",
    "bind_diag <- function(m1, m2, fill) {\n",
    "    m3 <- matrix(fill, \n",
    "                 nrow = nrow(m1) + nrow(m2),\n",
    "                 ncol = ncol(m1) + ncol(m2))\n",
    "    m3[1:nrow(m1), 1:ncol(m1)] <- m1\n",
    "    m3[nrow(m1)+1: nrow(m2), ncol(m1)+1: ncol(m2)] <- m2\n",
    "    return (m3)\n",
    "    }\n"
   ]
  },
  {
   "cell_type": "code",
   "execution_count": 178,
   "id": "0f3de076",
   "metadata": {},
   "outputs": [],
   "source": [
    "m1 <- matrix(1:12, nrow=3)\n",
    "m2 <- matrix(10:15, ncol=3)"
   ]
  },
  {
   "cell_type": "code",
   "execution_count": 179,
   "id": "454d5fd0",
   "metadata": {},
   "outputs": [
    {
     "data": {
      "text/html": [
       "<table>\n",
       "<tbody>\n",
       "\t<tr><td> 1</td><td> 4</td><td> 7</td><td>10</td><td>NA</td><td>NA</td><td>NA</td></tr>\n",
       "\t<tr><td> 2</td><td> 5</td><td> 8</td><td>11</td><td>NA</td><td>NA</td><td>NA</td></tr>\n",
       "\t<tr><td> 3</td><td> 6</td><td> 9</td><td>12</td><td>NA</td><td>NA</td><td>NA</td></tr>\n",
       "\t<tr><td>NA</td><td>NA</td><td>NA</td><td>NA</td><td>10</td><td>12</td><td>14</td></tr>\n",
       "\t<tr><td>NA</td><td>NA</td><td>NA</td><td>NA</td><td>11</td><td>13</td><td>15</td></tr>\n",
       "</tbody>\n",
       "</table>\n"
      ],
      "text/latex": [
       "\\begin{tabular}{lllllll}\n",
       "\t  1 &  4 &  7 & 10 & NA & NA & NA\\\\\n",
       "\t  2 &  5 &  8 & 11 & NA & NA & NA\\\\\n",
       "\t  3 &  6 &  9 & 12 & NA & NA & NA\\\\\n",
       "\t NA & NA & NA & NA & 10 & 12 & 14\\\\\n",
       "\t NA & NA & NA & NA & 11 & 13 & 15\\\\\n",
       "\\end{tabular}\n"
      ],
      "text/markdown": [
       "\n",
       "|  1 |  4 |  7 | 10 | NA | NA | NA |\n",
       "|  2 |  5 |  8 | 11 | NA | NA | NA |\n",
       "|  3 |  6 |  9 | 12 | NA | NA | NA |\n",
       "| NA | NA | NA | NA | 10 | 12 | 14 |\n",
       "| NA | NA | NA | NA | 11 | 13 | 15 |\n",
       "\n"
      ],
      "text/plain": [
       "     [,1] [,2] [,3] [,4] [,5] [,6] [,7]\n",
       "[1,]  1    4    7   10   NA   NA   NA  \n",
       "[2,]  2    5    8   11   NA   NA   NA  \n",
       "[3,]  3    6    9   12   NA   NA   NA  \n",
       "[4,] NA   NA   NA   NA   10   12   14  \n",
       "[5,] NA   NA   NA   NA   11   13   15  "
      ]
     },
     "metadata": {},
     "output_type": "display_data"
    }
   ],
   "source": [
    "bind_diag(m1, m2, fill=NA)"
   ]
  },
  {
   "cell_type": "code",
   "execution_count": 196,
   "id": "a5518cd4",
   "metadata": {},
   "outputs": [],
   "source": [
    "build_ziggurat <- function(n) {\n",
    "    m <- matrix(1, nrow=n*2-1, ncol=n*2-1)\n",
    "    m[n,n] <- n\n",
    "    for (i in 0:(n-1)) {\n",
    "        m[n-i,] <- n-i\n",
    "        m[,n-i] <- n-i\n",
    "        m[n+i,] <- n-i\n",
    "        m[,n+i] <- n-i\n",
    "    }\n",
    "    return(m)\n",
    "}\n",
    "\n",
    "\n",
    "build_ziggurat <- function(n) {\n",
    "    m <- matrix(c(1:n,(n-1):1), 2*n-1, 2*n-1)\n",
    "pmin(m,t(m))\n",
    "}\n"
   ]
  },
  {
   "cell_type": "code",
   "execution_count": 197,
   "id": "e294a774",
   "metadata": {},
   "outputs": [
    {
     "data": {
      "text/html": [
       "<table>\n",
       "<tbody>\n",
       "\t<tr><td>1</td><td>1</td><td>1</td><td>1</td><td>1</td><td>1</td><td>1</td><td>1</td><td>1</td></tr>\n",
       "\t<tr><td>1</td><td>2</td><td>2</td><td>2</td><td>2</td><td>2</td><td>2</td><td>2</td><td>1</td></tr>\n",
       "\t<tr><td>1</td><td>2</td><td>3</td><td>3</td><td>3</td><td>3</td><td>3</td><td>2</td><td>1</td></tr>\n",
       "\t<tr><td>1</td><td>2</td><td>3</td><td>4</td><td>4</td><td>4</td><td>3</td><td>2</td><td>1</td></tr>\n",
       "\t<tr><td>1</td><td>2</td><td>3</td><td>4</td><td>5</td><td>4</td><td>3</td><td>2</td><td>1</td></tr>\n",
       "\t<tr><td>1</td><td>2</td><td>3</td><td>4</td><td>4</td><td>4</td><td>3</td><td>2</td><td>1</td></tr>\n",
       "\t<tr><td>1</td><td>2</td><td>3</td><td>3</td><td>3</td><td>3</td><td>3</td><td>2</td><td>1</td></tr>\n",
       "\t<tr><td>1</td><td>2</td><td>2</td><td>2</td><td>2</td><td>2</td><td>2</td><td>2</td><td>1</td></tr>\n",
       "\t<tr><td>1</td><td>1</td><td>1</td><td>1</td><td>1</td><td>1</td><td>1</td><td>1</td><td>1</td></tr>\n",
       "</tbody>\n",
       "</table>\n"
      ],
      "text/latex": [
       "\\begin{tabular}{lllllllll}\n",
       "\t 1 & 1 & 1 & 1 & 1 & 1 & 1 & 1 & 1\\\\\n",
       "\t 1 & 2 & 2 & 2 & 2 & 2 & 2 & 2 & 1\\\\\n",
       "\t 1 & 2 & 3 & 3 & 3 & 3 & 3 & 2 & 1\\\\\n",
       "\t 1 & 2 & 3 & 4 & 4 & 4 & 3 & 2 & 1\\\\\n",
       "\t 1 & 2 & 3 & 4 & 5 & 4 & 3 & 2 & 1\\\\\n",
       "\t 1 & 2 & 3 & 4 & 4 & 4 & 3 & 2 & 1\\\\\n",
       "\t 1 & 2 & 3 & 3 & 3 & 3 & 3 & 2 & 1\\\\\n",
       "\t 1 & 2 & 2 & 2 & 2 & 2 & 2 & 2 & 1\\\\\n",
       "\t 1 & 1 & 1 & 1 & 1 & 1 & 1 & 1 & 1\\\\\n",
       "\\end{tabular}\n"
      ],
      "text/markdown": [
       "\n",
       "| 1 | 1 | 1 | 1 | 1 | 1 | 1 | 1 | 1 |\n",
       "| 1 | 2 | 2 | 2 | 2 | 2 | 2 | 2 | 1 |\n",
       "| 1 | 2 | 3 | 3 | 3 | 3 | 3 | 2 | 1 |\n",
       "| 1 | 2 | 3 | 4 | 4 | 4 | 3 | 2 | 1 |\n",
       "| 1 | 2 | 3 | 4 | 5 | 4 | 3 | 2 | 1 |\n",
       "| 1 | 2 | 3 | 4 | 4 | 4 | 3 | 2 | 1 |\n",
       "| 1 | 2 | 3 | 3 | 3 | 3 | 3 | 2 | 1 |\n",
       "| 1 | 2 | 2 | 2 | 2 | 2 | 2 | 2 | 1 |\n",
       "| 1 | 1 | 1 | 1 | 1 | 1 | 1 | 1 | 1 |\n",
       "\n"
      ],
      "text/plain": [
       "      [,1] [,2] [,3] [,4] [,5] [,6] [,7] [,8] [,9]\n",
       " [1,] 1    1    1    1    1    1    1    1    1   \n",
       " [2,] 1    2    2    2    2    2    2    2    1   \n",
       " [3,] 1    2    3    3    3    3    3    2    1   \n",
       " [4,] 1    2    3    4    4    4    3    2    1   \n",
       " [5,] 1    2    3    4    5    4    3    2    1   \n",
       " [6,] 1    2    3    4    4    4    3    2    1   \n",
       " [7,] 1    2    3    3    3    3    3    2    1   \n",
       " [8,] 1    2    2    2    2    2    2    2    1   \n",
       " [9,] 1    1    1    1    1    1    1    1    1   "
      ]
     },
     "metadata": {},
     "output_type": "display_data"
    }
   ],
   "source": [
    "build_ziggurat(5)"
   ]
  },
  {
   "cell_type": "markdown",
   "id": "e706d44e",
   "metadata": {},
   "source": [
    "# List"
   ]
  },
  {
   "cell_type": "code",
   "execution_count": 198,
   "id": "099b9ba7",
   "metadata": {},
   "outputs": [
    {
     "data": {
      "text/html": [
       "<ol>\n",
       "\t<li><ol class=list-inline>\n",
       "\t<li>1</li>\n",
       "\t<li>2</li>\n",
       "\t<li>3</li>\n",
       "\t<li>4</li>\n",
       "\t<li>5</li>\n",
       "</ol>\n",
       "</li>\n",
       "\t<li>'mydata'</li>\n",
       "\t<li><table>\n",
       "<tbody>\n",
       "\t<tr><td>1 </td><td> 6</td></tr>\n",
       "\t<tr><td>2 </td><td> 7</td></tr>\n",
       "\t<tr><td>3 </td><td> 8</td></tr>\n",
       "\t<tr><td>4 </td><td> 9</td></tr>\n",
       "\t<tr><td>5 </td><td>10</td></tr>\n",
       "</tbody>\n",
       "</table>\n",
       "</li>\n",
       "</ol>\n"
      ],
      "text/latex": [
       "\\begin{enumerate}\n",
       "\\item \\begin{enumerate*}\n",
       "\\item 1\n",
       "\\item 2\n",
       "\\item 3\n",
       "\\item 4\n",
       "\\item 5\n",
       "\\end{enumerate*}\n",
       "\n",
       "\\item 'mydata'\n",
       "\\item \\begin{tabular}{ll}\n",
       "\t 1  &  6\\\\\n",
       "\t 2  &  7\\\\\n",
       "\t 3  &  8\\\\\n",
       "\t 4  &  9\\\\\n",
       "\t 5  & 10\\\\\n",
       "\\end{tabular}\n",
       "\n",
       "\\end{enumerate}\n"
      ],
      "text/markdown": [
       "1. 1. 1\n",
       "2. 2\n",
       "3. 3\n",
       "4. 4\n",
       "5. 5\n",
       "\n",
       "\n",
       "\n",
       "2. 'mydata'\n",
       "3. \n",
       "| 1  |  6 |\n",
       "| 2  |  7 |\n",
       "| 3  |  8 |\n",
       "| 4  |  9 |\n",
       "| 5  | 10 |\n",
       "\n",
       "\n",
       "\n",
       "\n"
      ],
      "text/plain": [
       "[[1]]\n",
       "[1] 1 2 3 4 5\n",
       "\n",
       "[[2]]\n",
       "[1] \"mydata\"\n",
       "\n",
       "[[3]]\n",
       "     [,1] [,2]\n",
       "[1,]    1    6\n",
       "[2,]    2    7\n",
       "[3,]    3    8\n",
       "[4,]    4    9\n",
       "[5,]    5   10\n"
      ]
     },
     "metadata": {},
     "output_type": "display_data"
    }
   ],
   "source": [
    "list(1:5, 'mydata', matrix(1:10, ncol=2))"
   ]
  },
  {
   "cell_type": "code",
   "execution_count": 199,
   "id": "373f021b",
   "metadata": {},
   "outputs": [
    {
     "data": {
      "text/html": [
       "<dl>\n",
       "\t<dt>$a</dt>\n",
       "\t\t<dd><ol class=list-inline>\n",
       "\t<li>1</li>\n",
       "\t<li>2</li>\n",
       "\t<li>3</li>\n",
       "\t<li>4</li>\n",
       "\t<li>5</li>\n",
       "</ol>\n",
       "</dd>\n",
       "\t<dt>$b</dt>\n",
       "\t\t<dd>'mydata'</dd>\n",
       "\t<dt>$c</dt>\n",
       "\t\t<dd><table>\n",
       "<tbody>\n",
       "\t<tr><td>1 </td><td> 6</td></tr>\n",
       "\t<tr><td>2 </td><td> 7</td></tr>\n",
       "\t<tr><td>3 </td><td> 8</td></tr>\n",
       "\t<tr><td>4 </td><td> 9</td></tr>\n",
       "\t<tr><td>5 </td><td>10</td></tr>\n",
       "</tbody>\n",
       "</table>\n",
       "</dd>\n",
       "\t<dt>$d</dt>\n",
       "\t\t<dd><ol class=list-inline>\n",
       "\t<li>'a'</li>\n",
       "\t<li>'b'</li>\n",
       "\t<li>'c'</li>\n",
       "</ol>\n",
       "</dd>\n",
       "</dl>\n"
      ],
      "text/latex": [
       "\\begin{description}\n",
       "\\item[\\$a] \\begin{enumerate*}\n",
       "\\item 1\n",
       "\\item 2\n",
       "\\item 3\n",
       "\\item 4\n",
       "\\item 5\n",
       "\\end{enumerate*}\n",
       "\n",
       "\\item[\\$b] 'mydata'\n",
       "\\item[\\$c] \\begin{tabular}{ll}\n",
       "\t 1  &  6\\\\\n",
       "\t 2  &  7\\\\\n",
       "\t 3  &  8\\\\\n",
       "\t 4  &  9\\\\\n",
       "\t 5  & 10\\\\\n",
       "\\end{tabular}\n",
       "\n",
       "\\item[\\$d] \\begin{enumerate*}\n",
       "\\item 'a'\n",
       "\\item 'b'\n",
       "\\item 'c'\n",
       "\\end{enumerate*}\n",
       "\n",
       "\\end{description}\n"
      ],
      "text/markdown": [
       "$a\n",
       ":   1. 1\n",
       "2. 2\n",
       "3. 3\n",
       "4. 4\n",
       "5. 5\n",
       "\n",
       "\n",
       "\n",
       "$b\n",
       ":   'mydata'\n",
       "$c\n",
       ":   \n",
       "| 1  |  6 |\n",
       "| 2  |  7 |\n",
       "| 3  |  8 |\n",
       "| 4  |  9 |\n",
       "| 5  | 10 |\n",
       "\n",
       "\n",
       "$d\n",
       ":   1. 'a'\n",
       "2. 'b'\n",
       "3. 'c'\n",
       "\n",
       "\n",
       "\n",
       "\n",
       "\n"
      ],
      "text/plain": [
       "$a\n",
       "[1] 1 2 3 4 5\n",
       "\n",
       "$b\n",
       "[1] \"mydata\"\n",
       "\n",
       "$c\n",
       "     [,1] [,2]\n",
       "[1,]    1    6\n",
       "[2,]    2    7\n",
       "[3,]    3    8\n",
       "[4,]    4    9\n",
       "[5,]    5   10\n",
       "\n",
       "$d\n",
       "[1] \"a\" \"b\" \"c\"\n"
      ]
     },
     "metadata": {},
     "output_type": "display_data"
    }
   ],
   "source": [
    "list(a=1:5, b='mydata', c=matrix(1:10, ncol=2), d=c('a', 'b', 'c'))"
   ]
  },
  {
   "cell_type": "markdown",
   "id": "88a267c3",
   "metadata": {},
   "source": [
    "# Vector & List Conversion"
   ]
  },
  {
   "cell_type": "code",
   "execution_count": 201,
   "id": "4c8ba3af",
   "metadata": {},
   "outputs": [
    {
     "data": {
      "text/html": [
       "<ol>\n",
       "\t<li><ol class=list-inline>\n",
       "\t<li>1</li>\n",
       "\t<li>2</li>\n",
       "\t<li>3</li>\n",
       "\t<li>4</li>\n",
       "\t<li>5</li>\n",
       "\t<li>6</li>\n",
       "\t<li>7</li>\n",
       "\t<li>8</li>\n",
       "\t<li>9</li>\n",
       "</ol>\n",
       "</li>\n",
       "</ol>\n"
      ],
      "text/latex": [
       "\\begin{enumerate}\n",
       "\\item \\begin{enumerate*}\n",
       "\\item 1\n",
       "\\item 2\n",
       "\\item 3\n",
       "\\item 4\n",
       "\\item 5\n",
       "\\item 6\n",
       "\\item 7\n",
       "\\item 8\n",
       "\\item 9\n",
       "\\end{enumerate*}\n",
       "\n",
       "\\end{enumerate}\n"
      ],
      "text/markdown": [
       "1. 1. 1\n",
       "2. 2\n",
       "3. 3\n",
       "4. 4\n",
       "5. 5\n",
       "6. 6\n",
       "7. 7\n",
       "8. 8\n",
       "9. 9\n",
       "\n",
       "\n",
       "\n",
       "\n",
       "\n"
      ],
      "text/plain": [
       "[[1]]\n",
       "[1] 1 2 3 4 5 6 7 8 9\n"
      ]
     },
     "metadata": {},
     "output_type": "display_data"
    }
   ],
   "source": [
    "v = 1:9 \n",
    "list(v) #converts vector to list"
   ]
  },
  {
   "cell_type": "code",
   "execution_count": 213,
   "id": "5a116003",
   "metadata": {
    "scrolled": true
   },
   "outputs": [
    {
     "data": {
      "text/html": [
       "<dl>\n",
       "\t<dt>[[1]]</dt>\n",
       "\t\t<dd><ol class=list-inline>\n",
       "\t<li>1</li>\n",
       "\t<li>2</li>\n",
       "\t<li>3</li>\n",
       "</ol>\n",
       "</dd>\n",
       "\t<dt>[[2]]</dt>\n",
       "\t\t<dd><ol class=list-inline>\n",
       "\t<li>4</li>\n",
       "\t<li>5</li>\n",
       "</ol>\n",
       "</dd>\n",
       "\t<dt>$last</dt>\n",
       "\t\t<dd>6</dd>\n",
       "</dl>\n"
      ],
      "text/latex": [
       "\\begin{description}\n",
       "\\item[{[[1]]}] \\begin{enumerate*}\n",
       "\\item 1\n",
       "\\item 2\n",
       "\\item 3\n",
       "\\end{enumerate*}\n",
       "\n",
       "\\item[{[[2]]}] \\begin{enumerate*}\n",
       "\\item 4\n",
       "\\item 5\n",
       "\\end{enumerate*}\n",
       "\n",
       "\\item[\\$last] 6\n",
       "\\end{description}\n"
      ],
      "text/markdown": [
       "[[1]]\n",
       ":   1. 1\n",
       "2. 2\n",
       "3. 3\n",
       "\n",
       "\n",
       "\n",
       "[[2]]\n",
       ":   1. 4\n",
       "2. 5\n",
       "\n",
       "\n",
       "\n",
       "$last\n",
       ":   6\n",
       "\n",
       "\n"
      ],
      "text/plain": [
       "[[1]]\n",
       "[1] 1 2 3\n",
       "\n",
       "[[2]]\n",
       "[1] 4 5\n",
       "\n",
       "$last\n",
       "[1] 6\n"
      ]
     },
     "metadata": {},
     "output_type": "display_data"
    }
   ],
   "source": [
    "l <- list(1:3, c(4,5), last=6)\n",
    "l\n"
   ]
  },
  {
   "cell_type": "code",
   "execution_count": 214,
   "id": "70d48252",
   "metadata": {
    "scrolled": true
   },
   "outputs": [
    {
     "data": {
      "text/html": [
       "<dl class=dl-horizontal>\n",
       "\t<dt>1</dt>\n",
       "\t\t<dd>1</dd>\n",
       "\t<dt>2</dt>\n",
       "\t\t<dd>2</dd>\n",
       "\t<dt>3</dt>\n",
       "\t\t<dd>3</dd>\n",
       "\t<dt>4</dt>\n",
       "\t\t<dd>4</dd>\n",
       "\t<dt>5</dt>\n",
       "\t\t<dd>5</dd>\n",
       "\t<dt>last</dt>\n",
       "\t\t<dd>6</dd>\n",
       "</dl>\n"
      ],
      "text/latex": [
       "\\begin{description*}\n",
       "\\item[1] 1\n",
       "\\item[2] 2\n",
       "\\item[3] 3\n",
       "\\item[4] 4\n",
       "\\item[5] 5\n",
       "\\item[last] 6\n",
       "\\end{description*}\n"
      ],
      "text/markdown": [
       "1\n",
       ":   12\n",
       ":   23\n",
       ":   34\n",
       ":   45\n",
       ":   5last\n",
       ":   6\n",
       "\n"
      ],
      "text/plain": [
       "                         last \n",
       "   1    2    3    4    5    6 "
      ]
     },
     "metadata": {},
     "output_type": "display_data"
    },
    {
     "data": {
      "text/html": [
       "'double'"
      ],
      "text/latex": [
       "'double'"
      ],
      "text/markdown": [
       "'double'"
      ],
      "text/plain": [
       "[1] \"double\""
      ]
     },
     "metadata": {},
     "output_type": "display_data"
    }
   ],
   "source": [
    "unlist(l)\n",
    "typeof(unlist(l))"
   ]
  },
  {
   "cell_type": "code",
   "execution_count": null,
   "id": "a6827b24",
   "metadata": {},
   "outputs": [],
   "source": [
    "#Indexing"
   ]
  },
  {
   "cell_type": "code",
   "execution_count": 211,
   "id": "4c1c1df4",
   "metadata": {},
   "outputs": [
    {
     "data": {
      "text/html": [
       "<dl>\n",
       "\t<dt>[[1]]</dt>\n",
       "\t\t<dd><ol class=list-inline>\n",
       "\t<li>1</li>\n",
       "\t<li>2</li>\n",
       "\t<li>3</li>\n",
       "</ol>\n",
       "</dd>\n",
       "\t<dt>[[2]]</dt>\n",
       "\t\t<dd><ol class=list-inline>\n",
       "\t<li>4</li>\n",
       "\t<li>5</li>\n",
       "</ol>\n",
       "</dd>\n",
       "</dl>\n"
      ],
      "text/latex": [
       "\\begin{description}\n",
       "\\item[{[[1]]}] \\begin{enumerate*}\n",
       "\\item 1\n",
       "\\item 2\n",
       "\\item 3\n",
       "\\end{enumerate*}\n",
       "\n",
       "\\item[{[[2]]}] \\begin{enumerate*}\n",
       "\\item 4\n",
       "\\item 5\n",
       "\\end{enumerate*}\n",
       "\n",
       "\\end{description}\n"
      ],
      "text/markdown": [
       "[[1]]\n",
       ":   1. 1\n",
       "2. 2\n",
       "3. 3\n",
       "\n",
       "\n",
       "\n",
       "[[2]]\n",
       ":   1. 4\n",
       "2. 5\n",
       "\n",
       "\n",
       "\n",
       "\n",
       "\n"
      ],
      "text/plain": [
       "[[1]]\n",
       "[1] 1 2 3\n",
       "\n",
       "[[2]]\n",
       "[1] 4 5\n"
      ]
     },
     "metadata": {},
     "output_type": "display_data"
    }
   ],
   "source": [
    "l[1:2] #sublist by index, returns list"
   ]
  },
  {
   "cell_type": "code",
   "execution_count": 224,
   "id": "628b1ace",
   "metadata": {},
   "outputs": [
    {
     "data": {
      "text/html": [
       "<strong>$NA</strong> = <ol class=list-inline>\n",
       "\t<li>1</li>\n",
       "\t<li>2</li>\n",
       "\t<li>3</li>\n",
       "</ol>\n"
      ],
      "text/latex": [
       "\\textbf{\\$NA} = \\begin{enumerate*}\n",
       "\\item 1\n",
       "\\item 2\n",
       "\\item 3\n",
       "\\end{enumerate*}\n"
      ],
      "text/markdown": [
       "**$NA** = 1. 1\n",
       "2. 2\n",
       "3. 3\n",
       "\n",
       "\n"
      ],
      "text/plain": [
       "[[1]]\n",
       "[1] 1 2 3\n"
      ]
     },
     "metadata": {},
     "output_type": "display_data"
    }
   ],
   "source": [
    "l[-(2:3)] #returns list"
   ]
  },
  {
   "cell_type": "code",
   "execution_count": 216,
   "id": "0d324f2e",
   "metadata": {},
   "outputs": [
    {
     "data": {
      "text/html": [
       "6"
      ],
      "text/latex": [
       "6"
      ],
      "text/markdown": [
       "6"
      ],
      "text/plain": [
       "[1] 6"
      ]
     },
     "metadata": {},
     "output_type": "display_data"
    }
   ],
   "source": [
    "l$last #returns vector"
   ]
  },
  {
   "cell_type": "code",
   "execution_count": 226,
   "id": "f18211bf",
   "metadata": {},
   "outputs": [
    {
     "data": {
      "text/html": [
       "<dl>\n",
       "\t<dt>[[1]]</dt>\n",
       "\t\t<dd><ol class=list-inline>\n",
       "\t<li>1</li>\n",
       "\t<li>2</li>\n",
       "\t<li>3</li>\n",
       "</ol>\n",
       "</dd>\n",
       "\t<dt>$last</dt>\n",
       "\t\t<dd>6</dd>\n",
       "</dl>\n"
      ],
      "text/latex": [
       "\\begin{description}\n",
       "\\item[{[[1]]}] \\begin{enumerate*}\n",
       "\\item 1\n",
       "\\item 2\n",
       "\\item 3\n",
       "\\end{enumerate*}\n",
       "\n",
       "\\item[\\$last] 6\n",
       "\\end{description}\n"
      ],
      "text/markdown": [
       "[[1]]\n",
       ":   1. 1\n",
       "2. 2\n",
       "3. 3\n",
       "\n",
       "\n",
       "\n",
       "$last\n",
       ":   6\n",
       "\n",
       "\n"
      ],
      "text/plain": [
       "[[1]]\n",
       "[1] 1 2 3\n",
       "\n",
       "$last\n",
       "[1] 6\n"
      ]
     },
     "metadata": {},
     "output_type": "display_data"
    },
    {
     "data": {
      "text/html": [
       "<strong>$last</strong> = 6"
      ],
      "text/latex": [
       "\\textbf{\\$last} = 6"
      ],
      "text/markdown": [
       "**$last** = 6"
      ],
      "text/plain": [
       "$last\n",
       "[1] 6\n"
      ]
     },
     "metadata": {},
     "output_type": "display_data"
    }
   ],
   "source": [
    "l[c(T,F,T)] #returns list\n",
    "l['last'] #returns list"
   ]
  },
  {
   "cell_type": "code",
   "execution_count": 221,
   "id": "de0bfd75",
   "metadata": {},
   "outputs": [
    {
     "data": {
      "text/html": [
       "<ol class=list-inline>\n",
       "\t<li>1</li>\n",
       "\t<li>2</li>\n",
       "\t<li>3</li>\n",
       "</ol>\n"
      ],
      "text/latex": [
       "\\begin{enumerate*}\n",
       "\\item 1\n",
       "\\item 2\n",
       "\\item 3\n",
       "\\end{enumerate*}\n"
      ],
      "text/markdown": [
       "1. 1\n",
       "2. 2\n",
       "3. 3\n",
       "\n",
       "\n"
      ],
      "text/plain": [
       "[1] 1 2 3"
      ]
     },
     "metadata": {},
     "output_type": "display_data"
    }
   ],
   "source": [
    "#Indexing for element\n",
    "\n",
    "l[[1]] #returns vector "
   ]
  },
  {
   "cell_type": "code",
   "execution_count": 227,
   "id": "c3b430ce",
   "metadata": {},
   "outputs": [
    {
     "data": {
      "text/html": [
       "6"
      ],
      "text/latex": [
       "6"
      ],
      "text/markdown": [
       "6"
      ],
      "text/plain": [
       "[1] 6"
      ]
     },
     "metadata": {},
     "output_type": "display_data"
    }
   ],
   "source": [
    "l[['last']] #returns vector "
   ]
  },
  {
   "cell_type": "code",
   "execution_count": 228,
   "id": "a9f9a9c8",
   "metadata": {},
   "outputs": [
    {
     "data": {
      "text/html": [
       "<dl>\n",
       "\t<dt>[[1]]</dt>\n",
       "\t\t<dd><ol class=list-inline>\n",
       "\t<li>1</li>\n",
       "\t<li>2</li>\n",
       "\t<li>3</li>\n",
       "</ol>\n",
       "</dd>\n",
       "\t<dt>[[2]]</dt>\n",
       "\t\t<dd><ol class=list-inline>\n",
       "\t<li>4</li>\n",
       "\t<li>5</li>\n",
       "</ol>\n",
       "</dd>\n",
       "</dl>\n"
      ],
      "text/latex": [
       "\\begin{description}\n",
       "\\item[{[[1]]}] \\begin{enumerate*}\n",
       "\\item 1\n",
       "\\item 2\n",
       "\\item 3\n",
       "\\end{enumerate*}\n",
       "\n",
       "\\item[{[[2]]}] \\begin{enumerate*}\n",
       "\\item 4\n",
       "\\item 5\n",
       "\\end{enumerate*}\n",
       "\n",
       "\\end{description}\n"
      ],
      "text/markdown": [
       "[[1]]\n",
       ":   1. 1\n",
       "2. 2\n",
       "3. 3\n",
       "\n",
       "\n",
       "\n",
       "[[2]]\n",
       ":   1. 4\n",
       "2. 5\n",
       "\n",
       "\n",
       "\n",
       "\n",
       "\n"
      ],
      "text/plain": [
       "[[1]]\n",
       "[1] 1 2 3\n",
       "\n",
       "[[2]]\n",
       "[1] 4 5\n"
      ]
     },
     "metadata": {},
     "output_type": "display_data"
    }
   ],
   "source": [
    "#Deleting elements from list\n",
    "\n",
    "l[[3]] <- NULL\n",
    "l"
   ]
  },
  {
   "cell_type": "code",
   "execution_count": 230,
   "id": "f5cfddf8",
   "metadata": {},
   "outputs": [
    {
     "data": {
      "text/html": [
       "<dl>\n",
       "\t<dt>[[1]]</dt>\n",
       "\t\t<dd><ol class=list-inline>\n",
       "\t<li>1</li>\n",
       "\t<li>2</li>\n",
       "\t<li>3</li>\n",
       "</ol>\n",
       "</dd>\n",
       "\t<dt>[[2]]</dt>\n",
       "\t\t<dd><ol class=list-inline>\n",
       "\t<li>4</li>\n",
       "\t<li>5</li>\n",
       "</ol>\n",
       "</dd>\n",
       "\t<dt>[[3]]</dt>\n",
       "\t\t<dd>NULL</dd>\n",
       "\t<dt>[[4]]</dt>\n",
       "\t\t<dd>99</dd>\n",
       "</dl>\n"
      ],
      "text/latex": [
       "\\begin{description}\n",
       "\\item[{[[1]]}] \\begin{enumerate*}\n",
       "\\item 1\n",
       "\\item 2\n",
       "\\item 3\n",
       "\\end{enumerate*}\n",
       "\n",
       "\\item[{[[2]]}] \\begin{enumerate*}\n",
       "\\item 4\n",
       "\\item 5\n",
       "\\end{enumerate*}\n",
       "\n",
       "\\item[{[[3]]}] NULL\n",
       "\\item[{[[4]]}] 99\n",
       "\\end{description}\n"
      ],
      "text/markdown": [
       "[[1]]\n",
       ":   1. 1\n",
       "2. 2\n",
       "3. 3\n",
       "\n",
       "\n",
       "\n",
       "[[2]]\n",
       ":   1. 4\n",
       "2. 5\n",
       "\n",
       "\n",
       "\n",
       "[[3]]\n",
       ":   NULL\n",
       "[[4]]\n",
       ":   99\n",
       "\n",
       "\n"
      ],
      "text/plain": [
       "[[1]]\n",
       "[1] 1 2 3\n",
       "\n",
       "[[2]]\n",
       "[1] 4 5\n",
       "\n",
       "[[3]]\n",
       "NULL\n",
       "\n",
       "[[4]]\n",
       "[1] 99\n"
      ]
     },
     "metadata": {},
     "output_type": "display_data"
    }
   ],
   "source": [
    "l[[4]] <- 99\n",
    "l"
   ]
  },
  {
   "cell_type": "markdown",
   "id": "734ec923",
   "metadata": {},
   "source": [
    "# Functions LAPPLY and SAPPLY"
   ]
  },
  {
   "cell_type": "code",
   "execution_count": 232,
   "id": "457de16c",
   "metadata": {},
   "outputs": [
    {
     "data": {
      "text/html": [
       "<dl>\n",
       "\t<dt>[[1]]</dt>\n",
       "\t\t<dd>3</dd>\n",
       "\t<dt>[[2]]</dt>\n",
       "\t\t<dd>2</dd>\n",
       "\t<dt>[[3]]</dt>\n",
       "\t\t<dd>0</dd>\n",
       "\t<dt>[[4]]</dt>\n",
       "\t\t<dd>1</dd>\n",
       "</dl>\n"
      ],
      "text/latex": [
       "\\begin{description}\n",
       "\\item[{[[1]]}] 3\n",
       "\\item[{[[2]]}] 2\n",
       "\\item[{[[3]]}] 0\n",
       "\\item[{[[4]]}] 1\n",
       "\\end{description}\n"
      ],
      "text/markdown": [
       "[[1]]\n",
       ":   3\n",
       "[[2]]\n",
       ":   2\n",
       "[[3]]\n",
       ":   0\n",
       "[[4]]\n",
       ":   1\n",
       "\n",
       "\n"
      ],
      "text/plain": [
       "[[1]]\n",
       "[1] 3\n",
       "\n",
       "[[2]]\n",
       "[1] 2\n",
       "\n",
       "[[3]]\n",
       "[1] 0\n",
       "\n",
       "[[4]]\n",
       "[1] 1\n"
      ]
     },
     "metadata": {},
     "output_type": "display_data"
    }
   ],
   "source": [
    "lapply(l, length) #returns length of each element in list"
   ]
  },
  {
   "cell_type": "code",
   "execution_count": 233,
   "id": "caedeb10",
   "metadata": {},
   "outputs": [
    {
     "data": {
      "text/html": [
       "<dl>\n",
       "\t<dt>[[1]]</dt>\n",
       "\t\t<dd>'1/2/3'</dd>\n",
       "\t<dt>[[2]]</dt>\n",
       "\t\t<dd>'4/5'</dd>\n",
       "\t<dt>[[3]]</dt>\n",
       "\t\t<dd>''</dd>\n",
       "\t<dt>[[4]]</dt>\n",
       "\t\t<dd>'99'</dd>\n",
       "</dl>\n"
      ],
      "text/latex": [
       "\\begin{description}\n",
       "\\item[{[[1]]}] '1/2/3'\n",
       "\\item[{[[2]]}] '4/5'\n",
       "\\item[{[[3]]}] ''\n",
       "\\item[{[[4]]}] '99'\n",
       "\\end{description}\n"
      ],
      "text/markdown": [
       "[[1]]\n",
       ":   '1/2/3'\n",
       "[[2]]\n",
       ":   '4/5'\n",
       "[[3]]\n",
       ":   ''\n",
       "[[4]]\n",
       ":   '99'\n",
       "\n",
       "\n"
      ],
      "text/plain": [
       "[[1]]\n",
       "[1] \"1/2/3\"\n",
       "\n",
       "[[2]]\n",
       "[1] \"4/5\"\n",
       "\n",
       "[[3]]\n",
       "[1] \"\"\n",
       "\n",
       "[[4]]\n",
       "[1] \"99\"\n"
      ]
     },
     "metadata": {},
     "output_type": "display_data"
    }
   ],
   "source": [
    "lapply(l, paste, collapse= '/')"
   ]
  },
  {
   "cell_type": "code",
   "execution_count": 235,
   "id": "c5d6ce4c",
   "metadata": {},
   "outputs": [
    {
     "data": {
      "text/html": [
       "<dl class=dl-horizontal>\n",
       "\t<dt>1</dt>\n",
       "\t\t<dd>'1/2/3'</dd>\n",
       "\t<dt>2</dt>\n",
       "\t\t<dd>'4/5'</dd>\n",
       "\t<dt>3</dt>\n",
       "\t\t<dd>''</dd>\n",
       "\t<dt>4</dt>\n",
       "\t\t<dd>'99'</dd>\n",
       "</dl>\n"
      ],
      "text/latex": [
       "\\begin{description*}\n",
       "\\item[1] '1/2/3'\n",
       "\\item[2] '4/5'\n",
       "\\item[3] ''\n",
       "\\item[4] '99'\n",
       "\\end{description*}\n"
      ],
      "text/markdown": [
       "1\n",
       ":   '1/2/3'2\n",
       ":   '4/5'3\n",
       ":   ''4\n",
       ":   '99'\n",
       "\n"
      ],
      "text/plain": [
       "                                \n",
       "\"1/2/3\"   \"4/5\"      \"\"    \"99\" "
      ]
     },
     "metadata": {},
     "output_type": "display_data"
    }
   ],
   "source": [
    "sapply(l, paste, collapse= '/') #returns vector where it's possible (simplify apply)"
   ]
  },
  {
   "cell_type": "raw",
   "id": "cd342cee",
   "metadata": {},
   "source": [
    "Небольшая добавка: в R есть три похожих ключевых слова, NA, NaN и NULL. Они различаются по смысловой нагрузке. \n",
    "\n",
    "NA -- это пропущенное значение (\"not available\"). Например, респондент не ответил на все вопросы предложенной анкеты, или данные с метеостанции за определённый период потерялись из-за сбоя оборудования. NA в этом случае обозначает, что эти данные существуют и имеют смысл, но их не удалось узнать.\n",
    "NaN -- \"not-a-number\" -- результат недопустимой арифметической операции, например 0/0 или Inf - Inf.\n",
    "NULL -- отсутствие объекта, \"пустота\". Применяется в тех случаях, когда объект действительно не существует, не может иметь осмысленного значения.\n",
    "Для проверки значений есть три функции, is.na , is.nan и is.null, соответственно."
   ]
  },
  {
   "cell_type": "markdown",
   "id": "4d0ec4fa",
   "metadata": {},
   "source": [
    "## DIAG"
   ]
  },
  {
   "cell_type": "code",
   "execution_count": 236,
   "id": "f553784a",
   "metadata": {},
   "outputs": [
    {
     "data": {
      "text/html": [
       "<table>\n",
       "<tbody>\n",
       "\t<tr><td>1 </td><td> 6</td><td>11</td><td>16</td><td>21</td></tr>\n",
       "\t<tr><td>2 </td><td> 7</td><td>12</td><td>17</td><td>22</td></tr>\n",
       "\t<tr><td>3 </td><td> 8</td><td>13</td><td>18</td><td>23</td></tr>\n",
       "\t<tr><td>4 </td><td> 9</td><td>14</td><td>19</td><td>24</td></tr>\n",
       "\t<tr><td>5 </td><td>10</td><td>15</td><td>20</td><td>25</td></tr>\n",
       "</tbody>\n",
       "</table>\n"
      ],
      "text/latex": [
       "\\begin{tabular}{lllll}\n",
       "\t 1  &  6 & 11 & 16 & 21\\\\\n",
       "\t 2  &  7 & 12 & 17 & 22\\\\\n",
       "\t 3  &  8 & 13 & 18 & 23\\\\\n",
       "\t 4  &  9 & 14 & 19 & 24\\\\\n",
       "\t 5  & 10 & 15 & 20 & 25\\\\\n",
       "\\end{tabular}\n"
      ],
      "text/markdown": [
       "\n",
       "| 1  |  6 | 11 | 16 | 21 |\n",
       "| 2  |  7 | 12 | 17 | 22 |\n",
       "| 3  |  8 | 13 | 18 | 23 |\n",
       "| 4  |  9 | 14 | 19 | 24 |\n",
       "| 5  | 10 | 15 | 20 | 25 |\n",
       "\n"
      ],
      "text/plain": [
       "     [,1] [,2] [,3] [,4] [,5]\n",
       "[1,] 1     6   11   16   21  \n",
       "[2,] 2     7   12   17   22  \n",
       "[3,] 3     8   13   18   23  \n",
       "[4,] 4     9   14   19   24  \n",
       "[5,] 5    10   15   20   25  "
      ]
     },
     "metadata": {},
     "output_type": "display_data"
    }
   ],
   "source": [
    "m <- matrix(1:25, nrow=5)\n",
    "m"
   ]
  },
  {
   "cell_type": "code",
   "execution_count": 242,
   "id": "0bac2608",
   "metadata": {},
   "outputs": [
    {
     "data": {
      "text/html": [
       "<ol class=list-inline>\n",
       "\t<li>1</li>\n",
       "\t<li>7</li>\n",
       "\t<li>13</li>\n",
       "\t<li>19</li>\n",
       "\t<li>25</li>\n",
       "</ol>\n"
      ],
      "text/latex": [
       "\\begin{enumerate*}\n",
       "\\item 1\n",
       "\\item 7\n",
       "\\item 13\n",
       "\\item 19\n",
       "\\item 25\n",
       "\\end{enumerate*}\n"
      ],
      "text/markdown": [
       "1. 1\n",
       "2. 7\n",
       "3. 13\n",
       "4. 19\n",
       "5. 25\n",
       "\n",
       "\n"
      ],
      "text/plain": [
       "[1]  1  7 13 19 25"
      ]
     },
     "metadata": {},
     "output_type": "display_data"
    }
   ],
   "source": [
    "diag(m) #returns vector from main diagonal of matrix"
   ]
  },
  {
   "cell_type": "code",
   "execution_count": 243,
   "id": "1c2c97cd",
   "metadata": {},
   "outputs": [
    {
     "data": {
      "text/html": [
       "<table>\n",
       "<tbody>\n",
       "\t<tr><td>1</td><td>0</td><td>0</td><td>0</td><td>0</td></tr>\n",
       "\t<tr><td>0</td><td>1</td><td>0</td><td>0</td><td>0</td></tr>\n",
       "\t<tr><td>0</td><td>0</td><td>1</td><td>0</td><td>0</td></tr>\n",
       "\t<tr><td>0</td><td>0</td><td>0</td><td>1</td><td>0</td></tr>\n",
       "\t<tr><td>0</td><td>0</td><td>0</td><td>0</td><td>1</td></tr>\n",
       "</tbody>\n",
       "</table>\n"
      ],
      "text/latex": [
       "\\begin{tabular}{lllll}\n",
       "\t 1 & 0 & 0 & 0 & 0\\\\\n",
       "\t 0 & 1 & 0 & 0 & 0\\\\\n",
       "\t 0 & 0 & 1 & 0 & 0\\\\\n",
       "\t 0 & 0 & 0 & 1 & 0\\\\\n",
       "\t 0 & 0 & 0 & 0 & 1\\\\\n",
       "\\end{tabular}\n"
      ],
      "text/markdown": [
       "\n",
       "| 1 | 0 | 0 | 0 | 0 |\n",
       "| 0 | 1 | 0 | 0 | 0 |\n",
       "| 0 | 0 | 1 | 0 | 0 |\n",
       "| 0 | 0 | 0 | 1 | 0 |\n",
       "| 0 | 0 | 0 | 0 | 1 |\n",
       "\n"
      ],
      "text/plain": [
       "     [,1] [,2] [,3] [,4] [,5]\n",
       "[1,] 1    0    0    0    0   \n",
       "[2,] 0    1    0    0    0   \n",
       "[3,] 0    0    1    0    0   \n",
       "[4,] 0    0    0    1    0   \n",
       "[5,] 0    0    0    0    1   "
      ]
     },
     "metadata": {},
     "output_type": "display_data"
    }
   ],
   "source": [
    "diag(5) #returns matrix of n size with 1 on main diag"
   ]
  },
  {
   "cell_type": "code",
   "execution_count": 244,
   "id": "4e166641",
   "metadata": {},
   "outputs": [
    {
     "data": {
      "text/html": [
       "<table>\n",
       "<tbody>\n",
       "\t<tr><td>3</td><td>0</td><td>0</td><td>0</td><td>0</td></tr>\n",
       "\t<tr><td>0</td><td>3</td><td>0</td><td>0</td><td>0</td></tr>\n",
       "\t<tr><td>0</td><td>0</td><td>3</td><td>0</td><td>0</td></tr>\n",
       "\t<tr><td>0</td><td>0</td><td>0</td><td>3</td><td>0</td></tr>\n",
       "\t<tr><td>0</td><td>0</td><td>0</td><td>0</td><td>3</td></tr>\n",
       "</tbody>\n",
       "</table>\n"
      ],
      "text/latex": [
       "\\begin{tabular}{lllll}\n",
       "\t 3 & 0 & 0 & 0 & 0\\\\\n",
       "\t 0 & 3 & 0 & 0 & 0\\\\\n",
       "\t 0 & 0 & 3 & 0 & 0\\\\\n",
       "\t 0 & 0 & 0 & 3 & 0\\\\\n",
       "\t 0 & 0 & 0 & 0 & 3\\\\\n",
       "\\end{tabular}\n"
      ],
      "text/markdown": [
       "\n",
       "| 3 | 0 | 0 | 0 | 0 |\n",
       "| 0 | 3 | 0 | 0 | 0 |\n",
       "| 0 | 0 | 3 | 0 | 0 |\n",
       "| 0 | 0 | 0 | 3 | 0 |\n",
       "| 0 | 0 | 0 | 0 | 3 |\n",
       "\n"
      ],
      "text/plain": [
       "     [,1] [,2] [,3] [,4] [,5]\n",
       "[1,] 3    0    0    0    0   \n",
       "[2,] 0    3    0    0    0   \n",
       "[3,] 0    0    3    0    0   \n",
       "[4,] 0    0    0    3    0   \n",
       "[5,] 0    0    0    0    3   "
      ]
     },
     "metadata": {},
     "output_type": "display_data"
    }
   ],
   "source": [
    "diag(3, 5) #returns matrix of m size with n on main diag"
   ]
  },
  {
   "cell_type": "code",
   "execution_count": 269,
   "id": "e39034e1",
   "metadata": {},
   "outputs": [],
   "source": [
    "#Function counting elements of vector, returns matrix of unique elements with their freq\n",
    "\n",
    "count_elements <- function(x) {\n",
    "    unique <- sort(unique(x))\n",
    "    count <- sapply(unique, function(i) length(x[x == i]))\n",
    "    return(rbind(unique, count))\n",
    "}\n"
   ]
  },
  {
   "cell_type": "code",
   "execution_count": 270,
   "id": "9bbf60d7",
   "metadata": {},
   "outputs": [],
   "source": [
    "x <- c(5, 2, 7, 7, 7, 2, 0, 0)"
   ]
  },
  {
   "cell_type": "code",
   "execution_count": 271,
   "id": "34877f52",
   "metadata": {},
   "outputs": [
    {
     "data": {
      "text/html": [
       "<table>\n",
       "<tbody>\n",
       "\t<tr><th scope=row>unique</th><td>0</td><td>2</td><td>5</td><td>7</td></tr>\n",
       "\t<tr><th scope=row>count</th><td>2</td><td>2</td><td>1</td><td>3</td></tr>\n",
       "</tbody>\n",
       "</table>\n"
      ],
      "text/latex": [
       "\\begin{tabular}{r|llll}\n",
       "\tunique & 0 & 2 & 5 & 7\\\\\n",
       "\tcount & 2 & 2 & 1 & 3\\\\\n",
       "\\end{tabular}\n"
      ],
      "text/markdown": [
       "\n",
       "| unique | 0 | 2 | 5 | 7 |\n",
       "| count | 2 | 2 | 1 | 3 |\n",
       "\n"
      ],
      "text/plain": [
       "       [,1] [,2] [,3] [,4]\n",
       "unique 0    2    5    7   \n",
       "count  2    2    1    3   "
      ]
     },
     "metadata": {},
     "output_type": "display_data"
    }
   ],
   "source": [
    "count_elements(x)"
   ]
  },
  {
   "cell_type": "markdown",
   "id": "545b7cb1",
   "metadata": {},
   "source": [
    "\n",
    "# DATAFRAME"
   ]
  },
  {
   "cell_type": "code",
   "execution_count": 283,
   "id": "e817256f",
   "metadata": {},
   "outputs": [
    {
     "data": {
      "text/html": [
       "<table>\n",
       "<thead><tr><th scope=col>x</th><th scope=col>y</th><th scope=col>z</th></tr></thead>\n",
       "<tbody>\n",
       "\t<tr><td>1    </td><td>a    </td><td> TRUE</td></tr>\n",
       "\t<tr><td>2    </td><td>b    </td><td>FALSE</td></tr>\n",
       "\t<tr><td>3    </td><td>c    </td><td> TRUE</td></tr>\n",
       "\t<tr><td>4    </td><td>d    </td><td>FALSE</td></tr>\n",
       "</tbody>\n",
       "</table>\n"
      ],
      "text/latex": [
       "\\begin{tabular}{r|lll}\n",
       " x & y & z\\\\\n",
       "\\hline\n",
       "\t 1     & a     &  TRUE\\\\\n",
       "\t 2     & b     & FALSE\\\\\n",
       "\t 3     & c     &  TRUE\\\\\n",
       "\t 4     & d     & FALSE\\\\\n",
       "\\end{tabular}\n"
      ],
      "text/markdown": [
       "\n",
       "| x | y | z |\n",
       "|---|---|---|\n",
       "| 1     | a     |  TRUE |\n",
       "| 2     | b     | FALSE |\n",
       "| 3     | c     |  TRUE |\n",
       "| 4     | d     | FALSE |\n",
       "\n"
      ],
      "text/plain": [
       "  x y z    \n",
       "1 1 a  TRUE\n",
       "2 2 b FALSE\n",
       "3 3 c  TRUE\n",
       "4 4 d FALSE"
      ]
     },
     "metadata": {},
     "output_type": "display_data"
    }
   ],
   "source": [
    "df <- data.frame(x=1:4, y=letters[1:4], z=c(T, F))\n",
    "df"
   ]
  },
  {
   "cell_type": "code",
   "execution_count": 285,
   "id": "16abc8b7",
   "metadata": {},
   "outputs": [
    {
     "name": "stdout",
     "output_type": "stream",
     "text": [
      "'data.frame':\t4 obs. of  3 variables:\n",
      " $ x: int  1 2 3 4\n",
      " $ y: Factor w/ 4 levels \"a\",\"b\",\"c\",\"d\": 1 2 3 4\n",
      " $ z: logi  TRUE FALSE TRUE FALSE\n"
     ]
    }
   ],
   "source": [
    "str(df) #info about df"
   ]
  },
  {
   "cell_type": "code",
   "execution_count": 287,
   "id": "cd878f2d",
   "metadata": {},
   "outputs": [],
   "source": [
    "rownames(df) <- c('Alpha', 'Bravo', 'Charlie', 'Delta') #same names(df)"
   ]
  },
  {
   "cell_type": "code",
   "execution_count": 288,
   "id": "3bca15b6",
   "metadata": {},
   "outputs": [
    {
     "data": {
      "text/html": [
       "<table>\n",
       "<thead><tr><th></th><th scope=col>x</th><th scope=col>y</th><th scope=col>z</th></tr></thead>\n",
       "<tbody>\n",
       "\t<tr><th scope=row>Alpha</th><td>1    </td><td>a    </td><td> TRUE</td></tr>\n",
       "\t<tr><th scope=row>Bravo</th><td>2    </td><td>b    </td><td>FALSE</td></tr>\n",
       "\t<tr><th scope=row>Charlie</th><td>3    </td><td>c    </td><td> TRUE</td></tr>\n",
       "\t<tr><th scope=row>Delta</th><td>4    </td><td>d    </td><td>FALSE</td></tr>\n",
       "</tbody>\n",
       "</table>\n"
      ],
      "text/latex": [
       "\\begin{tabular}{r|lll}\n",
       "  & x & y & z\\\\\n",
       "\\hline\n",
       "\tAlpha & 1     & a     &  TRUE\\\\\n",
       "\tBravo & 2     & b     & FALSE\\\\\n",
       "\tCharlie & 3     & c     &  TRUE\\\\\n",
       "\tDelta & 4     & d     & FALSE\\\\\n",
       "\\end{tabular}\n"
      ],
      "text/markdown": [
       "\n",
       "| <!--/--> | x | y | z |\n",
       "|---|---|---|---|\n",
       "| Alpha | 1     | a     |  TRUE |\n",
       "| Bravo | 2     | b     | FALSE |\n",
       "| Charlie | 3     | c     |  TRUE |\n",
       "| Delta | 4     | d     | FALSE |\n",
       "\n"
      ],
      "text/plain": [
       "        x y z    \n",
       "Alpha   1 a  TRUE\n",
       "Bravo   2 b FALSE\n",
       "Charlie 3 c  TRUE\n",
       "Delta   4 d FALSE"
      ]
     },
     "metadata": {},
     "output_type": "display_data"
    }
   ],
   "source": [
    "df"
   ]
  },
  {
   "cell_type": "raw",
   "id": "b5daea13",
   "metadata": {},
   "source": [
    "rownames(df), colnames(df) #dimnames of df"
   ]
  },
  {
   "cell_type": "code",
   "execution_count": 289,
   "id": "f5d185bf",
   "metadata": {},
   "outputs": [
    {
     "data": {
      "text/html": [
       "<ol class=list-inline>\n",
       "\t<li>4</li>\n",
       "\t<li>3</li>\n",
       "</ol>\n"
      ],
      "text/latex": [
       "\\begin{enumerate*}\n",
       "\\item 4\n",
       "\\item 3\n",
       "\\end{enumerate*}\n"
      ],
      "text/markdown": [
       "1. 4\n",
       "2. 3\n",
       "\n",
       "\n"
      ],
      "text/plain": [
       "[1] 4 3"
      ]
     },
     "metadata": {},
     "output_type": "display_data"
    }
   ],
   "source": [
    "dim(df) #sizes of df"
   ]
  },
  {
   "cell_type": "code",
   "execution_count": 290,
   "id": "6c46009c",
   "metadata": {},
   "outputs": [
    {
     "data": {
      "text/html": [
       "4"
      ],
      "text/latex": [
       "4"
      ],
      "text/markdown": [
       "4"
      ],
      "text/plain": [
       "[1] 4"
      ]
     },
     "metadata": {},
     "output_type": "display_data"
    },
    {
     "data": {
      "text/html": [
       "3"
      ],
      "text/latex": [
       "3"
      ],
      "text/markdown": [
       "3"
      ],
      "text/plain": [
       "[1] 3"
      ]
     },
     "metadata": {},
     "output_type": "display_data"
    }
   ],
   "source": [
    "nrow(df); ncol(df) #number of rows and number of columns\n",
    "\n",
    "#length(df) == ncol(df)"
   ]
  },
  {
   "cell_type": "markdown",
   "id": "dff40c98",
   "metadata": {},
   "source": [
    "# Indexing in DataFrame"
   ]
  },
  {
   "cell_type": "code",
   "execution_count": 291,
   "id": "f064368f",
   "metadata": {},
   "outputs": [
    {
     "data": {
      "text/html": [
       "<table>\n",
       "<thead><tr><th></th><th scope=col>y</th><th scope=col>z</th></tr></thead>\n",
       "<tbody>\n",
       "\t<tr><th scope=row>Charlie</th><td>c    </td><td> TRUE</td></tr>\n",
       "\t<tr><th scope=row>Delta</th><td>d    </td><td>FALSE</td></tr>\n",
       "</tbody>\n",
       "</table>\n"
      ],
      "text/latex": [
       "\\begin{tabular}{r|ll}\n",
       "  & y & z\\\\\n",
       "\\hline\n",
       "\tCharlie & c     &  TRUE\\\\\n",
       "\tDelta & d     & FALSE\\\\\n",
       "\\end{tabular}\n"
      ],
      "text/markdown": [
       "\n",
       "| <!--/--> | y | z |\n",
       "|---|---|---|\n",
       "| Charlie | c     |  TRUE |\n",
       "| Delta | d     | FALSE |\n",
       "\n"
      ],
      "text/plain": [
       "        y z    \n",
       "Charlie c  TRUE\n",
       "Delta   d FALSE"
      ]
     },
     "metadata": {},
     "output_type": "display_data"
    }
   ],
   "source": [
    "df[3:4, -1]"
   ]
  },
  {
   "cell_type": "code",
   "execution_count": 293,
   "id": "51ce98fa",
   "metadata": {},
   "outputs": [
    {
     "data": {
      "text/html": [
       "<table>\n",
       "<thead><tr><th></th><th scope=col>z</th><th scope=col>x</th></tr></thead>\n",
       "<tbody>\n",
       "\t<tr><th scope=row>Bravo</th><td>FALSE</td><td>2    </td></tr>\n",
       "\t<tr><th scope=row>Delta</th><td>FALSE</td><td>4    </td></tr>\n",
       "</tbody>\n",
       "</table>\n"
      ],
      "text/latex": [
       "\\begin{tabular}{r|ll}\n",
       "  & z & x\\\\\n",
       "\\hline\n",
       "\tBravo & FALSE & 2    \\\\\n",
       "\tDelta & FALSE & 4    \\\\\n",
       "\\end{tabular}\n"
      ],
      "text/markdown": [
       "\n",
       "| <!--/--> | z | x |\n",
       "|---|---|---|\n",
       "| Bravo | FALSE | 2     |\n",
       "| Delta | FALSE | 4     |\n",
       "\n"
      ],
      "text/plain": [
       "      z     x\n",
       "Bravo FALSE 2\n",
       "Delta FALSE 4"
      ]
     },
     "metadata": {},
     "output_type": "display_data"
    }
   ],
   "source": [
    "df[c(F, T), c('z', 'x')]"
   ]
  },
  {
   "cell_type": "code",
   "execution_count": 295,
   "id": "23d0ff6b",
   "metadata": {},
   "outputs": [
    {
     "data": {
      "text/html": [
       "<ol class=list-inline>\n",
       "\t<li>1</li>\n",
       "\t<li>2</li>\n",
       "\t<li>3</li>\n",
       "\t<li>4</li>\n",
       "</ol>\n"
      ],
      "text/latex": [
       "\\begin{enumerate*}\n",
       "\\item 1\n",
       "\\item 2\n",
       "\\item 3\n",
       "\\item 4\n",
       "\\end{enumerate*}\n"
      ],
      "text/markdown": [
       "1. 1\n",
       "2. 2\n",
       "3. 3\n",
       "4. 4\n",
       "\n",
       "\n"
      ],
      "text/plain": [
       "[1] 1 2 3 4"
      ]
     },
     "metadata": {},
     "output_type": "display_data"
    },
    {
     "data": {
      "text/html": [
       "<table>\n",
       "<thead><tr><th></th><th scope=col>x</th></tr></thead>\n",
       "<tbody>\n",
       "\t<tr><th scope=row>Alpha</th><td>1</td></tr>\n",
       "\t<tr><th scope=row>Bravo</th><td>2</td></tr>\n",
       "\t<tr><th scope=row>Charlie</th><td>3</td></tr>\n",
       "\t<tr><th scope=row>Delta</th><td>4</td></tr>\n",
       "</tbody>\n",
       "</table>\n"
      ],
      "text/latex": [
       "\\begin{tabular}{r|l}\n",
       "  & x\\\\\n",
       "\\hline\n",
       "\tAlpha & 1\\\\\n",
       "\tBravo & 2\\\\\n",
       "\tCharlie & 3\\\\\n",
       "\tDelta & 4\\\\\n",
       "\\end{tabular}\n"
      ],
      "text/markdown": [
       "\n",
       "| <!--/--> | x |\n",
       "|---|---|\n",
       "| Alpha | 1 |\n",
       "| Bravo | 2 |\n",
       "| Charlie | 3 |\n",
       "| Delta | 4 |\n",
       "\n"
      ],
      "text/plain": [
       "        x\n",
       "Alpha   1\n",
       "Bravo   2\n",
       "Charlie 3\n",
       "Delta   4"
      ]
     },
     "metadata": {},
     "output_type": "display_data"
    }
   ],
   "source": [
    "df[,1]; df [,1, drop=F]"
   ]
  },
  {
   "cell_type": "code",
   "execution_count": 297,
   "id": "13eb5854",
   "metadata": {},
   "outputs": [
    {
     "data": {
      "text/html": [
       "<ol class=list-inline>\n",
       "\t<li>TRUE</li>\n",
       "\t<li>FALSE</li>\n",
       "\t<li>TRUE</li>\n",
       "\t<li>FALSE</li>\n",
       "</ol>\n"
      ],
      "text/latex": [
       "\\begin{enumerate*}\n",
       "\\item TRUE\n",
       "\\item FALSE\n",
       "\\item TRUE\n",
       "\\item FALSE\n",
       "\\end{enumerate*}\n"
      ],
      "text/markdown": [
       "1. TRUE\n",
       "2. FALSE\n",
       "3. TRUE\n",
       "4. FALSE\n",
       "\n",
       "\n"
      ],
      "text/plain": [
       "[1]  TRUE FALSE  TRUE FALSE"
      ]
     },
     "metadata": {},
     "output_type": "display_data"
    },
    {
     "data": {
      "text/html": [
       "<ol class=list-inline>\n",
       "\t<li>TRUE</li>\n",
       "\t<li>FALSE</li>\n",
       "\t<li>TRUE</li>\n",
       "\t<li>FALSE</li>\n",
       "</ol>\n"
      ],
      "text/latex": [
       "\\begin{enumerate*}\n",
       "\\item TRUE\n",
       "\\item FALSE\n",
       "\\item TRUE\n",
       "\\item FALSE\n",
       "\\end{enumerate*}\n"
      ],
      "text/markdown": [
       "1. TRUE\n",
       "2. FALSE\n",
       "3. TRUE\n",
       "4. FALSE\n",
       "\n",
       "\n"
      ],
      "text/plain": [
       "[1]  TRUE FALSE  TRUE FALSE"
      ]
     },
     "metadata": {},
     "output_type": "display_data"
    },
    {
     "data": {
      "text/html": [
       "<ol class=list-inline>\n",
       "\t<li>TRUE</li>\n",
       "\t<li>FALSE</li>\n",
       "\t<li>TRUE</li>\n",
       "\t<li>FALSE</li>\n",
       "</ol>\n"
      ],
      "text/latex": [
       "\\begin{enumerate*}\n",
       "\\item TRUE\n",
       "\\item FALSE\n",
       "\\item TRUE\n",
       "\\item FALSE\n",
       "\\end{enumerate*}\n"
      ],
      "text/markdown": [
       "1. TRUE\n",
       "2. FALSE\n",
       "3. TRUE\n",
       "4. FALSE\n",
       "\n",
       "\n"
      ],
      "text/plain": [
       "[1]  TRUE FALSE  TRUE FALSE"
      ]
     },
     "metadata": {},
     "output_type": "display_data"
    }
   ],
   "source": [
    "df$z; df[[3]]; df[['z']]"
   ]
  },
  {
   "cell_type": "markdown",
   "id": "3842f1cc",
   "metadata": {},
   "source": [
    "## Conditioning Filtering"
   ]
  },
  {
   "cell_type": "code",
   "execution_count": 299,
   "id": "f78a9bbb",
   "metadata": {},
   "outputs": [
    {
     "data": {
      "text/html": [
       "<table>\n",
       "<thead><tr><th></th><th scope=col>x</th><th scope=col>y</th><th scope=col>z</th></tr></thead>\n",
       "<tbody>\n",
       "\t<tr><th scope=row>Charlie</th><td>3    </td><td>c    </td><td> TRUE</td></tr>\n",
       "\t<tr><th scope=row>Delta</th><td>4    </td><td>d    </td><td>FALSE</td></tr>\n",
       "</tbody>\n",
       "</table>\n"
      ],
      "text/latex": [
       "\\begin{tabular}{r|lll}\n",
       "  & x & y & z\\\\\n",
       "\\hline\n",
       "\tCharlie & 3     & c     &  TRUE\\\\\n",
       "\tDelta & 4     & d     & FALSE\\\\\n",
       "\\end{tabular}\n"
      ],
      "text/markdown": [
       "\n",
       "| <!--/--> | x | y | z |\n",
       "|---|---|---|---|\n",
       "| Charlie | 3     | c     |  TRUE |\n",
       "| Delta | 4     | d     | FALSE |\n",
       "\n"
      ],
      "text/plain": [
       "        x y z    \n",
       "Charlie 3 c  TRUE\n",
       "Delta   4 d FALSE"
      ]
     },
     "metadata": {},
     "output_type": "display_data"
    }
   ],
   "source": [
    "df[df$x > 2, ]"
   ]
  },
  {
   "cell_type": "code",
   "execution_count": 300,
   "id": "ab65a002",
   "metadata": {},
   "outputs": [
    {
     "data": {
      "text/html": [
       "<table>\n",
       "<thead><tr><th></th><th scope=col>x</th><th scope=col>y</th><th scope=col>z</th></tr></thead>\n",
       "<tbody>\n",
       "\t<tr><th scope=row>Charlie</th><td>3    </td><td>c    </td><td> TRUE</td></tr>\n",
       "\t<tr><th scope=row>Delta</th><td>4    </td><td>d    </td><td>FALSE</td></tr>\n",
       "</tbody>\n",
       "</table>\n"
      ],
      "text/latex": [
       "\\begin{tabular}{r|lll}\n",
       "  & x & y & z\\\\\n",
       "\\hline\n",
       "\tCharlie & 3     & c     &  TRUE\\\\\n",
       "\tDelta & 4     & d     & FALSE\\\\\n",
       "\\end{tabular}\n"
      ],
      "text/markdown": [
       "\n",
       "| <!--/--> | x | y | z |\n",
       "|---|---|---|---|\n",
       "| Charlie | 3     | c     |  TRUE |\n",
       "| Delta | 4     | d     | FALSE |\n",
       "\n"
      ],
      "text/plain": [
       "        x y z    \n",
       "Charlie 3 c  TRUE\n",
       "Delta   4 d FALSE"
      ]
     },
     "metadata": {},
     "output_type": "display_data"
    }
   ],
   "source": [
    "subset(df, x>2)"
   ]
  },
  {
   "cell_type": "code",
   "execution_count": 301,
   "id": "30e1ad23",
   "metadata": {
    "scrolled": true
   },
   "outputs": [
    {
     "data": {
      "text/html": [
       "<table>\n",
       "<thead><tr><th></th><th scope=col>x</th><th scope=col>z</th></tr></thead>\n",
       "<tbody>\n",
       "\t<tr><th scope=row>Charlie</th><td>3    </td><td> TRUE</td></tr>\n",
       "\t<tr><th scope=row>Delta</th><td>4    </td><td>FALSE</td></tr>\n",
       "</tbody>\n",
       "</table>\n"
      ],
      "text/latex": [
       "\\begin{tabular}{r|ll}\n",
       "  & x & z\\\\\n",
       "\\hline\n",
       "\tCharlie & 3     &  TRUE\\\\\n",
       "\tDelta & 4     & FALSE\\\\\n",
       "\\end{tabular}\n"
      ],
      "text/markdown": [
       "\n",
       "| <!--/--> | x | z |\n",
       "|---|---|---|\n",
       "| Charlie | 3     |  TRUE |\n",
       "| Delta | 4     | FALSE |\n",
       "\n"
      ],
      "text/plain": [
       "        x z    \n",
       "Charlie 3  TRUE\n",
       "Delta   4 FALSE"
      ]
     },
     "metadata": {},
     "output_type": "display_data"
    }
   ],
   "source": [
    "subset(df, x>2, select=c(x,z))"
   ]
  },
  {
   "cell_type": "markdown",
   "id": "8510477d",
   "metadata": {},
   "source": [
    "## Combinig dataframes"
   ]
  },
  {
   "cell_type": "code",
   "execution_count": 302,
   "id": "89b8376d",
   "metadata": {},
   "outputs": [
    {
     "data": {
      "text/html": [
       "<table>\n",
       "<thead><tr><th></th><th scope=col>x</th><th scope=col>y</th><th scope=col>z</th><th scope=col>x</th><th scope=col>y</th><th scope=col>z</th></tr></thead>\n",
       "<tbody>\n",
       "\t<tr><th scope=row>Alpha</th><td>1    </td><td>a    </td><td> TRUE</td><td>1    </td><td>a    </td><td> TRUE</td></tr>\n",
       "\t<tr><th scope=row>Bravo</th><td>2    </td><td>b    </td><td>FALSE</td><td>2    </td><td>b    </td><td>FALSE</td></tr>\n",
       "\t<tr><th scope=row>Charlie</th><td>3    </td><td>c    </td><td> TRUE</td><td>3    </td><td>c    </td><td> TRUE</td></tr>\n",
       "\t<tr><th scope=row>Delta</th><td>4    </td><td>d    </td><td>FALSE</td><td>4    </td><td>d    </td><td>FALSE</td></tr>\n",
       "</tbody>\n",
       "</table>\n"
      ],
      "text/latex": [
       "\\begin{tabular}{r|llllll}\n",
       "  & x & y & z & x & y & z\\\\\n",
       "\\hline\n",
       "\tAlpha & 1     & a     &  TRUE & 1     & a     &  TRUE\\\\\n",
       "\tBravo & 2     & b     & FALSE & 2     & b     & FALSE\\\\\n",
       "\tCharlie & 3     & c     &  TRUE & 3     & c     &  TRUE\\\\\n",
       "\tDelta & 4     & d     & FALSE & 4     & d     & FALSE\\\\\n",
       "\\end{tabular}\n"
      ],
      "text/markdown": [
       "\n",
       "| <!--/--> | x | y | z | x | y | z |\n",
       "|---|---|---|---|---|---|---|\n",
       "| Alpha | 1     | a     |  TRUE | 1     | a     |  TRUE |\n",
       "| Bravo | 2     | b     | FALSE | 2     | b     | FALSE |\n",
       "| Charlie | 3     | c     |  TRUE | 3     | c     |  TRUE |\n",
       "| Delta | 4     | d     | FALSE | 4     | d     | FALSE |\n",
       "\n"
      ],
      "text/plain": [
       "        x y z     x y z    \n",
       "Alpha   1 a  TRUE 1 a  TRUE\n",
       "Bravo   2 b FALSE 2 b FALSE\n",
       "Charlie 3 c  TRUE 3 c  TRUE\n",
       "Delta   4 d FALSE 4 d FALSE"
      ]
     },
     "metadata": {},
     "output_type": "display_data"
    }
   ],
   "source": [
    "cbind(df, df)"
   ]
  },
  {
   "cell_type": "code",
   "execution_count": 304,
   "id": "eaec1744",
   "metadata": {},
   "outputs": [
    {
     "data": {
      "text/html": [
       "<table>\n",
       "<thead><tr><th></th><th scope=col>x</th><th scope=col>y</th><th scope=col>z</th></tr></thead>\n",
       "<tbody>\n",
       "\t<tr><th scope=row>Alpha</th><td>1    </td><td>a    </td><td> TRUE</td></tr>\n",
       "\t<tr><th scope=row>Bravo</th><td>2    </td><td>b    </td><td>FALSE</td></tr>\n",
       "\t<tr><th scope=row>Charlie</th><td>3    </td><td>c    </td><td> TRUE</td></tr>\n",
       "\t<tr><th scope=row>Delta</th><td>4    </td><td>d    </td><td>FALSE</td></tr>\n",
       "\t<tr><th scope=row>Alpha1</th><td>1    </td><td>a    </td><td> TRUE</td></tr>\n",
       "\t<tr><th scope=row>Bravo1</th><td>2    </td><td>b    </td><td>FALSE</td></tr>\n",
       "\t<tr><th scope=row>Charlie1</th><td>3    </td><td>c    </td><td> TRUE</td></tr>\n",
       "\t<tr><th scope=row>Delta1</th><td>4    </td><td>d    </td><td>FALSE</td></tr>\n",
       "</tbody>\n",
       "</table>\n"
      ],
      "text/latex": [
       "\\begin{tabular}{r|lll}\n",
       "  & x & y & z\\\\\n",
       "\\hline\n",
       "\tAlpha & 1     & a     &  TRUE\\\\\n",
       "\tBravo & 2     & b     & FALSE\\\\\n",
       "\tCharlie & 3     & c     &  TRUE\\\\\n",
       "\tDelta & 4     & d     & FALSE\\\\\n",
       "\tAlpha1 & 1     & a     &  TRUE\\\\\n",
       "\tBravo1 & 2     & b     & FALSE\\\\\n",
       "\tCharlie1 & 3     & c     &  TRUE\\\\\n",
       "\tDelta1 & 4     & d     & FALSE\\\\\n",
       "\\end{tabular}\n"
      ],
      "text/markdown": [
       "\n",
       "| <!--/--> | x | y | z |\n",
       "|---|---|---|---|\n",
       "| Alpha | 1     | a     |  TRUE |\n",
       "| Bravo | 2     | b     | FALSE |\n",
       "| Charlie | 3     | c     |  TRUE |\n",
       "| Delta | 4     | d     | FALSE |\n",
       "| Alpha1 | 1     | a     |  TRUE |\n",
       "| Bravo1 | 2     | b     | FALSE |\n",
       "| Charlie1 | 3     | c     |  TRUE |\n",
       "| Delta1 | 4     | d     | FALSE |\n",
       "\n"
      ],
      "text/plain": [
       "         x y z    \n",
       "Alpha    1 a  TRUE\n",
       "Bravo    2 b FALSE\n",
       "Charlie  3 c  TRUE\n",
       "Delta    4 d FALSE\n",
       "Alpha1   1 a  TRUE\n",
       "Bravo1   2 b FALSE\n",
       "Charlie1 3 c  TRUE\n",
       "Delta1   4 d FALSE"
      ]
     },
     "metadata": {},
     "output_type": "display_data"
    }
   ],
   "source": [
    "rbind(df, df)"
   ]
  },
  {
   "cell_type": "code",
   "execution_count": 306,
   "id": "0bd69d5d",
   "metadata": {},
   "outputs": [
    {
     "data": {
      "text/html": [
       "<table>\n",
       "<thead><tr><th scope=col>x</th><th scope=col>y</th><th scope=col>z</th><th scope=col>salary</th></tr></thead>\n",
       "<tbody>\n",
       "\t<tr><td>1    </td><td>a    </td><td> TRUE</td><td>100  </td></tr>\n",
       "\t<tr><td>2    </td><td>b    </td><td>FALSE</td><td>200  </td></tr>\n",
       "\t<tr><td>3    </td><td>c    </td><td> TRUE</td><td>100  </td></tr>\n",
       "</tbody>\n",
       "</table>\n"
      ],
      "text/latex": [
       "\\begin{tabular}{r|llll}\n",
       " x & y & z & salary\\\\\n",
       "\\hline\n",
       "\t 1     & a     &  TRUE & 100  \\\\\n",
       "\t 2     & b     & FALSE & 200  \\\\\n",
       "\t 3     & c     &  TRUE & 100  \\\\\n",
       "\\end{tabular}\n"
      ],
      "text/markdown": [
       "\n",
       "| x | y | z | salary |\n",
       "|---|---|---|---|\n",
       "| 1     | a     |  TRUE | 100   |\n",
       "| 2     | b     | FALSE | 200   |\n",
       "| 3     | c     |  TRUE | 100   |\n",
       "\n"
      ],
      "text/plain": [
       "  x y z     salary\n",
       "1 1 a  TRUE 100   \n",
       "2 2 b FALSE 200   \n",
       "3 3 c  TRUE 100   "
      ]
     },
     "metadata": {},
     "output_type": "display_data"
    }
   ],
   "source": [
    "df_salary <- data.frame(x=c(3,2,6,1), salary=c(100, 200, 300, 100))\n",
    "merge(df, df_salary, by='x') #inner join of two dataframes"
   ]
  },
  {
   "cell_type": "raw",
   "id": "58c788ec",
   "metadata": {},
   "source": [
    "Inner join: merge(x= df1, y= df2, by = \"CustomerId\")\n",
    "\n",
    "Outer join: merge(x = df1, y = df2, by = \"CustomerId\", all = TRUE)\n",
    "\n",
    "Left outer: merge(x = df1, y = df2, by = \"CustomerId\", all.x = TRUE)\n",
    "\n",
    "Right outer: merge(x = df1, y = df2, by = \"CustomerId\", all.y = TRUE)\n",
    "\n",
    "Cross join: merge(x = df1, y = df2, by = NULL)"
   ]
  },
  {
   "cell_type": "code",
   "execution_count": 307,
   "id": "082209fb",
   "metadata": {},
   "outputs": [],
   "source": [
    "data <- attitude"
   ]
  },
  {
   "cell_type": "code",
   "execution_count": 329,
   "id": "f0dc8d84",
   "metadata": {
    "scrolled": false
   },
   "outputs": [
    {
     "data": {
      "text/html": [
       "<table>\n",
       "<thead><tr><th></th><th scope=col>rating</th><th scope=col>complaints</th><th scope=col>privileges</th><th scope=col>learning</th><th scope=col>raises</th><th scope=col>critical</th><th scope=col>advance</th></tr></thead>\n",
       "<tbody>\n",
       "\t<tr><th scope=row>29</th><td>85</td><td>85</td><td>71</td><td>71</td><td>77</td><td>74</td><td>55</td></tr>\n",
       "</tbody>\n",
       "</table>\n"
      ],
      "text/latex": [
       "\\begin{tabular}{r|lllllll}\n",
       "  & rating & complaints & privileges & learning & raises & critical & advance\\\\\n",
       "\\hline\n",
       "\t29 & 85 & 85 & 71 & 71 & 77 & 74 & 55\\\\\n",
       "\\end{tabular}\n"
      ],
      "text/markdown": [
       "\n",
       "| <!--/--> | rating | complaints | privileges | learning | raises | critical | advance |\n",
       "|---|---|---|---|---|---|---|---|\n",
       "| 29 | 85 | 85 | 71 | 71 | 77 | 74 | 55 |\n",
       "\n"
      ],
      "text/plain": [
       "   rating complaints privileges learning raises critical advance\n",
       "29 85     85         71         71       77     74       55     "
      ]
     },
     "metadata": {},
     "output_type": "display_data"
    }
   ],
   "source": [
    "\n",
    "#Our goal is to find a company from attitude DataFrame which learning rate is in top 5 companies \n",
    "#and sum of (complaints, raises  and  advance) columns is max\n",
    "\n",
    "\n",
    "top_learning <- sort(data$learning, decreasing=T)[5]\n",
    "top_learning_data <- subset(data, learning >= top_learning)\n",
    "rating <- apply(top_learning_data, 1, function(x) x[2] + x[7] + x[5])\n",
    "max_rating <- max(rating)\n",
    "ind <- which(rating == max_rating)\n",
    "top_learning_data[ind,]"
   ]
  },
  {
   "cell_type": "code",
   "execution_count": null,
   "id": "c16e20c2",
   "metadata": {},
   "outputs": [],
   "source": [
    "# Our goal is to choose all columns from dataset attitude except rating, where rating is less then 50\n",
    "\n",
    "subset(sel = -rating, sub = rating < 50, attitude)\n",
    "subset(attitude, rating < 50, -rating)\n",
    "attitude[attitude$rating < 50, names(attitude) != \"rating\"]"
   ]
  },
  {
   "cell_type": "markdown",
   "id": "5493b72e",
   "metadata": {},
   "source": [
    "# Importing and inspecting Data"
   ]
  },
  {
   "cell_type": "raw",
   "id": "9cf42bca",
   "metadata": {},
   "source": [
    "Reading data\n",
    "\n",
    "read.csv(df)  - function to open csv file in R\n",
    "\n",
    "Checking Data\n",
    "\n",
    "str(df) - shows structure of data\n",
    "\n",
    "head(df, n) - shows first n rows of df\n",
    "\n",
    "summary(df) - shows us some stastistics for our df\n",
    "\n",
    "any(!complete.cases(df)) - to show if there is any missing data (returns FALSE, if there is no missing values)\n",
    "\n",
    "\n",
    "\n"
   ]
  },
  {
   "cell_type": "code",
   "execution_count": 348,
   "id": "8115f1d4",
   "metadata": {},
   "outputs": [
    {
     "data": {
      "text/plain": [
       "       x        y         z          \n",
       " Min.   :1.00   a:1   Mode :logical  \n",
       " 1st Qu.:1.75   b:1   FALSE:2        \n",
       " Median :2.50   c:1   TRUE :2        \n",
       " Mean   :2.50   d:1                  \n",
       " 3rd Qu.:3.25                        \n",
       " Max.   :4.00                        "
      ]
     },
     "metadata": {},
     "output_type": "display_data"
    }
   ],
   "source": [
    "summary(df)"
   ]
  },
  {
   "cell_type": "code",
   "execution_count": 120,
   "id": "b8d6646a",
   "metadata": {},
   "outputs": [],
   "source": [
    "df1 <- read.csv('https://raw.githubusercontent.com/tonytonov/Rcourse/master/R%20programming/avianHabitat.csv')\n",
    "df2 <- read.csv('https://raw.githubusercontent.com/tonytonov/Rcourse/master/R%20programming/avianHabitat2.csv')"
   ]
  },
  {
   "cell_type": "code",
   "execution_count": 108,
   "id": "a0a059dc",
   "metadata": {},
   "outputs": [
    {
     "data": {
      "text/html": [
       "<table>\n",
       "<thead><tr><th scope=col>Site</th><th scope=col>Observer</th><th scope=col>Subpoint</th><th scope=col>VOR</th><th scope=col>PDB</th><th scope=col>DBHt</th><th scope=col>PW</th><th scope=col>WHt</th><th scope=col>PE</th><th scope=col>EHt</th><th scope=col>PA</th><th scope=col>AHt</th><th scope=col>PH</th><th scope=col>HHt</th><th scope=col>PL</th><th scope=col>LHt</th><th scope=col>PB</th></tr></thead>\n",
       "<tbody>\n",
       "\t<tr><td>BunkerHill27</td><td>RA          </td><td>1           </td><td>6.0         </td><td>3           </td><td>5.2         </td><td>0           </td><td>0.0         </td><td>4           </td><td>2.9         </td><td>0           </td><td>0           </td><td>4           </td><td>3.0         </td><td>0           </td><td>0           </td><td>0           </td></tr>\n",
       "\t<tr><td>BunkerHill27</td><td>RA          </td><td>2           </td><td>4.5         </td><td>2           </td><td>3.1         </td><td>3           </td><td>4.7         </td><td>3           </td><td>4.1         </td><td>0           </td><td>0           </td><td>3           </td><td>3.5         </td><td>2           </td><td>1           </td><td>0           </td></tr>\n",
       "\t<tr><td>BunkerHill27</td><td>RA          </td><td>3           </td><td>2.0         </td><td>4           </td><td>5.5         </td><td>1           </td><td>5.8         </td><td>3           </td><td>3.9         </td><td>0           </td><td>0           </td><td>3           </td><td>7.5         </td><td>0           </td><td>0           </td><td>0           </td></tr>\n",
       "\t<tr><td>BunkerHill27</td><td>RA          </td><td>4           </td><td>2.5         </td><td>3           </td><td>6.2         </td><td>0           </td><td>0.0         </td><td>3           </td><td>4.0         </td><td>0           </td><td>0           </td><td>4           </td><td>5.0         </td><td>0           </td><td>0           </td><td>0           </td></tr>\n",
       "</tbody>\n",
       "</table>\n"
      ],
      "text/latex": [
       "\\begin{tabular}{r|lllllllllllllllll}\n",
       " Site & Observer & Subpoint & VOR & PDB & DBHt & PW & WHt & PE & EHt & PA & AHt & PH & HHt & PL & LHt & PB\\\\\n",
       "\\hline\n",
       "\t BunkerHill27 & RA           & 1            & 6.0          & 3            & 5.2          & 0            & 0.0          & 4            & 2.9          & 0            & 0            & 4            & 3.0          & 0            & 0            & 0           \\\\\n",
       "\t BunkerHill27 & RA           & 2            & 4.5          & 2            & 3.1          & 3            & 4.7          & 3            & 4.1          & 0            & 0            & 3            & 3.5          & 2            & 1            & 0           \\\\\n",
       "\t BunkerHill27 & RA           & 3            & 2.0          & 4            & 5.5          & 1            & 5.8          & 3            & 3.9          & 0            & 0            & 3            & 7.5          & 0            & 0            & 0           \\\\\n",
       "\t BunkerHill27 & RA           & 4            & 2.5          & 3            & 6.2          & 0            & 0.0          & 3            & 4.0          & 0            & 0            & 4            & 5.0          & 0            & 0            & 0           \\\\\n",
       "\\end{tabular}\n"
      ],
      "text/markdown": [
       "\n",
       "| Site | Observer | Subpoint | VOR | PDB | DBHt | PW | WHt | PE | EHt | PA | AHt | PH | HHt | PL | LHt | PB |\n",
       "|---|---|---|---|---|---|---|---|---|---|---|---|---|---|---|---|---|\n",
       "| BunkerHill27 | RA           | 1            | 6.0          | 3            | 5.2          | 0            | 0.0          | 4            | 2.9          | 0            | 0            | 4            | 3.0          | 0            | 0            | 0            |\n",
       "| BunkerHill27 | RA           | 2            | 4.5          | 2            | 3.1          | 3            | 4.7          | 3            | 4.1          | 0            | 0            | 3            | 3.5          | 2            | 1            | 0            |\n",
       "| BunkerHill27 | RA           | 3            | 2.0          | 4            | 5.5          | 1            | 5.8          | 3            | 3.9          | 0            | 0            | 3            | 7.5          | 0            | 0            | 0            |\n",
       "| BunkerHill27 | RA           | 4            | 2.5          | 3            | 6.2          | 0            | 0.0          | 3            | 4.0          | 0            | 0            | 4            | 5.0          | 0            | 0            | 0            |\n",
       "\n"
      ],
      "text/plain": [
       "  Site         Observer Subpoint VOR PDB DBHt PW WHt PE EHt PA AHt PH HHt PL\n",
       "1 BunkerHill27 RA       1        6.0 3   5.2  0  0.0 4  2.9 0  0   4  3.0 0 \n",
       "2 BunkerHill27 RA       2        4.5 2   3.1  3  4.7 3  4.1 0  0   3  3.5 2 \n",
       "3 BunkerHill27 RA       3        2.0 4   5.5  1  5.8 3  3.9 0  0   3  7.5 0 \n",
       "4 BunkerHill27 RA       4        2.5 3   6.2  0  0.0 3  4.0 0  0   4  5.0 0 \n",
       "  LHt PB\n",
       "1 0   0 \n",
       "2 1   0 \n",
       "3 0   0 \n",
       "4 0   0 "
      ]
     },
     "metadata": {},
     "output_type": "display_data"
    },
    {
     "data": {
      "text/html": [
       "<table>\n",
       "<thead><tr><th scope=col>Dear.Sir.or.Madam</th><th scope=col>X</th></tr></thead>\n",
       "<tbody>\n",
       "\t<tr><td>Here's the rest of our data                                                                                                 </td><td> sorry for the delay!                                                                                                       </td></tr>\n",
       "\t<tr><td>With best regards                                                                                                           </td><td>                                                                                                                            </td></tr>\n",
       "\t<tr><td>Carlos Linayas                                                                                                              </td><td>                                                                                                                            </td></tr>\n",
       "\t<tr><td>----data starts from here!----                                                                                              </td><td>                                                                                                                            </td></tr>\n",
       "\t<tr><td>Site;Subpoint;VOR;PDB;DBHt;PW;WHt;PE;EHt;PA;AHt;PH;HHt;PL;LHt;PB % I removed Observer column since all measurements are mine</td><td>                                                                                                                            </td></tr>\n",
       "\t<tr><td>HortonCreek111;1;3;0;0;0;0;4;3.5;0;0;3;5;0;0;0                                                                              </td><td>                                                                                                                            </td></tr>\n",
       "</tbody>\n",
       "</table>\n"
      ],
      "text/latex": [
       "\\begin{tabular}{r|ll}\n",
       " Dear.Sir.or.Madam & X\\\\\n",
       "\\hline\n",
       "\t Here's the rest of our data                                                                                                  &  sorry for the delay!                                                                                                       \\\\\n",
       "\t With best regards                                                                                                            &                                                                                                                             \\\\\n",
       "\t Carlos Linayas                                                                                                               &                                                                                                                             \\\\\n",
       "\t ----data starts from here!----                                                                                               &                                                                                                                             \\\\\n",
       "\t Site;Subpoint;VOR;PDB;DBHt;PW;WHt;PE;EHt;PA;AHt;PH;HHt;PL;LHt;PB \\% I removed Observer column since all measurements are mine &                                                                                                                               \\\\\n",
       "\t HortonCreek111;1;3;0;0;0;0;4;3.5;0;0;3;5;0;0;0                                                                               &                                                                                                                             \\\\\n",
       "\\end{tabular}\n"
      ],
      "text/markdown": [
       "\n",
       "| Dear.Sir.or.Madam | X |\n",
       "|---|---|\n",
       "| Here's the rest of our data                                                                                                  |  sorry for the delay!                                                                                                        |\n",
       "| With best regards                                                                                                            |                                                                                                                              |\n",
       "| Carlos Linayas                                                                                                               |                                                                                                                              |\n",
       "| ----data starts from here!----                                                                                               |                                                                                                                              |\n",
       "| Site;Subpoint;VOR;PDB;DBHt;PW;WHt;PE;EHt;PA;AHt;PH;HHt;PL;LHt;PB % I removed Observer column since all measurements are mine |                                                                                                                              |\n",
       "| HortonCreek111;1;3;0;0;0;0;4;3.5;0;0;3;5;0;0;0                                                                               |                                                                                                                              |\n",
       "\n"
      ],
      "text/plain": [
       "  Dear.Sir.or.Madam                                                                                                           \n",
       "1 Here's the rest of our data                                                                                                 \n",
       "2 With best regards                                                                                                           \n",
       "3 Carlos Linayas                                                                                                              \n",
       "4 ----data starts from here!----                                                                                              \n",
       "5 Site;Subpoint;VOR;PDB;DBHt;PW;WHt;PE;EHt;PA;AHt;PH;HHt;PL;LHt;PB % I removed Observer column since all measurements are mine\n",
       "6 HortonCreek111;1;3;0;0;0;0;4;3.5;0;0;3;5;0;0;0                                                                              \n",
       "  X                    \n",
       "1  sorry for the delay!\n",
       "2                      \n",
       "3                      \n",
       "4                      \n",
       "5                      \n",
       "6                      "
      ]
     },
     "metadata": {},
     "output_type": "display_data"
    }
   ],
   "source": [
    "head(df1, 4)\n",
    "head(df2, 6)\n",
    "\n",
    "#As we can see our data2 has some rows that we don't need, so we need to skip them"
   ]
  },
  {
   "cell_type": "code",
   "execution_count": 109,
   "id": "b2325bf9",
   "metadata": {},
   "outputs": [],
   "source": [
    "df2 <- read.csv(sep = \";\", skip = 5, header = T, comment.char = \"%\", quote = \"\", na.strings = \"Don't remember\", file = 'https://raw.githubusercontent.com/tonytonov/Rcourse/master/R%20programming/avianHabitat2.csv')"
   ]
  },
  {
   "cell_type": "code",
   "execution_count": 110,
   "id": "df14eccc",
   "metadata": {},
   "outputs": [
    {
     "data": {
      "text/html": [
       "<table>\n",
       "<thead><tr><th scope=col>Site</th><th scope=col>Subpoint</th><th scope=col>VOR</th><th scope=col>PDB</th><th scope=col>DBHt</th><th scope=col>PW</th><th scope=col>WHt</th><th scope=col>PE</th><th scope=col>EHt</th><th scope=col>PA</th><th scope=col>AHt</th><th scope=col>PH</th><th scope=col>HHt</th><th scope=col>PL</th><th scope=col>LHt</th><th scope=col>PB</th></tr></thead>\n",
       "<tbody>\n",
       "\t<tr><td>HortonCreek111</td><td>1             </td><td>3.0           </td><td>0             </td><td>0.0           </td><td>0             </td><td> 0.0          </td><td>4             </td><td>3.5           </td><td>0             </td><td>0             </td><td>3             </td><td>5.0           </td><td>0             </td><td>0.0           </td><td>0             </td></tr>\n",
       "\t<tr><td>HortonCreek111</td><td>2             </td><td>3.0           </td><td>0             </td><td>0.0           </td><td>4             </td><td>18.5          </td><td>0             </td><td>0.0           </td><td>0             </td><td>0             </td><td>4             </td><td>5.7           </td><td>0             </td><td>0.0           </td><td>0             </td></tr>\n",
       "\t<tr><td>HortonCreek111</td><td>3             </td><td>2.0           </td><td>0             </td><td>0.0           </td><td>3             </td><td>11.3          </td><td>2             </td><td>3.0           </td><td>0             </td><td>0             </td><td>4             </td><td>4.9           </td><td>1             </td><td>0.2           </td><td>0             </td></tr>\n",
       "\t<tr><td>HortonCreek111</td><td>4             </td><td>3.5           </td><td>0             </td><td>0.0           </td><td>4             </td><td>15.8          </td><td>0             </td><td>0.0           </td><td>0             </td><td>0             </td><td>3             </td><td>4.2           </td><td>0             </td><td>0.0           </td><td>0             </td></tr>\n",
       "\t<tr><td>HortonCreek111</td><td>5             </td><td>0.0           </td><td>1             </td><td>0.3           </td><td>2             </td><td> 0.5          </td><td>4             </td><td>0.4           </td><td>0             </td><td>0             </td><td>2             </td><td>1.4           </td><td>5             </td><td>0.3           </td><td>0             </td></tr>\n",
       "\t<tr><td>HortonCreek111</td><td>6             </td><td>0.0           </td><td>2             </td><td>0.7           </td><td>3             </td><td> 0.5          </td><td>4             </td><td>0.5           </td><td>0             </td><td>0             </td><td>1             </td><td>1.6           </td><td>3             </td><td>0.5           </td><td>1             </td></tr>\n",
       "</tbody>\n",
       "</table>\n"
      ],
      "text/latex": [
       "\\begin{tabular}{r|llllllllllllllll}\n",
       " Site & Subpoint & VOR & PDB & DBHt & PW & WHt & PE & EHt & PA & AHt & PH & HHt & PL & LHt & PB\\\\\n",
       "\\hline\n",
       "\t HortonCreek111 & 1              & 3.0            & 0              & 0.0            & 0              &  0.0           & 4              & 3.5            & 0              & 0              & 3              & 5.0            & 0              & 0.0            & 0             \\\\\n",
       "\t HortonCreek111 & 2              & 3.0            & 0              & 0.0            & 4              & 18.5           & 0              & 0.0            & 0              & 0              & 4              & 5.7            & 0              & 0.0            & 0             \\\\\n",
       "\t HortonCreek111 & 3              & 2.0            & 0              & 0.0            & 3              & 11.3           & 2              & 3.0            & 0              & 0              & 4              & 4.9            & 1              & 0.2            & 0             \\\\\n",
       "\t HortonCreek111 & 4              & 3.5            & 0              & 0.0            & 4              & 15.8           & 0              & 0.0            & 0              & 0              & 3              & 4.2            & 0              & 0.0            & 0             \\\\\n",
       "\t HortonCreek111 & 5              & 0.0            & 1              & 0.3            & 2              &  0.5           & 4              & 0.4            & 0              & 0              & 2              & 1.4            & 5              & 0.3            & 0             \\\\\n",
       "\t HortonCreek111 & 6              & 0.0            & 2              & 0.7            & 3              &  0.5           & 4              & 0.5            & 0              & 0              & 1              & 1.6            & 3              & 0.5            & 1             \\\\\n",
       "\\end{tabular}\n"
      ],
      "text/markdown": [
       "\n",
       "| Site | Subpoint | VOR | PDB | DBHt | PW | WHt | PE | EHt | PA | AHt | PH | HHt | PL | LHt | PB |\n",
       "|---|---|---|---|---|---|---|---|---|---|---|---|---|---|---|---|\n",
       "| HortonCreek111 | 1              | 3.0            | 0              | 0.0            | 0              |  0.0           | 4              | 3.5            | 0              | 0              | 3              | 5.0            | 0              | 0.0            | 0              |\n",
       "| HortonCreek111 | 2              | 3.0            | 0              | 0.0            | 4              | 18.5           | 0              | 0.0            | 0              | 0              | 4              | 5.7            | 0              | 0.0            | 0              |\n",
       "| HortonCreek111 | 3              | 2.0            | 0              | 0.0            | 3              | 11.3           | 2              | 3.0            | 0              | 0              | 4              | 4.9            | 1              | 0.2            | 0              |\n",
       "| HortonCreek111 | 4              | 3.5            | 0              | 0.0            | 4              | 15.8           | 0              | 0.0            | 0              | 0              | 3              | 4.2            | 0              | 0.0            | 0              |\n",
       "| HortonCreek111 | 5              | 0.0            | 1              | 0.3            | 2              |  0.5           | 4              | 0.4            | 0              | 0              | 2              | 1.4            | 5              | 0.3            | 0              |\n",
       "| HortonCreek111 | 6              | 0.0            | 2              | 0.7            | 3              |  0.5           | 4              | 0.5            | 0              | 0              | 1              | 1.6            | 3              | 0.5            | 1              |\n",
       "\n"
      ],
      "text/plain": [
       "  Site           Subpoint VOR PDB DBHt PW WHt  PE EHt PA AHt PH HHt PL LHt PB\n",
       "1 HortonCreek111 1        3.0 0   0.0  0   0.0 4  3.5 0  0   3  5.0 0  0.0 0 \n",
       "2 HortonCreek111 2        3.0 0   0.0  4  18.5 0  0.0 0  0   4  5.7 0  0.0 0 \n",
       "3 HortonCreek111 3        2.0 0   0.0  3  11.3 2  3.0 0  0   4  4.9 1  0.2 0 \n",
       "4 HortonCreek111 4        3.5 0   0.0  4  15.8 0  0.0 0  0   3  4.2 0  0.0 0 \n",
       "5 HortonCreek111 5        0.0 1   0.3  2   0.5 4  0.4 0  0   2  1.4 5  0.3 0 \n",
       "6 HortonCreek111 6        0.0 2   0.7  3   0.5 4  0.5 0  0   1  1.6 3  0.5 1 "
      ]
     },
     "metadata": {},
     "output_type": "display_data"
    }
   ],
   "source": [
    "head(df2, 6) \n",
    "#We can see that data2 don't have column Observer, so we need to remove it in the first dataset before merging them"
   ]
  },
  {
   "cell_type": "code",
   "execution_count": 111,
   "id": "9a1cc968",
   "metadata": {},
   "outputs": [
    {
     "data": {
      "text/html": [
       "<table>\n",
       "<thead><tr><th scope=col>Site</th><th scope=col>Subpoint</th><th scope=col>VOR</th><th scope=col>PDB</th><th scope=col>DBHt</th><th scope=col>PW</th><th scope=col>WHt</th><th scope=col>PE</th><th scope=col>EHt</th><th scope=col>PA</th><th scope=col>AHt</th><th scope=col>PH</th><th scope=col>HHt</th><th scope=col>PL</th><th scope=col>LHt</th><th scope=col>PB</th></tr></thead>\n",
       "<tbody>\n",
       "\t<tr><td>BunkerHill27</td><td>1           </td><td>6.0         </td><td>3           </td><td>5.2         </td><td>0           </td><td>0.0         </td><td>4           </td><td>2.9         </td><td>0           </td><td>0           </td><td>4           </td><td>3.0         </td><td>0           </td><td>0           </td><td>0           </td></tr>\n",
       "\t<tr><td>BunkerHill27</td><td>2           </td><td>4.5         </td><td>2           </td><td>3.1         </td><td>3           </td><td>4.7         </td><td>3           </td><td>4.1         </td><td>0           </td><td>0           </td><td>3           </td><td>3.5         </td><td>2           </td><td>1           </td><td>0           </td></tr>\n",
       "\t<tr><td>BunkerHill27</td><td>3           </td><td>2.0         </td><td>4           </td><td>5.5         </td><td>1           </td><td>5.8         </td><td>3           </td><td>3.9         </td><td>0           </td><td>0           </td><td>3           </td><td>7.5         </td><td>0           </td><td>0           </td><td>0           </td></tr>\n",
       "\t<tr><td>BunkerHill27</td><td>4           </td><td>2.5         </td><td>3           </td><td>6.2         </td><td>0           </td><td>0.0         </td><td>3           </td><td>4.0         </td><td>0           </td><td>0           </td><td>4           </td><td>5.0         </td><td>0           </td><td>0           </td><td>0           </td></tr>\n",
       "\t<tr><td>BunkerHill27</td><td>5           </td><td>4.0         </td><td>4           </td><td>5.4         </td><td>0           </td><td>0.0         </td><td>3           </td><td>3.5         </td><td>0           </td><td>0           </td><td>4           </td><td>3.7         </td><td>0           </td><td>0           </td><td>0           </td></tr>\n",
       "\t<tr><td>BunkerHill27</td><td>6           </td><td>2.0         </td><td>3           </td><td>4.0         </td><td>0           </td><td>0.0         </td><td>3           </td><td>4.1         </td><td>0           </td><td>0           </td><td>2           </td><td>3.5         </td><td>0           </td><td>0           </td><td>0           </td></tr>\n",
       "</tbody>\n",
       "</table>\n"
      ],
      "text/latex": [
       "\\begin{tabular}{r|llllllllllllllll}\n",
       " Site & Subpoint & VOR & PDB & DBHt & PW & WHt & PE & EHt & PA & AHt & PH & HHt & PL & LHt & PB\\\\\n",
       "\\hline\n",
       "\t BunkerHill27 & 1            & 6.0          & 3            & 5.2          & 0            & 0.0          & 4            & 2.9          & 0            & 0            & 4            & 3.0          & 0            & 0            & 0           \\\\\n",
       "\t BunkerHill27 & 2            & 4.5          & 2            & 3.1          & 3            & 4.7          & 3            & 4.1          & 0            & 0            & 3            & 3.5          & 2            & 1            & 0           \\\\\n",
       "\t BunkerHill27 & 3            & 2.0          & 4            & 5.5          & 1            & 5.8          & 3            & 3.9          & 0            & 0            & 3            & 7.5          & 0            & 0            & 0           \\\\\n",
       "\t BunkerHill27 & 4            & 2.5          & 3            & 6.2          & 0            & 0.0          & 3            & 4.0          & 0            & 0            & 4            & 5.0          & 0            & 0            & 0           \\\\\n",
       "\t BunkerHill27 & 5            & 4.0          & 4            & 5.4          & 0            & 0.0          & 3            & 3.5          & 0            & 0            & 4            & 3.7          & 0            & 0            & 0           \\\\\n",
       "\t BunkerHill27 & 6            & 2.0          & 3            & 4.0          & 0            & 0.0          & 3            & 4.1          & 0            & 0            & 2            & 3.5          & 0            & 0            & 0           \\\\\n",
       "\\end{tabular}\n"
      ],
      "text/markdown": [
       "\n",
       "| Site | Subpoint | VOR | PDB | DBHt | PW | WHt | PE | EHt | PA | AHt | PH | HHt | PL | LHt | PB |\n",
       "|---|---|---|---|---|---|---|---|---|---|---|---|---|---|---|---|\n",
       "| BunkerHill27 | 1            | 6.0          | 3            | 5.2          | 0            | 0.0          | 4            | 2.9          | 0            | 0            | 4            | 3.0          | 0            | 0            | 0            |\n",
       "| BunkerHill27 | 2            | 4.5          | 2            | 3.1          | 3            | 4.7          | 3            | 4.1          | 0            | 0            | 3            | 3.5          | 2            | 1            | 0            |\n",
       "| BunkerHill27 | 3            | 2.0          | 4            | 5.5          | 1            | 5.8          | 3            | 3.9          | 0            | 0            | 3            | 7.5          | 0            | 0            | 0            |\n",
       "| BunkerHill27 | 4            | 2.5          | 3            | 6.2          | 0            | 0.0          | 3            | 4.0          | 0            | 0            | 4            | 5.0          | 0            | 0            | 0            |\n",
       "| BunkerHill27 | 5            | 4.0          | 4            | 5.4          | 0            | 0.0          | 3            | 3.5          | 0            | 0            | 4            | 3.7          | 0            | 0            | 0            |\n",
       "| BunkerHill27 | 6            | 2.0          | 3            | 4.0          | 0            | 0.0          | 3            | 4.1          | 0            | 0            | 2            | 3.5          | 0            | 0            | 0            |\n",
       "\n"
      ],
      "text/plain": [
       "  Site         Subpoint VOR PDB DBHt PW WHt PE EHt PA AHt PH HHt PL LHt PB\n",
       "1 BunkerHill27 1        6.0 3   5.2  0  0.0 4  2.9 0  0   4  3.0 0  0   0 \n",
       "2 BunkerHill27 2        4.5 2   3.1  3  4.7 3  4.1 0  0   3  3.5 2  1   0 \n",
       "3 BunkerHill27 3        2.0 4   5.5  1  5.8 3  3.9 0  0   3  7.5 0  0   0 \n",
       "4 BunkerHill27 4        2.5 3   6.2  0  0.0 3  4.0 0  0   4  5.0 0  0   0 \n",
       "5 BunkerHill27 5        4.0 4   5.4  0  0.0 3  3.5 0  0   4  3.7 0  0   0 \n",
       "6 BunkerHill27 6        2.0 3   4.0  0  0.0 3  4.1 0  0   2  3.5 0  0   0 "
      ]
     },
     "metadata": {},
     "output_type": "display_data"
    }
   ],
   "source": [
    "df1 <- df1[,-2]\n",
    "head(df1)"
   ]
  },
  {
   "cell_type": "code",
   "execution_count": 112,
   "id": "413b57b5",
   "metadata": {},
   "outputs": [
    {
     "data": {
      "text/html": [
       "<ol class=list-inline>\n",
       "\t<li>1070</li>\n",
       "\t<li>16</li>\n",
       "</ol>\n"
      ],
      "text/latex": [
       "\\begin{enumerate*}\n",
       "\\item 1070\n",
       "\\item 16\n",
       "\\end{enumerate*}\n"
      ],
      "text/markdown": [
       "1. 1070\n",
       "2. 16\n",
       "\n",
       "\n"
      ],
      "text/plain": [
       "[1] 1070   16"
      ]
     },
     "metadata": {},
     "output_type": "display_data"
    },
    {
     "data": {
      "text/html": [
       "<ol class=list-inline>\n",
       "\t<li>18</li>\n",
       "\t<li>16</li>\n",
       "</ol>\n"
      ],
      "text/latex": [
       "\\begin{enumerate*}\n",
       "\\item 18\n",
       "\\item 16\n",
       "\\end{enumerate*}\n"
      ],
      "text/markdown": [
       "1. 18\n",
       "2. 16\n",
       "\n",
       "\n"
      ],
      "text/plain": [
       "[1] 18 16"
      ]
     },
     "metadata": {},
     "output_type": "display_data"
    }
   ],
   "source": [
    "#check that we have same sizes for columns and check number of rows before joining\n",
    "dim(df1)\n",
    "dim(df2) "
   ]
  },
  {
   "cell_type": "code",
   "execution_count": 113,
   "id": "116c4d86",
   "metadata": {},
   "outputs": [
    {
     "data": {
      "text/html": [
       "<ol class=list-inline>\n",
       "\t<li>1088</li>\n",
       "\t<li>16</li>\n",
       "</ol>\n"
      ],
      "text/latex": [
       "\\begin{enumerate*}\n",
       "\\item 1088\n",
       "\\item 16\n",
       "\\end{enumerate*}\n"
      ],
      "text/markdown": [
       "1. 1088\n",
       "2. 16\n",
       "\n",
       "\n"
      ],
      "text/plain": [
       "[1] 1088   16"
      ]
     },
     "metadata": {},
     "output_type": "display_data"
    }
   ],
   "source": [
    "df3 <- rbind(df1, df2)\n",
    "dim(df3) #1070+18 == 1088 "
   ]
  },
  {
   "cell_type": "code",
   "execution_count": 114,
   "id": "971003bd",
   "metadata": {},
   "outputs": [],
   "source": [
    "#Our goal if to find the mean percent of covering, at first we should find the columns with percent values\n",
    "# then we will sum all the values and save it to percent_covering column\n",
    "\n",
    "p_cols <- names(df3)[-c(1:3)][c(T, F)] \n",
    "df3$percent_covering <- rowSums(df3[p_cols])\n"
   ]
  },
  {
   "cell_type": "code",
   "execution_count": 115,
   "id": "4cc2f4a2",
   "metadata": {},
   "outputs": [
    {
     "data": {
      "text/html": [
       "9.57169117647059"
      ],
      "text/latex": [
       "9.57169117647059"
      ],
      "text/markdown": [
       "9.57169117647059"
      ],
      "text/plain": [
       "[1] 9.571691"
      ]
     },
     "metadata": {},
     "output_type": "display_data"
    }
   ],
   "source": [
    "mean(df3$percent_covering)"
   ]
  },
  {
   "cell_type": "code",
   "execution_count": 116,
   "id": "5af6a6d6",
   "metadata": {},
   "outputs": [
    {
     "data": {
      "text/html": [
       "<dl class=dl-horizontal>\n",
       "\t<dt>AHt</dt>\n",
       "\t\t<dd>31.5</dd>\n",
       "\t<dt>WHt</dt>\n",
       "\t\t<dd>24.5</dd>\n",
       "\t<dt>DBHt</dt>\n",
       "\t\t<dd>10</dd>\n",
       "\t<dt>HHt</dt>\n",
       "\t\t<dd>8.2</dd>\n",
       "\t<dt>EHt</dt>\n",
       "\t\t<dd>5.3</dd>\n",
       "\t<dt>LHt</dt>\n",
       "\t\t<dd>1.3</dd>\n",
       "</dl>\n"
      ],
      "text/latex": [
       "\\begin{description*}\n",
       "\\item[AHt] 31.5\n",
       "\\item[WHt] 24.5\n",
       "\\item[DBHt] 10\n",
       "\\item[HHt] 8.2\n",
       "\\item[EHt] 5.3\n",
       "\\item[LHt] 1.3\n",
       "\\end{description*}\n"
      ],
      "text/markdown": [
       "AHt\n",
       ":   31.5WHt\n",
       ":   24.5DBHt\n",
       ":   10HHt\n",
       ":   8.2EHt\n",
       ":   5.3LHt\n",
       ":   1.3\n",
       "\n"
      ],
      "text/plain": [
       " AHt  WHt DBHt  HHt  EHt  LHt \n",
       "31.5 24.5 10.0  8.2  5.3  1.3 "
      ]
     },
     "metadata": {},
     "output_type": "display_data"
    }
   ],
   "source": [
    "# Our next goal is to find the maximum value in each column containing HT in name\n",
    "\n",
    "\n",
    "ht_cols <- names(df3)[-c(1:4, ncol(df3))][c(T, F)][]\n",
    "sort(sapply(df3[ht_cols], max), decreasing=T)"
   ]
  },
  {
   "cell_type": "code",
   "execution_count": 119,
   "id": "58070e8c",
   "metadata": {},
   "outputs": [
    {
     "data": {
      "text/html": [
       "<dl class=dl-horizontal>\n",
       "\t<dt>BunkerHill</dt>\n",
       "\t\t<dd>9.23571428571429</dd>\n",
       "\t<dt>CreteCreek</dt>\n",
       "\t\t<dd>10.0210526315789</dd>\n",
       "\t<dt>HortonCreek</dt>\n",
       "\t\t<dd>10.1762589928058</dd>\n",
       "\t<dt>LivingstonCreek</dt>\n",
       "\t\t<dd>9.47931034482759</dd>\n",
       "\t<dt>McAdamCreek</dt>\n",
       "\t\t<dd>8.62631578947368</dd>\n",
       "</dl>\n"
      ],
      "text/latex": [
       "\\begin{description*}\n",
       "\\item[BunkerHill] 9.23571428571429\n",
       "\\item[CreteCreek] 10.0210526315789\n",
       "\\item[HortonCreek] 10.1762589928058\n",
       "\\item[LivingstonCreek] 9.47931034482759\n",
       "\\item[McAdamCreek] 8.62631578947368\n",
       "\\end{description*}\n"
      ],
      "text/markdown": [
       "BunkerHill\n",
       ":   9.23571428571429CreteCreek\n",
       ":   10.0210526315789HortonCreek\n",
       ":   10.1762589928058LivingstonCreek\n",
       ":   9.47931034482759McAdamCreek\n",
       ":   8.62631578947368\n",
       "\n"
      ],
      "text/plain": [
       "     BunkerHill      CreteCreek     HortonCreek LivingstonCreek     McAdamCreek \n",
       "       9.235714       10.021053       10.176259        9.479310        8.626316 "
      ]
     },
     "metadata": {},
     "output_type": "display_data"
    }
   ],
   "source": [
    "#Our goal is to find an area with less percent of total covering\n",
    "#At first we should delete numbers from Site area \n",
    "\n",
    "df3$site_name <- str_replace(df3$Site, \"[:digit:]+\", '')\n",
    "tapply(df3$percent_covering, df3$site_name, mean)"
   ]
  },
  {
   "cell_type": "raw",
   "id": "37821c09",
   "metadata": {},
   "source": [
    "AHt\n",
    "31.5\n",
    "WHt\n",
    "24.5\n",
    "DBHt\n",
    "10\n",
    "HHt\n",
    "8.2\n",
    "EHt\n",
    "5.3\n",
    "LHt\n",
    "1.3"
   ]
  },
  {
   "cell_type": "code",
   "execution_count": 132,
   "id": "4de6fd59",
   "metadata": {
    "scrolled": true
   },
   "outputs": [
    {
     "data": {
      "text/html": [
       "<dl class=dl-horizontal>\n",
       "\t<dt>AHt</dt>\n",
       "\t\t<dd>31.5</dd>\n",
       "\t<dt>WHt</dt>\n",
       "\t\t<dd>24.5</dd>\n",
       "\t<dt>VOR</dt>\n",
       "\t\t<dd>19</dd>\n",
       "\t<dt>DBHt</dt>\n",
       "\t\t<dd>10</dd>\n",
       "\t<dt>HHt</dt>\n",
       "\t\t<dd>8.2</dd>\n",
       "\t<dt>EHt</dt>\n",
       "\t\t<dd>5.3</dd>\n",
       "\t<dt>LHt</dt>\n",
       "\t\t<dd>1.3</dd>\n",
       "</dl>\n"
      ],
      "text/latex": [
       "\\begin{description*}\n",
       "\\item[AHt] 31.5\n",
       "\\item[WHt] 24.5\n",
       "\\item[VOR] 19\n",
       "\\item[DBHt] 10\n",
       "\\item[HHt] 8.2\n",
       "\\item[EHt] 5.3\n",
       "\\item[LHt] 1.3\n",
       "\\end{description*}\n"
      ],
      "text/markdown": [
       "AHt\n",
       ":   31.5WHt\n",
       ":   24.5VOR\n",
       ":   19DBHt\n",
       ":   10HHt\n",
       ":   8.2EHt\n",
       ":   5.3LHt\n",
       ":   1.3\n",
       "\n"
      ],
      "text/plain": [
       " AHt  WHt  VOR DBHt  HHt  EHt  LHt \n",
       "31.5 24.5 19.0 10.0  8.2  5.3  1.3 "
      ]
     },
     "metadata": {},
     "output_type": "display_data"
    }
   ],
   "source": [
    "ht_cols <- names(df1)[-c(1:3, ncol(df3))][c(T, F)][]\n",
    "sort(sapply(df1[ht_cols], max), decreasing=T)"
   ]
  },
  {
   "cell_type": "code",
   "execution_count": 142,
   "id": "9dab09cb",
   "metadata": {},
   "outputs": [
    {
     "data": {
      "text/html": [
       "<table>\n",
       "<thead><tr><th></th><th scope=col>Site</th><th scope=col>Observer</th><th scope=col>Subpoint</th><th scope=col>VOR</th><th scope=col>PDB</th><th scope=col>DBHt</th><th scope=col>PW</th><th scope=col>WHt</th><th scope=col>PE</th><th scope=col>EHt</th><th scope=col>PA</th><th scope=col>AHt</th><th scope=col>PH</th><th scope=col>HHt</th><th scope=col>PL</th><th scope=col>LHt</th><th scope=col>PB</th></tr></thead>\n",
       "<tbody>\n",
       "\t<tr><th scope=row>518</th><td>HortonCreek121</td><td>RA            </td><td>1             </td><td>0             </td><td>2             </td><td>10            </td><td>6             </td><td>12            </td><td>2             </td><td>4.9           </td><td>0             </td><td>0             </td><td>2             </td><td>6             </td><td>0             </td><td>0             </td><td>0             </td></tr>\n",
       "</tbody>\n",
       "</table>\n"
      ],
      "text/latex": [
       "\\begin{tabular}{r|lllllllllllllllll}\n",
       "  & Site & Observer & Subpoint & VOR & PDB & DBHt & PW & WHt & PE & EHt & PA & AHt & PH & HHt & PL & LHt & PB\\\\\n",
       "\\hline\n",
       "\t518 & HortonCreek121 & RA             & 1              & 0              & 2              & 10             & 6              & 12             & 2              & 4.9            & 0              & 0              & 2              & 6              & 0              & 0              & 0             \\\\\n",
       "\\end{tabular}\n"
      ],
      "text/markdown": [
       "\n",
       "| <!--/--> | Site | Observer | Subpoint | VOR | PDB | DBHt | PW | WHt | PE | EHt | PA | AHt | PH | HHt | PL | LHt | PB |\n",
       "|---|---|---|---|---|---|---|---|---|---|---|---|---|---|---|---|---|---|\n",
       "| 518 | HortonCreek121 | RA             | 1              | 0              | 2              | 10             | 6              | 12             | 2              | 4.9            | 0              | 0              | 2              | 6              | 0              | 0              | 0              |\n",
       "\n"
      ],
      "text/plain": [
       "    Site           Observer Subpoint VOR PDB DBHt PW WHt PE EHt PA AHt PH HHt\n",
       "518 HortonCreek121 RA       1        0   2   10   6  12  2  4.9 0  0   2  6  \n",
       "    PL LHt PB\n",
       "518 0  0   0 "
      ]
     },
     "metadata": {},
     "output_type": "display_data"
    }
   ],
   "source": [
    "df1[df1$DBHt == 10,]"
   ]
  },
  {
   "cell_type": "markdown",
   "id": "9ff66a94",
   "metadata": {},
   "source": [
    "# Strings"
   ]
  },
  {
   "cell_type": "markdown",
   "id": "b3ebf577",
   "metadata": {},
   "source": [
    "## paste, paste0"
   ]
  },
  {
   "cell_type": "raw",
   "id": "06b85163",
   "metadata": {},
   "source": [
    "sep - separator (by default is ' ' - for paste and '/n' - for paste0)\n",
    "collapse - makes all as one string"
   ]
  },
  {
   "cell_type": "code",
   "execution_count": 402,
   "id": "d94d02a5",
   "metadata": {},
   "outputs": [
    {
     "data": {
      "text/html": [
       "<ol class=list-inline>\n",
       "\t<li>'red ball'</li>\n",
       "\t<li>'blue ball'</li>\n",
       "\t<li>'green ball'</li>\n",
       "</ol>\n"
      ],
      "text/latex": [
       "\\begin{enumerate*}\n",
       "\\item 'red ball'\n",
       "\\item 'blue ball'\n",
       "\\item 'green ball'\n",
       "\\end{enumerate*}\n"
      ],
      "text/markdown": [
       "1. 'red ball'\n",
       "2. 'blue ball'\n",
       "3. 'green ball'\n",
       "\n",
       "\n"
      ],
      "text/plain": [
       "[1] \"red ball\"   \"blue ball\"  \"green ball\""
      ]
     },
     "metadata": {},
     "output_type": "display_data"
    },
    {
     "data": {
      "text/html": [
       "<ol class=list-inline>\n",
       "\t<li>'red_ball'</li>\n",
       "\t<li>'blue_ball'</li>\n",
       "\t<li>'green_ball'</li>\n",
       "</ol>\n"
      ],
      "text/latex": [
       "\\begin{enumerate*}\n",
       "\\item 'red\\_ball'\n",
       "\\item 'blue\\_ball'\n",
       "\\item 'green\\_ball'\n",
       "\\end{enumerate*}\n"
      ],
      "text/markdown": [
       "1. 'red_ball'\n",
       "2. 'blue_ball'\n",
       "3. 'green_ball'\n",
       "\n",
       "\n"
      ],
      "text/plain": [
       "[1] \"red_ball\"   \"blue_ball\"  \"green_ball\""
      ]
     },
     "metadata": {},
     "output_type": "display_data"
    },
    {
     "data": {
      "text/html": [
       "'red ball and also blue ball'"
      ],
      "text/latex": [
       "'red ball and also blue ball'"
      ],
      "text/markdown": [
       "'red ball and also blue ball'"
      ],
      "text/plain": [
       "[1] \"red ball and also blue ball\""
      ]
     },
     "metadata": {},
     "output_type": "display_data"
    }
   ],
   "source": [
    "paste(c(\"red\", \"blue\", \"green\"), \"ball\")\n",
    "paste(c(\"red\", \"blue\", \"green\"), \"ball\", sep='_')\n",
    "paste(c(\"red\", \"blue\"), \"ball\", collapse=' and also ')"
   ]
  },
  {
   "cell_type": "code",
   "execution_count": 401,
   "id": "61c92773",
   "metadata": {},
   "outputs": [
    {
     "data": {
      "text/html": [
       "1"
      ],
      "text/latex": [
       "1"
      ],
      "text/markdown": [
       "1"
      ],
      "text/plain": [
       "[1] 1"
      ]
     },
     "metadata": {},
     "output_type": "display_data"
    }
   ],
   "source": [
    "length(\"Аэрофотосъёмка ландшафта уже выявила земли богачей и процветающих крестьян.\")"
   ]
  },
  {
   "cell_type": "markdown",
   "id": "3091fe90",
   "metadata": {},
   "source": [
    "## strsplit"
   ]
  },
  {
   "cell_type": "code",
   "execution_count": 408,
   "id": "b8344737",
   "metadata": {},
   "outputs": [
    {
     "data": {
      "text/html": [
       "<ol>\n",
       "\t<li><ol class=list-inline>\n",
       "\t<li>'one'</li>\n",
       "\t<li>' two'</li>\n",
       "\t<li>' three'</li>\n",
       "\t<li>' four'</li>\n",
       "</ol>\n",
       "</li>\n",
       "</ol>\n"
      ],
      "text/latex": [
       "\\begin{enumerate}\n",
       "\\item \\begin{enumerate*}\n",
       "\\item 'one'\n",
       "\\item ' two'\n",
       "\\item ' three'\n",
       "\\item ' four'\n",
       "\\end{enumerate*}\n",
       "\n",
       "\\end{enumerate}\n"
      ],
      "text/markdown": [
       "1. 1. 'one'\n",
       "2. ' two'\n",
       "3. ' three'\n",
       "4. ' four'\n",
       "\n",
       "\n",
       "\n",
       "\n",
       "\n"
      ],
      "text/plain": [
       "[[1]]\n",
       "[1] \"one\"    \" two\"   \" three\" \" four\" \n"
      ]
     },
     "metadata": {},
     "output_type": "display_data"
    }
   ],
   "source": [
    "#returns list \n",
    "s <- c('one and two and three and four')\n",
    "strsplit(s, ' and', fixed=T) #by default fixed = False, means that we can use Regular Expression"
   ]
  },
  {
   "cell_type": "markdown",
   "id": "3e9e6415",
   "metadata": {},
   "source": [
    "# grep, grepl"
   ]
  },
  {
   "cell_type": "code",
   "execution_count": 8,
   "id": "ce5651b0",
   "metadata": {},
   "outputs": [
    {
     "data": {
      "text/html": [
       "<ol class=list-inline>\n",
       "\t<li>'one and two'</li>\n",
       "\t<li>'two and three'</li>\n",
       "\t<li>'four'</li>\n",
       "\t<li>'five'</li>\n",
       "\t<li>'six and seven'</li>\n",
       "</ol>\n"
      ],
      "text/latex": [
       "\\begin{enumerate*}\n",
       "\\item 'one and two'\n",
       "\\item 'two and three'\n",
       "\\item 'four'\n",
       "\\item 'five'\n",
       "\\item 'six and seven'\n",
       "\\end{enumerate*}\n"
      ],
      "text/markdown": [
       "1. 'one and two'\n",
       "2. 'two and three'\n",
       "3. 'four'\n",
       "4. 'five'\n",
       "5. 'six and seven'\n",
       "\n",
       "\n"
      ],
      "text/plain": [
       "[1] \"one and two\"   \"two and three\" \"four\"          \"five\"         \n",
       "[5] \"six and seven\""
      ]
     },
     "metadata": {},
     "output_type": "display_data"
    },
    {
     "data": {
      "text/html": [
       "<ol class=list-inline>\n",
       "\t<li>1</li>\n",
       "\t<li>2</li>\n",
       "\t<li>5</li>\n",
       "</ol>\n"
      ],
      "text/latex": [
       "\\begin{enumerate*}\n",
       "\\item 1\n",
       "\\item 2\n",
       "\\item 5\n",
       "\\end{enumerate*}\n"
      ],
      "text/markdown": [
       "1. 1\n",
       "2. 2\n",
       "3. 5\n",
       "\n",
       "\n"
      ],
      "text/plain": [
       "[1] 1 2 5"
      ]
     },
     "metadata": {},
     "output_type": "display_data"
    }
   ],
   "source": [
    "l <- c(\"one and two\", \"two and three\", \"four\", \"five\", \"six and seven\")\n",
    "l\n",
    "grep(\"and\", l) #indicates indicies with value"
   ]
  },
  {
   "cell_type": "code",
   "execution_count": null,
   "id": "b2e6d23e",
   "metadata": {},
   "outputs": [],
   "source": [
    "grepl(\"and\", l) #returns logical if it contains expression"
   ]
  },
  {
   "cell_type": "code",
   "execution_count": 424,
   "id": "301b1a11",
   "metadata": {},
   "outputs": [
    {
     "data": {
      "text/html": [
       "<ol class=list-inline>\n",
       "\t<li>'one &amp; two'</li>\n",
       "\t<li>'two &amp; three'</li>\n",
       "\t<li>'four'</li>\n",
       "\t<li>'five'</li>\n",
       "\t<li>'six &amp; seven'</li>\n",
       "</ol>\n"
      ],
      "text/latex": [
       "\\begin{enumerate*}\n",
       "\\item 'one \\& two'\n",
       "\\item 'two \\& three'\n",
       "\\item 'four'\n",
       "\\item 'five'\n",
       "\\item 'six \\& seven'\n",
       "\\end{enumerate*}\n"
      ],
      "text/markdown": [
       "1. 'one &amp; two'\n",
       "2. 'two &amp; three'\n",
       "3. 'four'\n",
       "4. 'five'\n",
       "5. 'six &amp; seven'\n",
       "\n",
       "\n"
      ],
      "text/plain": [
       "[1] \"one & two\"   \"two & three\" \"four\"        \"five\"        \"six & seven\""
      ]
     },
     "metadata": {},
     "output_type": "display_data"
    }
   ],
   "source": [
    "gsub(\"and\", \"&\", l) #changes the value"
   ]
  },
  {
   "cell_type": "code",
   "execution_count": 6,
   "id": "d355a9e2",
   "metadata": {},
   "outputs": [],
   "source": [
    "library(stringr) #package for convenient work with strings, all functions are vectorized and consistent"
   ]
  },
  {
   "cell_type": "code",
   "execution_count": 9,
   "id": "9434cf72",
   "metadata": {
    "scrolled": true
   },
   "outputs": [
    {
     "data": {
      "text/html": [
       "<ol class=list-inline>\n",
       "\t<li>'one &amp; two'</li>\n",
       "\t<li>'two &amp; three'</li>\n",
       "\t<li>'four'</li>\n",
       "\t<li>'five'</li>\n",
       "\t<li>'six &amp; seven'</li>\n",
       "</ol>\n"
      ],
      "text/latex": [
       "\\begin{enumerate*}\n",
       "\\item 'one \\& two'\n",
       "\\item 'two \\& three'\n",
       "\\item 'four'\n",
       "\\item 'five'\n",
       "\\item 'six \\& seven'\n",
       "\\end{enumerate*}\n"
      ],
      "text/markdown": [
       "1. 'one &amp; two'\n",
       "2. 'two &amp; three'\n",
       "3. 'four'\n",
       "4. 'five'\n",
       "5. 'six &amp; seven'\n",
       "\n",
       "\n"
      ],
      "text/plain": [
       "[1] \"one & two\"   \"two & three\" \"four\"        \"five\"        \"six & seven\""
      ]
     },
     "metadata": {},
     "output_type": "display_data"
    }
   ],
   "source": [
    "str_replace(l, \"and\", \"&\")"
   ]
  },
  {
   "cell_type": "code",
   "execution_count": 12,
   "id": "dfdcbd00",
   "metadata": {},
   "outputs": [
    {
     "data": {
      "text/html": [
       "<ol class=list-inline>\n",
       "\t<li>'two'</li>\n",
       "\t<li>'two'</li>\n",
       "\t<li>NA</li>\n",
       "\t<li>NA</li>\n",
       "\t<li>NA</li>\n",
       "</ol>\n"
      ],
      "text/latex": [
       "\\begin{enumerate*}\n",
       "\\item 'two'\n",
       "\\item 'two'\n",
       "\\item NA\n",
       "\\item NA\n",
       "\\item NA\n",
       "\\end{enumerate*}\n"
      ],
      "text/markdown": [
       "1. 'two'\n",
       "2. 'two'\n",
       "3. NA\n",
       "4. NA\n",
       "5. NA\n",
       "\n",
       "\n"
      ],
      "text/plain": [
       "[1] \"two\" \"two\" NA    NA    NA   "
      ]
     },
     "metadata": {},
     "output_type": "display_data"
    }
   ],
   "source": [
    "str_extract(l, \"tw.\")"
   ]
  },
  {
   "cell_type": "code",
   "execution_count": 16,
   "id": "785f34da",
   "metadata": {},
   "outputs": [
    {
     "data": {
      "text/html": [
       "<ol>\n",
       "\t<li><ol class=list-inline>\n",
       "\t<li>'o'</li>\n",
       "\t<li>''</li>\n",
       "\t<li>''</li>\n",
       "\t<li>''</li>\n",
       "\t<li>''</li>\n",
       "\t<li>''</li>\n",
       "\t<li>''</li>\n",
       "\t<li>''</li>\n",
       "\t<li>''</li>\n",
       "\t<li>''</li>\n",
       "\t<li>'o'</li>\n",
       "\t<li>''</li>\n",
       "</ol>\n",
       "</li>\n",
       "\t<li><ol class=list-inline>\n",
       "\t<li>''</li>\n",
       "\t<li>''</li>\n",
       "\t<li>'o'</li>\n",
       "\t<li>''</li>\n",
       "\t<li>''</li>\n",
       "\t<li>''</li>\n",
       "\t<li>''</li>\n",
       "\t<li>''</li>\n",
       "\t<li>''</li>\n",
       "\t<li>''</li>\n",
       "\t<li>''</li>\n",
       "\t<li>''</li>\n",
       "\t<li>''</li>\n",
       "\t<li>''</li>\n",
       "</ol>\n",
       "</li>\n",
       "\t<li><ol class=list-inline>\n",
       "\t<li>''</li>\n",
       "\t<li>'o'</li>\n",
       "\t<li>''</li>\n",
       "\t<li>''</li>\n",
       "\t<li>''</li>\n",
       "</ol>\n",
       "</li>\n",
       "\t<li><ol class=list-inline>\n",
       "\t<li>''</li>\n",
       "\t<li>''</li>\n",
       "\t<li>''</li>\n",
       "\t<li>''</li>\n",
       "\t<li>''</li>\n",
       "</ol>\n",
       "</li>\n",
       "\t<li><ol class=list-inline>\n",
       "\t<li>''</li>\n",
       "\t<li>''</li>\n",
       "\t<li>''</li>\n",
       "\t<li>''</li>\n",
       "\t<li>''</li>\n",
       "\t<li>''</li>\n",
       "\t<li>''</li>\n",
       "\t<li>''</li>\n",
       "\t<li>''</li>\n",
       "\t<li>''</li>\n",
       "\t<li>''</li>\n",
       "\t<li>''</li>\n",
       "\t<li>''</li>\n",
       "\t<li>''</li>\n",
       "</ol>\n",
       "</li>\n",
       "</ol>\n"
      ],
      "text/latex": [
       "\\begin{enumerate}\n",
       "\\item \\begin{enumerate*}\n",
       "\\item 'o'\n",
       "\\item ''\n",
       "\\item ''\n",
       "\\item ''\n",
       "\\item ''\n",
       "\\item ''\n",
       "\\item ''\n",
       "\\item ''\n",
       "\\item ''\n",
       "\\item ''\n",
       "\\item 'o'\n",
       "\\item ''\n",
       "\\end{enumerate*}\n",
       "\n",
       "\\item \\begin{enumerate*}\n",
       "\\item ''\n",
       "\\item ''\n",
       "\\item 'o'\n",
       "\\item ''\n",
       "\\item ''\n",
       "\\item ''\n",
       "\\item ''\n",
       "\\item ''\n",
       "\\item ''\n",
       "\\item ''\n",
       "\\item ''\n",
       "\\item ''\n",
       "\\item ''\n",
       "\\item ''\n",
       "\\end{enumerate*}\n",
       "\n",
       "\\item \\begin{enumerate*}\n",
       "\\item ''\n",
       "\\item 'o'\n",
       "\\item ''\n",
       "\\item ''\n",
       "\\item ''\n",
       "\\end{enumerate*}\n",
       "\n",
       "\\item \\begin{enumerate*}\n",
       "\\item ''\n",
       "\\item ''\n",
       "\\item ''\n",
       "\\item ''\n",
       "\\item ''\n",
       "\\end{enumerate*}\n",
       "\n",
       "\\item \\begin{enumerate*}\n",
       "\\item ''\n",
       "\\item ''\n",
       "\\item ''\n",
       "\\item ''\n",
       "\\item ''\n",
       "\\item ''\n",
       "\\item ''\n",
       "\\item ''\n",
       "\\item ''\n",
       "\\item ''\n",
       "\\item ''\n",
       "\\item ''\n",
       "\\item ''\n",
       "\\item ''\n",
       "\\end{enumerate*}\n",
       "\n",
       "\\end{enumerate}\n"
      ],
      "text/markdown": [
       "1. 1. 'o'\n",
       "2. ''\n",
       "3. ''\n",
       "4. ''\n",
       "5. ''\n",
       "6. ''\n",
       "7. ''\n",
       "8. ''\n",
       "9. ''\n",
       "10. ''\n",
       "11. 'o'\n",
       "12. ''\n",
       "\n",
       "\n",
       "\n",
       "2. 1. ''\n",
       "2. ''\n",
       "3. 'o'\n",
       "4. ''\n",
       "5. ''\n",
       "6. ''\n",
       "7. ''\n",
       "8. ''\n",
       "9. ''\n",
       "10. ''\n",
       "11. ''\n",
       "12. ''\n",
       "13. ''\n",
       "14. ''\n",
       "\n",
       "\n",
       "\n",
       "3. 1. ''\n",
       "2. 'o'\n",
       "3. ''\n",
       "4. ''\n",
       "5. ''\n",
       "\n",
       "\n",
       "\n",
       "4. 1. ''\n",
       "2. ''\n",
       "3. ''\n",
       "4. ''\n",
       "5. ''\n",
       "\n",
       "\n",
       "\n",
       "5. 1. ''\n",
       "2. ''\n",
       "3. ''\n",
       "4. ''\n",
       "5. ''\n",
       "6. ''\n",
       "7. ''\n",
       "8. ''\n",
       "9. ''\n",
       "10. ''\n",
       "11. ''\n",
       "12. ''\n",
       "13. ''\n",
       "14. ''\n",
       "\n",
       "\n",
       "\n",
       "\n",
       "\n"
      ],
      "text/plain": [
       "[[1]]\n",
       " [1] \"o\" \"\"  \"\"  \"\"  \"\"  \"\"  \"\"  \"\"  \"\"  \"\"  \"o\" \"\" \n",
       "\n",
       "[[2]]\n",
       " [1] \"\"  \"\"  \"o\" \"\"  \"\"  \"\"  \"\"  \"\"  \"\"  \"\"  \"\"  \"\"  \"\"  \"\" \n",
       "\n",
       "[[3]]\n",
       "[1] \"\"  \"o\" \"\"  \"\"  \"\" \n",
       "\n",
       "[[4]]\n",
       "[1] \"\" \"\" \"\" \"\" \"\"\n",
       "\n",
       "[[5]]\n",
       " [1] \"\" \"\" \"\" \"\" \"\" \"\" \"\" \"\" \"\" \"\" \"\" \"\" \"\" \"\"\n"
      ]
     },
     "metadata": {},
     "output_type": "display_data"
    }
   ],
   "source": [
    "str_extract_all(l, \"o*\") #searching all "
   ]
  },
  {
   "cell_type": "markdown",
   "id": "fa59d6d0",
   "metadata": {},
   "source": [
    "# tolower,  toupper"
   ]
  },
  {
   "cell_type": "code",
   "execution_count": 17,
   "id": "17d0f046",
   "metadata": {},
   "outputs": [
    {
     "data": {
      "text/html": [
       "<ol class=list-inline>\n",
       "\t<li>'january'</li>\n",
       "\t<li>'february'</li>\n",
       "\t<li>'march'</li>\n",
       "\t<li>'april'</li>\n",
       "\t<li>'may'</li>\n",
       "\t<li>'june'</li>\n",
       "\t<li>'july'</li>\n",
       "\t<li>'august'</li>\n",
       "\t<li>'september'</li>\n",
       "\t<li>'october'</li>\n",
       "\t<li>'november'</li>\n",
       "\t<li>'december'</li>\n",
       "</ol>\n"
      ],
      "text/latex": [
       "\\begin{enumerate*}\n",
       "\\item 'january'\n",
       "\\item 'february'\n",
       "\\item 'march'\n",
       "\\item 'april'\n",
       "\\item 'may'\n",
       "\\item 'june'\n",
       "\\item 'july'\n",
       "\\item 'august'\n",
       "\\item 'september'\n",
       "\\item 'october'\n",
       "\\item 'november'\n",
       "\\item 'december'\n",
       "\\end{enumerate*}\n"
      ],
      "text/markdown": [
       "1. 'january'\n",
       "2. 'february'\n",
       "3. 'march'\n",
       "4. 'april'\n",
       "5. 'may'\n",
       "6. 'june'\n",
       "7. 'july'\n",
       "8. 'august'\n",
       "9. 'september'\n",
       "10. 'october'\n",
       "11. 'november'\n",
       "12. 'december'\n",
       "\n",
       "\n"
      ],
      "text/plain": [
       " [1] \"january\"   \"february\"  \"march\"     \"april\"     \"may\"       \"june\"     \n",
       " [7] \"july\"      \"august\"    \"september\" \"october\"   \"november\"  \"december\" "
      ]
     },
     "metadata": {},
     "output_type": "display_data"
    }
   ],
   "source": [
    "tolower(month.name)"
   ]
  },
  {
   "cell_type": "code",
   "execution_count": 18,
   "id": "a26f09f0",
   "metadata": {},
   "outputs": [
    {
     "data": {
      "text/html": [
       "<ol class=list-inline>\n",
       "\t<li>'JAN'</li>\n",
       "\t<li>'FEB'</li>\n",
       "\t<li>'MAR'</li>\n",
       "\t<li>'APR'</li>\n",
       "\t<li>'MAY'</li>\n",
       "\t<li>'JUN'</li>\n",
       "\t<li>'JUL'</li>\n",
       "\t<li>'AUG'</li>\n",
       "\t<li>'SEP'</li>\n",
       "\t<li>'OCT'</li>\n",
       "\t<li>'NOV'</li>\n",
       "\t<li>'DEC'</li>\n",
       "</ol>\n"
      ],
      "text/latex": [
       "\\begin{enumerate*}\n",
       "\\item 'JAN'\n",
       "\\item 'FEB'\n",
       "\\item 'MAR'\n",
       "\\item 'APR'\n",
       "\\item 'MAY'\n",
       "\\item 'JUN'\n",
       "\\item 'JUL'\n",
       "\\item 'AUG'\n",
       "\\item 'SEP'\n",
       "\\item 'OCT'\n",
       "\\item 'NOV'\n",
       "\\item 'DEC'\n",
       "\\end{enumerate*}\n"
      ],
      "text/markdown": [
       "1. 'JAN'\n",
       "2. 'FEB'\n",
       "3. 'MAR'\n",
       "4. 'APR'\n",
       "5. 'MAY'\n",
       "6. 'JUN'\n",
       "7. 'JUL'\n",
       "8. 'AUG'\n",
       "9. 'SEP'\n",
       "10. 'OCT'\n",
       "11. 'NOV'\n",
       "12. 'DEC'\n",
       "\n",
       "\n"
      ],
      "text/plain": [
       " [1] \"JAN\" \"FEB\" \"MAR\" \"APR\" \"MAY\" \"JUN\" \"JUL\" \"AUG\" \"SEP\" \"OCT\" \"NOV\" \"DEC\""
      ]
     },
     "metadata": {},
     "output_type": "display_data"
    }
   ],
   "source": [
    "toupper(month.abb)"
   ]
  },
  {
   "cell_type": "markdown",
   "id": "4f2b1f12",
   "metadata": {},
   "source": [
    "# Formating "
   ]
  },
  {
   "cell_type": "code",
   "execution_count": 23,
   "id": "420abc56",
   "metadata": {},
   "outputs": [
    {
     "data": {
      "text/html": [
       "<ol class=list-inline>\n",
       "\t<li>3.14159265358979</li>\n",
       "\t<li>23.1406926327793</li>\n",
       "</ol>\n"
      ],
      "text/latex": [
       "\\begin{enumerate*}\n",
       "\\item 3.14159265358979\n",
       "\\item 23.1406926327793\n",
       "\\end{enumerate*}\n"
      ],
      "text/markdown": [
       "1. 3.14159265358979\n",
       "2. 23.1406926327793\n",
       "\n",
       "\n"
      ],
      "text/plain": [
       "[1]  3.141593 23.140693"
      ]
     },
     "metadata": {},
     "output_type": "display_data"
    }
   ],
   "source": [
    "c(pi, exp(pi))"
   ]
  },
  {
   "cell_type": "code",
   "execution_count": 25,
   "id": "0998c785",
   "metadata": {},
   "outputs": [
    {
     "data": {
      "text/html": [
       "<ol class=list-inline>\n",
       "\t<li>'3.14'</li>\n",
       "\t<li>'23.1'</li>\n",
       "</ol>\n"
      ],
      "text/latex": [
       "\\begin{enumerate*}\n",
       "\\item '3.14'\n",
       "\\item '23.1'\n",
       "\\end{enumerate*}\n"
      ],
      "text/markdown": [
       "1. '3.14'\n",
       "2. '23.1'\n",
       "\n",
       "\n"
      ],
      "text/plain": [
       "[1] \"3.14\" \"23.1\""
      ]
     },
     "metadata": {},
     "output_type": "display_data"
    }
   ],
   "source": [
    "formatC(c(pi, exp(pi)), digits=3)"
   ]
  },
  {
   "cell_type": "code",
   "execution_count": 26,
   "id": "4a98d2f5",
   "metadata": {},
   "outputs": [
    {
     "data": {
      "text/html": [
       "<ol class=list-inline>\n",
       "\t<li>'3.142e+00'</li>\n",
       "\t<li>'2.314e+01'</li>\n",
       "</ol>\n"
      ],
      "text/latex": [
       "\\begin{enumerate*}\n",
       "\\item '3.142e+00'\n",
       "\\item '2.314e+01'\n",
       "\\end{enumerate*}\n"
      ],
      "text/markdown": [
       "1. '3.142e+00'\n",
       "2. '2.314e+01'\n",
       "\n",
       "\n"
      ],
      "text/plain": [
       "[1] \"3.142e+00\" \"2.314e+01\""
      ]
     },
     "metadata": {},
     "output_type": "display_data"
    }
   ],
   "source": [
    "formatC(c(pi, exp(pi)), digits=3, format='e')"
   ]
  },
  {
   "cell_type": "markdown",
   "id": "c7ff571b",
   "metadata": {},
   "source": [
    "# Cat"
   ]
  },
  {
   "cell_type": "code",
   "execution_count": 27,
   "id": "1bad07ba",
   "metadata": {},
   "outputs": [
    {
     "name": "stdout",
     "output_type": "stream",
     "text": [
      "[1] \"You can \\\"print\\\" like this\"\n",
      "You can \"print\" like this"
     ]
    }
   ],
   "source": [
    "#This is function to print objects as they are\n",
    "\n",
    "print('You can \"print\" like this')\n",
    "cat('You can \"print\" like this')"
   ]
  },
  {
   "cell_type": "code",
   "execution_count": 30,
   "id": "74ea144e",
   "metadata": {},
   "outputs": [
    {
     "name": "stdout",
     "output_type": "stream",
     "text": [
      "[1] \"One\\tTwo\\nThree\"\n",
      "One\tTwo\n",
      "Three"
     ]
    }
   ],
   "source": [
    "print(\"One\\tTwo\\nThree\")\n",
    "cat(\"One\\tTwo\\nThree\")"
   ]
  },
  {
   "cell_type": "code",
   "execution_count": 31,
   "id": "5cdf4342",
   "metadata": {},
   "outputs": [],
   "source": [
    "library(stringr)\n",
    "\n",
    "hamlet <- \"To be, or not to be: that is the question:\n",
    "Whether 'tis nobler in the mind to suffer\n",
    "The slings and arrows of outrageous fortune,\n",
    "Or to take arms against a sea of troubles,\n",
    "And by opposing end them?\"\n",
    "\n",
    "hamlet <- str_replace_all(hamlet, \"[:punct:]\", \"\")\n",
    "hamlet <- tolower(unlist(str_split(hamlet, \"[:space:]\")))"
   ]
  },
  {
   "cell_type": "code",
   "execution_count": 32,
   "id": "9d57706a",
   "metadata": {},
   "outputs": [
    {
     "data": {
      "text/html": [
       "<ol class=list-inline>\n",
       "\t<li>'to'</li>\n",
       "\t<li>'be'</li>\n",
       "\t<li>'or'</li>\n",
       "\t<li>'not'</li>\n",
       "\t<li>'to'</li>\n",
       "\t<li>'be'</li>\n",
       "\t<li>'that'</li>\n",
       "\t<li>'is'</li>\n",
       "\t<li>'the'</li>\n",
       "\t<li>'question'</li>\n",
       "\t<li>'whether'</li>\n",
       "\t<li>'tis'</li>\n",
       "\t<li>'nobler'</li>\n",
       "\t<li>'in'</li>\n",
       "\t<li>'the'</li>\n",
       "\t<li>'mind'</li>\n",
       "\t<li>'to'</li>\n",
       "\t<li>'suffer'</li>\n",
       "\t<li>'the'</li>\n",
       "\t<li>'slings'</li>\n",
       "\t<li>'and'</li>\n",
       "\t<li>'arrows'</li>\n",
       "\t<li>'of'</li>\n",
       "\t<li>'outrageous'</li>\n",
       "\t<li>'fortune'</li>\n",
       "\t<li>'or'</li>\n",
       "\t<li>'to'</li>\n",
       "\t<li>'take'</li>\n",
       "\t<li>'arms'</li>\n",
       "\t<li>'against'</li>\n",
       "\t<li>'a'</li>\n",
       "\t<li>'sea'</li>\n",
       "\t<li>'of'</li>\n",
       "\t<li>'troubles'</li>\n",
       "\t<li>'and'</li>\n",
       "\t<li>'by'</li>\n",
       "\t<li>'opposing'</li>\n",
       "\t<li>'end'</li>\n",
       "\t<li>'them'</li>\n",
       "</ol>\n"
      ],
      "text/latex": [
       "\\begin{enumerate*}\n",
       "\\item 'to'\n",
       "\\item 'be'\n",
       "\\item 'or'\n",
       "\\item 'not'\n",
       "\\item 'to'\n",
       "\\item 'be'\n",
       "\\item 'that'\n",
       "\\item 'is'\n",
       "\\item 'the'\n",
       "\\item 'question'\n",
       "\\item 'whether'\n",
       "\\item 'tis'\n",
       "\\item 'nobler'\n",
       "\\item 'in'\n",
       "\\item 'the'\n",
       "\\item 'mind'\n",
       "\\item 'to'\n",
       "\\item 'suffer'\n",
       "\\item 'the'\n",
       "\\item 'slings'\n",
       "\\item 'and'\n",
       "\\item 'arrows'\n",
       "\\item 'of'\n",
       "\\item 'outrageous'\n",
       "\\item 'fortune'\n",
       "\\item 'or'\n",
       "\\item 'to'\n",
       "\\item 'take'\n",
       "\\item 'arms'\n",
       "\\item 'against'\n",
       "\\item 'a'\n",
       "\\item 'sea'\n",
       "\\item 'of'\n",
       "\\item 'troubles'\n",
       "\\item 'and'\n",
       "\\item 'by'\n",
       "\\item 'opposing'\n",
       "\\item 'end'\n",
       "\\item 'them'\n",
       "\\end{enumerate*}\n"
      ],
      "text/markdown": [
       "1. 'to'\n",
       "2. 'be'\n",
       "3. 'or'\n",
       "4. 'not'\n",
       "5. 'to'\n",
       "6. 'be'\n",
       "7. 'that'\n",
       "8. 'is'\n",
       "9. 'the'\n",
       "10. 'question'\n",
       "11. 'whether'\n",
       "12. 'tis'\n",
       "13. 'nobler'\n",
       "14. 'in'\n",
       "15. 'the'\n",
       "16. 'mind'\n",
       "17. 'to'\n",
       "18. 'suffer'\n",
       "19. 'the'\n",
       "20. 'slings'\n",
       "21. 'and'\n",
       "22. 'arrows'\n",
       "23. 'of'\n",
       "24. 'outrageous'\n",
       "25. 'fortune'\n",
       "26. 'or'\n",
       "27. 'to'\n",
       "28. 'take'\n",
       "29. 'arms'\n",
       "30. 'against'\n",
       "31. 'a'\n",
       "32. 'sea'\n",
       "33. 'of'\n",
       "34. 'troubles'\n",
       "35. 'and'\n",
       "36. 'by'\n",
       "37. 'opposing'\n",
       "38. 'end'\n",
       "39. 'them'\n",
       "\n",
       "\n"
      ],
      "text/plain": [
       " [1] \"to\"         \"be\"         \"or\"         \"not\"        \"to\"        \n",
       " [6] \"be\"         \"that\"       \"is\"         \"the\"        \"question\"  \n",
       "[11] \"whether\"    \"tis\"        \"nobler\"     \"in\"         \"the\"       \n",
       "[16] \"mind\"       \"to\"         \"suffer\"     \"the\"        \"slings\"    \n",
       "[21] \"and\"        \"arrows\"     \"of\"         \"outrageous\" \"fortune\"   \n",
       "[26] \"or\"         \"to\"         \"take\"       \"arms\"       \"against\"   \n",
       "[31] \"a\"          \"sea\"        \"of\"         \"troubles\"   \"and\"       \n",
       "[36] \"by\"         \"opposing\"   \"end\"        \"them\"      "
      ]
     },
     "metadata": {},
     "output_type": "display_data"
    }
   ],
   "source": [
    "hamlet"
   ]
  },
  {
   "cell_type": "code",
   "execution_count": 51,
   "id": "914f7486",
   "metadata": {},
   "outputs": [
    {
     "data": {
      "text/html": [
       "4"
      ],
      "text/latex": [
       "4"
      ],
      "text/markdown": [
       "4"
      ],
      "text/plain": [
       "[1] 4"
      ]
     },
     "metadata": {},
     "output_type": "display_data"
    },
    {
     "data": {
      "text/html": [
       "8"
      ],
      "text/latex": [
       "8"
      ],
      "text/markdown": [
       "8"
      ],
      "text/plain": [
       "[1] 8"
      ]
     },
     "metadata": {},
     "output_type": "display_data"
    },
    {
     "data": {
      "text/html": [
       "5"
      ],
      "text/latex": [
       "5"
      ],
      "text/markdown": [
       "5"
      ],
      "text/plain": [
       "[1] 5"
      ]
     },
     "metadata": {},
     "output_type": "display_data"
    },
    {
     "data": {
      "text/html": [
       "3"
      ],
      "text/latex": [
       "3"
      ],
      "text/markdown": [
       "3"
      ],
      "text/plain": [
       "[1] 3"
      ]
     },
     "metadata": {},
     "output_type": "display_data"
    }
   ],
   "source": [
    "# Amount \"to\"\n",
    "sum(str_count(hamlet, 'to'))\n",
    "# Amount any words containing any of \"f\", \"q\" or \"w\"\n",
    "sum(str_count(hamlet, \"[fqw]\"))\n",
    "# Amount any words containing 'b' + any symbol \n",
    "sum(str_count(hamlet, \"b.\"))\n",
    "# Amount words from 7 letters\n",
    "sum(str_length(hamlet)==7)"
   ]
  },
  {
   "cell_type": "markdown",
   "id": "ba4b2569",
   "metadata": {},
   "source": [
    "# Factor"
   ]
  },
  {
   "cell_type": "code",
   "execution_count": 64,
   "id": "63ce6eca",
   "metadata": {},
   "outputs": [
    {
     "data": {
      "text/html": [
       "<ol class=list-inline>\n",
       "\t<li>L</li>\n",
       "\t<li>O</li>\n",
       "\t<li>E</li>\n",
       "\t<li>A</li>\n",
       "\t<li>Z</li>\n",
       "\t<li>X</li>\n",
       "\t<li>B</li>\n",
       "\t<li>Z</li>\n",
       "\t<li>B</li>\n",
       "\t<li>D</li>\n",
       "\t<li>U</li>\n",
       "\t<li>R</li>\n",
       "\t<li>S</li>\n",
       "\t<li>W</li>\n",
       "\t<li>W</li>\n",
       "\t<li>W</li>\n",
       "\t<li>F</li>\n",
       "\t<li>P</li>\n",
       "\t<li>H</li>\n",
       "\t<li>F</li>\n",
       "\t<li>J</li>\n",
       "\t<li>D</li>\n",
       "\t<li>P</li>\n",
       "\t<li>R</li>\n",
       "\t<li>I</li>\n",
       "\t<li>P</li>\n",
       "\t<li>X</li>\n",
       "\t<li>W</li>\n",
       "\t<li>M</li>\n",
       "\t<li>K</li>\n",
       "</ol>\n",
       "\n",
       "<details>\n",
       "\t<summary style=display:list-item;cursor:pointer>\n",
       "\t\t<strong>Levels</strong>:\n",
       "\t</summary>\n",
       "\t<ol class=list-inline>\n",
       "\t\t<li>'A'</li>\n",
       "\t\t<li>'B'</li>\n",
       "\t\t<li>'D'</li>\n",
       "\t\t<li>'E'</li>\n",
       "\t\t<li>'F'</li>\n",
       "\t\t<li>'H'</li>\n",
       "\t\t<li>'I'</li>\n",
       "\t\t<li>'J'</li>\n",
       "\t\t<li>'K'</li>\n",
       "\t\t<li>'L'</li>\n",
       "\t\t<li>'M'</li>\n",
       "\t\t<li>'O'</li>\n",
       "\t\t<li>'P'</li>\n",
       "\t\t<li>'R'</li>\n",
       "\t\t<li>'S'</li>\n",
       "\t\t<li>'U'</li>\n",
       "\t\t<li>'W'</li>\n",
       "\t\t<li>'X'</li>\n",
       "\t\t<li>'Z'</li>\n",
       "\t</ol>\n",
       "</details>"
      ],
      "text/latex": [
       "\\begin{enumerate*}\n",
       "\\item L\n",
       "\\item O\n",
       "\\item E\n",
       "\\item A\n",
       "\\item Z\n",
       "\\item X\n",
       "\\item B\n",
       "\\item Z\n",
       "\\item B\n",
       "\\item D\n",
       "\\item U\n",
       "\\item R\n",
       "\\item S\n",
       "\\item W\n",
       "\\item W\n",
       "\\item W\n",
       "\\item F\n",
       "\\item P\n",
       "\\item H\n",
       "\\item F\n",
       "\\item J\n",
       "\\item D\n",
       "\\item P\n",
       "\\item R\n",
       "\\item I\n",
       "\\item P\n",
       "\\item X\n",
       "\\item W\n",
       "\\item M\n",
       "\\item K\n",
       "\\end{enumerate*}\n",
       "\n",
       "\\emph{Levels}: \\begin{enumerate*}\n",
       "\\item 'A'\n",
       "\\item 'B'\n",
       "\\item 'D'\n",
       "\\item 'E'\n",
       "\\item 'F'\n",
       "\\item 'H'\n",
       "\\item 'I'\n",
       "\\item 'J'\n",
       "\\item 'K'\n",
       "\\item 'L'\n",
       "\\item 'M'\n",
       "\\item 'O'\n",
       "\\item 'P'\n",
       "\\item 'R'\n",
       "\\item 'S'\n",
       "\\item 'U'\n",
       "\\item 'W'\n",
       "\\item 'X'\n",
       "\\item 'Z'\n",
       "\\end{enumerate*}\n"
      ],
      "text/markdown": [
       "1. L\n",
       "2. O\n",
       "3. E\n",
       "4. A\n",
       "5. Z\n",
       "6. X\n",
       "7. B\n",
       "8. Z\n",
       "9. B\n",
       "10. D\n",
       "11. U\n",
       "12. R\n",
       "13. S\n",
       "14. W\n",
       "15. W\n",
       "16. W\n",
       "17. F\n",
       "18. P\n",
       "19. H\n",
       "20. F\n",
       "21. J\n",
       "22. D\n",
       "23. P\n",
       "24. R\n",
       "25. I\n",
       "26. P\n",
       "27. X\n",
       "28. W\n",
       "29. M\n",
       "30. K\n",
       "\n",
       "\n",
       "\n",
       "**Levels**: 1. 'A'\n",
       "2. 'B'\n",
       "3. 'D'\n",
       "4. 'E'\n",
       "5. 'F'\n",
       "6. 'H'\n",
       "7. 'I'\n",
       "8. 'J'\n",
       "9. 'K'\n",
       "10. 'L'\n",
       "11. 'M'\n",
       "12. 'O'\n",
       "13. 'P'\n",
       "14. 'R'\n",
       "15. 'S'\n",
       "16. 'U'\n",
       "17. 'W'\n",
       "18. 'X'\n",
       "19. 'Z'\n",
       "\n",
       "\n"
      ],
      "text/plain": [
       " [1] L O E A Z X B Z B D U R S W W W F P H F J D P R I P X W M K\n",
       "Levels: A B D E F H I J K L M O P R S U W X Z"
      ]
     },
     "metadata": {},
     "output_type": "display_data"
    }
   ],
   "source": [
    "f <- factor(sample(LETTERS, 30, replace=T))\n",
    "f"
   ]
  },
  {
   "cell_type": "code",
   "execution_count": 65,
   "id": "8d22e15a",
   "metadata": {},
   "outputs": [
    {
     "data": {
      "text/html": [
       "<ol class=list-inline>\n",
       "\t<li>10</li>\n",
       "\t<li>12</li>\n",
       "\t<li>4</li>\n",
       "\t<li>1</li>\n",
       "\t<li>19</li>\n",
       "\t<li>18</li>\n",
       "\t<li>2</li>\n",
       "\t<li>19</li>\n",
       "\t<li>2</li>\n",
       "\t<li>3</li>\n",
       "\t<li>16</li>\n",
       "\t<li>14</li>\n",
       "\t<li>15</li>\n",
       "\t<li>17</li>\n",
       "\t<li>17</li>\n",
       "\t<li>17</li>\n",
       "\t<li>5</li>\n",
       "\t<li>13</li>\n",
       "\t<li>6</li>\n",
       "\t<li>5</li>\n",
       "\t<li>8</li>\n",
       "\t<li>3</li>\n",
       "\t<li>13</li>\n",
       "\t<li>14</li>\n",
       "\t<li>7</li>\n",
       "\t<li>13</li>\n",
       "\t<li>18</li>\n",
       "\t<li>17</li>\n",
       "\t<li>11</li>\n",
       "\t<li>9</li>\n",
       "</ol>\n"
      ],
      "text/latex": [
       "\\begin{enumerate*}\n",
       "\\item 10\n",
       "\\item 12\n",
       "\\item 4\n",
       "\\item 1\n",
       "\\item 19\n",
       "\\item 18\n",
       "\\item 2\n",
       "\\item 19\n",
       "\\item 2\n",
       "\\item 3\n",
       "\\item 16\n",
       "\\item 14\n",
       "\\item 15\n",
       "\\item 17\n",
       "\\item 17\n",
       "\\item 17\n",
       "\\item 5\n",
       "\\item 13\n",
       "\\item 6\n",
       "\\item 5\n",
       "\\item 8\n",
       "\\item 3\n",
       "\\item 13\n",
       "\\item 14\n",
       "\\item 7\n",
       "\\item 13\n",
       "\\item 18\n",
       "\\item 17\n",
       "\\item 11\n",
       "\\item 9\n",
       "\\end{enumerate*}\n"
      ],
      "text/markdown": [
       "1. 10\n",
       "2. 12\n",
       "3. 4\n",
       "4. 1\n",
       "5. 19\n",
       "6. 18\n",
       "7. 2\n",
       "8. 19\n",
       "9. 2\n",
       "10. 3\n",
       "11. 16\n",
       "12. 14\n",
       "13. 15\n",
       "14. 17\n",
       "15. 17\n",
       "16. 17\n",
       "17. 5\n",
       "18. 13\n",
       "19. 6\n",
       "20. 5\n",
       "21. 8\n",
       "22. 3\n",
       "23. 13\n",
       "24. 14\n",
       "25. 7\n",
       "26. 13\n",
       "27. 18\n",
       "28. 17\n",
       "29. 11\n",
       "30. 9\n",
       "\n",
       "\n"
      ],
      "text/plain": [
       " [1] 10 12  4  1 19 18  2 19  2  3 16 14 15 17 17 17  5 13  6  5  8  3 13 14  7\n",
       "[26] 13 18 17 11  9"
      ]
     },
     "metadata": {},
     "output_type": "display_data"
    }
   ],
   "source": [
    "as.numeric(f)"
   ]
  },
  {
   "cell_type": "code",
   "execution_count": 66,
   "id": "0f8e612e",
   "metadata": {},
   "outputs": [
    {
     "data": {
      "text/html": [
       "<ol class=list-inline>\n",
       "\t<li>'L'</li>\n",
       "\t<li>'O'</li>\n",
       "\t<li>'E'</li>\n",
       "\t<li>'A'</li>\n",
       "\t<li>'Z'</li>\n",
       "\t<li>'X'</li>\n",
       "\t<li>'B'</li>\n",
       "\t<li>'Z'</li>\n",
       "\t<li>'B'</li>\n",
       "\t<li>'D'</li>\n",
       "\t<li>'U'</li>\n",
       "\t<li>'R'</li>\n",
       "\t<li>'S'</li>\n",
       "\t<li>'W'</li>\n",
       "\t<li>'W'</li>\n",
       "\t<li>'W'</li>\n",
       "\t<li>'F'</li>\n",
       "\t<li>'P'</li>\n",
       "\t<li>'H'</li>\n",
       "\t<li>'F'</li>\n",
       "\t<li>'J'</li>\n",
       "\t<li>'D'</li>\n",
       "\t<li>'P'</li>\n",
       "\t<li>'R'</li>\n",
       "\t<li>'I'</li>\n",
       "\t<li>'P'</li>\n",
       "\t<li>'X'</li>\n",
       "\t<li>'W'</li>\n",
       "\t<li>'M'</li>\n",
       "\t<li>'K'</li>\n",
       "</ol>\n"
      ],
      "text/latex": [
       "\\begin{enumerate*}\n",
       "\\item 'L'\n",
       "\\item 'O'\n",
       "\\item 'E'\n",
       "\\item 'A'\n",
       "\\item 'Z'\n",
       "\\item 'X'\n",
       "\\item 'B'\n",
       "\\item 'Z'\n",
       "\\item 'B'\n",
       "\\item 'D'\n",
       "\\item 'U'\n",
       "\\item 'R'\n",
       "\\item 'S'\n",
       "\\item 'W'\n",
       "\\item 'W'\n",
       "\\item 'W'\n",
       "\\item 'F'\n",
       "\\item 'P'\n",
       "\\item 'H'\n",
       "\\item 'F'\n",
       "\\item 'J'\n",
       "\\item 'D'\n",
       "\\item 'P'\n",
       "\\item 'R'\n",
       "\\item 'I'\n",
       "\\item 'P'\n",
       "\\item 'X'\n",
       "\\item 'W'\n",
       "\\item 'M'\n",
       "\\item 'K'\n",
       "\\end{enumerate*}\n"
      ],
      "text/markdown": [
       "1. 'L'\n",
       "2. 'O'\n",
       "3. 'E'\n",
       "4. 'A'\n",
       "5. 'Z'\n",
       "6. 'X'\n",
       "7. 'B'\n",
       "8. 'Z'\n",
       "9. 'B'\n",
       "10. 'D'\n",
       "11. 'U'\n",
       "12. 'R'\n",
       "13. 'S'\n",
       "14. 'W'\n",
       "15. 'W'\n",
       "16. 'W'\n",
       "17. 'F'\n",
       "18. 'P'\n",
       "19. 'H'\n",
       "20. 'F'\n",
       "21. 'J'\n",
       "22. 'D'\n",
       "23. 'P'\n",
       "24. 'R'\n",
       "25. 'I'\n",
       "26. 'P'\n",
       "27. 'X'\n",
       "28. 'W'\n",
       "29. 'M'\n",
       "30. 'K'\n",
       "\n",
       "\n"
      ],
      "text/plain": [
       " [1] \"L\" \"O\" \"E\" \"A\" \"Z\" \"X\" \"B\" \"Z\" \"B\" \"D\" \"U\" \"R\" \"S\" \"W\" \"W\" \"W\" \"F\" \"P\" \"H\"\n",
       "[20] \"F\" \"J\" \"D\" \"P\" \"R\" \"I\" \"P\" \"X\" \"W\" \"M\" \"K\""
      ]
     },
     "metadata": {},
     "output_type": "display_data"
    }
   ],
   "source": [
    "as.character(f)"
   ]
  },
  {
   "cell_type": "code",
   "execution_count": 67,
   "id": "3f9c8b9f",
   "metadata": {},
   "outputs": [
    {
     "data": {
      "text/html": [
       "<ol class=list-inline>\n",
       "\t<li>'A'</li>\n",
       "\t<li>'B'</li>\n",
       "\t<li>'D'</li>\n",
       "\t<li>'E'</li>\n",
       "\t<li>'F'</li>\n",
       "\t<li>'H'</li>\n",
       "\t<li>'I'</li>\n",
       "\t<li>'J'</li>\n",
       "\t<li>'K'</li>\n",
       "\t<li>'L'</li>\n",
       "\t<li>'M'</li>\n",
       "\t<li>'O'</li>\n",
       "\t<li>'P'</li>\n",
       "\t<li>'R'</li>\n",
       "\t<li>'S'</li>\n",
       "\t<li>'U'</li>\n",
       "\t<li>'W'</li>\n",
       "\t<li>'X'</li>\n",
       "\t<li>'Z'</li>\n",
       "</ol>\n"
      ],
      "text/latex": [
       "\\begin{enumerate*}\n",
       "\\item 'A'\n",
       "\\item 'B'\n",
       "\\item 'D'\n",
       "\\item 'E'\n",
       "\\item 'F'\n",
       "\\item 'H'\n",
       "\\item 'I'\n",
       "\\item 'J'\n",
       "\\item 'K'\n",
       "\\item 'L'\n",
       "\\item 'M'\n",
       "\\item 'O'\n",
       "\\item 'P'\n",
       "\\item 'R'\n",
       "\\item 'S'\n",
       "\\item 'U'\n",
       "\\item 'W'\n",
       "\\item 'X'\n",
       "\\item 'Z'\n",
       "\\end{enumerate*}\n"
      ],
      "text/markdown": [
       "1. 'A'\n",
       "2. 'B'\n",
       "3. 'D'\n",
       "4. 'E'\n",
       "5. 'F'\n",
       "6. 'H'\n",
       "7. 'I'\n",
       "8. 'J'\n",
       "9. 'K'\n",
       "10. 'L'\n",
       "11. 'M'\n",
       "12. 'O'\n",
       "13. 'P'\n",
       "14. 'R'\n",
       "15. 'S'\n",
       "16. 'U'\n",
       "17. 'W'\n",
       "18. 'X'\n",
       "19. 'Z'\n",
       "\n",
       "\n"
      ],
      "text/plain": [
       " [1] \"A\" \"B\" \"D\" \"E\" \"F\" \"H\" \"I\" \"J\" \"K\" \"L\" \"M\" \"O\" \"P\" \"R\" \"S\" \"U\" \"W\" \"X\" \"Z\""
      ]
     },
     "metadata": {},
     "output_type": "display_data"
    }
   ],
   "source": [
    "levels(f) #all unique values of factor"
   ]
  },
  {
   "cell_type": "code",
   "execution_count": 68,
   "id": "7baedc0a",
   "metadata": {},
   "outputs": [
    {
     "data": {
      "text/html": [
       "19"
      ],
      "text/latex": [
       "19"
      ],
      "text/markdown": [
       "19"
      ],
      "text/plain": [
       "[1] 19"
      ]
     },
     "metadata": {},
     "output_type": "display_data"
    }
   ],
   "source": [
    "nlevels(f) #number of levels in factor"
   ]
  },
  {
   "cell_type": "markdown",
   "id": "3f889960",
   "metadata": {},
   "source": [
    "## Indexing of factor"
   ]
  },
  {
   "cell_type": "code",
   "execution_count": 69,
   "id": "81816830",
   "metadata": {},
   "outputs": [],
   "source": [
    "f[f == 'A'] <- 'D'"
   ]
  },
  {
   "cell_type": "code",
   "execution_count": 71,
   "id": "bf5b2ab6",
   "metadata": {},
   "outputs": [
    {
     "data": {
      "text/html": [
       "<ol class=list-inline>\n",
       "\t<li>L</li>\n",
       "\t<li>O</li>\n",
       "\t<li>E</li>\n",
       "\t<li>D</li>\n",
       "\t<li>Z</li>\n",
       "\t<li>X</li>\n",
       "\t<li>B</li>\n",
       "\t<li>Z</li>\n",
       "\t<li>B</li>\n",
       "\t<li>D</li>\n",
       "\t<li>U</li>\n",
       "\t<li>R</li>\n",
       "\t<li>S</li>\n",
       "\t<li>W</li>\n",
       "\t<li>W</li>\n",
       "\t<li>W</li>\n",
       "\t<li>F</li>\n",
       "\t<li>P</li>\n",
       "\t<li>H</li>\n",
       "\t<li>F</li>\n",
       "\t<li>J</li>\n",
       "\t<li>D</li>\n",
       "\t<li>P</li>\n",
       "\t<li>R</li>\n",
       "\t<li>I</li>\n",
       "\t<li>P</li>\n",
       "\t<li>X</li>\n",
       "\t<li>W</li>\n",
       "\t<li>M</li>\n",
       "\t<li>K</li>\n",
       "</ol>\n",
       "\n",
       "<details>\n",
       "\t<summary style=display:list-item;cursor:pointer>\n",
       "\t\t<strong>Levels</strong>:\n",
       "\t</summary>\n",
       "\t<ol class=list-inline>\n",
       "\t\t<li>'B'</li>\n",
       "\t\t<li>'D'</li>\n",
       "\t\t<li>'E'</li>\n",
       "\t\t<li>'F'</li>\n",
       "\t\t<li>'H'</li>\n",
       "\t\t<li>'I'</li>\n",
       "\t\t<li>'J'</li>\n",
       "\t\t<li>'K'</li>\n",
       "\t\t<li>'L'</li>\n",
       "\t\t<li>'M'</li>\n",
       "\t\t<li>'O'</li>\n",
       "\t\t<li>'P'</li>\n",
       "\t\t<li>'R'</li>\n",
       "\t\t<li>'S'</li>\n",
       "\t\t<li>'U'</li>\n",
       "\t\t<li>'W'</li>\n",
       "\t\t<li>'X'</li>\n",
       "\t\t<li>'Z'</li>\n",
       "\t</ol>\n",
       "</details>"
      ],
      "text/latex": [
       "\\begin{enumerate*}\n",
       "\\item L\n",
       "\\item O\n",
       "\\item E\n",
       "\\item D\n",
       "\\item Z\n",
       "\\item X\n",
       "\\item B\n",
       "\\item Z\n",
       "\\item B\n",
       "\\item D\n",
       "\\item U\n",
       "\\item R\n",
       "\\item S\n",
       "\\item W\n",
       "\\item W\n",
       "\\item W\n",
       "\\item F\n",
       "\\item P\n",
       "\\item H\n",
       "\\item F\n",
       "\\item J\n",
       "\\item D\n",
       "\\item P\n",
       "\\item R\n",
       "\\item I\n",
       "\\item P\n",
       "\\item X\n",
       "\\item W\n",
       "\\item M\n",
       "\\item K\n",
       "\\end{enumerate*}\n",
       "\n",
       "\\emph{Levels}: \\begin{enumerate*}\n",
       "\\item 'B'\n",
       "\\item 'D'\n",
       "\\item 'E'\n",
       "\\item 'F'\n",
       "\\item 'H'\n",
       "\\item 'I'\n",
       "\\item 'J'\n",
       "\\item 'K'\n",
       "\\item 'L'\n",
       "\\item 'M'\n",
       "\\item 'O'\n",
       "\\item 'P'\n",
       "\\item 'R'\n",
       "\\item 'S'\n",
       "\\item 'U'\n",
       "\\item 'W'\n",
       "\\item 'X'\n",
       "\\item 'Z'\n",
       "\\end{enumerate*}\n"
      ],
      "text/markdown": [
       "1. L\n",
       "2. O\n",
       "3. E\n",
       "4. D\n",
       "5. Z\n",
       "6. X\n",
       "7. B\n",
       "8. Z\n",
       "9. B\n",
       "10. D\n",
       "11. U\n",
       "12. R\n",
       "13. S\n",
       "14. W\n",
       "15. W\n",
       "16. W\n",
       "17. F\n",
       "18. P\n",
       "19. H\n",
       "20. F\n",
       "21. J\n",
       "22. D\n",
       "23. P\n",
       "24. R\n",
       "25. I\n",
       "26. P\n",
       "27. X\n",
       "28. W\n",
       "29. M\n",
       "30. K\n",
       "\n",
       "\n",
       "\n",
       "**Levels**: 1. 'B'\n",
       "2. 'D'\n",
       "3. 'E'\n",
       "4. 'F'\n",
       "5. 'H'\n",
       "6. 'I'\n",
       "7. 'J'\n",
       "8. 'K'\n",
       "9. 'L'\n",
       "10. 'M'\n",
       "11. 'O'\n",
       "12. 'P'\n",
       "13. 'R'\n",
       "14. 'S'\n",
       "15. 'U'\n",
       "16. 'W'\n",
       "17. 'X'\n",
       "18. 'Z'\n",
       "\n",
       "\n"
      ],
      "text/plain": [
       " [1] L O E D Z X B Z B D U R S W W W F P H F J D P R I P X W M K\n",
       "Levels: B D E F H I J K L M O P R S U W X Z"
      ]
     },
     "metadata": {},
     "output_type": "display_data"
    }
   ],
   "source": [
    "(f <- droplevels(f))"
   ]
  },
  {
   "cell_type": "code",
   "execution_count": 73,
   "id": "e8e3325d",
   "metadata": {},
   "outputs": [
    {
     "data": {
      "text/html": [
       "<ol class=list-inline>\n",
       "\t<li>l</li>\n",
       "\t<li>o</li>\n",
       "\t<li>e</li>\n",
       "\t<li>d</li>\n",
       "\t<li>z</li>\n",
       "\t<li>x</li>\n",
       "\t<li>b</li>\n",
       "\t<li>z</li>\n",
       "\t<li>b</li>\n",
       "\t<li>d</li>\n",
       "\t<li>u</li>\n",
       "\t<li>r</li>\n",
       "\t<li>s</li>\n",
       "\t<li>w</li>\n",
       "\t<li>w</li>\n",
       "\t<li>w</li>\n",
       "\t<li>f</li>\n",
       "\t<li>p</li>\n",
       "\t<li>h</li>\n",
       "\t<li>f</li>\n",
       "\t<li>j</li>\n",
       "\t<li>d</li>\n",
       "\t<li>p</li>\n",
       "\t<li>r</li>\n",
       "\t<li>i</li>\n",
       "\t<li>p</li>\n",
       "\t<li>x</li>\n",
       "\t<li>w</li>\n",
       "\t<li>m</li>\n",
       "\t<li>k</li>\n",
       "</ol>\n",
       "\n",
       "<details>\n",
       "\t<summary style=display:list-item;cursor:pointer>\n",
       "\t\t<strong>Levels</strong>:\n",
       "\t</summary>\n",
       "\t<ol class=list-inline>\n",
       "\t\t<li>'b'</li>\n",
       "\t\t<li>'d'</li>\n",
       "\t\t<li>'e'</li>\n",
       "\t\t<li>'f'</li>\n",
       "\t\t<li>'h'</li>\n",
       "\t\t<li>'i'</li>\n",
       "\t\t<li>'j'</li>\n",
       "\t\t<li>'k'</li>\n",
       "\t\t<li>'l'</li>\n",
       "\t\t<li>'m'</li>\n",
       "\t\t<li>'o'</li>\n",
       "\t\t<li>'p'</li>\n",
       "\t\t<li>'r'</li>\n",
       "\t\t<li>'s'</li>\n",
       "\t\t<li>'u'</li>\n",
       "\t\t<li>'w'</li>\n",
       "\t\t<li>'x'</li>\n",
       "\t\t<li>'z'</li>\n",
       "\t</ol>\n",
       "</details>"
      ],
      "text/latex": [
       "\\begin{enumerate*}\n",
       "\\item l\n",
       "\\item o\n",
       "\\item e\n",
       "\\item d\n",
       "\\item z\n",
       "\\item x\n",
       "\\item b\n",
       "\\item z\n",
       "\\item b\n",
       "\\item d\n",
       "\\item u\n",
       "\\item r\n",
       "\\item s\n",
       "\\item w\n",
       "\\item w\n",
       "\\item w\n",
       "\\item f\n",
       "\\item p\n",
       "\\item h\n",
       "\\item f\n",
       "\\item j\n",
       "\\item d\n",
       "\\item p\n",
       "\\item r\n",
       "\\item i\n",
       "\\item p\n",
       "\\item x\n",
       "\\item w\n",
       "\\item m\n",
       "\\item k\n",
       "\\end{enumerate*}\n",
       "\n",
       "\\emph{Levels}: \\begin{enumerate*}\n",
       "\\item 'b'\n",
       "\\item 'd'\n",
       "\\item 'e'\n",
       "\\item 'f'\n",
       "\\item 'h'\n",
       "\\item 'i'\n",
       "\\item 'j'\n",
       "\\item 'k'\n",
       "\\item 'l'\n",
       "\\item 'm'\n",
       "\\item 'o'\n",
       "\\item 'p'\n",
       "\\item 'r'\n",
       "\\item 's'\n",
       "\\item 'u'\n",
       "\\item 'w'\n",
       "\\item 'x'\n",
       "\\item 'z'\n",
       "\\end{enumerate*}\n"
      ],
      "text/markdown": [
       "1. l\n",
       "2. o\n",
       "3. e\n",
       "4. d\n",
       "5. z\n",
       "6. x\n",
       "7. b\n",
       "8. z\n",
       "9. b\n",
       "10. d\n",
       "11. u\n",
       "12. r\n",
       "13. s\n",
       "14. w\n",
       "15. w\n",
       "16. w\n",
       "17. f\n",
       "18. p\n",
       "19. h\n",
       "20. f\n",
       "21. j\n",
       "22. d\n",
       "23. p\n",
       "24. r\n",
       "25. i\n",
       "26. p\n",
       "27. x\n",
       "28. w\n",
       "29. m\n",
       "30. k\n",
       "\n",
       "\n",
       "\n",
       "**Levels**: 1. 'b'\n",
       "2. 'd'\n",
       "3. 'e'\n",
       "4. 'f'\n",
       "5. 'h'\n",
       "6. 'i'\n",
       "7. 'j'\n",
       "8. 'k'\n",
       "9. 'l'\n",
       "10. 'm'\n",
       "11. 'o'\n",
       "12. 'p'\n",
       "13. 'r'\n",
       "14. 's'\n",
       "15. 'u'\n",
       "16. 'w'\n",
       "17. 'x'\n",
       "18. 'z'\n",
       "\n",
       "\n"
      ],
      "text/plain": [
       " [1] l o e d z x b z b d u r s w w w f p h f j d p r i p x w m k\n",
       "Levels: b d e f h i j k l m o p r s u w x z"
      ]
     },
     "metadata": {},
     "output_type": "display_data"
    }
   ],
   "source": [
    "levels(f) <- tolower(levels(f))\n",
    "f"
   ]
  },
  {
   "cell_type": "code",
   "execution_count": 75,
   "id": "a6b7e8f3",
   "metadata": {},
   "outputs": [
    {
     "data": {
      "text/html": [
       "<ol class=list-inline>\n",
       "\t<li>l</li>\n",
       "\t<li>o</li>\n",
       "\t<li>e</li>\n",
       "\t<li>d</li>\n",
       "\t<li>z</li>\n",
       "\t<li>x</li>\n",
       "\t<li>lll</li>\n",
       "\t<li>z</li>\n",
       "\t<li>lll</li>\n",
       "\t<li>d</li>\n",
       "\t<li>u</li>\n",
       "\t<li>r</li>\n",
       "\t<li>s</li>\n",
       "\t<li>w</li>\n",
       "\t<li>w</li>\n",
       "\t<li>w</li>\n",
       "\t<li>f</li>\n",
       "\t<li>p</li>\n",
       "\t<li>h</li>\n",
       "\t<li>f</li>\n",
       "\t<li>j</li>\n",
       "\t<li>d</li>\n",
       "\t<li>p</li>\n",
       "\t<li>r</li>\n",
       "\t<li>i</li>\n",
       "\t<li>p</li>\n",
       "\t<li>x</li>\n",
       "\t<li>w</li>\n",
       "\t<li>m</li>\n",
       "\t<li>k</li>\n",
       "</ol>\n",
       "\n",
       "<details>\n",
       "\t<summary style=display:list-item;cursor:pointer>\n",
       "\t\t<strong>Levels</strong>:\n",
       "\t</summary>\n",
       "\t<ol class=list-inline>\n",
       "\t\t<li>'lll'</li>\n",
       "\t\t<li>'d'</li>\n",
       "\t\t<li>'e'</li>\n",
       "\t\t<li>'f'</li>\n",
       "\t\t<li>'h'</li>\n",
       "\t\t<li>'i'</li>\n",
       "\t\t<li>'j'</li>\n",
       "\t\t<li>'k'</li>\n",
       "\t\t<li>'l'</li>\n",
       "\t\t<li>'m'</li>\n",
       "\t\t<li>'o'</li>\n",
       "\t\t<li>'p'</li>\n",
       "\t\t<li>'r'</li>\n",
       "\t\t<li>'s'</li>\n",
       "\t\t<li>'u'</li>\n",
       "\t\t<li>'w'</li>\n",
       "\t\t<li>'x'</li>\n",
       "\t\t<li>'z'</li>\n",
       "\t</ol>\n",
       "</details>"
      ],
      "text/latex": [
       "\\begin{enumerate*}\n",
       "\\item l\n",
       "\\item o\n",
       "\\item e\n",
       "\\item d\n",
       "\\item z\n",
       "\\item x\n",
       "\\item lll\n",
       "\\item z\n",
       "\\item lll\n",
       "\\item d\n",
       "\\item u\n",
       "\\item r\n",
       "\\item s\n",
       "\\item w\n",
       "\\item w\n",
       "\\item w\n",
       "\\item f\n",
       "\\item p\n",
       "\\item h\n",
       "\\item f\n",
       "\\item j\n",
       "\\item d\n",
       "\\item p\n",
       "\\item r\n",
       "\\item i\n",
       "\\item p\n",
       "\\item x\n",
       "\\item w\n",
       "\\item m\n",
       "\\item k\n",
       "\\end{enumerate*}\n",
       "\n",
       "\\emph{Levels}: \\begin{enumerate*}\n",
       "\\item 'lll'\n",
       "\\item 'd'\n",
       "\\item 'e'\n",
       "\\item 'f'\n",
       "\\item 'h'\n",
       "\\item 'i'\n",
       "\\item 'j'\n",
       "\\item 'k'\n",
       "\\item 'l'\n",
       "\\item 'm'\n",
       "\\item 'o'\n",
       "\\item 'p'\n",
       "\\item 'r'\n",
       "\\item 's'\n",
       "\\item 'u'\n",
       "\\item 'w'\n",
       "\\item 'x'\n",
       "\\item 'z'\n",
       "\\end{enumerate*}\n"
      ],
      "text/markdown": [
       "1. l\n",
       "2. o\n",
       "3. e\n",
       "4. d\n",
       "5. z\n",
       "6. x\n",
       "7. lll\n",
       "8. z\n",
       "9. lll\n",
       "10. d\n",
       "11. u\n",
       "12. r\n",
       "13. s\n",
       "14. w\n",
       "15. w\n",
       "16. w\n",
       "17. f\n",
       "18. p\n",
       "19. h\n",
       "20. f\n",
       "21. j\n",
       "22. d\n",
       "23. p\n",
       "24. r\n",
       "25. i\n",
       "26. p\n",
       "27. x\n",
       "28. w\n",
       "29. m\n",
       "30. k\n",
       "\n",
       "\n",
       "\n",
       "**Levels**: 1. 'lll'\n",
       "2. 'd'\n",
       "3. 'e'\n",
       "4. 'f'\n",
       "5. 'h'\n",
       "6. 'i'\n",
       "7. 'j'\n",
       "8. 'k'\n",
       "9. 'l'\n",
       "10. 'm'\n",
       "11. 'o'\n",
       "12. 'p'\n",
       "13. 'r'\n",
       "14. 's'\n",
       "15. 'u'\n",
       "16. 'w'\n",
       "17. 'x'\n",
       "18. 'z'\n",
       "\n",
       "\n"
      ],
      "text/plain": [
       " [1] l   o   e   d   z   x   lll z   lll d   u   r   s   w   w   w   f   p   h  \n",
       "[20] f   j   d   p   r   i   p   x   w   m   k  \n",
       "Levels: lll d e f h i j k l m o p r s u w x z"
      ]
     },
     "metadata": {},
     "output_type": "display_data"
    }
   ],
   "source": [
    "levels(f)[1] <- 'lll'\n",
    "f"
   ]
  },
  {
   "cell_type": "code",
   "execution_count": 77,
   "id": "80261bdb",
   "metadata": {},
   "outputs": [
    {
     "data": {
      "text/html": [
       "<ol class=list-inline>\n",
       "\t<li>freezing cold</li>\n",
       "\t<li>burning hot</li>\n",
       "\t<li>cold</li>\n",
       "\t<li>hot</li>\n",
       "\t<li>cold</li>\n",
       "\t<li>warm</li>\n",
       "\t<li>cold</li>\n",
       "\t<li>burning hot</li>\n",
       "\t<li>comfortable</li>\n",
       "\t<li>burning hot</li>\n",
       "\t<li>warm</li>\n",
       "\t<li>hot</li>\n",
       "\t<li>warm</li>\n",
       "\t<li>comfortable</li>\n",
       "</ol>\n",
       "\n",
       "<details>\n",
       "\t<summary style=display:list-item;cursor:pointer>\n",
       "\t\t<strong>Levels</strong>:\n",
       "\t</summary>\n",
       "\t<ol class=list-inline>\n",
       "\t\t<li>'freezing cold'</li>\n",
       "\t\t<li>'cold'</li>\n",
       "\t\t<li>'comfortable'</li>\n",
       "\t\t<li>'warm'</li>\n",
       "\t\t<li>'hot'</li>\n",
       "\t\t<li>'burning hot'</li>\n",
       "\t</ol>\n",
       "</details>"
      ],
      "text/latex": [
       "\\begin{enumerate*}\n",
       "\\item freezing cold\n",
       "\\item burning hot\n",
       "\\item cold\n",
       "\\item hot\n",
       "\\item cold\n",
       "\\item warm\n",
       "\\item cold\n",
       "\\item burning hot\n",
       "\\item comfortable\n",
       "\\item burning hot\n",
       "\\item warm\n",
       "\\item hot\n",
       "\\item warm\n",
       "\\item comfortable\n",
       "\\end{enumerate*}\n",
       "\n",
       "\\emph{Levels}: \\begin{enumerate*}\n",
       "\\item 'freezing cold'\n",
       "\\item 'cold'\n",
       "\\item 'comfortable'\n",
       "\\item 'warm'\n",
       "\\item 'hot'\n",
       "\\item 'burning hot'\n",
       "\\end{enumerate*}\n"
      ],
      "text/markdown": [
       "1. freezing cold\n",
       "2. burning hot\n",
       "3. cold\n",
       "4. hot\n",
       "5. cold\n",
       "6. warm\n",
       "7. cold\n",
       "8. burning hot\n",
       "9. comfortable\n",
       "10. burning hot\n",
       "11. warm\n",
       "12. hot\n",
       "13. warm\n",
       "14. comfortable\n",
       "\n",
       "\n",
       "\n",
       "**Levels**: 1. 'freezing cold'\n",
       "2. 'cold'\n",
       "3. 'comfortable'\n",
       "4. 'warm'\n",
       "5. 'hot'\n",
       "6. 'burning hot'\n",
       "\n",
       "\n"
      ],
      "text/plain": [
       " [1] freezing cold burning hot   cold          hot           cold         \n",
       " [6] warm          cold          burning hot   comfortable   burning hot  \n",
       "[11] warm          hot           warm          comfortable  \n",
       "Levels: freezing cold < cold < comfortable < warm < hot < burning hot"
      ]
     },
     "metadata": {},
     "output_type": "display_data"
    }
   ],
   "source": [
    "temp <- c(\"freezing cold\", \"cold\", \"comfortable\", \"warm\", \"hot\", \"burning hot\")\n",
    "ft <- ordered(sample(temp, 14, replace=T), temp)\n",
    "ft"
   ]
  },
  {
   "cell_type": "code",
   "execution_count": 78,
   "id": "d5d2eef6",
   "metadata": {},
   "outputs": [
    {
     "data": {
      "text/html": [
       "<ol class=list-inline>\n",
       "\t<li>burning hot</li>\n",
       "\t<li>hot</li>\n",
       "\t<li>burning hot</li>\n",
       "\t<li>burning hot</li>\n",
       "\t<li>hot</li>\n",
       "</ol>\n",
       "\n",
       "<details>\n",
       "\t<summary style=display:list-item;cursor:pointer>\n",
       "\t\t<strong>Levels</strong>:\n",
       "\t</summary>\n",
       "\t<ol class=list-inline>\n",
       "\t\t<li>'freezing cold'</li>\n",
       "\t\t<li>'cold'</li>\n",
       "\t\t<li>'comfortable'</li>\n",
       "\t\t<li>'warm'</li>\n",
       "\t\t<li>'hot'</li>\n",
       "\t\t<li>'burning hot'</li>\n",
       "\t</ol>\n",
       "</details>"
      ],
      "text/latex": [
       "\\begin{enumerate*}\n",
       "\\item burning hot\n",
       "\\item hot\n",
       "\\item burning hot\n",
       "\\item burning hot\n",
       "\\item hot\n",
       "\\end{enumerate*}\n",
       "\n",
       "\\emph{Levels}: \\begin{enumerate*}\n",
       "\\item 'freezing cold'\n",
       "\\item 'cold'\n",
       "\\item 'comfortable'\n",
       "\\item 'warm'\n",
       "\\item 'hot'\n",
       "\\item 'burning hot'\n",
       "\\end{enumerate*}\n"
      ],
      "text/markdown": [
       "1. burning hot\n",
       "2. hot\n",
       "3. burning hot\n",
       "4. burning hot\n",
       "5. hot\n",
       "\n",
       "\n",
       "\n",
       "**Levels**: 1. 'freezing cold'\n",
       "2. 'cold'\n",
       "3. 'comfortable'\n",
       "4. 'warm'\n",
       "5. 'hot'\n",
       "6. 'burning hot'\n",
       "\n",
       "\n"
      ],
      "text/plain": [
       "[1] burning hot hot         burning hot burning hot hot        \n",
       "Levels: freezing cold < cold < comfortable < warm < hot < burning hot"
      ]
     },
     "metadata": {},
     "output_type": "display_data"
    }
   ],
   "source": [
    "ft[ft >= \"hot\"]"
   ]
  },
  {
   "cell_type": "markdown",
   "id": "4eca8512",
   "metadata": {},
   "source": [
    "# Cut"
   ]
  },
  {
   "cell_type": "code",
   "execution_count": 79,
   "id": "2f3502b2",
   "metadata": {},
   "outputs": [
    {
     "data": {
      "text/html": [
       "<ol class=list-inline>\n",
       "\t<li>(-2,-1]</li>\n",
       "\t<li>(-1,0]</li>\n",
       "\t<li>(-2,-1]</li>\n",
       "\t<li>(0,1]</li>\n",
       "\t<li>(1,2]</li>\n",
       "\t<li>(-4,-3]</li>\n",
       "\t<li>(2,3]</li>\n",
       "\t<li>(0,1]</li>\n",
       "\t<li>(0,1]</li>\n",
       "\t<li>(0,1]</li>\n",
       "</ol>\n",
       "\n",
       "<details>\n",
       "\t<summary style=display:list-item;cursor:pointer>\n",
       "\t\t<strong>Levels</strong>:\n",
       "\t</summary>\n",
       "\t<ol class=list-inline>\n",
       "\t\t<li>'(-5,-4]'</li>\n",
       "\t\t<li>'(-4,-3]'</li>\n",
       "\t\t<li>'(-3,-2]'</li>\n",
       "\t\t<li>'(-2,-1]'</li>\n",
       "\t\t<li>'(-1,0]'</li>\n",
       "\t\t<li>'(0,1]'</li>\n",
       "\t\t<li>'(1,2]'</li>\n",
       "\t\t<li>'(2,3]'</li>\n",
       "\t\t<li>'(3,4]'</li>\n",
       "\t\t<li>'(4,5]'</li>\n",
       "\t</ol>\n",
       "</details>"
      ],
      "text/latex": [
       "\\begin{enumerate*}\n",
       "\\item (-2,-1{]}\n",
       "\\item (-1,0{]}\n",
       "\\item (-2,-1{]}\n",
       "\\item (0,1{]}\n",
       "\\item (1,2{]}\n",
       "\\item (-4,-3{]}\n",
       "\\item (2,3{]}\n",
       "\\item (0,1{]}\n",
       "\\item (0,1{]}\n",
       "\\item (0,1{]}\n",
       "\\end{enumerate*}\n",
       "\n",
       "\\emph{Levels}: \\begin{enumerate*}\n",
       "\\item '(-5,-4{]}'\n",
       "\\item '(-4,-3{]}'\n",
       "\\item '(-3,-2{]}'\n",
       "\\item '(-2,-1{]}'\n",
       "\\item '(-1,0{]}'\n",
       "\\item '(0,1{]}'\n",
       "\\item '(1,2{]}'\n",
       "\\item '(2,3{]}'\n",
       "\\item '(3,4{]}'\n",
       "\\item '(4,5{]}'\n",
       "\\end{enumerate*}\n"
      ],
      "text/markdown": [
       "1. (-2,-1]\n",
       "2. (-1,0]\n",
       "3. (-2,-1]\n",
       "4. (0,1]\n",
       "5. (1,2]\n",
       "6. (-4,-3]\n",
       "7. (2,3]\n",
       "8. (0,1]\n",
       "9. (0,1]\n",
       "10. (0,1]\n",
       "\n",
       "\n",
       "\n",
       "**Levels**: 1. '(-5,-4]'\n",
       "2. '(-4,-3]'\n",
       "3. '(-3,-2]'\n",
       "4. '(-2,-1]'\n",
       "5. '(-1,0]'\n",
       "6. '(0,1]'\n",
       "7. '(1,2]'\n",
       "8. '(2,3]'\n",
       "9. '(3,4]'\n",
       "10. '(4,5]'\n",
       "\n",
       "\n"
      ],
      "text/plain": [
       " [1] (-2,-1] (-1,0]  (-2,-1] (0,1]   (1,2]   (-4,-3] (2,3]   (0,1]   (0,1]  \n",
       "[10] (0,1]  \n",
       "10 Levels: (-5,-4] (-4,-3] (-3,-2] (-2,-1] (-1,0] (0,1] (1,2] (2,3] ... (4,5]"
      ]
     },
     "metadata": {},
     "output_type": "display_data"
    }
   ],
   "source": [
    "cut(rnorm(10), -5:5)"
   ]
  },
  {
   "cell_type": "code",
   "execution_count": 80,
   "id": "1c58b024",
   "metadata": {},
   "outputs": [
    {
     "data": {
      "text/plain": [
       "\n",
       "(-5,-4] (-4,-3] (-3,-2] (-2,-1]  (-1,0]   (0,1]   (1,2]   (2,3]   (3,4]   (4,5] \n",
       "      0       2      17     132     363     344     118      22       2       0 "
      ]
     },
     "metadata": {},
     "output_type": "display_data"
    }
   ],
   "source": [
    "table(cut(rnorm(1000), -5:5))"
   ]
  },
  {
   "cell_type": "code",
   "execution_count": 83,
   "id": "1d242aa3",
   "metadata": {},
   "outputs": [],
   "source": [
    "options(stringsAsFactors = F) #if we don't want to have all strings as factors"
   ]
  },
  {
   "cell_type": "markdown",
   "id": "e32d97c1",
   "metadata": {},
   "source": [
    "# Tapply"
   ]
  },
  {
   "cell_type": "code",
   "execution_count": 84,
   "id": "393038a7",
   "metadata": {},
   "outputs": [
    {
     "name": "stdout",
     "output_type": "stream",
     "text": [
      "'data.frame':\t54 obs. of  3 variables:\n",
      " $ breaks : num  26 30 54 25 70 52 51 26 67 18 ...\n",
      " $ wool   : Factor w/ 2 levels \"A\",\"B\": 1 1 1 1 1 1 1 1 1 1 ...\n",
      " $ tension: Factor w/ 3 levels \"L\",\"M\",\"H\": 1 1 1 1 1 1 1 1 1 2 ...\n"
     ]
    }
   ],
   "source": [
    "str(warpbreaks) "
   ]
  },
  {
   "cell_type": "code",
   "execution_count": 88,
   "id": "bc879cc9",
   "metadata": {},
   "outputs": [
    {
     "data": {
      "text/html": [
       "<dl class=dl-horizontal>\n",
       "\t<dt>A</dt>\n",
       "\t\t<dd>31.037037037037</dd>\n",
       "\t<dt>B</dt>\n",
       "\t\t<dd>25.2592592592593</dd>\n",
       "</dl>\n"
      ],
      "text/latex": [
       "\\begin{description*}\n",
       "\\item[A] 31.037037037037\n",
       "\\item[B] 25.2592592592593\n",
       "\\end{description*}\n"
      ],
      "text/markdown": [
       "A\n",
       ":   31.037037037037B\n",
       ":   25.2592592592593\n",
       "\n"
      ],
      "text/plain": [
       "       A        B \n",
       "31.03704 25.25926 "
      ]
     },
     "metadata": {},
     "output_type": "display_data"
    },
    {
     "data": {
      "text/html": [
       "<dl class=dl-horizontal>\n",
       "\t<dt>A</dt>\n",
       "\t\t<dd>70</dd>\n",
       "\t<dt>B</dt>\n",
       "\t\t<dd>44</dd>\n",
       "</dl>\n"
      ],
      "text/latex": [
       "\\begin{description*}\n",
       "\\item[A] 70\n",
       "\\item[B] 44\n",
       "\\end{description*}\n"
      ],
      "text/markdown": [
       "A\n",
       ":   70B\n",
       ":   44\n",
       "\n"
      ],
      "text/plain": [
       " A  B \n",
       "70 44 "
      ]
     },
     "metadata": {},
     "output_type": "display_data"
    }
   ],
   "source": [
    "tapply(warpbreaks$breaks, warpbreaks$wool, mean) #Apply function for factors\n",
    "tapply(warpbreaks$breaks, warpbreaks$wool, max)"
   ]
  },
  {
   "cell_type": "code",
   "execution_count": 89,
   "id": "54177c49",
   "metadata": {},
   "outputs": [
    {
     "name": "stdout",
     "output_type": "stream",
     "text": [
      "'data.frame':\t1000 obs. of  5 variables:\n",
      " $ lat     : num  -20.4 -20.6 -26 -18 -20.4 ...\n",
      " $ long    : num  182 181 184 182 182 ...\n",
      " $ depth   : int  562 650 42 626 649 195 82 194 211 622 ...\n",
      " $ mag     : num  4.8 4.2 5.4 4.1 4 4 4.8 4.4 4.7 4.3 ...\n",
      " $ stations: int  41 15 43 19 11 12 43 15 35 19 ...\n"
     ]
    }
   ],
   "source": [
    "str(quakes)"
   ]
  },
  {
   "cell_type": "code",
   "execution_count": 90,
   "id": "29e8b438",
   "metadata": {},
   "outputs": [
    {
     "data": {
      "text/html": [
       "4"
      ],
      "text/latex": [
       "4"
      ],
      "text/markdown": [
       "4"
      ],
      "text/plain": [
       "[1] 4"
      ]
     },
     "metadata": {},
     "output_type": "display_data"
    },
    {
     "data": {
      "text/html": [
       "6.4"
      ],
      "text/latex": [
       "6.4"
      ],
      "text/markdown": [
       "6.4"
      ],
      "text/plain": [
       "[1] 6.4"
      ]
     },
     "metadata": {},
     "output_type": "display_data"
    }
   ],
   "source": [
    "min(quakes$mag)\n",
    "max(quakes$mag)"
   ]
  },
  {
   "cell_type": "code",
   "execution_count": 104,
   "id": "1299ec42",
   "metadata": {},
   "outputs": [
    {
     "data": {
      "text/plain": [
       "\n",
       "[4,4.5) [4.5,5) [5,5.5) [5.5,6) [6,6.5] \n",
       "    377     425     160      33       5 "
      ]
     },
     "metadata": {},
     "output_type": "display_data"
    }
   ],
   "source": [
    "table(cut(quakes$mag, breaks=c(4,4.5,5,5.5,6, 6.5), include.lowest=T, right=F ))"
   ]
  },
  {
   "cell_type": "markdown",
   "id": "c314f449",
   "metadata": {},
   "source": [
    "# Functions"
   ]
  },
  {
   "cell_type": "code",
   "execution_count": 143,
   "id": "55d4fe86",
   "metadata": {},
   "outputs": [
    {
     "name": "stdout",
     "output_type": "stream",
     "text": [
      "List of 3\n",
      " $ :function (x, ...)  \n",
      " $ :function (..., na.rm = FALSE)  \n",
      " $ :function (..., na.rm = FALSE)  \n"
     ]
    }
   ],
   "source": [
    "str(c(mean, min, max))"
   ]
  },
  {
   "cell_type": "code",
   "execution_count": 144,
   "id": "0b8ca80d",
   "metadata": {},
   "outputs": [],
   "source": [
    "fun_list <- c(mean, min, max)"
   ]
  },
  {
   "cell_type": "code",
   "execution_count": 145,
   "id": "dee4dea0",
   "metadata": {},
   "outputs": [
    {
     "data": {
      "text/html": [
       "<ol class=list-inline>\n",
       "\t<li>500.5</li>\n",
       "\t<li>1</li>\n",
       "\t<li>1000</li>\n",
       "</ol>\n"
      ],
      "text/latex": [
       "\\begin{enumerate*}\n",
       "\\item 500.5\n",
       "\\item 1\n",
       "\\item 1000\n",
       "\\end{enumerate*}\n"
      ],
      "text/markdown": [
       "1. 500.5\n",
       "2. 1\n",
       "3. 1000\n",
       "\n",
       "\n"
      ],
      "text/plain": [
       "[1]  500.5    1.0 1000.0"
      ]
     },
     "metadata": {},
     "output_type": "display_data"
    }
   ],
   "source": [
    "sapply(fun_list, function(x) x(1:1000))"
   ]
  },
  {
   "cell_type": "code",
   "execution_count": 147,
   "id": "7da62f8a",
   "metadata": {},
   "outputs": [
    {
     "data": {
      "text/html": [
       "<ol class=list-inline>\n",
       "\t<li>500.5</li>\n",
       "\t<li>1</li>\n",
       "\t<li>1000</li>\n",
       "</ol>\n"
      ],
      "text/latex": [
       "\\begin{enumerate*}\n",
       "\\item 500.5\n",
       "\\item 1\n",
       "\\item 1000\n",
       "\\end{enumerate*}\n"
      ],
      "text/markdown": [
       "1. 500.5\n",
       "2. 1\n",
       "3. 1000\n",
       "\n",
       "\n"
      ],
      "text/plain": [
       "[1]  500.5    1.0 1000.0"
      ]
     },
     "metadata": {},
     "output_type": "display_data"
    }
   ],
   "source": [
    "apply_f <- function(f, x) f(x)\n",
    "sapply(fun_list, apply_f, x=1:1000)"
   ]
  },
  {
   "cell_type": "code",
   "execution_count": 148,
   "id": "e16965b4",
   "metadata": {},
   "outputs": [
    {
     "data": {
      "text/html": [
       "385"
      ],
      "text/latex": [
       "385"
      ],
      "text/markdown": [
       "385"
      ],
      "text/plain": [
       "[1] 385"
      ]
     },
     "metadata": {},
     "output_type": "display_data"
    }
   ],
   "source": [
    "apply_f(function(x) sum(x^2), 1:10)"
   ]
  },
  {
   "cell_type": "markdown",
   "id": "ac6e20ee",
   "metadata": {},
   "source": [
    "## Function as return function"
   ]
  },
  {
   "cell_type": "code",
   "execution_count": 152,
   "id": "6684f4d8",
   "metadata": {},
   "outputs": [
    {
     "data": {
      "text/html": [
       "<pre class=language-r><code>function (x) \n",
       "x^2</code></pre>"
      ],
      "text/latex": [
       "\\begin{minted}{r}\n",
       "function (x) \n",
       "x\\textasciicircum{}2\n",
       "\\end{minted}"
      ],
      "text/markdown": [
       "```r\n",
       "function (x) \n",
       "x^2\n",
       "```"
      ],
      "text/plain": [
       "function(x) x^2\n",
       "<environment: 0x7fce3f6d5710>"
      ]
     },
     "metadata": {},
     "output_type": "display_data"
    }
   ],
   "source": [
    "square <- function() function(x) x^2\n",
    "square()"
   ]
  },
  {
   "cell_type": "code",
   "execution_count": 153,
   "id": "4ed6fe2e",
   "metadata": {},
   "outputs": [
    {
     "data": {
      "text/html": [
       "25"
      ],
      "text/latex": [
       "25"
      ],
      "text/markdown": [
       "25"
      ],
      "text/plain": [
       "[1] 25"
      ]
     },
     "metadata": {},
     "output_type": "display_data"
    }
   ],
   "source": [
    "square()(5)"
   ]
  },
  {
   "cell_type": "markdown",
   "id": "4311eebf",
   "metadata": {},
   "source": [
    "# Binary operators"
   ]
  },
  {
   "cell_type": "code",
   "execution_count": 154,
   "id": "c3e68842",
   "metadata": {},
   "outputs": [
    {
     "data": {
      "text/html": [
       "<ol class=list-inline>\n",
       "\t<li>TRUE</li>\n",
       "\t<li>FALSE</li>\n",
       "\t<li>TRUE</li>\n",
       "\t<li>FALSE</li>\n",
       "\t<li>TRUE</li>\n",
       "</ol>\n"
      ],
      "text/latex": [
       "\\begin{enumerate*}\n",
       "\\item TRUE\n",
       "\\item FALSE\n",
       "\\item TRUE\n",
       "\\item FALSE\n",
       "\\item TRUE\n",
       "\\end{enumerate*}\n"
      ],
      "text/markdown": [
       "1. TRUE\n",
       "2. FALSE\n",
       "3. TRUE\n",
       "4. FALSE\n",
       "5. TRUE\n",
       "\n",
       "\n"
      ],
      "text/plain": [
       "[1]  TRUE FALSE  TRUE FALSE  TRUE"
      ]
     },
     "metadata": {},
     "output_type": "display_data"
    }
   ],
   "source": [
    "# x %in% y checks if y contains x\n",
    "\n",
    "1:5 %in% c(1,3,5)"
   ]
  },
  {
   "cell_type": "code",
   "execution_count": 155,
   "id": "fbd92793",
   "metadata": {},
   "outputs": [
    {
     "data": {
      "text/html": [
       "<ol class=list-inline>\n",
       "\t<li>FALSE</li>\n",
       "\t<li>TRUE</li>\n",
       "\t<li>FALSE</li>\n",
       "\t<li>TRUE</li>\n",
       "\t<li>FALSE</li>\n",
       "</ol>\n"
      ],
      "text/latex": [
       "\\begin{enumerate*}\n",
       "\\item FALSE\n",
       "\\item TRUE\n",
       "\\item FALSE\n",
       "\\item TRUE\n",
       "\\item FALSE\n",
       "\\end{enumerate*}\n"
      ],
      "text/markdown": [
       "1. FALSE\n",
       "2. TRUE\n",
       "3. FALSE\n",
       "4. TRUE\n",
       "5. FALSE\n",
       "\n",
       "\n"
      ],
      "text/plain": [
       "[1] FALSE  TRUE FALSE  TRUE FALSE"
      ]
     },
     "metadata": {},
     "output_type": "display_data"
    }
   ],
   "source": [
    "\"%nin%\" <- function(x,y) !(x%in%y)\n",
    "1:5 %nin% c(1,3,5)"
   ]
  },
  {
   "cell_type": "code",
   "execution_count": 191,
   "id": "7cd8a469",
   "metadata": {},
   "outputs": [],
   "source": [
    "decorate_string <- function(pattern, string, string1, sep='', collapse=NULL) { \n",
    "      s <- paste(pattern, string, sep=sep, collapse=collapse)\n",
    "      #s1 <- paste(s, stri_reverse(pattern), sep=sep, collapse=collapse)\n",
    "      return(s1)\n",
    "}"
   ]
  },
  {
   "cell_type": "code",
   "execution_count": 229,
   "id": "3dded070",
   "metadata": {},
   "outputs": [],
   "source": [
    "paste_all <- function(x,...) paste(x, ...)\n",
    "\n",
    "\n",
    "decorate_string <- function(pattern, string, ..., sep=' ', collapse=NULL) { \n",
    "      text <- paste_all(string, ..., sep=sep, collapse=collapse)\n",
    "      rev_dec <- stri_reverse(pattern)\n",
    "      return(paste0(pattern, text, rev_dec))\n",
    "}\n",
    "                                                   "
   ]
  },
  {
   "cell_type": "code",
   "execution_count": 232,
   "id": "b425ab44",
   "metadata": {},
   "outputs": [],
   "source": [
    "decorate_string <- function(pattern, ...) {\n",
    "    paste0(pattern, paste(...), stri_reverse(pattern))\n",
    "}"
   ]
  },
  {
   "cell_type": "code",
   "execution_count": 233,
   "id": "8f6f0ecf",
   "metadata": {},
   "outputs": [
    {
     "data": {
      "text/html": [
       "'123abc321'"
      ],
      "text/latex": [
       "'123abc321'"
      ],
      "text/markdown": [
       "'123abc321'"
      ],
      "text/plain": [
       "[1] \"123abc321\""
      ]
     },
     "metadata": {},
     "output_type": "display_data"
    },
    {
     "data": {
      "text/html": [
       "'123abc def321'"
      ],
      "text/latex": [
       "'123abc def321'"
      ],
      "text/markdown": [
       "'123abc def321'"
      ],
      "text/plain": [
       "[1] \"123abc def321\""
      ]
     },
     "metadata": {},
     "output_type": "display_data"
    },
    {
     "data": {
      "text/html": [
       "<ol class=list-inline>\n",
       "\t<li>'123abc321'</li>\n",
       "\t<li>'123def321'</li>\n",
       "</ol>\n"
      ],
      "text/latex": [
       "\\begin{enumerate*}\n",
       "\\item '123abc321'\n",
       "\\item '123def321'\n",
       "\\end{enumerate*}\n"
      ],
      "text/markdown": [
       "1. '123abc321'\n",
       "2. '123def321'\n",
       "\n",
       "\n"
      ],
      "text/plain": [
       "[1] \"123abc321\" \"123def321\""
      ]
     },
     "metadata": {},
     "output_type": "display_data"
    },
    {
     "data": {
      "text/html": [
       "'123abc+def321'"
      ],
      "text/latex": [
       "'123abc+def321'"
      ],
      "text/markdown": [
       "'123abc+def321'"
      ],
      "text/plain": [
       "[1] \"123abc+def321\""
      ]
     },
     "metadata": {},
     "output_type": "display_data"
    },
    {
     "data": {
      "text/html": [
       "'!x_x!'"
      ],
      "text/latex": [
       "'!x\\_x!'"
      ],
      "text/markdown": [
       "'!x_x!'"
      ],
      "text/plain": [
       "[1] \"!x_x!\""
      ]
     },
     "metadata": {},
     "output_type": "display_data"
    },
    {
     "data": {
      "text/html": [
       "<ol class=list-inline>\n",
       "\t<li>'.:1&amp;3&amp;5:.'</li>\n",
       "\t<li>'.:2&amp;4&amp;6:.'</li>\n",
       "</ol>\n"
      ],
      "text/latex": [
       "\\begin{enumerate*}\n",
       "\\item '.:1\\&3\\&5:.'\n",
       "\\item '.:2\\&4\\&6:.'\n",
       "\\end{enumerate*}\n"
      ],
      "text/markdown": [
       "1. '.:1&amp;3&amp;5:.'\n",
       "2. '.:2&amp;4&amp;6:.'\n",
       "\n",
       "\n"
      ],
      "text/plain": [
       "[1] \".:1&3&5:.\" \".:2&4&6:.\""
      ]
     },
     "metadata": {},
     "output_type": "display_data"
    }
   ],
   "source": [
    "decorate_string(pattern = \"123\", \"abc\")            # \"123abc321\"\n",
    "decorate_string(pattern = \"123\", \"abc\", \"def\")     # \"123abc def321\"\n",
    "decorate_string(pattern = \"123\", c(\"abc\", \"def\"))  # \"123abc321\" \"123def321\" (вектор длины 2)\n",
    "\n",
    "decorate_string(pattern = \"123\", \"abc\", \"def\", sep = \"+\")    # \"123abc+def321\"\n",
    "decorate_string(pattern = \"!\", c(\"x\", \"x\"), collapse = \"_\")  # \"!x_x!\"\n",
    "decorate_string(pattern = \".:\", 1:2, 3:4, 5:6, sep = \"&\")    # \".:1&3&5:.\" \".:2&4&6:.\" (вектор длины 2)"
   ]
  },
  {
   "cell_type": "markdown",
   "id": "d3b48b54",
   "metadata": {},
   "source": [
    "# Generator of cards"
   ]
  },
  {
   "cell_type": "code",
   "execution_count": 236,
   "id": "058aef9d",
   "metadata": {},
   "outputs": [
    {
     "data": {
      "text/html": [
       "<ol class=list-inline>\n",
       "\t<li>'2_of_Diamonds'</li>\n",
       "\t<li>'6_of_Hearts'</li>\n",
       "\t<li>'4_of_Clubs'</li>\n",
       "\t<li>'3_of_Clubs'</li>\n",
       "\t<li>'6_of_Spades'</li>\n",
       "\t<li>'3_of_Hearts'</li>\n",
       "\t<li>'2_of_Diamonds'</li>\n",
       "\t<li>'3_of_Clubs'</li>\n",
       "\t<li>'Jack_of_Spades'</li>\n",
       "\t<li>'10_of_Diamonds'</li>\n",
       "\t<li>'8_of_Diamonds'</li>\n",
       "\t<li>'Ace_of_Hearts'</li>\n",
       "\t<li>'5_of_Spades'</li>\n",
       "\t<li>'Ace_of_Hearts'</li>\n",
       "\t<li>'7_of_Clubs'</li>\n",
       "</ol>\n"
      ],
      "text/latex": [
       "\\begin{enumerate*}\n",
       "\\item '2\\_of\\_Diamonds'\n",
       "\\item '6\\_of\\_Hearts'\n",
       "\\item '4\\_of\\_Clubs'\n",
       "\\item '3\\_of\\_Clubs'\n",
       "\\item '6\\_of\\_Spades'\n",
       "\\item '3\\_of\\_Hearts'\n",
       "\\item '2\\_of\\_Diamonds'\n",
       "\\item '3\\_of\\_Clubs'\n",
       "\\item 'Jack\\_of\\_Spades'\n",
       "\\item '10\\_of\\_Diamonds'\n",
       "\\item '8\\_of\\_Diamonds'\n",
       "\\item 'Ace\\_of\\_Hearts'\n",
       "\\item '5\\_of\\_Spades'\n",
       "\\item 'Ace\\_of\\_Hearts'\n",
       "\\item '7\\_of\\_Clubs'\n",
       "\\end{enumerate*}\n"
      ],
      "text/markdown": [
       "1. '2_of_Diamonds'\n",
       "2. '6_of_Hearts'\n",
       "3. '4_of_Clubs'\n",
       "4. '3_of_Clubs'\n",
       "5. '6_of_Spades'\n",
       "6. '3_of_Hearts'\n",
       "7. '2_of_Diamonds'\n",
       "8. '3_of_Clubs'\n",
       "9. 'Jack_of_Spades'\n",
       "10. '10_of_Diamonds'\n",
       "11. '8_of_Diamonds'\n",
       "12. 'Ace_of_Hearts'\n",
       "13. '5_of_Spades'\n",
       "14. 'Ace_of_Hearts'\n",
       "15. '7_of_Clubs'\n",
       "\n",
       "\n"
      ],
      "text/plain": [
       " [1] \"2_of_Diamonds\"  \"6_of_Hearts\"    \"4_of_Clubs\"     \"3_of_Clubs\"    \n",
       " [5] \"6_of_Spades\"    \"3_of_Hearts\"    \"2_of_Diamonds\"  \"3_of_Clubs\"    \n",
       " [9] \"Jack_of_Spades\" \"10_of_Diamonds\" \"8_of_Diamonds\"  \"Ace_of_Hearts\" \n",
       "[13] \"5_of_Spades\"    \"Ace_of_Hearts\"  \"7_of_Clubs\"    "
      ]
     },
     "metadata": {},
     "output_type": "display_data"
    },
    {
     "data": {
      "text/html": [
       "<ol class=list-inline>\n",
       "\t<li>'Tails'</li>\n",
       "\t<li>'Heads'</li>\n",
       "\t<li>'Heads'</li>\n",
       "</ol>\n"
      ],
      "text/latex": [
       "\\begin{enumerate*}\n",
       "\\item 'Tails'\n",
       "\\item 'Heads'\n",
       "\\item 'Heads'\n",
       "\\end{enumerate*}\n"
      ],
      "text/markdown": [
       "1. 'Tails'\n",
       "2. 'Heads'\n",
       "3. 'Heads'\n",
       "\n",
       "\n"
      ],
      "text/plain": [
       "[1] \"Tails\" \"Heads\" \"Heads\""
      ]
     },
     "metadata": {},
     "output_type": "display_data"
    }
   ],
   "source": [
    "#Generate Deck Cards\n",
    "\n",
    "values <- c(2:10, \"Jack\", \"Queen\", \"King\", \"Ace\")\n",
    "suits <- c(\"Clubs\", \"Diamonds\", \"Hearts\", \"Spades\")\n",
    "card_deck <- outer(values, suits, paste, sep='_of_')\n",
    "\n",
    "#Function_factory\n",
    "\n",
    "generator <- function(set) function(n) sample(set, n, replace=T)\n",
    "    \n",
    "#Define_Generators\n",
    "    \n",
    "card_generator <- generator(card_deck)\n",
    "coin_generator <- generator(c(\"Heads\", \"Tails\"))\n",
    "\n",
    "#Let's play\n",
    "\n",
    "card_generator(15)\n",
    "coin_generator(3)"
   ]
  },
  {
   "cell_type": "code",
   "execution_count": 289,
   "id": "4d29dfc3",
   "metadata": {},
   "outputs": [],
   "source": [
    "generator <- function(set, prob = rep(1/length(set), length(set))) { \n",
    "             function(n) sample(set, n, replace=T)\n",
    "} \n",
    "\n",
    "roulette_values <- c(\"Zero!\", 1:36)\n",
    "fair_roulette <- generator(roulette_values)\n",
    "#rigged_roulette <- generator(<???>)"
   ]
  },
  {
   "cell_type": "code",
   "execution_count": 290,
   "id": "a29e92a7",
   "metadata": {},
   "outputs": [
    {
     "data": {
      "text/html": [
       "'14'"
      ],
      "text/latex": [
       "'14'"
      ],
      "text/markdown": [
       "'14'"
      ],
      "text/plain": [
       "[1] \"14\""
      ]
     },
     "metadata": {},
     "output_type": "display_data"
    }
   ],
   "source": [
    "fair_roulette(1)"
   ]
  },
  {
   "cell_type": "code",
   "execution_count": 280,
   "id": "31e11893",
   "metadata": {
    "scrolled": true
   },
   "outputs": [],
   "source": [
    "#Binary operator for 2 vectors "
   ]
  },
  {
   "cell_type": "code",
   "execution_count": 277,
   "id": "379484c6",
   "metadata": {},
   "outputs": [],
   "source": [
    "\"%+%\" <- function(x, y) {\n",
    "    summa <- c()\n",
    "    one_value <- min(length(x), length(y))\n",
    "    summa[1:one_value] <- x[1:one_value] + y[1:one_value]\n",
    "    length(summa) <- max(length(x), length(y))\n",
    "    return(summa)\n",
    "}"
   ]
  },
  {
   "cell_type": "code",
   "execution_count": 279,
   "id": "3d998e34",
   "metadata": {},
   "outputs": [],
   "source": [
    "'%+%' <- function(x, y) {\n",
    "    length(x) <- length(y) <- max(length(x), length(y))\n",
    "    x + y\n",
    "}"
   ]
  },
  {
   "cell_type": "code",
   "execution_count": null,
   "id": "c98e15d5",
   "metadata": {},
   "outputs": [],
   "source": [
    "1:5 %+% 1:2   # c(2, 4, NA, NA, NA)\n",
    "5 %+% c(2, 6) # c(7, NA) "
   ]
  },
  {
   "cell_type": "markdown",
   "id": "4b8be30f",
   "metadata": {},
   "source": [
    "# Object Oriented Proframming"
   ]
  },
  {
   "cell_type": "markdown",
   "id": "dddf019b",
   "metadata": {},
   "source": [
    "## Replicate"
   ]
  },
  {
   "cell_type": "code",
   "execution_count": 291,
   "id": "9bf7a06a",
   "metadata": {},
   "outputs": [
    {
     "data": {
      "text/html": [
       "<ol class=list-inline>\n",
       "\t<li>10</li>\n",
       "\t<li>12</li>\n",
       "\t<li>13</li>\n",
       "\t<li>10</li>\n",
       "\t<li>7</li>\n",
       "</ol>\n"
      ],
      "text/latex": [
       "\\begin{enumerate*}\n",
       "\\item 10\n",
       "\\item 12\n",
       "\\item 13\n",
       "\\item 10\n",
       "\\item 7\n",
       "\\end{enumerate*}\n"
      ],
      "text/markdown": [
       "1. 10\n",
       "2. 12\n",
       "3. 13\n",
       "4. 10\n",
       "5. 7\n",
       "\n",
       "\n"
      ],
      "text/plain": [
       "[1] 10 12 13 10  7"
      ]
     },
     "metadata": {},
     "output_type": "display_data"
    }
   ],
   "source": [
    "get_status <- function(n, p=0.1) {\n",
    "    x <- rbinom(n, 1, p)\n",
    "    sum(x)\n",
    "}\n",
    "replicate(5, get_status(100))"
   ]
  },
  {
   "cell_type": "markdown",
   "id": "ca8d3fec",
   "metadata": {},
   "source": [
    "## Mapply"
   ]
  },
  {
   "cell_type": "code",
   "execution_count": 293,
   "id": "46c8bde8",
   "metadata": {},
   "outputs": [
    {
     "data": {
      "text/html": [
       "<ol>\n",
       "\t<li><ol class=list-inline>\n",
       "\t<li>1</li>\n",
       "\t<li>1.5</li>\n",
       "\t<li>2</li>\n",
       "</ol>\n",
       "</li>\n",
       "\t<li><ol class=list-inline>\n",
       "\t<li>2</li>\n",
       "\t<li>2.33333333333333</li>\n",
       "\t<li>2.66666666666667</li>\n",
       "\t<li>3</li>\n",
       "</ol>\n",
       "</li>\n",
       "\t<li><ol class=list-inline>\n",
       "\t<li>3</li>\n",
       "\t<li>3.25</li>\n",
       "\t<li>3.5</li>\n",
       "\t<li>3.75</li>\n",
       "\t<li>4</li>\n",
       "</ol>\n",
       "</li>\n",
       "\t<li><ol class=list-inline>\n",
       "\t<li>4</li>\n",
       "\t<li>4.2</li>\n",
       "\t<li>4.4</li>\n",
       "\t<li>4.6</li>\n",
       "\t<li>4.8</li>\n",
       "\t<li>5</li>\n",
       "</ol>\n",
       "</li>\n",
       "</ol>\n"
      ],
      "text/latex": [
       "\\begin{enumerate}\n",
       "\\item \\begin{enumerate*}\n",
       "\\item 1\n",
       "\\item 1.5\n",
       "\\item 2\n",
       "\\end{enumerate*}\n",
       "\n",
       "\\item \\begin{enumerate*}\n",
       "\\item 2\n",
       "\\item 2.33333333333333\n",
       "\\item 2.66666666666667\n",
       "\\item 3\n",
       "\\end{enumerate*}\n",
       "\n",
       "\\item \\begin{enumerate*}\n",
       "\\item 3\n",
       "\\item 3.25\n",
       "\\item 3.5\n",
       "\\item 3.75\n",
       "\\item 4\n",
       "\\end{enumerate*}\n",
       "\n",
       "\\item \\begin{enumerate*}\n",
       "\\item 4\n",
       "\\item 4.2\n",
       "\\item 4.4\n",
       "\\item 4.6\n",
       "\\item 4.8\n",
       "\\item 5\n",
       "\\end{enumerate*}\n",
       "\n",
       "\\end{enumerate}\n"
      ],
      "text/markdown": [
       "1. 1. 1\n",
       "2. 1.5\n",
       "3. 2\n",
       "\n",
       "\n",
       "\n",
       "2. 1. 2\n",
       "2. 2.33333333333333\n",
       "3. 2.66666666666667\n",
       "4. 3\n",
       "\n",
       "\n",
       "\n",
       "3. 1. 3\n",
       "2. 3.25\n",
       "3. 3.5\n",
       "4. 3.75\n",
       "5. 4\n",
       "\n",
       "\n",
       "\n",
       "4. 1. 4\n",
       "2. 4.2\n",
       "3. 4.4\n",
       "4. 4.6\n",
       "5. 4.8\n",
       "6. 5\n",
       "\n",
       "\n",
       "\n",
       "\n",
       "\n"
      ],
      "text/plain": [
       "[[1]]\n",
       "[1] 1.0 1.5 2.0\n",
       "\n",
       "[[2]]\n",
       "[1] 2.000000 2.333333 2.666667 3.000000\n",
       "\n",
       "[[3]]\n",
       "[1] 3.00 3.25 3.50 3.75 4.00\n",
       "\n",
       "[[4]]\n",
       "[1] 4.0 4.2 4.4 4.6 4.8 5.0\n"
      ]
     },
     "metadata": {},
     "output_type": "display_data"
    }
   ],
   "source": [
    "mapply(seq, from = 1:4, to = 2:5, by= 1/ (1 + 1:4))"
   ]
  },
  {
   "cell_type": "markdown",
   "id": "aed2869a",
   "metadata": {},
   "source": [
    "## Outer"
   ]
  },
  {
   "cell_type": "code",
   "execution_count": 297,
   "id": "e1786ee7",
   "metadata": {},
   "outputs": [
    {
     "data": {
      "text/html": [
       "<ol class=list-inline>\n",
       "\t<li>26</li>\n",
       "\t<li>26</li>\n",
       "</ol>\n"
      ],
      "text/latex": [
       "\\begin{enumerate*}\n",
       "\\item 26\n",
       "\\item 26\n",
       "\\end{enumerate*}\n"
      ],
      "text/markdown": [
       "1. 26\n",
       "2. 26\n",
       "\n",
       "\n"
      ],
      "text/plain": [
       "[1] 26 26"
      ]
     },
     "metadata": {},
     "output_type": "display_data"
    },
    {
     "data": {
      "text/html": [
       "<table>\n",
       "<tbody>\n",
       "\t<tr><td>aA </td><td>aB </td><td>aC </td><td>aD </td><td>aE </td><td>aF </td><td>aG </td><td>aH </td><td>aI </td><td>aJ </td><td>...</td><td>aQ </td><td>aR </td><td>aS </td><td>aT </td><td>aU </td><td>aV </td><td>aW </td><td>aX </td><td>aY </td><td>aZ </td></tr>\n",
       "\t<tr><td>bA </td><td>bB </td><td>bC </td><td>bD </td><td>bE </td><td>bF </td><td>bG </td><td>bH </td><td>bI </td><td>bJ </td><td>...</td><td>bQ </td><td>bR </td><td>bS </td><td>bT </td><td>bU </td><td>bV </td><td>bW </td><td>bX </td><td>bY </td><td>bZ </td></tr>\n",
       "\t<tr><td>cA </td><td>cB </td><td>cC </td><td>cD </td><td>cE </td><td>cF </td><td>cG </td><td>cH </td><td>cI </td><td>cJ </td><td>...</td><td>cQ </td><td>cR </td><td>cS </td><td>cT </td><td>cU </td><td>cV </td><td>cW </td><td>cX </td><td>cY </td><td>cZ </td></tr>\n",
       "\t<tr><td>dA </td><td>dB </td><td>dC </td><td>dD </td><td>dE </td><td>dF </td><td>dG </td><td>dH </td><td>dI </td><td>dJ </td><td>...</td><td>dQ </td><td>dR </td><td>dS </td><td>dT </td><td>dU </td><td>dV </td><td>dW </td><td>dX </td><td>dY </td><td>dZ </td></tr>\n",
       "\t<tr><td>eA </td><td>eB </td><td>eC </td><td>eD </td><td>eE </td><td>eF </td><td>eG </td><td>eH </td><td>eI </td><td>eJ </td><td>...</td><td>eQ </td><td>eR </td><td>eS </td><td>eT </td><td>eU </td><td>eV </td><td>eW </td><td>eX </td><td>eY </td><td>eZ </td></tr>\n",
       "</tbody>\n",
       "</table>\n"
      ],
      "text/latex": [
       "\\begin{tabular}{llllllllllllllllllllllllll}\n",
       "\t aA  & aB  & aC  & aD  & aE  & aF  & aG  & aH  & aI  & aJ  & ... & aQ  & aR  & aS  & aT  & aU  & aV  & aW  & aX  & aY  & aZ \\\\\n",
       "\t bA  & bB  & bC  & bD  & bE  & bF  & bG  & bH  & bI  & bJ  & ... & bQ  & bR  & bS  & bT  & bU  & bV  & bW  & bX  & bY  & bZ \\\\\n",
       "\t cA  & cB  & cC  & cD  & cE  & cF  & cG  & cH  & cI  & cJ  & ... & cQ  & cR  & cS  & cT  & cU  & cV  & cW  & cX  & cY  & cZ \\\\\n",
       "\t dA  & dB  & dC  & dD  & dE  & dF  & dG  & dH  & dI  & dJ  & ... & dQ  & dR  & dS  & dT  & dU  & dV  & dW  & dX  & dY  & dZ \\\\\n",
       "\t eA  & eB  & eC  & eD  & eE  & eF  & eG  & eH  & eI  & eJ  & ... & eQ  & eR  & eS  & eT  & eU  & eV  & eW  & eX  & eY  & eZ \\\\\n",
       "\\end{tabular}\n"
      ],
      "text/markdown": [
       "\n",
       "| aA  | aB  | aC  | aD  | aE  | aF  | aG  | aH  | aI  | aJ  | ... | aQ  | aR  | aS  | aT  | aU  | aV  | aW  | aX  | aY  | aZ  |\n",
       "| bA  | bB  | bC  | bD  | bE  | bF  | bG  | bH  | bI  | bJ  | ... | bQ  | bR  | bS  | bT  | bU  | bV  | bW  | bX  | bY  | bZ  |\n",
       "| cA  | cB  | cC  | cD  | cE  | cF  | cG  | cH  | cI  | cJ  | ... | cQ  | cR  | cS  | cT  | cU  | cV  | cW  | cX  | cY  | cZ  |\n",
       "| dA  | dB  | dC  | dD  | dE  | dF  | dG  | dH  | dI  | dJ  | ... | dQ  | dR  | dS  | dT  | dU  | dV  | dW  | dX  | dY  | dZ  |\n",
       "| eA  | eB  | eC  | eD  | eE  | eF  | eG  | eH  | eI  | eJ  | ... | eQ  | eR  | eS  | eT  | eU  | eV  | eW  | eX  | eY  | eZ  |\n",
       "\n"
      ],
      "text/plain": [
       "     [,1] [,2] [,3] [,4] [,5] [,6] [,7] [,8] [,9] [,10] [,11] [,12] [,13] [,14]\n",
       "[1,] aA   aB   aC   aD   aE   aF   aG   aH   aI   aJ    ...   aQ    aR    aS   \n",
       "[2,] bA   bB   bC   bD   bE   bF   bG   bH   bI   bJ    ...   bQ    bR    bS   \n",
       "[3,] cA   cB   cC   cD   cE   cF   cG   cH   cI   cJ    ...   cQ    cR    cS   \n",
       "[4,] dA   dB   dC   dD   dE   dF   dG   dH   dI   dJ    ...   dQ    dR    dS   \n",
       "[5,] eA   eB   eC   eD   eE   eF   eG   eH   eI   eJ    ...   eQ    eR    eS   \n",
       "     [,15] [,16] [,17] [,18] [,19] [,20] [,21]\n",
       "[1,] aT    aU    aV    aW    aX    aY    aZ   \n",
       "[2,] bT    bU    bV    bW    bX    bY    bZ   \n",
       "[3,] cT    cU    cV    cW    cX    cY    cZ   \n",
       "[4,] dT    dU    dV    dW    dX    dY    dZ   \n",
       "[5,] eT    eU    eV    eW    eX    eY    eZ   "
      ]
     },
     "metadata": {},
     "output_type": "display_data"
    },
    {
     "data": {
      "text/html": [
       "<ol class=list-inline>\n",
       "\t<li>'aA'</li>\n",
       "\t<li>'bB'</li>\n",
       "\t<li>'cC'</li>\n",
       "\t<li>'dD'</li>\n",
       "\t<li>'eE'</li>\n",
       "\t<li>'fF'</li>\n",
       "\t<li>'gG'</li>\n",
       "\t<li>'hH'</li>\n",
       "\t<li>'iI'</li>\n",
       "\t<li>'jJ'</li>\n",
       "\t<li>'kK'</li>\n",
       "\t<li>'lL'</li>\n",
       "\t<li>'mM'</li>\n",
       "\t<li>'nN'</li>\n",
       "\t<li>'oO'</li>\n",
       "\t<li>'pP'</li>\n",
       "\t<li>'qQ'</li>\n",
       "\t<li>'rR'</li>\n",
       "\t<li>'sS'</li>\n",
       "\t<li>'tT'</li>\n",
       "\t<li>'uU'</li>\n",
       "\t<li>'vV'</li>\n",
       "\t<li>'wW'</li>\n",
       "\t<li>'xX'</li>\n",
       "\t<li>'yY'</li>\n",
       "\t<li>'zZ'</li>\n",
       "</ol>\n"
      ],
      "text/latex": [
       "\\begin{enumerate*}\n",
       "\\item 'aA'\n",
       "\\item 'bB'\n",
       "\\item 'cC'\n",
       "\\item 'dD'\n",
       "\\item 'eE'\n",
       "\\item 'fF'\n",
       "\\item 'gG'\n",
       "\\item 'hH'\n",
       "\\item 'iI'\n",
       "\\item 'jJ'\n",
       "\\item 'kK'\n",
       "\\item 'lL'\n",
       "\\item 'mM'\n",
       "\\item 'nN'\n",
       "\\item 'oO'\n",
       "\\item 'pP'\n",
       "\\item 'qQ'\n",
       "\\item 'rR'\n",
       "\\item 'sS'\n",
       "\\item 'tT'\n",
       "\\item 'uU'\n",
       "\\item 'vV'\n",
       "\\item 'wW'\n",
       "\\item 'xX'\n",
       "\\item 'yY'\n",
       "\\item 'zZ'\n",
       "\\end{enumerate*}\n"
      ],
      "text/markdown": [
       "1. 'aA'\n",
       "2. 'bB'\n",
       "3. 'cC'\n",
       "4. 'dD'\n",
       "5. 'eE'\n",
       "6. 'fF'\n",
       "7. 'gG'\n",
       "8. 'hH'\n",
       "9. 'iI'\n",
       "10. 'jJ'\n",
       "11. 'kK'\n",
       "12. 'lL'\n",
       "13. 'mM'\n",
       "14. 'nN'\n",
       "15. 'oO'\n",
       "16. 'pP'\n",
       "17. 'qQ'\n",
       "18. 'rR'\n",
       "19. 'sS'\n",
       "20. 'tT'\n",
       "21. 'uU'\n",
       "22. 'vV'\n",
       "23. 'wW'\n",
       "24. 'xX'\n",
       "25. 'yY'\n",
       "26. 'zZ'\n",
       "\n",
       "\n"
      ],
      "text/plain": [
       " [1] \"aA\" \"bB\" \"cC\" \"dD\" \"eE\" \"fF\" \"gG\" \"hH\" \"iI\" \"jJ\" \"kK\" \"lL\" \"mM\" \"nN\" \"oO\"\n",
       "[16] \"pP\" \"qQ\" \"rR\" \"sS\" \"tT\" \"uU\" \"vV\" \"wW\" \"xX\" \"yY\" \"zZ\""
      ]
     },
     "metadata": {},
     "output_type": "display_data"
    }
   ],
   "source": [
    "dim(outer(letters, LETTERS, paste0))\n",
    "head(outer(letters, LETTERS, paste0), 5)\n",
    "diag(outer(letters, LETTERS, paste0))"
   ]
  },
  {
   "cell_type": "markdown",
   "id": "d5fa8d61",
   "metadata": {},
   "source": [
    "## Vectorize"
   ]
  },
  {
   "cell_type": "code",
   "execution_count": 301,
   "id": "2f269ebf",
   "metadata": {},
   "outputs": [
    {
     "name": "stderr",
     "output_type": "stream",
     "text": [
      "Warning message in if (p >= 1) sum(abs(x)^p * (1/p)) else NaN:\n",
      "“the condition has length > 1 and only the first element will be used”"
     ]
    },
    {
     "data": {
      "text/html": [
       "NaN"
      ],
      "text/latex": [
       "NaN"
      ],
      "text/markdown": [
       "NaN"
      ],
      "text/plain": [
       "[1] NaN"
      ]
     },
     "metadata": {},
     "output_type": "display_data"
    }
   ],
   "source": [
    "lp_norm <- function(x, p=2) {\n",
    "    if (p >= 1) sum(abs(x)^p*(1/p)) else NaN\n",
    "}\n",
    "lp_norm(1:10, -1:4)"
   ]
  },
  {
   "cell_type": "code",
   "execution_count": 302,
   "id": "06fb4163",
   "metadata": {},
   "outputs": [
    {
     "data": {
      "text/html": [
       "<ol class=list-inline>\n",
       "\t<li>NaN</li>\n",
       "\t<li>NaN</li>\n",
       "\t<li>55</li>\n",
       "\t<li>192.5</li>\n",
       "\t<li>1008.33333333333</li>\n",
       "\t<li>6333.25</li>\n",
       "</ol>\n"
      ],
      "text/latex": [
       "\\begin{enumerate*}\n",
       "\\item NaN\n",
       "\\item NaN\n",
       "\\item 55\n",
       "\\item 192.5\n",
       "\\item 1008.33333333333\n",
       "\\item 6333.25\n",
       "\\end{enumerate*}\n"
      ],
      "text/markdown": [
       "1. NaN\n",
       "2. NaN\n",
       "3. 55\n",
       "4. 192.5\n",
       "5. 1008.33333333333\n",
       "6. 6333.25\n",
       "\n",
       "\n"
      ],
      "text/plain": [
       "[1]      NaN      NaN   55.000  192.500 1008.333 6333.250"
      ]
     },
     "metadata": {},
     "output_type": "display_data"
    }
   ],
   "source": [
    "lp_norm <- Vectorize(lp_norm, \"p\")\n",
    "lp_norm(1:10, -1:4)"
   ]
  },
  {
   "cell_type": "markdown",
   "id": "550cb8d7",
   "metadata": {},
   "source": [
    "## do.call"
   ]
  },
  {
   "cell_type": "code",
   "execution_count": 306,
   "id": "7ed9c5bd",
   "metadata": {},
   "outputs": [
    {
     "data": {
      "text/html": [
       "<table>\n",
       "<thead><tr><th scope=col>id</th><th scope=col>value</th></tr></thead>\n",
       "<tbody>\n",
       "\t<tr><td>  1        </td><td>-0.42675922</td></tr>\n",
       "\t<tr><td>  2        </td><td>-0.06956898</td></tr>\n",
       "\t<tr><td>  3        </td><td> 0.28171133</td></tr>\n",
       "\t<tr><td>  4        </td><td> 0.95196248</td></tr>\n",
       "\t<tr><td>222        </td><td> 7.00000000</td></tr>\n",
       "</tbody>\n",
       "</table>\n"
      ],
      "text/latex": [
       "\\begin{tabular}{r|ll}\n",
       " id & value\\\\\n",
       "\\hline\n",
       "\t   1         & -0.42675922\\\\\n",
       "\t   2         & -0.06956898\\\\\n",
       "\t   3         &  0.28171133\\\\\n",
       "\t   4         &  0.95196248\\\\\n",
       "\t 222         &  7.00000000\\\\\n",
       "\\end{tabular}\n"
      ],
      "text/markdown": [
       "\n",
       "| id | value |\n",
       "|---|---|\n",
       "|   1         | -0.42675922 |\n",
       "|   2         | -0.06956898 |\n",
       "|   3         |  0.28171133 |\n",
       "|   4         |  0.95196248 |\n",
       "| 222         |  7.00000000 |\n",
       "\n"
      ],
      "text/plain": [
       "  id  value      \n",
       "1   1 -0.42675922\n",
       "2   2 -0.06956898\n",
       "3   3  0.28171133\n",
       "4   4  0.95196248\n",
       "5 222  7.00000000"
      ]
     },
     "metadata": {},
     "output_type": "display_data"
    }
   ],
   "source": [
    "df1 <- data.frame(id=1:2, value=rnorm(2))\n",
    "df2 <- data.frame(id=3:4, value=runif(2))\n",
    "df3 <- data.frame(id=222, value=7)\n",
    "do.call(rbind, list(df1, df2, df3))"
   ]
  },
  {
   "cell_type": "raw",
   "id": "5c023273",
   "metadata": {},
   "source": [
    "# It's good to use it when we don't know for sure how many files we have\n",
    "do.call(rbind, lapply(list.files(), function(file) read.csv(file)))"
   ]
  },
  {
   "cell_type": "code",
   "execution_count": null,
   "id": "e94dd44b",
   "metadata": {},
   "outputs": [],
   "source": [
    "#Mulpiply use of outer function"
   ]
  },
  {
   "cell_type": "code",
   "execution_count": 333,
   "id": "ab72f4fa",
   "metadata": {},
   "outputs": [],
   "source": [
    "cat_temper <- c(\"bully\", \"playful\", \"calm\", \"lazy\")\n",
    "cat_color <- c(\"white\", \"grey\", \"black\", \"redhead\")\n",
    "cat_age <- c(\"cat\", \"kitten\")\n",
    "cat_trait <- c(\"with smart eyes\", \"with sharp fingernails\", \"with long whiskers\")\n"
   ]
  },
  {
   "cell_type": "code",
   "execution_count": 334,
   "id": "21f1a46e",
   "metadata": {},
   "outputs": [],
   "source": [
    "cats <- sort(outer(cat_temper, outer(cat_color, outer(cat_age, cat_trait, paste), paste), paste))"
   ]
  },
  {
   "cell_type": "code",
   "execution_count": 336,
   "id": "f556ef64",
   "metadata": {},
   "outputs": [
    {
     "data": {
      "text/html": [
       "<ol class=list-inline>\n",
       "\t<li>'bully black cat with long whiskers'</li>\n",
       "\t<li>'bully black cat with sharp fingernails'</li>\n",
       "\t<li>'bully black cat with smart eyes'</li>\n",
       "\t<li>'bully black kitten with long whiskers'</li>\n",
       "\t<li>'bully black kitten with sharp fingernails'</li>\n",
       "\t<li>'bully black kitten with smart eyes'</li>\n",
       "\t<li>'bully grey cat with long whiskers'</li>\n",
       "\t<li>'bully grey cat with sharp fingernails'</li>\n",
       "\t<li>'bully grey cat with smart eyes'</li>\n",
       "\t<li>'bully grey kitten with long whiskers'</li>\n",
       "</ol>\n"
      ],
      "text/latex": [
       "\\begin{enumerate*}\n",
       "\\item 'bully black cat with long whiskers'\n",
       "\\item 'bully black cat with sharp fingernails'\n",
       "\\item 'bully black cat with smart eyes'\n",
       "\\item 'bully black kitten with long whiskers'\n",
       "\\item 'bully black kitten with sharp fingernails'\n",
       "\\item 'bully black kitten with smart eyes'\n",
       "\\item 'bully grey cat with long whiskers'\n",
       "\\item 'bully grey cat with sharp fingernails'\n",
       "\\item 'bully grey cat with smart eyes'\n",
       "\\item 'bully grey kitten with long whiskers'\n",
       "\\end{enumerate*}\n"
      ],
      "text/markdown": [
       "1. 'bully black cat with long whiskers'\n",
       "2. 'bully black cat with sharp fingernails'\n",
       "3. 'bully black cat with smart eyes'\n",
       "4. 'bully black kitten with long whiskers'\n",
       "5. 'bully black kitten with sharp fingernails'\n",
       "6. 'bully black kitten with smart eyes'\n",
       "7. 'bully grey cat with long whiskers'\n",
       "8. 'bully grey cat with sharp fingernails'\n",
       "9. 'bully grey cat with smart eyes'\n",
       "10. 'bully grey kitten with long whiskers'\n",
       "\n",
       "\n"
      ],
      "text/plain": [
       " [1] \"bully black cat with long whiskers\"       \n",
       " [2] \"bully black cat with sharp fingernails\"   \n",
       " [3] \"bully black cat with smart eyes\"          \n",
       " [4] \"bully black kitten with long whiskers\"    \n",
       " [5] \"bully black kitten with sharp fingernails\"\n",
       " [6] \"bully black kitten with smart eyes\"       \n",
       " [7] \"bully grey cat with long whiskers\"        \n",
       " [8] \"bully grey cat with sharp fingernails\"    \n",
       " [9] \"bully grey cat with smart eyes\"           \n",
       "[10] \"bully grey kitten with long whiskers\"     "
      ]
     },
     "metadata": {},
     "output_type": "display_data"
    }
   ],
   "source": [
    "cats[1:10]"
   ]
  },
  {
   "cell_type": "code",
   "execution_count": 350,
   "id": "b7fec4c7",
   "metadata": {
    "scrolled": true
   },
   "outputs": [
    {
     "data": {
      "text/html": [
       "<dl class=dl-horizontal>\n",
       "\t<dt>Absorbed</dt>\n",
       "\t\t<dd>100</dd>\n",
       "\t<dt>Left breach</dt>\n",
       "\t\t<dd>396</dd>\n",
       "\t<dt>Max steps reached</dt>\n",
       "\t\t<dd>102</dd>\n",
       "\t<dt>Right breach</dt>\n",
       "\t\t<dd>402</dd>\n",
       "</dl>\n"
      ],
      "text/latex": [
       "\\begin{description*}\n",
       "\\item[Absorbed] 100\n",
       "\\item[Left breach] 396\n",
       "\\item[Max steps reached] 102\n",
       "\\item[Right breach] 402\n",
       "\\end{description*}\n"
      ],
      "text/markdown": [
       "Absorbed\n",
       ":   100Left breach\n",
       ":   396Max steps reached\n",
       ":   102Right breach\n",
       ":   402\n",
       "\n"
      ],
      "text/plain": [
       "         Absorbed       Left breach Max steps reached      Right breach \n",
       "              100               396               102               402 "
      ]
     },
     "metadata": {},
     "output_type": "display_data"
    },
    {
     "data": {
      "text/html": [
       "<dl class=dl-horizontal>\n",
       "\t<dt>Absorbed</dt>\n",
       "\t\t<dd>65.92</dd>\n",
       "\t<dt>Left breach</dt>\n",
       "\t\t<dd>79.4217171717172</dd>\n",
       "\t<dt>Max steps reached</dt>\n",
       "\t\t<dd>200</dd>\n",
       "\t<dt>Right breach</dt>\n",
       "\t\t<dd>82.0373134328358</dd>\n",
       "</dl>\n"
      ],
      "text/latex": [
       "\\begin{description*}\n",
       "\\item[Absorbed] 65.92\n",
       "\\item[Left breach] 79.4217171717172\n",
       "\\item[Max steps reached] 200\n",
       "\\item[Right breach] 82.0373134328358\n",
       "\\end{description*}\n"
      ],
      "text/markdown": [
       "Absorbed\n",
       ":   65.92Left breach\n",
       ":   79.4217171717172Max steps reached\n",
       ":   200Right breach\n",
       ":   82.0373134328358\n",
       "\n"
      ],
      "text/plain": [
       "         Absorbed       Left breach Max steps reached      Right breach \n",
       "         65.92000          79.42172         200.00000          82.03731 "
      ]
     },
     "metadata": {},
     "output_type": "display_data"
    }
   ],
   "source": [
    "# Random walk with absorption\n",
    "simulate_walk <- function(lower = -10, upper = 10, n_max = 200, p = 1e-3) {\n",
    "  current_position <- (lower + upper) / 2\n",
    "  for (i in 1:n_max) {\n",
    "    is_absorbed <- rbinom(1, 1, p)\n",
    "    if (is_absorbed) return(list(status = \"Absorbed\", \n",
    "                                 position = current_position, \n",
    "                                 steps = i))\n",
    "    current_position <- current_position + rnorm(1)\n",
    "    if (current_position < lower) return(list(status = \"Left breach\", \n",
    "                                              position = current_position, \n",
    "                                              steps = i))\n",
    "    if (current_position > upper) return(list(status = \"Right breach\", \n",
    "                                              position = current_position, \n",
    "                                              steps = i))\n",
    "  }\n",
    "  return(list(status = \"Max steps reached\", \n",
    "              position = current_position,\n",
    "              steps = n_max))\n",
    "}\n",
    "\n",
    "# Simulate results\n",
    "result <- replicate(1000, simulate_walk(), simplify = FALSE)\n",
    "result <- data.frame(\n",
    "  status = sapply(result, function(x) x$status),\n",
    "  position = sapply(result, function(x) x$position),\n",
    "  steps = sapply(result, function(x) x$steps)\n",
    ")\n",
    "\n",
    "# Inspect results\n",
    "tapply(result$position, result$status, length)\n",
    "tapply(result$steps, result$status, mean)\n"
   ]
  },
  {
   "cell_type": "code",
   "execution_count": 373,
   "id": "96af75bf",
   "metadata": {},
   "outputs": [],
   "source": [
    "# Random walk with absorption\n",
    "simulate_walk_2d <- function(circle_r = 6, n_max = 100, p = 1e-2) {\n",
    "  current_position_x <- 0\n",
    "  current_position_y <- 0\n",
    "  for (i in 1:n_max) {\n",
    "    is_absorbed <- rbinom(1, 1, p)\n",
    "    if (is_absorbed) return(list(status = \"Absorbed\", \n",
    "                                 position_x = current_position_x,\n",
    "                                 position_y = current_position_y,\n",
    "                                 steps = i))\n",
    "    current_position_x <- current_position_x + rnorm(1)\n",
    "    current_position_y <- current_position_y + rnorm(1)  \n",
    "    current_position <- sqrt(current_position_x^2 + current_position_y^2)\n",
    "    if (current_position > circle_r) return(list(status = \"Out\", \n",
    "                                              position_x = current_position_x,\n",
    "                                              position_y = current_position_y, \n",
    "                                              steps = i))\n",
    "  }\n",
    "  return(list(status = \"Max steps reached\", \n",
    "              position_x = current_position_x,\n",
    "              position_y = current_position_y,\n",
    "              steps = n_max))\n",
    "}\n"
   ]
  },
  {
   "cell_type": "code",
   "execution_count": 374,
   "id": "3104ee65",
   "metadata": {},
   "outputs": [],
   "source": [
    "# Simulate results\n",
    "result <- replicate(100000, simulate_walk_2d(), simplify = FALSE)\n",
    "result <- data.frame(\n",
    "  status = sapply(result, function(x) x$status),\n",
    "  steps = sapply(result, function(x) x$steps),\n",
    "  position_x = sapply(result, function(x) x$position_x),\n",
    "  position_y = sapply(result, function(x) x$position_y)  \n",
    ")\n"
   ]
  },
  {
   "cell_type": "code",
   "execution_count": 375,
   "id": "ce140fa2",
   "metadata": {},
   "outputs": [
    {
     "data": {
      "text/html": [
       "<dl class=dl-horizontal>\n",
       "\t<dt>Absorbed</dt>\n",
       "\t\t<dd>18874</dd>\n",
       "\t<dt>Max steps reached</dt>\n",
       "\t\t<dd>84</dd>\n",
       "\t<dt>Out</dt>\n",
       "\t\t<dd>81042</dd>\n",
       "</dl>\n"
      ],
      "text/latex": [
       "\\begin{description*}\n",
       "\\item[Absorbed] 18874\n",
       "\\item[Max steps reached] 84\n",
       "\\item[Out] 81042\n",
       "\\end{description*}\n"
      ],
      "text/markdown": [
       "Absorbed\n",
       ":   18874Max steps reached\n",
       ":   84Out\n",
       ":   81042\n",
       "\n"
      ],
      "text/plain": [
       "         Absorbed Max steps reached               Out \n",
       "            18874                84             81042 "
      ]
     },
     "metadata": {},
     "output_type": "display_data"
    },
    {
     "data": {
      "text/html": [
       "<dl class=dl-horizontal>\n",
       "\t<dt>Absorbed</dt>\n",
       "\t\t<dd>14.7418141358483</dd>\n",
       "\t<dt>Max steps reached</dt>\n",
       "\t\t<dd>100</dd>\n",
       "\t<dt>Out</dt>\n",
       "\t\t<dd>19.7705387330026</dd>\n",
       "</dl>\n"
      ],
      "text/latex": [
       "\\begin{description*}\n",
       "\\item[Absorbed] 14.7418141358483\n",
       "\\item[Max steps reached] 100\n",
       "\\item[Out] 19.7705387330026\n",
       "\\end{description*}\n"
      ],
      "text/markdown": [
       "Absorbed\n",
       ":   14.7418141358483Max steps reached\n",
       ":   100Out\n",
       ":   19.7705387330026\n",
       "\n"
      ],
      "text/plain": [
       "         Absorbed Max steps reached               Out \n",
       "         14.74181         100.00000          19.77054 "
      ]
     },
     "metadata": {},
     "output_type": "display_data"
    }
   ],
   "source": [
    "# Inspect results\n",
    "tapply(result$position_x, result$status, length)\n",
    "tapply(result$steps, result$status, mean)"
   ]
  },
  {
   "cell_type": "code",
   "execution_count": 378,
   "id": "ed7eb28e",
   "metadata": {
    "scrolled": true
   },
   "outputs": [
    {
     "data": {
      "text/html": [
       "20"
      ],
      "text/latex": [
       "20"
      ],
      "text/markdown": [
       "20"
      ],
      "text/plain": [
       "[1] 20"
      ]
     },
     "metadata": {},
     "output_type": "display_data"
    },
    {
     "data": {
      "text/html": [
       "11"
      ],
      "text/latex": [
       "11"
      ],
      "text/markdown": [
       "11"
      ],
      "text/plain": [
       "[1] 11"
      ]
     },
     "metadata": {},
     "output_type": "display_data"
    },
    {
     "data": {
      "text/html": [
       "10"
      ],
      "text/latex": [
       "10"
      ],
      "text/markdown": [
       "10"
      ],
      "text/plain": [
       "[1] 10"
      ]
     },
     "metadata": {},
     "output_type": "display_data"
    },
    {
     "data": {
      "text/html": [
       "1"
      ],
      "text/latex": [
       "1"
      ],
      "text/markdown": [
       "1"
      ],
      "text/plain": [
       "[1] 1"
      ]
     },
     "metadata": {},
     "output_type": "display_data"
    },
    {
     "data": {
      "text/html": [
       "10"
      ],
      "text/latex": [
       "10"
      ],
      "text/markdown": [
       "10"
      ],
      "text/plain": [
       "[1] 10"
      ]
     },
     "metadata": {},
     "output_type": "display_data"
    },
    {
     "data": {
      "text/html": [
       "1"
      ],
      "text/latex": [
       "1"
      ],
      "text/markdown": [
       "1"
      ],
      "text/plain": [
       "[1] 1"
      ]
     },
     "metadata": {},
     "output_type": "display_data"
    }
   ],
   "source": [
    "f <- function(y) {\n",
    "  y <- x + y\n",
    "  y\n",
    "}\n",
    "\n",
    "g <- function(x) {\n",
    "  y <- f(x)\n",
    "  f <- function(x) {\n",
    "    y - x\n",
    "  }\n",
    "  y - f(x)\n",
    "}\n",
    "\n",
    "x <- 10\n",
    "y <- 1\n",
    "f(x); f(y)\n",
    "g(x); g(y)\n",
    "x; y"
   ]
  },
  {
   "cell_type": "code",
   "execution_count": 382,
   "id": "80682c25",
   "metadata": {},
   "outputs": [],
   "source": [
    "library(microbenchmark)"
   ]
  },
  {
   "cell_type": "code",
   "execution_count": 386,
   "id": "c419d07c",
   "metadata": {},
   "outputs": [
    {
     "data": {
      "text/html": [
       "TRUE"
      ],
      "text/latex": [
       "TRUE"
      ],
      "text/markdown": [
       "TRUE"
      ],
      "text/plain": [
       "[1] TRUE"
      ]
     },
     "metadata": {},
     "output_type": "display_data"
    },
    {
     "data": {
      "text/html": [
       "TRUE"
      ],
      "text/latex": [
       "TRUE"
      ],
      "text/markdown": [
       "TRUE"
      ],
      "text/plain": [
       "[1] TRUE"
      ]
     },
     "metadata": {},
     "output_type": "display_data"
    }
   ],
   "source": [
    "m1 <- function(x, y) {\n",
    "  m <- matrix(0, length(x), length(y))\n",
    "  for (i in 1:length(x)) \n",
    "    for (j in 1:length(y)) {\n",
    "      m[i, j] = x[i] * y[j]\n",
    "    }\n",
    "  m\n",
    "}\n",
    "\n",
    "m2 <- function(x, y) {\n",
    "  vapply(y, function(i) i * x, numeric(length(x)))\n",
    "}\n",
    "\n",
    "m3 <- function(x, y) x %o% y\n",
    "\n",
    "x <- rnorm(100)\n",
    "y <- runif(1000)\n",
    "all.equal(m1(x, y), m2(x, y))\n",
    "all.equal(m2(x, y), m3(x, y))\n",
    "\n",
    "time <- microbenchmark(m1(x, y), m2(x, y), m3(x, y))\n"
   ]
  },
  {
   "cell_type": "code",
   "execution_count": 402,
   "id": "39a122b0",
   "metadata": {},
   "outputs": [
    {
     "data": {
      "text/plain": [
       "time$expr: m1(x, y)\n",
       "[1] 10542327\n",
       "------------------------------------------------------------ \n",
       "time$expr: m2(x, y)\n",
       "[1] 774555.7\n",
       "------------------------------------------------------------ \n",
       "time$expr: m3(x, y)\n",
       "[1] 173339.4"
      ]
     },
     "metadata": {},
     "output_type": "display_data"
    }
   ],
   "source": [
    "by(time$time, time$expr, mean)"
   ]
  },
  {
   "cell_type": "code",
   "execution_count": 403,
   "id": "59c7baf6",
   "metadata": {},
   "outputs": [],
   "source": [
    "library(tidyr)"
   ]
  },
  {
   "cell_type": "markdown",
   "id": "2c9cdc15",
   "metadata": {},
   "source": [
    "# Tidy Data"
   ]
  },
  {
   "cell_type": "code",
   "execution_count": 410,
   "id": "f1f24ae4",
   "metadata": {},
   "outputs": [
    {
     "data": {
      "text/html": [
       "<table>\n",
       "<thead><tr><th scope=col>Name</th><th scope=col>DrugA_T1</th><th scope=col>DrugA_T2</th><th scope=col>DrugB_T1</th><th scope=col>DrugB_T2</th></tr></thead>\n",
       "<tbody>\n",
       "\t<tr><td>John    </td><td>35.78241</td><td>37.79680</td><td>36.47775</td><td>37.12533</td></tr>\n",
       "\t<tr><td>Peter   </td><td>35.81837</td><td>36.44466</td><td>36.51250</td><td>38.20866</td></tr>\n",
       "\t<tr><td>Mary    </td><td>35.99955</td><td>36.52794</td><td>36.10436</td><td>37.55310</td></tr>\n",
       "\t<tr><td>Caroline</td><td>35.38916</td><td>36.01392</td><td>36.53237</td><td>37.67275</td></tr>\n",
       "</tbody>\n",
       "</table>\n"
      ],
      "text/latex": [
       "\\begin{tabular}{r|lllll}\n",
       " Name & DrugA\\_T1 & DrugA\\_T2 & DrugB\\_T1 & DrugB\\_T2\\\\\n",
       "\\hline\n",
       "\t John     & 35.78241 & 37.79680 & 36.47775 & 37.12533\\\\\n",
       "\t Peter    & 35.81837 & 36.44466 & 36.51250 & 38.20866\\\\\n",
       "\t Mary     & 35.99955 & 36.52794 & 36.10436 & 37.55310\\\\\n",
       "\t Caroline & 35.38916 & 36.01392 & 36.53237 & 37.67275\\\\\n",
       "\\end{tabular}\n"
      ],
      "text/markdown": [
       "\n",
       "| Name | DrugA_T1 | DrugA_T2 | DrugB_T1 | DrugB_T2 |\n",
       "|---|---|---|---|---|\n",
       "| John     | 35.78241 | 37.79680 | 36.47775 | 37.12533 |\n",
       "| Peter    | 35.81837 | 36.44466 | 36.51250 | 38.20866 |\n",
       "| Mary     | 35.99955 | 36.52794 | 36.10436 | 37.55310 |\n",
       "| Caroline | 35.38916 | 36.01392 | 36.53237 | 37.67275 |\n",
       "\n"
      ],
      "text/plain": [
       "  Name     DrugA_T1 DrugA_T2 DrugB_T1 DrugB_T2\n",
       "1 John     35.78241 37.79680 36.47775 37.12533\n",
       "2 Peter    35.81837 36.44466 36.51250 38.20866\n",
       "3 Mary     35.99955 36.52794 36.10436 37.55310\n",
       "4 Caroline 35.38916 36.01392 36.53237 37.67275"
      ]
     },
     "metadata": {},
     "output_type": "display_data"
    }
   ],
   "source": [
    "df <- data.frame(Name = c(\"John\", \"Peter\", \"Mary\", \"Caroline\"),\n",
    "                 DrugA_T1 = runif(4, 35, 36),\n",
    "                 DrugA_T2 = runif(4, 36, 39),\n",
    "                 DrugB_T1 = runif(4, 36, 36.6),\n",
    "                 DrugB_T2 = runif(4, 37, 38.5)\n",
    "); df"
   ]
  },
  {
   "cell_type": "markdown",
   "id": "7d7ac196",
   "metadata": {},
   "source": [
    "## Gather - spread (opp. of gather)"
   ]
  },
  {
   "cell_type": "code",
   "execution_count": 406,
   "id": "3b200b5b",
   "metadata": {},
   "outputs": [
    {
     "data": {
      "text/html": [
       "<table>\n",
       "<thead><tr><th scope=col>Name</th><th scope=col>Variable</th><th scope=col>Temperature</th></tr></thead>\n",
       "<tbody>\n",
       "\t<tr><td>John    </td><td>DrugA_T1</td><td>35.19012</td></tr>\n",
       "\t<tr><td>Peter   </td><td>DrugA_T1</td><td>35.70201</td></tr>\n",
       "\t<tr><td>Mary    </td><td>DrugA_T1</td><td>35.32933</td></tr>\n",
       "\t<tr><td>Caroline</td><td>DrugA_T1</td><td>35.87959</td></tr>\n",
       "\t<tr><td>John    </td><td>DrugA_T2</td><td>38.44546</td></tr>\n",
       "\t<tr><td>Peter   </td><td>DrugA_T2</td><td>36.00456</td></tr>\n",
       "</tbody>\n",
       "</table>\n"
      ],
      "text/latex": [
       "\\begin{tabular}{r|lll}\n",
       " Name & Variable & Temperature\\\\\n",
       "\\hline\n",
       "\t John       & DrugA\\_T1 & 35.19012  \\\\\n",
       "\t Peter      & DrugA\\_T1 & 35.70201  \\\\\n",
       "\t Mary       & DrugA\\_T1 & 35.32933  \\\\\n",
       "\t Caroline   & DrugA\\_T1 & 35.87959  \\\\\n",
       "\t John       & DrugA\\_T2 & 38.44546  \\\\\n",
       "\t Peter      & DrugA\\_T2 & 36.00456  \\\\\n",
       "\\end{tabular}\n"
      ],
      "text/markdown": [
       "\n",
       "| Name | Variable | Temperature |\n",
       "|---|---|---|\n",
       "| John     | DrugA_T1 | 35.19012 |\n",
       "| Peter    | DrugA_T1 | 35.70201 |\n",
       "| Mary     | DrugA_T1 | 35.32933 |\n",
       "| Caroline | DrugA_T1 | 35.87959 |\n",
       "| John     | DrugA_T2 | 38.44546 |\n",
       "| Peter    | DrugA_T2 | 36.00456 |\n",
       "\n"
      ],
      "text/plain": [
       "  Name     Variable Temperature\n",
       "1 John     DrugA_T1 35.19012   \n",
       "2 Peter    DrugA_T1 35.70201   \n",
       "3 Mary     DrugA_T1 35.32933   \n",
       "4 Caroline DrugA_T1 35.87959   \n",
       "5 John     DrugA_T2 38.44546   \n",
       "6 Peter    DrugA_T2 36.00456   "
      ]
     },
     "metadata": {},
     "output_type": "display_data"
    }
   ],
   "source": [
    "#From \"wide\" to \"long\" format\n",
    "\n",
    "head(gather(df, Variable, Temperature, -Name), 6)"
   ]
  },
  {
   "cell_type": "markdown",
   "id": "612ba262",
   "metadata": {},
   "source": [
    "## Separate - unite (opp.of sepparate)"
   ]
  },
  {
   "cell_type": "code",
   "execution_count": 411,
   "id": "beea589e",
   "metadata": {},
   "outputs": [
    {
     "data": {
      "text/html": [
       "<table>\n",
       "<thead><tr><th scope=col>Name</th><th scope=col>DrugType</th><th scope=col>Time</th><th scope=col>Temperature</th></tr></thead>\n",
       "<tbody>\n",
       "\t<tr><td>John    </td><td>DrugA   </td><td>T1      </td><td>35.78241</td></tr>\n",
       "\t<tr><td>Peter   </td><td>DrugA   </td><td>T1      </td><td>35.81837</td></tr>\n",
       "\t<tr><td>Mary    </td><td>DrugA   </td><td>T1      </td><td>35.99955</td></tr>\n",
       "\t<tr><td>Caroline</td><td>DrugA   </td><td>T1      </td><td>35.38916</td></tr>\n",
       "\t<tr><td>John    </td><td>DrugA   </td><td>T2      </td><td>37.79680</td></tr>\n",
       "\t<tr><td>Peter   </td><td>DrugA   </td><td>T2      </td><td>36.44466</td></tr>\n",
       "\t<tr><td>Mary    </td><td>DrugA   </td><td>T2      </td><td>36.52794</td></tr>\n",
       "\t<tr><td>Caroline</td><td>DrugA   </td><td>T2      </td><td>36.01392</td></tr>\n",
       "</tbody>\n",
       "</table>\n"
      ],
      "text/latex": [
       "\\begin{tabular}{r|llll}\n",
       " Name & DrugType & Time & Temperature\\\\\n",
       "\\hline\n",
       "\t John     & DrugA    & T1       & 35.78241\\\\\n",
       "\t Peter    & DrugA    & T1       & 35.81837\\\\\n",
       "\t Mary     & DrugA    & T1       & 35.99955\\\\\n",
       "\t Caroline & DrugA    & T1       & 35.38916\\\\\n",
       "\t John     & DrugA    & T2       & 37.79680\\\\\n",
       "\t Peter    & DrugA    & T2       & 36.44466\\\\\n",
       "\t Mary     & DrugA    & T2       & 36.52794\\\\\n",
       "\t Caroline & DrugA    & T2       & 36.01392\\\\\n",
       "\\end{tabular}\n"
      ],
      "text/markdown": [
       "\n",
       "| Name | DrugType | Time | Temperature |\n",
       "|---|---|---|---|\n",
       "| John     | DrugA    | T1       | 35.78241 |\n",
       "| Peter    | DrugA    | T1       | 35.81837 |\n",
       "| Mary     | DrugA    | T1       | 35.99955 |\n",
       "| Caroline | DrugA    | T1       | 35.38916 |\n",
       "| John     | DrugA    | T2       | 37.79680 |\n",
       "| Peter    | DrugA    | T2       | 36.44466 |\n",
       "| Mary     | DrugA    | T2       | 36.52794 |\n",
       "| Caroline | DrugA    | T2       | 36.01392 |\n",
       "\n"
      ],
      "text/plain": [
       "  Name     DrugType Time Temperature\n",
       "1 John     DrugA    T1   35.78241   \n",
       "2 Peter    DrugA    T1   35.81837   \n",
       "3 Mary     DrugA    T1   35.99955   \n",
       "4 Caroline DrugA    T1   35.38916   \n",
       "5 John     DrugA    T2   37.79680   \n",
       "6 Peter    DrugA    T2   36.44466   \n",
       "7 Mary     DrugA    T2   36.52794   \n",
       "8 Caroline DrugA    T2   36.01392   "
      ]
     },
     "metadata": {},
     "output_type": "display_data"
    }
   ],
   "source": [
    "df <- gather(df, Variable, Temperature, -Name)\n",
    "df <- separate(df, Variable, c(\"DrugType\", \"Time\"), \"_\")\n",
    "head(df, 8)"
   ]
  },
  {
   "cell_type": "markdown",
   "id": "8dff0279",
   "metadata": {},
   "source": [
    "# Dplyr"
   ]
  },
  {
   "cell_type": "code",
   "execution_count": 419,
   "id": "a51b4178",
   "metadata": {},
   "outputs": [
    {
     "name": "stderr",
     "output_type": "stream",
     "text": [
      "\n",
      "Attaching package: ‘dplyr’\n",
      "\n",
      "The following objects are masked from ‘package:stats’:\n",
      "\n",
      "    filter, lag\n",
      "\n",
      "The following objects are masked from ‘package:base’:\n",
      "\n",
      "    intersect, setdiff, setequal, union\n",
      "\n"
     ]
    }
   ],
   "source": [
    "library(dplyr)"
   ]
  },
  {
   "cell_type": "markdown",
   "id": "601fa870",
   "metadata": {},
   "source": [
    "## Select"
   ]
  },
  {
   "cell_type": "code",
   "execution_count": 447,
   "id": "05e68c34",
   "metadata": {},
   "outputs": [
    {
     "data": {
      "text/html": [
       "<table>\n",
       "<thead><tr><th scope=col>first_name</th><th scope=col>last_name</th><th scope=col>email_address</th><th scope=col>postal_address</th><th scope=col>date_added</th><th scope=col>sales</th></tr></thead>\n",
       "<tbody>\n",
       "\t<tr><td>John           </td><td>Gray           </td><td>gray@gmail.com </td><td>90100          </td><td>24.04.21       </td><td>5              </td></tr>\n",
       "\t<tr><td>Peter          </td><td>Stevens        </td><td>stev@gmail.com </td><td>90106          </td><td>24.04.21       </td><td>6              </td></tr>\n",
       "\t<tr><td>Mary           </td><td>Brown          </td><td>brown@gmail.com</td><td>20100          </td><td>22.08.21       </td><td>7              </td></tr>\n",
       "\t<tr><td>Caroline       </td><td>Hulett         </td><td>hul@gmail.com  </td><td>90170          </td><td>20.08.22       </td><td>8              </td></tr>\n",
       "</tbody>\n",
       "</table>\n"
      ],
      "text/latex": [
       "\\begin{tabular}{r|llllll}\n",
       " first\\_name & last\\_name & email\\_address & postal\\_address & date\\_added & sales\\\\\n",
       "\\hline\n",
       "\t John            & Gray            & gray@gmail.com  & 90100           & 24.04.21        & 5              \\\\\n",
       "\t Peter           & Stevens         & stev@gmail.com  & 90106           & 24.04.21        & 6              \\\\\n",
       "\t Mary            & Brown           & brown@gmail.com & 20100           & 22.08.21        & 7              \\\\\n",
       "\t Caroline        & Hulett          & hul@gmail.com   & 90170           & 20.08.22        & 8              \\\\\n",
       "\\end{tabular}\n"
      ],
      "text/markdown": [
       "\n",
       "| first_name | last_name | email_address | postal_address | date_added | sales |\n",
       "|---|---|---|---|---|---|\n",
       "| John            | Gray            | gray@gmail.com  | 90100           | 24.04.21        | 5               |\n",
       "| Peter           | Stevens         | stev@gmail.com  | 90106           | 24.04.21        | 6               |\n",
       "| Mary            | Brown           | brown@gmail.com | 20100           | 22.08.21        | 7               |\n",
       "| Caroline        | Hulett          | hul@gmail.com   | 90170           | 20.08.22        | 8               |\n",
       "\n"
      ],
      "text/plain": [
       "  first_name last_name email_address   postal_address date_added sales\n",
       "1 John       Gray      gray@gmail.com  90100          24.04.21   5    \n",
       "2 Peter      Stevens   stev@gmail.com  90106          24.04.21   6    \n",
       "3 Mary       Brown     brown@gmail.com 20100          22.08.21   7    \n",
       "4 Caroline   Hulett    hul@gmail.com   90170          20.08.22   8    "
      ]
     },
     "metadata": {},
     "output_type": "display_data"
    }
   ],
   "source": [
    "df <- data.frame(first_name = c(\"John\", \"Peter\", \"Mary\", \"Caroline\"),\n",
    "                 last_name = c(\"Gray\", \"Stevens\", \"Brown\", \"Hulett\"),\n",
    "                 email_address = c(\"gray@gmail.com\", \"stev@gmail.com\", \"brown@gmail.com\", \"hul@gmail.com\"),\n",
    "                 postal_address = c(90100, 90106, 20100, 90170),\n",
    "                 date_added = c(\"24.04.21\", \"24.04.21\",\"22.08.21\", \"20.08.22\"),\n",
    "                 sales = c(5, 6, 7, 8)\n",
    "); df"
   ]
  },
  {
   "cell_type": "code",
   "execution_count": 433,
   "id": "7ab936f3",
   "metadata": {},
   "outputs": [
    {
     "data": {
      "text/html": [
       "<table>\n",
       "<thead><tr><th scope=col>first_name</th><th scope=col>last_name</th><th scope=col>date_added</th></tr></thead>\n",
       "<tbody>\n",
       "\t<tr><td>John    </td><td>Gray    </td><td>24.04.21</td></tr>\n",
       "\t<tr><td>Peter   </td><td>Stevens </td><td>24.05.21</td></tr>\n",
       "\t<tr><td>Mary    </td><td>Brown   </td><td>22.08.21</td></tr>\n",
       "\t<tr><td>Caroline</td><td>Hulett  </td><td>20.08.22</td></tr>\n",
       "</tbody>\n",
       "</table>\n"
      ],
      "text/latex": [
       "\\begin{tabular}{r|lll}\n",
       " first\\_name & last\\_name & date\\_added\\\\\n",
       "\\hline\n",
       "\t John     & Gray     & 24.04.21\\\\\n",
       "\t Peter    & Stevens  & 24.05.21\\\\\n",
       "\t Mary     & Brown    & 22.08.21\\\\\n",
       "\t Caroline & Hulett   & 20.08.22\\\\\n",
       "\\end{tabular}\n"
      ],
      "text/markdown": [
       "\n",
       "| first_name | last_name | date_added |\n",
       "|---|---|---|\n",
       "| John     | Gray     | 24.04.21 |\n",
       "| Peter    | Stevens  | 24.05.21 |\n",
       "| Mary     | Brown    | 22.08.21 |\n",
       "| Caroline | Hulett   | 20.08.22 |\n",
       "\n"
      ],
      "text/plain": [
       "  first_name last_name date_added\n",
       "1 John       Gray      24.04.21  \n",
       "2 Peter      Stevens   24.05.21  \n",
       "3 Mary       Brown     22.08.21  \n",
       "4 Caroline   Hulett    20.08.22  "
      ]
     },
     "metadata": {},
     "output_type": "display_data"
    }
   ],
   "source": [
    "select(df, first_name, last_name, date_added) #to choose from df by columns\n",
    "#Same will be\n",
    "#select(df, contains(\"name\"), date_added)\n",
    "#select(df, -(contains(\"address\")))\n",
    "#select(df, matches(\"_.{4,5}$\"))\n",
    "#df %>% select(c(1:2, 5))"
   ]
  },
  {
   "cell_type": "code",
   "execution_count": 434,
   "id": "034696ba",
   "metadata": {},
   "outputs": [
    {
     "data": {
      "text/html": [
       "<table>\n",
       "<thead><tr><th scope=col>first_name</th></tr></thead>\n",
       "<tbody>\n",
       "\t<tr><td>John    </td></tr>\n",
       "\t<tr><td>Peter   </td></tr>\n",
       "\t<tr><td>Mary    </td></tr>\n",
       "\t<tr><td>Caroline</td></tr>\n",
       "</tbody>\n",
       "</table>\n"
      ],
      "text/latex": [
       "\\begin{tabular}{r|l}\n",
       " first\\_name\\\\\n",
       "\\hline\n",
       "\t John    \\\\\n",
       "\t Peter   \\\\\n",
       "\t Mary    \\\\\n",
       "\t Caroline\\\\\n",
       "\\end{tabular}\n"
      ],
      "text/markdown": [
       "\n",
       "| first_name |\n",
       "|---|\n",
       "| John     |\n",
       "| Peter    |\n",
       "| Mary     |\n",
       "| Caroline |\n",
       "\n"
      ],
      "text/plain": [
       "  first_name\n",
       "1 John      \n",
       "2 Peter     \n",
       "3 Mary      \n",
       "4 Caroline  "
      ]
     },
     "metadata": {},
     "output_type": "display_data"
    }
   ],
   "source": [
    "select(df, starts_with(\"f\"))"
   ]
  },
  {
   "cell_type": "markdown",
   "id": "c5be16b6",
   "metadata": {},
   "source": [
    "# Filter"
   ]
  },
  {
   "cell_type": "code",
   "execution_count": 439,
   "id": "b249cde7",
   "metadata": {},
   "outputs": [
    {
     "data": {
      "text/html": [
       "<table>\n",
       "<thead><tr><th scope=col>first_name</th><th scope=col>last_name</th><th scope=col>email_address</th><th scope=col>postal_address</th><th scope=col>date_added</th></tr></thead>\n",
       "<tbody>\n",
       "\t<tr><td>John          </td><td>Gray          </td><td>gray@gmail.com</td><td>90100         </td><td>24.04.21      </td></tr>\n",
       "</tbody>\n",
       "</table>\n"
      ],
      "text/latex": [
       "\\begin{tabular}{r|lllll}\n",
       " first\\_name & last\\_name & email\\_address & postal\\_address & date\\_added\\\\\n",
       "\\hline\n",
       "\t John           & Gray           & gray@gmail.com & 90100          & 24.04.21      \\\\\n",
       "\\end{tabular}\n"
      ],
      "text/markdown": [
       "\n",
       "| first_name | last_name | email_address | postal_address | date_added |\n",
       "|---|---|---|---|---|\n",
       "| John           | Gray           | gray@gmail.com | 90100          | 24.04.21       |\n",
       "\n"
      ],
      "text/plain": [
       "  first_name last_name email_address  postal_address date_added\n",
       "1 John       Gray      gray@gmail.com 90100          24.04.21  "
      ]
     },
     "metadata": {},
     "output_type": "display_data"
    }
   ],
   "source": [
    "filter(df, postal_address == 90100, first_name %in% c(\"John\", \"Peter\")) #to choose from df rows"
   ]
  },
  {
   "cell_type": "markdown",
   "id": "9f87481a",
   "metadata": {},
   "source": [
    "# Arrange "
   ]
  },
  {
   "cell_type": "code",
   "execution_count": 441,
   "id": "bc5939ae",
   "metadata": {},
   "outputs": [
    {
     "data": {
      "text/html": [
       "<table>\n",
       "<thead><tr><th scope=col>first_name</th><th scope=col>last_name</th><th scope=col>email_address</th><th scope=col>postal_address</th><th scope=col>date_added</th></tr></thead>\n",
       "<tbody>\n",
       "\t<tr><td>Mary           </td><td>Brown          </td><td>brown@gmail.com</td><td>20100          </td><td>22.08.21       </td></tr>\n",
       "\t<tr><td>John           </td><td>Gray           </td><td>gray@gmail.com </td><td>90100          </td><td>24.04.21       </td></tr>\n",
       "\t<tr><td>Caroline       </td><td>Hulett         </td><td>hul@gmail.com  </td><td>90170          </td><td>20.08.22       </td></tr>\n",
       "\t<tr><td>Peter          </td><td>Stevens        </td><td>stev@gmail.com </td><td>90106          </td><td>24.05.21       </td></tr>\n",
       "</tbody>\n",
       "</table>\n"
      ],
      "text/latex": [
       "\\begin{tabular}{r|lllll}\n",
       " first\\_name & last\\_name & email\\_address & postal\\_address & date\\_added\\\\\n",
       "\\hline\n",
       "\t Mary            & Brown           & brown@gmail.com & 20100           & 22.08.21       \\\\\n",
       "\t John            & Gray            & gray@gmail.com  & 90100           & 24.04.21       \\\\\n",
       "\t Caroline        & Hulett          & hul@gmail.com   & 90170           & 20.08.22       \\\\\n",
       "\t Peter           & Stevens         & stev@gmail.com  & 90106           & 24.05.21       \\\\\n",
       "\\end{tabular}\n"
      ],
      "text/markdown": [
       "\n",
       "| first_name | last_name | email_address | postal_address | date_added |\n",
       "|---|---|---|---|---|\n",
       "| Mary            | Brown           | brown@gmail.com | 20100           | 22.08.21        |\n",
       "| John            | Gray            | gray@gmail.com  | 90100           | 24.04.21        |\n",
       "| Caroline        | Hulett          | hul@gmail.com   | 90170           | 20.08.22        |\n",
       "| Peter           | Stevens         | stev@gmail.com  | 90106           | 24.05.21        |\n",
       "\n"
      ],
      "text/plain": [
       "  first_name last_name email_address   postal_address date_added\n",
       "1 Mary       Brown     brown@gmail.com 20100          22.08.21  \n",
       "2 John       Gray      gray@gmail.com  90100          24.04.21  \n",
       "3 Caroline   Hulett    hul@gmail.com   90170          20.08.22  \n",
       "4 Peter      Stevens   stev@gmail.com  90106          24.05.21  "
      ]
     },
     "metadata": {},
     "output_type": "display_data"
    }
   ],
   "source": [
    "#to sort our df by several arguments\n",
    "\n",
    "arrange(df, last_name, first_name, -postal_address)"
   ]
  },
  {
   "cell_type": "markdown",
   "id": "9d7f8ee6",
   "metadata": {},
   "source": [
    "# Mutate"
   ]
  },
  {
   "cell_type": "code",
   "execution_count": 443,
   "id": "4770ae26",
   "metadata": {},
   "outputs": [
    {
     "data": {
      "text/html": [
       "<table>\n",
       "<thead><tr><th scope=col>first_name</th><th scope=col>last_name</th><th scope=col>email_address</th><th scope=col>postal_address</th><th scope=col>date_added</th></tr></thead>\n",
       "<tbody>\n",
       "\t<tr><td>John           </td><td>Gray           </td><td>gray@yahoo.com </td><td>90100          </td><td>24.04.21       </td></tr>\n",
       "\t<tr><td>Peter          </td><td>Stevens        </td><td>stev@yahoo.com </td><td>90106          </td><td>24.05.21       </td></tr>\n",
       "\t<tr><td>Mary           </td><td>Brown          </td><td>brown@yahoo.com</td><td>20100          </td><td>22.08.21       </td></tr>\n",
       "\t<tr><td>Caroline       </td><td>Hulett         </td><td>hul@yahoo.com  </td><td>90170          </td><td>20.08.22       </td></tr>\n",
       "</tbody>\n",
       "</table>\n"
      ],
      "text/latex": [
       "\\begin{tabular}{r|lllll}\n",
       " first\\_name & last\\_name & email\\_address & postal\\_address & date\\_added\\\\\n",
       "\\hline\n",
       "\t John            & Gray            & gray@yahoo.com  & 90100           & 24.04.21       \\\\\n",
       "\t Peter           & Stevens         & stev@yahoo.com  & 90106           & 24.05.21       \\\\\n",
       "\t Mary            & Brown           & brown@yahoo.com & 20100           & 22.08.21       \\\\\n",
       "\t Caroline        & Hulett          & hul@yahoo.com   & 90170           & 20.08.22       \\\\\n",
       "\\end{tabular}\n"
      ],
      "text/markdown": [
       "\n",
       "| first_name | last_name | email_address | postal_address | date_added |\n",
       "|---|---|---|---|---|\n",
       "| John            | Gray            | gray@yahoo.com  | 90100           | 24.04.21        |\n",
       "| Peter           | Stevens         | stev@yahoo.com  | 90106           | 24.05.21        |\n",
       "| Mary            | Brown           | brown@yahoo.com | 20100           | 22.08.21        |\n",
       "| Caroline        | Hulett          | hul@yahoo.com   | 90170           | 20.08.22        |\n",
       "\n"
      ],
      "text/plain": [
       "  first_name last_name email_address   postal_address date_added\n",
       "1 John       Gray      gray@yahoo.com  90100          24.04.21  \n",
       "2 Peter      Stevens   stev@yahoo.com  90106          24.05.21  \n",
       "3 Mary       Brown     brown@yahoo.com 20100          22.08.21  \n",
       "4 Caroline   Hulett    hul@yahoo.com   90170          20.08.22  "
      ]
     },
     "metadata": {},
     "output_type": "display_data"
    }
   ],
   "source": [
    "#function to make new or change values\n",
    "\n",
    "mutate(df, email_address = gsub(\"gmail.com\", \"yahoo.com\", email_address))"
   ]
  },
  {
   "cell_type": "markdown",
   "id": "1705ad9e",
   "metadata": {},
   "source": [
    "# Group_by and summarize"
   ]
  },
  {
   "cell_type": "code",
   "execution_count": 449,
   "id": "4ed2d958",
   "metadata": {},
   "outputs": [
    {
     "data": {
      "text/html": [
       "<table>\n",
       "<thead><tr><th scope=col>date_added</th><th scope=col>Avgmean</th></tr></thead>\n",
       "<tbody>\n",
       "\t<tr><td>20.08.22</td><td>8.0     </td></tr>\n",
       "\t<tr><td>22.08.21</td><td>7.0     </td></tr>\n",
       "\t<tr><td>24.04.21</td><td>5.5     </td></tr>\n",
       "</tbody>\n",
       "</table>\n"
      ],
      "text/latex": [
       "\\begin{tabular}{r|ll}\n",
       " date\\_added & Avgmean\\\\\n",
       "\\hline\n",
       "\t 20.08.22 & 8.0     \\\\\n",
       "\t 22.08.21 & 7.0     \\\\\n",
       "\t 24.04.21 & 5.5     \\\\\n",
       "\\end{tabular}\n"
      ],
      "text/markdown": [
       "\n",
       "| date_added | Avgmean |\n",
       "|---|---|\n",
       "| 20.08.22 | 8.0      |\n",
       "| 22.08.21 | 7.0      |\n",
       "| 24.04.21 | 5.5      |\n",
       "\n"
      ],
      "text/plain": [
       "  date_added Avgmean\n",
       "1 20.08.22   8.0    \n",
       "2 22.08.21   7.0    \n",
       "3 24.04.21   5.5    "
      ]
     },
     "metadata": {},
     "output_type": "display_data"
    }
   ],
   "source": [
    "summarize(group_by(df, date_added),\n",
    "         Avgmean = mean(sales))"
   ]
  },
  {
   "cell_type": "markdown",
   "id": "064bd149",
   "metadata": {},
   "source": [
    "# Operator %>% (pipes)"
   ]
  },
  {
   "cell_type": "code",
   "execution_count": 452,
   "id": "070ca726",
   "metadata": {},
   "outputs": [
    {
     "data": {
      "text/html": [
       "<table>\n",
       "<thead><tr><th scope=col>type</th><th scope=col>value</th></tr></thead>\n",
       "<tbody>\n",
       "\t<tr><td>1  </td><td>  5</td></tr>\n",
       "\t<tr><td>1  </td><td> 10</td></tr>\n",
       "\t<tr><td>2  </td><td> 50</td></tr>\n",
       "\t<tr><td>2  </td><td>100</td></tr>\n",
       "\t<tr><td>3  </td><td>  7</td></tr>\n",
       "\t<tr><td>3  </td><td>  7</td></tr>\n",
       "</tbody>\n",
       "</table>\n"
      ],
      "text/latex": [
       "\\begin{tabular}{r|ll}\n",
       " type & value\\\\\n",
       "\\hline\n",
       "\t 1   &   5\\\\\n",
       "\t 1   &  10\\\\\n",
       "\t 2   &  50\\\\\n",
       "\t 2   & 100\\\\\n",
       "\t 3   &   7\\\\\n",
       "\t 3   &   7\\\\\n",
       "\\end{tabular}\n"
      ],
      "text/markdown": [
       "\n",
       "| type | value |\n",
       "|---|---|\n",
       "| 1   |   5 |\n",
       "| 1   |  10 |\n",
       "| 2   |  50 |\n",
       "| 2   | 100 |\n",
       "| 3   |   7 |\n",
       "| 3   |   7 |\n",
       "\n"
      ],
      "text/plain": [
       "  type value\n",
       "1 1      5  \n",
       "2 1     10  \n",
       "3 2     50  \n",
       "4 2    100  \n",
       "5 3      7  \n",
       "6 3      7  "
      ]
     },
     "metadata": {},
     "output_type": "display_data"
    }
   ],
   "source": [
    "df <- data.frame(type = c(1, 1, 2, 2, 3, 3), value = c(5, 10, 50, 100, 7, 7))\n",
    "df"
   ]
  },
  {
   "cell_type": "code",
   "execution_count": 459,
   "id": "97204535",
   "metadata": {},
   "outputs": [
    {
     "data": {
      "text/html": [
       "<table>\n",
       "<thead><tr><th scope=col>type</th><th scope=col>total</th></tr></thead>\n",
       "<tbody>\n",
       "\t<tr><td>3  </td><td> 14</td></tr>\n",
       "\t<tr><td>1  </td><td> 15</td></tr>\n",
       "\t<tr><td>2  </td><td>150</td></tr>\n",
       "</tbody>\n",
       "</table>\n"
      ],
      "text/latex": [
       "\\begin{tabular}{r|ll}\n",
       " type & total\\\\\n",
       "\\hline\n",
       "\t 3   &  14\\\\\n",
       "\t 1   &  15\\\\\n",
       "\t 2   & 150\\\\\n",
       "\\end{tabular}\n"
      ],
      "text/markdown": [
       "\n",
       "| type | total |\n",
       "|---|---|\n",
       "| 3   |  14 |\n",
       "| 1   |  15 |\n",
       "| 2   | 150 |\n",
       "\n"
      ],
      "text/plain": [
       "  type total\n",
       "1 3     14  \n",
       "2 1     15  \n",
       "3 2    150  "
      ]
     },
     "metadata": {},
     "output_type": "display_data"
    }
   ],
   "source": [
    "# we need to group by our data by type and count the total value for each type and then sort it by total \n",
    "#1\n",
    "arrange(\n",
    "  summarise(\n",
    "    group_by(df, type), \n",
    "    total = sum(value)\n",
    "  ),\n",
    "  total\n",
    ")"
   ]
  },
  {
   "cell_type": "code",
   "execution_count": 456,
   "id": "2c0aa0f3",
   "metadata": {},
   "outputs": [
    {
     "data": {
      "text/html": [
       "<table>\n",
       "<thead><tr><th scope=col>type</th><th scope=col>total</th></tr></thead>\n",
       "<tbody>\n",
       "\t<tr><td>3  </td><td> 14</td></tr>\n",
       "\t<tr><td>1  </td><td> 15</td></tr>\n",
       "\t<tr><td>2  </td><td>150</td></tr>\n",
       "</tbody>\n",
       "</table>\n"
      ],
      "text/latex": [
       "\\begin{tabular}{r|ll}\n",
       " type & total\\\\\n",
       "\\hline\n",
       "\t 3   &  14\\\\\n",
       "\t 1   &  15\\\\\n",
       "\t 2   & 150\\\\\n",
       "\\end{tabular}\n"
      ],
      "text/markdown": [
       "\n",
       "| type | total |\n",
       "|---|---|\n",
       "| 3   |  14 |\n",
       "| 1   |  15 |\n",
       "| 2   | 150 |\n",
       "\n"
      ],
      "text/plain": [
       "  type total\n",
       "1 3     14  \n",
       "2 1     15  \n",
       "3 2    150  "
      ]
     },
     "metadata": {},
     "output_type": "display_data"
    }
   ],
   "source": [
    "#2\n",
    "a <- group_by(df, type)\n",
    "b <- summarise(a, total = sum(value))\n",
    "c <- arrange(b, total)\n",
    "c"
   ]
  },
  {
   "cell_type": "code",
   "execution_count": 458,
   "id": "54f01785",
   "metadata": {},
   "outputs": [
    {
     "data": {
      "text/html": [
       "<table>\n",
       "<thead><tr><th scope=col>type</th><th scope=col>total</th></tr></thead>\n",
       "<tbody>\n",
       "\t<tr><td>3  </td><td> 14</td></tr>\n",
       "\t<tr><td>1  </td><td> 15</td></tr>\n",
       "\t<tr><td>2  </td><td>150</td></tr>\n",
       "</tbody>\n",
       "</table>\n"
      ],
      "text/latex": [
       "\\begin{tabular}{r|ll}\n",
       " type & total\\\\\n",
       "\\hline\n",
       "\t 3   &  14\\\\\n",
       "\t 1   &  15\\\\\n",
       "\t 2   & 150\\\\\n",
       "\\end{tabular}\n"
      ],
      "text/markdown": [
       "\n",
       "| type | total |\n",
       "|---|---|\n",
       "| 3   |  14 |\n",
       "| 1   |  15 |\n",
       "| 2   | 150 |\n",
       "\n"
      ],
      "text/plain": [
       "  type total\n",
       "1 3     14  \n",
       "2 1     15  \n",
       "3 2    150  "
      ]
     },
     "metadata": {},
     "output_type": "display_data"
    }
   ],
   "source": [
    "#3\n",
    "df %>%\n",
    "  group_by(type) %>%\n",
    "  summarise(total = sum(value)) %>%\n",
    "  arrange(total)"
   ]
  },
  {
   "cell_type": "code",
   "execution_count": 464,
   "id": "d69f161f",
   "metadata": {},
   "outputs": [
    {
     "data": {
      "text/html": [
       "<table>\n",
       "<thead><tr><th scope=col>Site</th><th scope=col>Observer</th><th scope=col>Subpoint</th><th scope=col>VOR</th><th scope=col>PDB</th><th scope=col>DBHt</th><th scope=col>PW</th><th scope=col>WHt</th><th scope=col>PE</th><th scope=col>EHt</th><th scope=col>PA</th><th scope=col>AHt</th><th scope=col>PH</th><th scope=col>HHt</th><th scope=col>PL</th><th scope=col>LHt</th><th scope=col>PB</th></tr></thead>\n",
       "<tbody>\n",
       "\t<tr><td>BunkerHill27</td><td>RA          </td><td>1           </td><td>6.0         </td><td>3           </td><td>5.2         </td><td>0           </td><td>0.0         </td><td>4           </td><td>2.9         </td><td>0           </td><td>0           </td><td>4           </td><td>3.0         </td><td>0           </td><td>0           </td><td>0           </td></tr>\n",
       "\t<tr><td>BunkerHill27</td><td>RA          </td><td>2           </td><td>4.5         </td><td>2           </td><td>3.1         </td><td>3           </td><td>4.7         </td><td>3           </td><td>4.1         </td><td>0           </td><td>0           </td><td>3           </td><td>3.5         </td><td>2           </td><td>1           </td><td>0           </td></tr>\n",
       "\t<tr><td>BunkerHill27</td><td>RA          </td><td>3           </td><td>2.0         </td><td>4           </td><td>5.5         </td><td>1           </td><td>5.8         </td><td>3           </td><td>3.9         </td><td>0           </td><td>0           </td><td>3           </td><td>7.5         </td><td>0           </td><td>0           </td><td>0           </td></tr>\n",
       "\t<tr><td>BunkerHill27</td><td>RA          </td><td>4           </td><td>2.5         </td><td>3           </td><td>6.2         </td><td>0           </td><td>0.0         </td><td>3           </td><td>4.0         </td><td>0           </td><td>0           </td><td>4           </td><td>5.0         </td><td>0           </td><td>0           </td><td>0           </td></tr>\n",
       "\t<tr><td>BunkerHill27</td><td>RA          </td><td>5           </td><td>4.0         </td><td>4           </td><td>5.4         </td><td>0           </td><td>0.0         </td><td>3           </td><td>3.5         </td><td>0           </td><td>0           </td><td>4           </td><td>3.7         </td><td>0           </td><td>0           </td><td>0           </td></tr>\n",
       "</tbody>\n",
       "</table>\n"
      ],
      "text/latex": [
       "\\begin{tabular}{r|lllllllllllllllll}\n",
       " Site & Observer & Subpoint & VOR & PDB & DBHt & PW & WHt & PE & EHt & PA & AHt & PH & HHt & PL & LHt & PB\\\\\n",
       "\\hline\n",
       "\t BunkerHill27 & RA           & 1            & 6.0          & 3            & 5.2          & 0            & 0.0          & 4            & 2.9          & 0            & 0            & 4            & 3.0          & 0            & 0            & 0           \\\\\n",
       "\t BunkerHill27 & RA           & 2            & 4.5          & 2            & 3.1          & 3            & 4.7          & 3            & 4.1          & 0            & 0            & 3            & 3.5          & 2            & 1            & 0           \\\\\n",
       "\t BunkerHill27 & RA           & 3            & 2.0          & 4            & 5.5          & 1            & 5.8          & 3            & 3.9          & 0            & 0            & 3            & 7.5          & 0            & 0            & 0           \\\\\n",
       "\t BunkerHill27 & RA           & 4            & 2.5          & 3            & 6.2          & 0            & 0.0          & 3            & 4.0          & 0            & 0            & 4            & 5.0          & 0            & 0            & 0           \\\\\n",
       "\t BunkerHill27 & RA           & 5            & 4.0          & 4            & 5.4          & 0            & 0.0          & 3            & 3.5          & 0            & 0            & 4            & 3.7          & 0            & 0            & 0           \\\\\n",
       "\\end{tabular}\n"
      ],
      "text/markdown": [
       "\n",
       "| Site | Observer | Subpoint | VOR | PDB | DBHt | PW | WHt | PE | EHt | PA | AHt | PH | HHt | PL | LHt | PB |\n",
       "|---|---|---|---|---|---|---|---|---|---|---|---|---|---|---|---|---|\n",
       "| BunkerHill27 | RA           | 1            | 6.0          | 3            | 5.2          | 0            | 0.0          | 4            | 2.9          | 0            | 0            | 4            | 3.0          | 0            | 0            | 0            |\n",
       "| BunkerHill27 | RA           | 2            | 4.5          | 2            | 3.1          | 3            | 4.7          | 3            | 4.1          | 0            | 0            | 3            | 3.5          | 2            | 1            | 0            |\n",
       "| BunkerHill27 | RA           | 3            | 2.0          | 4            | 5.5          | 1            | 5.8          | 3            | 3.9          | 0            | 0            | 3            | 7.5          | 0            | 0            | 0            |\n",
       "| BunkerHill27 | RA           | 4            | 2.5          | 3            | 6.2          | 0            | 0.0          | 3            | 4.0          | 0            | 0            | 4            | 5.0          | 0            | 0            | 0            |\n",
       "| BunkerHill27 | RA           | 5            | 4.0          | 4            | 5.4          | 0            | 0.0          | 3            | 3.5          | 0            | 0            | 4            | 3.7          | 0            | 0            | 0            |\n",
       "\n"
      ],
      "text/plain": [
       "  Site         Observer Subpoint VOR PDB DBHt PW WHt PE EHt PA AHt PH HHt PL\n",
       "1 BunkerHill27 RA       1        6.0 3   5.2  0  0.0 4  2.9 0  0   4  3.0 0 \n",
       "2 BunkerHill27 RA       2        4.5 2   3.1  3  4.7 3  4.1 0  0   3  3.5 2 \n",
       "3 BunkerHill27 RA       3        2.0 4   5.5  1  5.8 3  3.9 0  0   3  7.5 0 \n",
       "4 BunkerHill27 RA       4        2.5 3   6.2  0  0.0 3  4.0 0  0   4  5.0 0 \n",
       "5 BunkerHill27 RA       5        4.0 4   5.4  0  0.0 3  3.5 0  0   4  3.7 0 \n",
       "  LHt PB\n",
       "1 0   0 \n",
       "2 1   0 \n",
       "3 0   0 \n",
       "4 0   0 \n",
       "5 0   0 "
      ]
     },
     "metadata": {},
     "output_type": "display_data"
    }
   ],
   "source": [
    "avian <- read.csv('https://raw.githubusercontent.com/tonytonov/Rcourse/master/R%20programming/avianHabitat.csv')\n",
    "head(avian, 5)"
   ]
  },
  {
   "cell_type": "code",
   "execution_count": 463,
   "id": "432f6e4a",
   "metadata": {},
   "outputs": [
    {
     "data": {
      "text/html": [
       "<table>\n",
       "<thead><tr><th scope=col>Site</th><th scope=col>Observer</th><th scope=col>MaxHt</th></tr></thead>\n",
       "<tbody>\n",
       "\t<tr><td>BunkerHill </td><td>JT         </td><td> 9.9       </td></tr>\n",
       "\t<tr><td>BunkerHill </td><td>RA         </td><td> 7.0       </td></tr>\n",
       "\t<tr><td>HortonCreek</td><td>RA         </td><td>10.0       </td></tr>\n",
       "\t<tr><td>McAdamCreek</td><td>RA         </td><td> 7.2       </td></tr>\n",
       "\t<tr><td>McAdamCreek</td><td>RR         </td><td> 5.0       </td></tr>\n",
       "</tbody>\n",
       "</table>\n"
      ],
      "text/latex": [
       "\\begin{tabular}{r|lll}\n",
       " Site & Observer & MaxHt\\\\\n",
       "\\hline\n",
       "\t BunkerHill  & JT          &  9.9       \\\\\n",
       "\t BunkerHill  & RA          &  7.0       \\\\\n",
       "\t HortonCreek & RA          & 10.0       \\\\\n",
       "\t McAdamCreek & RA          &  7.2       \\\\\n",
       "\t McAdamCreek & RR          &  5.0       \\\\\n",
       "\\end{tabular}\n"
      ],
      "text/markdown": [
       "\n",
       "| Site | Observer | MaxHt |\n",
       "|---|---|---|\n",
       "| BunkerHill  | JT          |  9.9        |\n",
       "| BunkerHill  | RA          |  7.0        |\n",
       "| HortonCreek | RA          | 10.0        |\n",
       "| McAdamCreek | RA          |  7.2        |\n",
       "| McAdamCreek | RR          |  5.0        |\n",
       "\n"
      ],
      "text/plain": [
       "  Site        Observer MaxHt\n",
       "1 BunkerHill  JT        9.9 \n",
       "2 BunkerHill  RA        7.0 \n",
       "3 HortonCreek RA       10.0 \n",
       "4 McAdamCreek RA        7.2 \n",
       "5 McAdamCreek RR        5.0 "
      ]
     },
     "metadata": {},
     "output_type": "display_data"
    }
   ],
   "source": [
    "avian %>% \n",
    "  filter(PDB > 0, DBHt > 0) %>% \n",
    "  select(Site, Observer, contains(\"DB\")) %>% \n",
    "  mutate(Site = factor(str_replace(Site, \"[:digit:]+\", \"\"))) %>% \n",
    "  group_by(Site, Observer) %>% \n",
    "  summarise(MaxHt = max(DBHt)) %>% \n",
    "  filter(MaxHt >= 5) "
   ]
  },
  {
   "cell_type": "code",
   "execution_count": null,
   "id": "737afe84",
   "metadata": {},
   "outputs": [],
   "source": []
  }
 ],
 "metadata": {
  "kernelspec": {
   "display_name": "R",
   "language": "R",
   "name": "ir"
  },
  "language_info": {
   "codemirror_mode": "r",
   "file_extension": ".r",
   "mimetype": "text/x-r-source",
   "name": "R",
   "pygments_lexer": "r",
   "version": "3.6.0"
  }
 },
 "nbformat": 4,
 "nbformat_minor": 5
}
